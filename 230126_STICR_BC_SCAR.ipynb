{
 "cells": [
  {
   "cell_type": "code",
   "execution_count": 63,
   "id": "40b219e5-47a6-43b1-b962-9fbc6ac12b9d",
   "metadata": {},
   "outputs": [],
   "source": [
    "import pandas as pd\n",
    "import numpy as np\n",
    "import matplotlib.pyplot as plt\n",
    "import seaborn as sns\n",
    "import scanpy as sc\n",
    "import anndata as ad\n",
    "import scAR\n",
    "\n",
    "import warnings\n",
    "warnings.simplefilter(\"ignore\")"
   ]
  },
  {
   "cell_type": "code",
   "execution_count": null,
   "id": "9bdb5255-aa59-4cc7-8aeb-1c3bb61bc7f7",
   "metadata": {},
   "outputs": [],
   "source": [
    "from matplotlib import pylab\n",
    "\n",
    "params = {'legend.fontsize': 8,\n",
    "          'figure.facecolor':\"w\",\n",
    "          'figure.figsize': (6, 4.5),\n",
    "         'axes.labelsize': 10,\n",
    "         'axes.titlesize':10,\n",
    "         'axes.linewidth': 0.5,\n",
    "         'xtick.labelsize':8,\n",
    "         'ytick.labelsize':8,\n",
    "         'axes.grid':False,}\n",
    "pylab.rc('font',**{'family':'serif','serif':['Palatino'],'size':10})\n",
    "pylab.rcParams.update(params);\n",
    "\n",
    "sns.set_palette(\"muted\");\n",
    "sns.set_style(\"ticks\");"
   ]
  },
  {
   "cell_type": "markdown",
   "id": "485e1d5d-4d03-4226-8dab-21ea0a58054a",
   "metadata": {
    "jp-MarkdownHeadingCollapsed": true,
    "tags": []
   },
   "source": [
    "## testing stuff"
   ]
  },
  {
   "cell_type": "code",
   "execution_count": 53,
   "id": "ead3de33-003b-443f-8e63-4e71b972c22e",
   "metadata": {},
   "outputs": [],
   "source": [
    "test_bcs = pd.read_csv('/media/chang/HDD-11/mgkeefe/230106_MKTN09_local_STICR/230103_STICR_BCs/STICR_outs_GW22_221118/GW22_221118_S1/Final_Barcodes.tsv',\n",
    "                           sep='\\t')"
   ]
  },
  {
   "cell_type": "code",
   "execution_count": 56,
   "id": "55a34b67-66bc-48a4-9dcd-89bea77a3560",
   "metadata": {},
   "outputs": [
    {
     "data": {
      "text/html": [
       "<div>\n",
       "<style scoped>\n",
       "    .dataframe tbody tr th:only-of-type {\n",
       "        vertical-align: middle;\n",
       "    }\n",
       "\n",
       "    .dataframe tbody tr th {\n",
       "        vertical-align: top;\n",
       "    }\n",
       "\n",
       "    .dataframe thead th {\n",
       "        text-align: right;\n",
       "    }\n",
       "</style>\n",
       "<table border=\"1\" class=\"dataframe\">\n",
       "  <thead>\n",
       "    <tr style=\"text-align: right;\">\n",
       "      <th></th>\n",
       "      <th>CBC</th>\n",
       "      <th>barcode</th>\n",
       "      <th>UMI_Count</th>\n",
       "    </tr>\n",
       "  </thead>\n",
       "  <tbody>\n",
       "    <tr>\n",
       "      <th>0</th>\n",
       "      <td>AAACCCAAGACGCCAA</td>\n",
       "      <td>IndexE_Bit1_F_223-Bit2_F_067-Bit3_F_452t</td>\n",
       "      <td>1</td>\n",
       "    </tr>\n",
       "    <tr>\n",
       "      <th>1</th>\n",
       "      <td>AAACCCAAGCCAAGGT</td>\n",
       "      <td>Index3_Bit1_F_309-Bit2_F_370-Bit3_F_298t</td>\n",
       "      <td>1</td>\n",
       "    </tr>\n",
       "    <tr>\n",
       "      <th>2</th>\n",
       "      <td>AAACCCAAGCGAGGAG</td>\n",
       "      <td>Index3_Bit1_F_366-Bit2_F_130-Bit3_F_217t</td>\n",
       "      <td>1</td>\n",
       "    </tr>\n",
       "    <tr>\n",
       "      <th>3</th>\n",
       "      <td>AAACCCAAGCTGTACT</td>\n",
       "      <td>IndexE_Bit1_F_165-Bit2_F_160-Bit3_F_280t</td>\n",
       "      <td>1</td>\n",
       "    </tr>\n",
       "    <tr>\n",
       "      <th>4</th>\n",
       "      <td>AAACCCAAGGACAACC</td>\n",
       "      <td>Index3_Bit1_F_007-Bit2_F_331-Bit3_F_247t</td>\n",
       "      <td>1</td>\n",
       "    </tr>\n",
       "    <tr>\n",
       "      <th>5</th>\n",
       "      <td>AAACCCAAGGACAGTC</td>\n",
       "      <td>Index3_Bit1_F_097-Bit2_F_324-Bit3_F_489t</td>\n",
       "      <td>1</td>\n",
       "    </tr>\n",
       "    <tr>\n",
       "      <th>6</th>\n",
       "      <td>AAACCCAAGGACAGTC</td>\n",
       "      <td>Index3_Bit1_F_122-Bit2_F_048-Bit3_F_055t</td>\n",
       "      <td>1</td>\n",
       "    </tr>\n",
       "    <tr>\n",
       "      <th>7</th>\n",
       "      <td>AAACCCAAGGACAGTC</td>\n",
       "      <td>Index3_Bit1_F_343-Bit2_F_038-Bit3_F_167t</td>\n",
       "      <td>1</td>\n",
       "    </tr>\n",
       "    <tr>\n",
       "      <th>8</th>\n",
       "      <td>AAACCCAAGGACAGTC</td>\n",
       "      <td>Index3_Bit1_F_497-Bit2_F_172-Bit3_F_246t</td>\n",
       "      <td>1</td>\n",
       "    </tr>\n",
       "    <tr>\n",
       "      <th>9</th>\n",
       "      <td>AAACCCAAGGACAGTC</td>\n",
       "      <td>IndexE_Bit1_F_021-Bit2_F_447-Bit3_F_305t</td>\n",
       "      <td>1</td>\n",
       "    </tr>\n",
       "    <tr>\n",
       "      <th>10</th>\n",
       "      <td>AAACCCAAGGACAGTC</td>\n",
       "      <td>IndexE_Bit1_F_108-Bit2_F_056-Bit3_F_500t</td>\n",
       "      <td>1</td>\n",
       "    </tr>\n",
       "  </tbody>\n",
       "</table>\n",
       "</div>"
      ],
      "text/plain": [
       "                 CBC                                   barcode  UMI_Count\n",
       "0   AAACCCAAGACGCCAA  IndexE_Bit1_F_223-Bit2_F_067-Bit3_F_452t          1\n",
       "1   AAACCCAAGCCAAGGT  Index3_Bit1_F_309-Bit2_F_370-Bit3_F_298t          1\n",
       "2   AAACCCAAGCGAGGAG  Index3_Bit1_F_366-Bit2_F_130-Bit3_F_217t          1\n",
       "3   AAACCCAAGCTGTACT  IndexE_Bit1_F_165-Bit2_F_160-Bit3_F_280t          1\n",
       "4   AAACCCAAGGACAACC  Index3_Bit1_F_007-Bit2_F_331-Bit3_F_247t          1\n",
       "5   AAACCCAAGGACAGTC  Index3_Bit1_F_097-Bit2_F_324-Bit3_F_489t          1\n",
       "6   AAACCCAAGGACAGTC  Index3_Bit1_F_122-Bit2_F_048-Bit3_F_055t          1\n",
       "7   AAACCCAAGGACAGTC  Index3_Bit1_F_343-Bit2_F_038-Bit3_F_167t          1\n",
       "8   AAACCCAAGGACAGTC  Index3_Bit1_F_497-Bit2_F_172-Bit3_F_246t          1\n",
       "9   AAACCCAAGGACAGTC  IndexE_Bit1_F_021-Bit2_F_447-Bit3_F_305t          1\n",
       "10  AAACCCAAGGACAGTC  IndexE_Bit1_F_108-Bit2_F_056-Bit3_F_500t          1"
      ]
     },
     "execution_count": 56,
     "metadata": {},
     "output_type": "execute_result"
    }
   ],
   "source": [
    "test_bcs.loc[0:10,]"
   ]
  },
  {
   "cell_type": "code",
   "execution_count": 52,
   "id": "c830f4c8-75c8-406e-9436-3607bf85ac8c",
   "metadata": {},
   "outputs": [
    {
     "data": {
      "text/plain": [
       "0    AAACCCAAGACGCCAA\n",
       "1    AAACCCAAGCCAAGGT\n",
       "2    AAACCCAAGCGAGGAG\n",
       "3    AAACCCAAGCTGTACT\n",
       "4    AAACCCAAGGACAACC\n",
       "5    AAACCCAAGGACAGTC\n",
       "6    AAACCCAAGGACAGTC\n",
       "7    AAACCCAAGGACAGTC\n",
       "8    AAACCCAAGGACAGTC\n",
       "9    AAACCCAAGGACAGTC\n",
       "Name: CBC, dtype: object"
      ]
     },
     "execution_count": 52,
     "metadata": {},
     "output_type": "execute_result"
    }
   ],
   "source": [
    "test_bcs['CBC'][0:10]"
   ]
  },
  {
   "cell_type": "code",
   "execution_count": 26,
   "id": "15e7893c-4c64-4213-9b23-09395ee8db86",
   "metadata": {},
   "outputs": [
    {
     "data": {
      "text/plain": [
       "15572"
      ]
     },
     "execution_count": 26,
     "metadata": {},
     "output_type": "execute_result"
    }
   ],
   "source": [
    "len(np.unique(test_bcs['barcode']))"
   ]
  },
  {
   "cell_type": "code",
   "execution_count": 28,
   "id": "61627931-d9ab-4f3f-8a9f-0a45bd494479",
   "metadata": {},
   "outputs": [
    {
     "data": {
      "text/plain": [
       "1      553833\n",
       "2       33038\n",
       "3        7416\n",
       "4        2819\n",
       "5        1400\n",
       "        ...  \n",
       "158         1\n",
       "59          1\n",
       "75          1\n",
       "135         1\n",
       "210         1\n",
       "Name: UMI_Count, Length: 114, dtype: int64"
      ]
     },
     "execution_count": 28,
     "metadata": {},
     "output_type": "execute_result"
    }
   ],
   "source": [
    "test_bcs['UMI_Count'].value_counts()"
   ]
  },
  {
   "cell_type": "code",
   "execution_count": 46,
   "id": "48c10229-3648-4f2a-a4f6-5cd239ae9e48",
   "metadata": {},
   "outputs": [
    {
     "data": {
      "text/html": [
       "<div>\n",
       "<style scoped>\n",
       "    .dataframe tbody tr th:only-of-type {\n",
       "        vertical-align: middle;\n",
       "    }\n",
       "\n",
       "    .dataframe tbody tr th {\n",
       "        vertical-align: top;\n",
       "    }\n",
       "\n",
       "    .dataframe thead th {\n",
       "        text-align: right;\n",
       "    }\n",
       "</style>\n",
       "<table border=\"1\" class=\"dataframe\">\n",
       "  <thead>\n",
       "    <tr style=\"text-align: right;\">\n",
       "      <th></th>\n",
       "      <th>CBC</th>\n",
       "      <th>barcode</th>\n",
       "      <th>UMI_Count</th>\n",
       "    </tr>\n",
       "  </thead>\n",
       "  <tbody>\n",
       "  </tbody>\n",
       "</table>\n",
       "</div>"
      ],
      "text/plain": [
       "Empty DataFrame\n",
       "Columns: [CBC, barcode, UMI_Count]\n",
       "Index: []"
      ]
     },
     "execution_count": 46,
     "metadata": {},
     "output_type": "execute_result"
    }
   ],
   "source": [
    "test_bcs[test_bcs['CBC'].isin(['AAACCCAAGACCTTTG'])]"
   ]
  },
  {
   "cell_type": "code",
   "execution_count": 119,
   "id": "4195a4ea-707f-4201-b8b8-76fecab940d6",
   "metadata": {},
   "outputs": [
    {
     "data": {
      "text/html": [
       "<div>\n",
       "<style scoped>\n",
       "    .dataframe tbody tr th:only-of-type {\n",
       "        vertical-align: middle;\n",
       "    }\n",
       "\n",
       "    .dataframe tbody tr th {\n",
       "        vertical-align: top;\n",
       "    }\n",
       "\n",
       "    .dataframe thead th {\n",
       "        text-align: right;\n",
       "    }\n",
       "</style>\n",
       "<table border=\"1\" class=\"dataframe\">\n",
       "  <thead>\n",
       "    <tr style=\"text-align: right;\">\n",
       "      <th></th>\n",
       "      <th>CBC</th>\n",
       "      <th>barcode</th>\n",
       "      <th>UMI_Count</th>\n",
       "    </tr>\n",
       "  </thead>\n",
       "  <tbody>\n",
       "    <tr>\n",
       "      <th>AAACCCAAGACGCCAA</th>\n",
       "      <td>AAACCCAAGACGCCAA</td>\n",
       "      <td>IndexE_Bit1_F_223-Bit2_F_067-Bit3_F_452t</td>\n",
       "      <td>1</td>\n",
       "    </tr>\n",
       "    <tr>\n",
       "      <th>AAACCCAAGCCAAGGT</th>\n",
       "      <td>AAACCCAAGCCAAGGT</td>\n",
       "      <td>Index3_Bit1_F_309-Bit2_F_370-Bit3_F_298t</td>\n",
       "      <td>1</td>\n",
       "    </tr>\n",
       "    <tr>\n",
       "      <th>AAACCCAAGCGAGGAG</th>\n",
       "      <td>AAACCCAAGCGAGGAG</td>\n",
       "      <td>Index3_Bit1_F_366-Bit2_F_130-Bit3_F_217t</td>\n",
       "      <td>1</td>\n",
       "    </tr>\n",
       "    <tr>\n",
       "      <th>AAACCCAAGCTGTACT</th>\n",
       "      <td>AAACCCAAGCTGTACT</td>\n",
       "      <td>IndexE_Bit1_F_165-Bit2_F_160-Bit3_F_280t</td>\n",
       "      <td>1</td>\n",
       "    </tr>\n",
       "    <tr>\n",
       "      <th>AAACCCAAGGACAACC</th>\n",
       "      <td>AAACCCAAGGACAACC</td>\n",
       "      <td>Index3_Bit1_F_007-Bit2_F_331-Bit3_F_247t</td>\n",
       "      <td>1</td>\n",
       "    </tr>\n",
       "    <tr>\n",
       "      <th>...</th>\n",
       "      <td>...</td>\n",
       "      <td>...</td>\n",
       "      <td>...</td>\n",
       "    </tr>\n",
       "    <tr>\n",
       "      <th>TTTGTTGTCTTCTTCC</th>\n",
       "      <td>TTTGTTGTCTTCTTCC</td>\n",
       "      <td>Index3_Bit1_F_488-Bit2_F_084-Bit3_F_090t</td>\n",
       "      <td>1</td>\n",
       "    </tr>\n",
       "    <tr>\n",
       "      <th>TTTGTTGTCTTCTTCC</th>\n",
       "      <td>TTTGTTGTCTTCTTCC</td>\n",
       "      <td>IndexE_Bit1_F_414-Bit2_F_155-Bit3_F_038t</td>\n",
       "      <td>1</td>\n",
       "    </tr>\n",
       "    <tr>\n",
       "      <th>TTTGTTGTCTTGCGCT</th>\n",
       "      <td>TTTGTTGTCTTGCGCT</td>\n",
       "      <td>IndexE_Bit1_F_180-Bit2_F_003-Bit3_F_436t</td>\n",
       "      <td>1</td>\n",
       "    </tr>\n",
       "    <tr>\n",
       "      <th>TTTGTTGTCTTTACAC</th>\n",
       "      <td>TTTGTTGTCTTTACAC</td>\n",
       "      <td>Index3_Bit1_F_426-Bit2_F_325-Bit3_F_287t</td>\n",
       "      <td>1</td>\n",
       "    </tr>\n",
       "    <tr>\n",
       "      <th>TTTGTTGTCTTTACAC</th>\n",
       "      <td>TTTGTTGTCTTTACAC</td>\n",
       "      <td>IndexE_Bit1_F_257-Bit2_F_185-Bit3_F_338t</td>\n",
       "      <td>1</td>\n",
       "    </tr>\n",
       "  </tbody>\n",
       "</table>\n",
       "<p>602522 rows × 3 columns</p>\n",
       "</div>"
      ],
      "text/plain": [
       "                               CBC                                   barcode  \\\n",
       "AAACCCAAGACGCCAA  AAACCCAAGACGCCAA  IndexE_Bit1_F_223-Bit2_F_067-Bit3_F_452t   \n",
       "AAACCCAAGCCAAGGT  AAACCCAAGCCAAGGT  Index3_Bit1_F_309-Bit2_F_370-Bit3_F_298t   \n",
       "AAACCCAAGCGAGGAG  AAACCCAAGCGAGGAG  Index3_Bit1_F_366-Bit2_F_130-Bit3_F_217t   \n",
       "AAACCCAAGCTGTACT  AAACCCAAGCTGTACT  IndexE_Bit1_F_165-Bit2_F_160-Bit3_F_280t   \n",
       "AAACCCAAGGACAACC  AAACCCAAGGACAACC  Index3_Bit1_F_007-Bit2_F_331-Bit3_F_247t   \n",
       "...                            ...                                       ...   \n",
       "TTTGTTGTCTTCTTCC  TTTGTTGTCTTCTTCC  Index3_Bit1_F_488-Bit2_F_084-Bit3_F_090t   \n",
       "TTTGTTGTCTTCTTCC  TTTGTTGTCTTCTTCC  IndexE_Bit1_F_414-Bit2_F_155-Bit3_F_038t   \n",
       "TTTGTTGTCTTGCGCT  TTTGTTGTCTTGCGCT  IndexE_Bit1_F_180-Bit2_F_003-Bit3_F_436t   \n",
       "TTTGTTGTCTTTACAC  TTTGTTGTCTTTACAC  Index3_Bit1_F_426-Bit2_F_325-Bit3_F_287t   \n",
       "TTTGTTGTCTTTACAC  TTTGTTGTCTTTACAC  IndexE_Bit1_F_257-Bit2_F_185-Bit3_F_338t   \n",
       "\n",
       "                  UMI_Count  \n",
       "AAACCCAAGACGCCAA          1  \n",
       "AAACCCAAGCCAAGGT          1  \n",
       "AAACCCAAGCGAGGAG          1  \n",
       "AAACCCAAGCTGTACT          1  \n",
       "AAACCCAAGGACAACC          1  \n",
       "...                     ...  \n",
       "TTTGTTGTCTTCTTCC          1  \n",
       "TTTGTTGTCTTCTTCC          1  \n",
       "TTTGTTGTCTTGCGCT          1  \n",
       "TTTGTTGTCTTTACAC          1  \n",
       "TTTGTTGTCTTTACAC          1  \n",
       "\n",
       "[602522 rows x 3 columns]"
      ]
     },
     "execution_count": 119,
     "metadata": {},
     "output_type": "execute_result"
    }
   ],
   "source": [
    "test_bcs"
   ]
  },
  {
   "cell_type": "code",
   "execution_count": 63,
   "id": "0d1da766-5a69-48a2-8373-2226f9e34818",
   "metadata": {},
   "outputs": [],
   "source": [
    "bc_matrix = np.zeros((len(np.unique(test_bcs['CBC'])), len(np.unique(test_bcs['barcode']))))"
   ]
  },
  {
   "cell_type": "code",
   "execution_count": 67,
   "id": "a351f495-ddb6-4431-8eda-ff74874ad739",
   "metadata": {},
   "outputs": [],
   "source": [
    "cbc_names = np.unique(test_bcs['CBC'])\n",
    "bc_names = np.unique(test_bcs['barcode'])"
   ]
  },
  {
   "cell_type": "code",
   "execution_count": 68,
   "id": "5c0e2bc5-d247-42af-9f2d-fc631be7f2aa",
   "metadata": {},
   "outputs": [
    {
     "data": {
      "text/plain": [
       "(103532, 15572)"
      ]
     },
     "execution_count": 68,
     "metadata": {},
     "output_type": "execute_result"
    }
   ],
   "source": [
    "bc_matrix.shape"
   ]
  },
  {
   "cell_type": "code",
   "execution_count": 71,
   "id": "267649c7-3b76-42e0-8076-b531ebf42a2d",
   "metadata": {},
   "outputs": [
    {
     "data": {
      "text/plain": [
       "1"
      ]
     },
     "execution_count": 71,
     "metadata": {},
     "output_type": "execute_result"
    }
   ],
   "source": [
    "test_bcs.iloc[4,:]['UMI_Count']"
   ]
  },
  {
   "cell_type": "code",
   "execution_count": 78,
   "id": "b89527b9-f37b-4954-8d3f-bbcd1954dd55",
   "metadata": {},
   "outputs": [],
   "source": [
    "bc_df = pd.DataFrame(bc_matrix, index=list(cbc_names), columns=list(bc_names))"
   ]
  },
  {
   "cell_type": "code",
   "execution_count": 79,
   "id": "e336087d-f3d6-4926-b761-c234344b04ea",
   "metadata": {},
   "outputs": [
    {
     "data": {
      "text/html": [
       "<div>\n",
       "<style scoped>\n",
       "    .dataframe tbody tr th:only-of-type {\n",
       "        vertical-align: middle;\n",
       "    }\n",
       "\n",
       "    .dataframe tbody tr th {\n",
       "        vertical-align: top;\n",
       "    }\n",
       "\n",
       "    .dataframe thead th {\n",
       "        text-align: right;\n",
       "    }\n",
       "</style>\n",
       "<table border=\"1\" class=\"dataframe\">\n",
       "  <thead>\n",
       "    <tr style=\"text-align: right;\">\n",
       "      <th></th>\n",
       "      <th>Index1_Bit1_F_006-Bit2_F_041-Bit3_F_011t</th>\n",
       "      <th>Index1_Bit1_F_008-Bit2_F_201-Bit3_F_487t</th>\n",
       "      <th>Index1_Bit1_F_008-Bit2_F_329-Bit3_F_401t</th>\n",
       "      <th>Index1_Bit1_F_010-Bit2_F_244-Bit3_F_211t</th>\n",
       "      <th>Index1_Bit1_F_014-Bit2_F_122-Bit3_F_208t</th>\n",
       "      <th>Index1_Bit1_F_016-Bit2_F_240-Bit3_F_325t</th>\n",
       "      <th>Index1_Bit1_F_026-Bit2_F_155-Bit3_F_005t</th>\n",
       "      <th>Index1_Bit1_F_032-Bit2_F_308-Bit3_F_315t</th>\n",
       "      <th>Index1_Bit1_F_038-Bit2_F_092-Bit3_F_123t</th>\n",
       "      <th>Index1_Bit1_F_045-Bit2_F_350-Bit3_F_193t</th>\n",
       "      <th>...</th>\n",
       "      <th>IndexE_Bit1_F_500-Bit2_F_236-Bit3_F_307t</th>\n",
       "      <th>IndexE_Bit1_F_500-Bit2_F_236-Bit3_F_371t</th>\n",
       "      <th>IndexE_Bit1_F_500-Bit2_F_246-Bit3_F_250t</th>\n",
       "      <th>IndexE_Bit1_F_500-Bit2_F_318-Bit3_F_403t</th>\n",
       "      <th>IndexE_Bit1_F_500-Bit2_F_350-Bit3_F_456t</th>\n",
       "      <th>IndexE_Bit1_F_500-Bit2_F_365-Bit3_F_163t</th>\n",
       "      <th>IndexE_Bit1_F_500-Bit2_F_429-Bit3_F_437t</th>\n",
       "      <th>IndexE_Bit1_F_500-Bit2_F_468-Bit3_F_278t</th>\n",
       "      <th>IndexE_Bit1_F_500-Bit2_F_468-Bit3_F_341t</th>\n",
       "      <th>IndexE_Bit1_F_500-Bit2_F_479-Bit3_F_343t</th>\n",
       "    </tr>\n",
       "  </thead>\n",
       "  <tbody>\n",
       "    <tr>\n",
       "      <th>AAACCCAAGACGCCAA</th>\n",
       "      <td>0.0</td>\n",
       "      <td>0.0</td>\n",
       "      <td>0.0</td>\n",
       "      <td>0.0</td>\n",
       "      <td>0.0</td>\n",
       "      <td>0.0</td>\n",
       "      <td>0.0</td>\n",
       "      <td>0.0</td>\n",
       "      <td>0.0</td>\n",
       "      <td>0.0</td>\n",
       "      <td>...</td>\n",
       "      <td>0.0</td>\n",
       "      <td>0.0</td>\n",
       "      <td>0.0</td>\n",
       "      <td>0.0</td>\n",
       "      <td>0.0</td>\n",
       "      <td>0.0</td>\n",
       "      <td>0.0</td>\n",
       "      <td>0.0</td>\n",
       "      <td>0.0</td>\n",
       "      <td>0.0</td>\n",
       "    </tr>\n",
       "    <tr>\n",
       "      <th>AAACCCAAGCCAAGGT</th>\n",
       "      <td>0.0</td>\n",
       "      <td>0.0</td>\n",
       "      <td>0.0</td>\n",
       "      <td>0.0</td>\n",
       "      <td>0.0</td>\n",
       "      <td>0.0</td>\n",
       "      <td>0.0</td>\n",
       "      <td>0.0</td>\n",
       "      <td>0.0</td>\n",
       "      <td>0.0</td>\n",
       "      <td>...</td>\n",
       "      <td>0.0</td>\n",
       "      <td>0.0</td>\n",
       "      <td>0.0</td>\n",
       "      <td>0.0</td>\n",
       "      <td>0.0</td>\n",
       "      <td>0.0</td>\n",
       "      <td>0.0</td>\n",
       "      <td>0.0</td>\n",
       "      <td>0.0</td>\n",
       "      <td>0.0</td>\n",
       "    </tr>\n",
       "    <tr>\n",
       "      <th>AAACCCAAGCGAGGAG</th>\n",
       "      <td>0.0</td>\n",
       "      <td>0.0</td>\n",
       "      <td>0.0</td>\n",
       "      <td>0.0</td>\n",
       "      <td>0.0</td>\n",
       "      <td>0.0</td>\n",
       "      <td>0.0</td>\n",
       "      <td>0.0</td>\n",
       "      <td>0.0</td>\n",
       "      <td>0.0</td>\n",
       "      <td>...</td>\n",
       "      <td>0.0</td>\n",
       "      <td>0.0</td>\n",
       "      <td>0.0</td>\n",
       "      <td>0.0</td>\n",
       "      <td>0.0</td>\n",
       "      <td>0.0</td>\n",
       "      <td>0.0</td>\n",
       "      <td>0.0</td>\n",
       "      <td>0.0</td>\n",
       "      <td>0.0</td>\n",
       "    </tr>\n",
       "    <tr>\n",
       "      <th>AAACCCAAGCTGTACT</th>\n",
       "      <td>0.0</td>\n",
       "      <td>0.0</td>\n",
       "      <td>0.0</td>\n",
       "      <td>0.0</td>\n",
       "      <td>0.0</td>\n",
       "      <td>0.0</td>\n",
       "      <td>0.0</td>\n",
       "      <td>0.0</td>\n",
       "      <td>0.0</td>\n",
       "      <td>0.0</td>\n",
       "      <td>...</td>\n",
       "      <td>0.0</td>\n",
       "      <td>0.0</td>\n",
       "      <td>0.0</td>\n",
       "      <td>0.0</td>\n",
       "      <td>0.0</td>\n",
       "      <td>0.0</td>\n",
       "      <td>0.0</td>\n",
       "      <td>0.0</td>\n",
       "      <td>0.0</td>\n",
       "      <td>0.0</td>\n",
       "    </tr>\n",
       "    <tr>\n",
       "      <th>AAACCCAAGGACAACC</th>\n",
       "      <td>0.0</td>\n",
       "      <td>0.0</td>\n",
       "      <td>0.0</td>\n",
       "      <td>0.0</td>\n",
       "      <td>0.0</td>\n",
       "      <td>0.0</td>\n",
       "      <td>0.0</td>\n",
       "      <td>0.0</td>\n",
       "      <td>0.0</td>\n",
       "      <td>0.0</td>\n",
       "      <td>...</td>\n",
       "      <td>0.0</td>\n",
       "      <td>0.0</td>\n",
       "      <td>0.0</td>\n",
       "      <td>0.0</td>\n",
       "      <td>0.0</td>\n",
       "      <td>0.0</td>\n",
       "      <td>0.0</td>\n",
       "      <td>0.0</td>\n",
       "      <td>0.0</td>\n",
       "      <td>0.0</td>\n",
       "    </tr>\n",
       "    <tr>\n",
       "      <th>...</th>\n",
       "      <td>...</td>\n",
       "      <td>...</td>\n",
       "      <td>...</td>\n",
       "      <td>...</td>\n",
       "      <td>...</td>\n",
       "      <td>...</td>\n",
       "      <td>...</td>\n",
       "      <td>...</td>\n",
       "      <td>...</td>\n",
       "      <td>...</td>\n",
       "      <td>...</td>\n",
       "      <td>...</td>\n",
       "      <td>...</td>\n",
       "      <td>...</td>\n",
       "      <td>...</td>\n",
       "      <td>...</td>\n",
       "      <td>...</td>\n",
       "      <td>...</td>\n",
       "      <td>...</td>\n",
       "      <td>...</td>\n",
       "      <td>...</td>\n",
       "    </tr>\n",
       "    <tr>\n",
       "      <th>TTTGTTGTCTGTAACG</th>\n",
       "      <td>0.0</td>\n",
       "      <td>0.0</td>\n",
       "      <td>0.0</td>\n",
       "      <td>0.0</td>\n",
       "      <td>0.0</td>\n",
       "      <td>0.0</td>\n",
       "      <td>0.0</td>\n",
       "      <td>0.0</td>\n",
       "      <td>0.0</td>\n",
       "      <td>0.0</td>\n",
       "      <td>...</td>\n",
       "      <td>0.0</td>\n",
       "      <td>0.0</td>\n",
       "      <td>0.0</td>\n",
       "      <td>0.0</td>\n",
       "      <td>0.0</td>\n",
       "      <td>0.0</td>\n",
       "      <td>0.0</td>\n",
       "      <td>0.0</td>\n",
       "      <td>0.0</td>\n",
       "      <td>0.0</td>\n",
       "    </tr>\n",
       "    <tr>\n",
       "      <th>TTTGTTGTCTTCACGC</th>\n",
       "      <td>0.0</td>\n",
       "      <td>0.0</td>\n",
       "      <td>0.0</td>\n",
       "      <td>0.0</td>\n",
       "      <td>0.0</td>\n",
       "      <td>0.0</td>\n",
       "      <td>0.0</td>\n",
       "      <td>0.0</td>\n",
       "      <td>0.0</td>\n",
       "      <td>0.0</td>\n",
       "      <td>...</td>\n",
       "      <td>0.0</td>\n",
       "      <td>0.0</td>\n",
       "      <td>0.0</td>\n",
       "      <td>0.0</td>\n",
       "      <td>0.0</td>\n",
       "      <td>0.0</td>\n",
       "      <td>0.0</td>\n",
       "      <td>0.0</td>\n",
       "      <td>0.0</td>\n",
       "      <td>0.0</td>\n",
       "    </tr>\n",
       "    <tr>\n",
       "      <th>TTTGTTGTCTTCTTCC</th>\n",
       "      <td>0.0</td>\n",
       "      <td>0.0</td>\n",
       "      <td>0.0</td>\n",
       "      <td>0.0</td>\n",
       "      <td>0.0</td>\n",
       "      <td>0.0</td>\n",
       "      <td>0.0</td>\n",
       "      <td>0.0</td>\n",
       "      <td>0.0</td>\n",
       "      <td>0.0</td>\n",
       "      <td>...</td>\n",
       "      <td>0.0</td>\n",
       "      <td>0.0</td>\n",
       "      <td>0.0</td>\n",
       "      <td>0.0</td>\n",
       "      <td>0.0</td>\n",
       "      <td>0.0</td>\n",
       "      <td>0.0</td>\n",
       "      <td>0.0</td>\n",
       "      <td>0.0</td>\n",
       "      <td>0.0</td>\n",
       "    </tr>\n",
       "    <tr>\n",
       "      <th>TTTGTTGTCTTGCGCT</th>\n",
       "      <td>0.0</td>\n",
       "      <td>0.0</td>\n",
       "      <td>0.0</td>\n",
       "      <td>0.0</td>\n",
       "      <td>0.0</td>\n",
       "      <td>0.0</td>\n",
       "      <td>0.0</td>\n",
       "      <td>0.0</td>\n",
       "      <td>0.0</td>\n",
       "      <td>0.0</td>\n",
       "      <td>...</td>\n",
       "      <td>0.0</td>\n",
       "      <td>0.0</td>\n",
       "      <td>0.0</td>\n",
       "      <td>0.0</td>\n",
       "      <td>0.0</td>\n",
       "      <td>0.0</td>\n",
       "      <td>0.0</td>\n",
       "      <td>0.0</td>\n",
       "      <td>0.0</td>\n",
       "      <td>0.0</td>\n",
       "    </tr>\n",
       "    <tr>\n",
       "      <th>TTTGTTGTCTTTACAC</th>\n",
       "      <td>0.0</td>\n",
       "      <td>0.0</td>\n",
       "      <td>0.0</td>\n",
       "      <td>0.0</td>\n",
       "      <td>0.0</td>\n",
       "      <td>0.0</td>\n",
       "      <td>0.0</td>\n",
       "      <td>0.0</td>\n",
       "      <td>0.0</td>\n",
       "      <td>0.0</td>\n",
       "      <td>...</td>\n",
       "      <td>0.0</td>\n",
       "      <td>0.0</td>\n",
       "      <td>0.0</td>\n",
       "      <td>0.0</td>\n",
       "      <td>0.0</td>\n",
       "      <td>0.0</td>\n",
       "      <td>0.0</td>\n",
       "      <td>0.0</td>\n",
       "      <td>0.0</td>\n",
       "      <td>0.0</td>\n",
       "    </tr>\n",
       "  </tbody>\n",
       "</table>\n",
       "<p>103532 rows × 15572 columns</p>\n",
       "</div>"
      ],
      "text/plain": [
       "                  Index1_Bit1_F_006-Bit2_F_041-Bit3_F_011t  \\\n",
       "AAACCCAAGACGCCAA                                       0.0   \n",
       "AAACCCAAGCCAAGGT                                       0.0   \n",
       "AAACCCAAGCGAGGAG                                       0.0   \n",
       "AAACCCAAGCTGTACT                                       0.0   \n",
       "AAACCCAAGGACAACC                                       0.0   \n",
       "...                                                    ...   \n",
       "TTTGTTGTCTGTAACG                                       0.0   \n",
       "TTTGTTGTCTTCACGC                                       0.0   \n",
       "TTTGTTGTCTTCTTCC                                       0.0   \n",
       "TTTGTTGTCTTGCGCT                                       0.0   \n",
       "TTTGTTGTCTTTACAC                                       0.0   \n",
       "\n",
       "                  Index1_Bit1_F_008-Bit2_F_201-Bit3_F_487t  \\\n",
       "AAACCCAAGACGCCAA                                       0.0   \n",
       "AAACCCAAGCCAAGGT                                       0.0   \n",
       "AAACCCAAGCGAGGAG                                       0.0   \n",
       "AAACCCAAGCTGTACT                                       0.0   \n",
       "AAACCCAAGGACAACC                                       0.0   \n",
       "...                                                    ...   \n",
       "TTTGTTGTCTGTAACG                                       0.0   \n",
       "TTTGTTGTCTTCACGC                                       0.0   \n",
       "TTTGTTGTCTTCTTCC                                       0.0   \n",
       "TTTGTTGTCTTGCGCT                                       0.0   \n",
       "TTTGTTGTCTTTACAC                                       0.0   \n",
       "\n",
       "                  Index1_Bit1_F_008-Bit2_F_329-Bit3_F_401t  \\\n",
       "AAACCCAAGACGCCAA                                       0.0   \n",
       "AAACCCAAGCCAAGGT                                       0.0   \n",
       "AAACCCAAGCGAGGAG                                       0.0   \n",
       "AAACCCAAGCTGTACT                                       0.0   \n",
       "AAACCCAAGGACAACC                                       0.0   \n",
       "...                                                    ...   \n",
       "TTTGTTGTCTGTAACG                                       0.0   \n",
       "TTTGTTGTCTTCACGC                                       0.0   \n",
       "TTTGTTGTCTTCTTCC                                       0.0   \n",
       "TTTGTTGTCTTGCGCT                                       0.0   \n",
       "TTTGTTGTCTTTACAC                                       0.0   \n",
       "\n",
       "                  Index1_Bit1_F_010-Bit2_F_244-Bit3_F_211t  \\\n",
       "AAACCCAAGACGCCAA                                       0.0   \n",
       "AAACCCAAGCCAAGGT                                       0.0   \n",
       "AAACCCAAGCGAGGAG                                       0.0   \n",
       "AAACCCAAGCTGTACT                                       0.0   \n",
       "AAACCCAAGGACAACC                                       0.0   \n",
       "...                                                    ...   \n",
       "TTTGTTGTCTGTAACG                                       0.0   \n",
       "TTTGTTGTCTTCACGC                                       0.0   \n",
       "TTTGTTGTCTTCTTCC                                       0.0   \n",
       "TTTGTTGTCTTGCGCT                                       0.0   \n",
       "TTTGTTGTCTTTACAC                                       0.0   \n",
       "\n",
       "                  Index1_Bit1_F_014-Bit2_F_122-Bit3_F_208t  \\\n",
       "AAACCCAAGACGCCAA                                       0.0   \n",
       "AAACCCAAGCCAAGGT                                       0.0   \n",
       "AAACCCAAGCGAGGAG                                       0.0   \n",
       "AAACCCAAGCTGTACT                                       0.0   \n",
       "AAACCCAAGGACAACC                                       0.0   \n",
       "...                                                    ...   \n",
       "TTTGTTGTCTGTAACG                                       0.0   \n",
       "TTTGTTGTCTTCACGC                                       0.0   \n",
       "TTTGTTGTCTTCTTCC                                       0.0   \n",
       "TTTGTTGTCTTGCGCT                                       0.0   \n",
       "TTTGTTGTCTTTACAC                                       0.0   \n",
       "\n",
       "                  Index1_Bit1_F_016-Bit2_F_240-Bit3_F_325t  \\\n",
       "AAACCCAAGACGCCAA                                       0.0   \n",
       "AAACCCAAGCCAAGGT                                       0.0   \n",
       "AAACCCAAGCGAGGAG                                       0.0   \n",
       "AAACCCAAGCTGTACT                                       0.0   \n",
       "AAACCCAAGGACAACC                                       0.0   \n",
       "...                                                    ...   \n",
       "TTTGTTGTCTGTAACG                                       0.0   \n",
       "TTTGTTGTCTTCACGC                                       0.0   \n",
       "TTTGTTGTCTTCTTCC                                       0.0   \n",
       "TTTGTTGTCTTGCGCT                                       0.0   \n",
       "TTTGTTGTCTTTACAC                                       0.0   \n",
       "\n",
       "                  Index1_Bit1_F_026-Bit2_F_155-Bit3_F_005t  \\\n",
       "AAACCCAAGACGCCAA                                       0.0   \n",
       "AAACCCAAGCCAAGGT                                       0.0   \n",
       "AAACCCAAGCGAGGAG                                       0.0   \n",
       "AAACCCAAGCTGTACT                                       0.0   \n",
       "AAACCCAAGGACAACC                                       0.0   \n",
       "...                                                    ...   \n",
       "TTTGTTGTCTGTAACG                                       0.0   \n",
       "TTTGTTGTCTTCACGC                                       0.0   \n",
       "TTTGTTGTCTTCTTCC                                       0.0   \n",
       "TTTGTTGTCTTGCGCT                                       0.0   \n",
       "TTTGTTGTCTTTACAC                                       0.0   \n",
       "\n",
       "                  Index1_Bit1_F_032-Bit2_F_308-Bit3_F_315t  \\\n",
       "AAACCCAAGACGCCAA                                       0.0   \n",
       "AAACCCAAGCCAAGGT                                       0.0   \n",
       "AAACCCAAGCGAGGAG                                       0.0   \n",
       "AAACCCAAGCTGTACT                                       0.0   \n",
       "AAACCCAAGGACAACC                                       0.0   \n",
       "...                                                    ...   \n",
       "TTTGTTGTCTGTAACG                                       0.0   \n",
       "TTTGTTGTCTTCACGC                                       0.0   \n",
       "TTTGTTGTCTTCTTCC                                       0.0   \n",
       "TTTGTTGTCTTGCGCT                                       0.0   \n",
       "TTTGTTGTCTTTACAC                                       0.0   \n",
       "\n",
       "                  Index1_Bit1_F_038-Bit2_F_092-Bit3_F_123t  \\\n",
       "AAACCCAAGACGCCAA                                       0.0   \n",
       "AAACCCAAGCCAAGGT                                       0.0   \n",
       "AAACCCAAGCGAGGAG                                       0.0   \n",
       "AAACCCAAGCTGTACT                                       0.0   \n",
       "AAACCCAAGGACAACC                                       0.0   \n",
       "...                                                    ...   \n",
       "TTTGTTGTCTGTAACG                                       0.0   \n",
       "TTTGTTGTCTTCACGC                                       0.0   \n",
       "TTTGTTGTCTTCTTCC                                       0.0   \n",
       "TTTGTTGTCTTGCGCT                                       0.0   \n",
       "TTTGTTGTCTTTACAC                                       0.0   \n",
       "\n",
       "                  Index1_Bit1_F_045-Bit2_F_350-Bit3_F_193t  ...  \\\n",
       "AAACCCAAGACGCCAA                                       0.0  ...   \n",
       "AAACCCAAGCCAAGGT                                       0.0  ...   \n",
       "AAACCCAAGCGAGGAG                                       0.0  ...   \n",
       "AAACCCAAGCTGTACT                                       0.0  ...   \n",
       "AAACCCAAGGACAACC                                       0.0  ...   \n",
       "...                                                    ...  ...   \n",
       "TTTGTTGTCTGTAACG                                       0.0  ...   \n",
       "TTTGTTGTCTTCACGC                                       0.0  ...   \n",
       "TTTGTTGTCTTCTTCC                                       0.0  ...   \n",
       "TTTGTTGTCTTGCGCT                                       0.0  ...   \n",
       "TTTGTTGTCTTTACAC                                       0.0  ...   \n",
       "\n",
       "                  IndexE_Bit1_F_500-Bit2_F_236-Bit3_F_307t  \\\n",
       "AAACCCAAGACGCCAA                                       0.0   \n",
       "AAACCCAAGCCAAGGT                                       0.0   \n",
       "AAACCCAAGCGAGGAG                                       0.0   \n",
       "AAACCCAAGCTGTACT                                       0.0   \n",
       "AAACCCAAGGACAACC                                       0.0   \n",
       "...                                                    ...   \n",
       "TTTGTTGTCTGTAACG                                       0.0   \n",
       "TTTGTTGTCTTCACGC                                       0.0   \n",
       "TTTGTTGTCTTCTTCC                                       0.0   \n",
       "TTTGTTGTCTTGCGCT                                       0.0   \n",
       "TTTGTTGTCTTTACAC                                       0.0   \n",
       "\n",
       "                  IndexE_Bit1_F_500-Bit2_F_236-Bit3_F_371t  \\\n",
       "AAACCCAAGACGCCAA                                       0.0   \n",
       "AAACCCAAGCCAAGGT                                       0.0   \n",
       "AAACCCAAGCGAGGAG                                       0.0   \n",
       "AAACCCAAGCTGTACT                                       0.0   \n",
       "AAACCCAAGGACAACC                                       0.0   \n",
       "...                                                    ...   \n",
       "TTTGTTGTCTGTAACG                                       0.0   \n",
       "TTTGTTGTCTTCACGC                                       0.0   \n",
       "TTTGTTGTCTTCTTCC                                       0.0   \n",
       "TTTGTTGTCTTGCGCT                                       0.0   \n",
       "TTTGTTGTCTTTACAC                                       0.0   \n",
       "\n",
       "                  IndexE_Bit1_F_500-Bit2_F_246-Bit3_F_250t  \\\n",
       "AAACCCAAGACGCCAA                                       0.0   \n",
       "AAACCCAAGCCAAGGT                                       0.0   \n",
       "AAACCCAAGCGAGGAG                                       0.0   \n",
       "AAACCCAAGCTGTACT                                       0.0   \n",
       "AAACCCAAGGACAACC                                       0.0   \n",
       "...                                                    ...   \n",
       "TTTGTTGTCTGTAACG                                       0.0   \n",
       "TTTGTTGTCTTCACGC                                       0.0   \n",
       "TTTGTTGTCTTCTTCC                                       0.0   \n",
       "TTTGTTGTCTTGCGCT                                       0.0   \n",
       "TTTGTTGTCTTTACAC                                       0.0   \n",
       "\n",
       "                  IndexE_Bit1_F_500-Bit2_F_318-Bit3_F_403t  \\\n",
       "AAACCCAAGACGCCAA                                       0.0   \n",
       "AAACCCAAGCCAAGGT                                       0.0   \n",
       "AAACCCAAGCGAGGAG                                       0.0   \n",
       "AAACCCAAGCTGTACT                                       0.0   \n",
       "AAACCCAAGGACAACC                                       0.0   \n",
       "...                                                    ...   \n",
       "TTTGTTGTCTGTAACG                                       0.0   \n",
       "TTTGTTGTCTTCACGC                                       0.0   \n",
       "TTTGTTGTCTTCTTCC                                       0.0   \n",
       "TTTGTTGTCTTGCGCT                                       0.0   \n",
       "TTTGTTGTCTTTACAC                                       0.0   \n",
       "\n",
       "                  IndexE_Bit1_F_500-Bit2_F_350-Bit3_F_456t  \\\n",
       "AAACCCAAGACGCCAA                                       0.0   \n",
       "AAACCCAAGCCAAGGT                                       0.0   \n",
       "AAACCCAAGCGAGGAG                                       0.0   \n",
       "AAACCCAAGCTGTACT                                       0.0   \n",
       "AAACCCAAGGACAACC                                       0.0   \n",
       "...                                                    ...   \n",
       "TTTGTTGTCTGTAACG                                       0.0   \n",
       "TTTGTTGTCTTCACGC                                       0.0   \n",
       "TTTGTTGTCTTCTTCC                                       0.0   \n",
       "TTTGTTGTCTTGCGCT                                       0.0   \n",
       "TTTGTTGTCTTTACAC                                       0.0   \n",
       "\n",
       "                  IndexE_Bit1_F_500-Bit2_F_365-Bit3_F_163t  \\\n",
       "AAACCCAAGACGCCAA                                       0.0   \n",
       "AAACCCAAGCCAAGGT                                       0.0   \n",
       "AAACCCAAGCGAGGAG                                       0.0   \n",
       "AAACCCAAGCTGTACT                                       0.0   \n",
       "AAACCCAAGGACAACC                                       0.0   \n",
       "...                                                    ...   \n",
       "TTTGTTGTCTGTAACG                                       0.0   \n",
       "TTTGTTGTCTTCACGC                                       0.0   \n",
       "TTTGTTGTCTTCTTCC                                       0.0   \n",
       "TTTGTTGTCTTGCGCT                                       0.0   \n",
       "TTTGTTGTCTTTACAC                                       0.0   \n",
       "\n",
       "                  IndexE_Bit1_F_500-Bit2_F_429-Bit3_F_437t  \\\n",
       "AAACCCAAGACGCCAA                                       0.0   \n",
       "AAACCCAAGCCAAGGT                                       0.0   \n",
       "AAACCCAAGCGAGGAG                                       0.0   \n",
       "AAACCCAAGCTGTACT                                       0.0   \n",
       "AAACCCAAGGACAACC                                       0.0   \n",
       "...                                                    ...   \n",
       "TTTGTTGTCTGTAACG                                       0.0   \n",
       "TTTGTTGTCTTCACGC                                       0.0   \n",
       "TTTGTTGTCTTCTTCC                                       0.0   \n",
       "TTTGTTGTCTTGCGCT                                       0.0   \n",
       "TTTGTTGTCTTTACAC                                       0.0   \n",
       "\n",
       "                  IndexE_Bit1_F_500-Bit2_F_468-Bit3_F_278t  \\\n",
       "AAACCCAAGACGCCAA                                       0.0   \n",
       "AAACCCAAGCCAAGGT                                       0.0   \n",
       "AAACCCAAGCGAGGAG                                       0.0   \n",
       "AAACCCAAGCTGTACT                                       0.0   \n",
       "AAACCCAAGGACAACC                                       0.0   \n",
       "...                                                    ...   \n",
       "TTTGTTGTCTGTAACG                                       0.0   \n",
       "TTTGTTGTCTTCACGC                                       0.0   \n",
       "TTTGTTGTCTTCTTCC                                       0.0   \n",
       "TTTGTTGTCTTGCGCT                                       0.0   \n",
       "TTTGTTGTCTTTACAC                                       0.0   \n",
       "\n",
       "                  IndexE_Bit1_F_500-Bit2_F_468-Bit3_F_341t  \\\n",
       "AAACCCAAGACGCCAA                                       0.0   \n",
       "AAACCCAAGCCAAGGT                                       0.0   \n",
       "AAACCCAAGCGAGGAG                                       0.0   \n",
       "AAACCCAAGCTGTACT                                       0.0   \n",
       "AAACCCAAGGACAACC                                       0.0   \n",
       "...                                                    ...   \n",
       "TTTGTTGTCTGTAACG                                       0.0   \n",
       "TTTGTTGTCTTCACGC                                       0.0   \n",
       "TTTGTTGTCTTCTTCC                                       0.0   \n",
       "TTTGTTGTCTTGCGCT                                       0.0   \n",
       "TTTGTTGTCTTTACAC                                       0.0   \n",
       "\n",
       "                  IndexE_Bit1_F_500-Bit2_F_479-Bit3_F_343t  \n",
       "AAACCCAAGACGCCAA                                       0.0  \n",
       "AAACCCAAGCCAAGGT                                       0.0  \n",
       "AAACCCAAGCGAGGAG                                       0.0  \n",
       "AAACCCAAGCTGTACT                                       0.0  \n",
       "AAACCCAAGGACAACC                                       0.0  \n",
       "...                                                    ...  \n",
       "TTTGTTGTCTGTAACG                                       0.0  \n",
       "TTTGTTGTCTTCACGC                                       0.0  \n",
       "TTTGTTGTCTTCTTCC                                       0.0  \n",
       "TTTGTTGTCTTGCGCT                                       0.0  \n",
       "TTTGTTGTCTTTACAC                                       0.0  \n",
       "\n",
       "[103532 rows x 15572 columns]"
      ]
     },
     "execution_count": 79,
     "metadata": {},
     "output_type": "execute_result"
    }
   ],
   "source": [
    "bc_df"
   ]
  },
  {
   "cell_type": "code",
   "execution_count": 97,
   "id": "0394aa28-2619-43a0-afc6-5d2fc7fe6024",
   "metadata": {},
   "outputs": [],
   "source": [
    "test_bcs_reshape = test_bcs"
   ]
  },
  {
   "cell_type": "code",
   "execution_count": 101,
   "id": "d345c79a-9277-41a3-b9ef-55896d1f057a",
   "metadata": {},
   "outputs": [],
   "source": [
    "test_bcs_reshape.index = list(test_bcs_reshape['CBC'])"
   ]
  },
  {
   "cell_type": "code",
   "execution_count": 108,
   "id": "356aeea2-a52b-4c45-97df-3b324b81683f",
   "metadata": {},
   "outputs": [
    {
     "data": {
      "text/plain": [
       "array([ True,  True,  True,  True,  True,  True,  True,  True,  True,\n",
       "        True,  True,  True,  True,  True,  True,  True,  True,  True,\n",
       "        True,  True,  True,  True,  True,  True,  True,  True,  True,\n",
       "        True,  True,  True,  True,  True,  True,  True,  True,  True,\n",
       "        True,  True,  True,  True,  True,  True,  True,  True,  True,\n",
       "        True,  True,  True,  True,  True,  True,  True,  True,  True,\n",
       "        True,  True,  True,  True,  True,  True,  True,  True,  True,\n",
       "        True,  True,  True,  True,  True,  True,  True,  True,  True,\n",
       "        True,  True,  True,  True,  True,  True,  True,  True,  True,\n",
       "        True,  True,  True,  True,  True,  True,  True,  True,  True,\n",
       "        True,  True,  True,  True,  True,  True,  True,  True,  True,\n",
       "        True,  True,  True,  True,  True,  True,  True,  True,  True,\n",
       "        True,  True,  True,  True,  True,  True,  True,  True,  True,\n",
       "        True,  True,  True,  True,  True,  True,  True,  True,  True,\n",
       "        True,  True,  True,  True,  True,  True,  True,  True,  True,\n",
       "        True,  True,  True,  True,  True,  True,  True,  True,  True,\n",
       "        True,  True,  True,  True,  True,  True,  True,  True,  True,\n",
       "        True,  True,  True,  True,  True,  True,  True,  True,  True,\n",
       "        True,  True,  True,  True,  True,  True,  True,  True,  True,\n",
       "        True,  True,  True,  True,  True,  True,  True,  True,  True,\n",
       "        True,  True,  True,  True,  True,  True,  True,  True,  True,\n",
       "        True,  True,  True,  True,  True,  True,  True,  True,  True,\n",
       "        True,  True,  True,  True,  True,  True,  True,  True,  True,\n",
       "        True,  True])"
      ]
     },
     "execution_count": 108,
     "metadata": {},
     "output_type": "execute_result"
    }
   ],
   "source": [
    "bc_df.index[bc_df.index.isin(test_bcs['CBC'][test_bcs['barcode']=='Index3_Bit1_F_007-Bit2_F_331-Bit3_F_247t'])] == test_bcs_reshape.index[test_bcs_reshape['barcode']=='Index3_Bit1_F_007-Bit2_F_331-Bit3_F_247t']"
   ]
  },
  {
   "cell_type": "code",
   "execution_count": 104,
   "id": "9540a28e-1853-40dd-b9c4-38ac22bfd296",
   "metadata": {},
   "outputs": [],
   "source": [
    "bc_df.loc[bc_df.index.isin(test_bcs['CBC'][test_bcs['barcode']=='Index3_Bit1_F_007-Bit2_F_331-Bit3_F_247t']),\n",
    "         bc_df.columns=='Index3_Bit1_F_007-Bit2_F_331-Bit3_F_247t'] = test_bcs_reshape.loc[test_bcs_reshape['barcode']=='Index3_Bit1_F_007-Bit2_F_331-Bit3_F_247t','UMI_Count']"
   ]
  },
  {
   "cell_type": "code",
   "execution_count": 109,
   "id": "649be7ea-1e42-4ca6-a3b5-a90d98c2e8ed",
   "metadata": {},
   "outputs": [
    {
     "data": {
      "text/html": [
       "<div>\n",
       "<style scoped>\n",
       "    .dataframe tbody tr th:only-of-type {\n",
       "        vertical-align: middle;\n",
       "    }\n",
       "\n",
       "    .dataframe tbody tr th {\n",
       "        vertical-align: top;\n",
       "    }\n",
       "\n",
       "    .dataframe thead th {\n",
       "        text-align: right;\n",
       "    }\n",
       "</style>\n",
       "<table border=\"1\" class=\"dataframe\">\n",
       "  <thead>\n",
       "    <tr style=\"text-align: right;\">\n",
       "      <th></th>\n",
       "      <th>Index3_Bit1_F_007-Bit2_F_331-Bit3_F_247t</th>\n",
       "    </tr>\n",
       "  </thead>\n",
       "  <tbody>\n",
       "    <tr>\n",
       "      <th>AAACCCAAGGACAACC</th>\n",
       "      <td>1.0</td>\n",
       "    </tr>\n",
       "    <tr>\n",
       "      <th>AACGAAATCAAGCCAT</th>\n",
       "      <td>3.0</td>\n",
       "    </tr>\n",
       "    <tr>\n",
       "      <th>AAGGAATAGGTTCAGG</th>\n",
       "      <td>1.0</td>\n",
       "    </tr>\n",
       "    <tr>\n",
       "      <th>AATCACGCAAACAGGC</th>\n",
       "      <td>1.0</td>\n",
       "    </tr>\n",
       "    <tr>\n",
       "      <th>AATCGACGTAGCGTCC</th>\n",
       "      <td>2.0</td>\n",
       "    </tr>\n",
       "    <tr>\n",
       "      <th>...</th>\n",
       "      <td>...</td>\n",
       "    </tr>\n",
       "    <tr>\n",
       "      <th>TTTCATGAGATGTTGA</th>\n",
       "      <td>1.0</td>\n",
       "    </tr>\n",
       "    <tr>\n",
       "      <th>TTTGACTAGTCTGGTT</th>\n",
       "      <td>1.0</td>\n",
       "    </tr>\n",
       "    <tr>\n",
       "      <th>TTTGACTGTACGTACT</th>\n",
       "      <td>1.0</td>\n",
       "    </tr>\n",
       "    <tr>\n",
       "      <th>TTTGGTTGTCGTTATG</th>\n",
       "      <td>1.0</td>\n",
       "    </tr>\n",
       "    <tr>\n",
       "      <th>TTTGGTTTCGAACGCC</th>\n",
       "      <td>1.0</td>\n",
       "    </tr>\n",
       "  </tbody>\n",
       "</table>\n",
       "<p>209 rows × 1 columns</p>\n",
       "</div>"
      ],
      "text/plain": [
       "                  Index3_Bit1_F_007-Bit2_F_331-Bit3_F_247t\n",
       "AAACCCAAGGACAACC                                       1.0\n",
       "AACGAAATCAAGCCAT                                       3.0\n",
       "AAGGAATAGGTTCAGG                                       1.0\n",
       "AATCACGCAAACAGGC                                       1.0\n",
       "AATCGACGTAGCGTCC                                       2.0\n",
       "...                                                    ...\n",
       "TTTCATGAGATGTTGA                                       1.0\n",
       "TTTGACTAGTCTGGTT                                       1.0\n",
       "TTTGACTGTACGTACT                                       1.0\n",
       "TTTGGTTGTCGTTATG                                       1.0\n",
       "TTTGGTTTCGAACGCC                                       1.0\n",
       "\n",
       "[209 rows x 1 columns]"
      ]
     },
     "execution_count": 109,
     "metadata": {},
     "output_type": "execute_result"
    }
   ],
   "source": [
    "bc_df.loc[bc_df.index.isin(test_bcs['CBC'][test_bcs['barcode']=='Index3_Bit1_F_007-Bit2_F_331-Bit3_F_247t']),\n",
    "         bc_df.columns=='Index3_Bit1_F_007-Bit2_F_331-Bit3_F_247t']"
   ]
  },
  {
   "cell_type": "code",
   "execution_count": 112,
   "id": "48b35e90-fe11-4182-9eef-04a729d661d8",
   "metadata": {},
   "outputs": [
    {
     "data": {
      "text/html": [
       "<div>\n",
       "<style scoped>\n",
       "    .dataframe tbody tr th:only-of-type {\n",
       "        vertical-align: middle;\n",
       "    }\n",
       "\n",
       "    .dataframe tbody tr th {\n",
       "        vertical-align: top;\n",
       "    }\n",
       "\n",
       "    .dataframe thead th {\n",
       "        text-align: right;\n",
       "    }\n",
       "</style>\n",
       "<table border=\"1\" class=\"dataframe\">\n",
       "  <thead>\n",
       "    <tr style=\"text-align: right;\">\n",
       "      <th></th>\n",
       "      <th>Index3_Bit1_F_007-Bit2_F_331-Bit3_F_247t</th>\n",
       "    </tr>\n",
       "  </thead>\n",
       "  <tbody>\n",
       "    <tr>\n",
       "      <th>AAACCCAAGACGCCAA</th>\n",
       "      <td>0.0</td>\n",
       "    </tr>\n",
       "    <tr>\n",
       "      <th>AAACCCAAGCCAAGGT</th>\n",
       "      <td>0.0</td>\n",
       "    </tr>\n",
       "    <tr>\n",
       "      <th>AAACCCAAGCGAGGAG</th>\n",
       "      <td>0.0</td>\n",
       "    </tr>\n",
       "    <tr>\n",
       "      <th>AAACCCAAGCTGTACT</th>\n",
       "      <td>0.0</td>\n",
       "    </tr>\n",
       "    <tr>\n",
       "      <th>AAACCCAAGGACAACC</th>\n",
       "      <td>1.0</td>\n",
       "    </tr>\n",
       "    <tr>\n",
       "      <th>...</th>\n",
       "      <td>...</td>\n",
       "    </tr>\n",
       "    <tr>\n",
       "      <th>TTTGTTGTCTGTAACG</th>\n",
       "      <td>0.0</td>\n",
       "    </tr>\n",
       "    <tr>\n",
       "      <th>TTTGTTGTCTTCACGC</th>\n",
       "      <td>0.0</td>\n",
       "    </tr>\n",
       "    <tr>\n",
       "      <th>TTTGTTGTCTTCTTCC</th>\n",
       "      <td>0.0</td>\n",
       "    </tr>\n",
       "    <tr>\n",
       "      <th>TTTGTTGTCTTGCGCT</th>\n",
       "      <td>0.0</td>\n",
       "    </tr>\n",
       "    <tr>\n",
       "      <th>TTTGTTGTCTTTACAC</th>\n",
       "      <td>0.0</td>\n",
       "    </tr>\n",
       "  </tbody>\n",
       "</table>\n",
       "<p>103532 rows × 1 columns</p>\n",
       "</div>"
      ],
      "text/plain": [
       "                  Index3_Bit1_F_007-Bit2_F_331-Bit3_F_247t\n",
       "AAACCCAAGACGCCAA                                       0.0\n",
       "AAACCCAAGCCAAGGT                                       0.0\n",
       "AAACCCAAGCGAGGAG                                       0.0\n",
       "AAACCCAAGCTGTACT                                       0.0\n",
       "AAACCCAAGGACAACC                                       1.0\n",
       "...                                                    ...\n",
       "TTTGTTGTCTGTAACG                                       0.0\n",
       "TTTGTTGTCTTCACGC                                       0.0\n",
       "TTTGTTGTCTTCTTCC                                       0.0\n",
       "TTTGTTGTCTTGCGCT                                       0.0\n",
       "TTTGTTGTCTTTACAC                                       0.0\n",
       "\n",
       "[103532 rows x 1 columns]"
      ]
     },
     "execution_count": 112,
     "metadata": {},
     "output_type": "execute_result"
    }
   ],
   "source": [
    "bc_df.loc[:,bc_df.columns=='Index3_Bit1_F_007-Bit2_F_331-Bit3_F_247t']"
   ]
  },
  {
   "cell_type": "code",
   "execution_count": 114,
   "id": "4978ce81-13fe-484e-8f6b-7fd7ae3eb8f4",
   "metadata": {},
   "outputs": [
    {
     "data": {
      "text/plain": [
       "array([226.])"
      ]
     },
     "execution_count": 114,
     "metadata": {},
     "output_type": "execute_result"
    }
   ],
   "source": [
    "sum(np.array(bc_df.loc[:,bc_df.columns=='Index3_Bit1_F_007-Bit2_F_331-Bit3_F_247t']))"
   ]
  },
  {
   "cell_type": "code",
   "execution_count": 94,
   "id": "bcc525e0-4589-4437-b7c2-bd2b3cb44b66",
   "metadata": {},
   "outputs": [
    {
     "data": {
      "text/html": [
       "<div>\n",
       "<style scoped>\n",
       "    .dataframe tbody tr th:only-of-type {\n",
       "        vertical-align: middle;\n",
       "    }\n",
       "\n",
       "    .dataframe tbody tr th {\n",
       "        vertical-align: top;\n",
       "    }\n",
       "\n",
       "    .dataframe thead th {\n",
       "        text-align: right;\n",
       "    }\n",
       "</style>\n",
       "<table border=\"1\" class=\"dataframe\">\n",
       "  <thead>\n",
       "    <tr style=\"text-align: right;\">\n",
       "      <th></th>\n",
       "      <th>CBC</th>\n",
       "      <th>barcode</th>\n",
       "      <th>UMI_Count</th>\n",
       "    </tr>\n",
       "  </thead>\n",
       "  <tbody>\n",
       "    <tr>\n",
       "      <th>4</th>\n",
       "      <td>AAACCCAAGGACAACC</td>\n",
       "      <td>Index3_Bit1_F_007-Bit2_F_331-Bit3_F_247t</td>\n",
       "      <td>1</td>\n",
       "    </tr>\n",
       "    <tr>\n",
       "      <th>14062</th>\n",
       "      <td>AACGAAATCAAGCCAT</td>\n",
       "      <td>Index3_Bit1_F_007-Bit2_F_331-Bit3_F_247t</td>\n",
       "      <td>3</td>\n",
       "    </tr>\n",
       "    <tr>\n",
       "      <th>24057</th>\n",
       "      <td>AAGGAATAGGTTCAGG</td>\n",
       "      <td>Index3_Bit1_F_007-Bit2_F_331-Bit3_F_247t</td>\n",
       "      <td>1</td>\n",
       "    </tr>\n",
       "    <tr>\n",
       "      <th>27310</th>\n",
       "      <td>AATCACGCAAACAGGC</td>\n",
       "      <td>Index3_Bit1_F_007-Bit2_F_331-Bit3_F_247t</td>\n",
       "      <td>1</td>\n",
       "    </tr>\n",
       "    <tr>\n",
       "      <th>28363</th>\n",
       "      <td>AATCGACGTAGCGTCC</td>\n",
       "      <td>Index3_Bit1_F_007-Bit2_F_331-Bit3_F_247t</td>\n",
       "      <td>2</td>\n",
       "    </tr>\n",
       "    <tr>\n",
       "      <th>...</th>\n",
       "      <td>...</td>\n",
       "      <td>...</td>\n",
       "      <td>...</td>\n",
       "    </tr>\n",
       "    <tr>\n",
       "      <th>597740</th>\n",
       "      <td>TTTCATGAGATGTTGA</td>\n",
       "      <td>Index3_Bit1_F_007-Bit2_F_331-Bit3_F_247t</td>\n",
       "      <td>1</td>\n",
       "    </tr>\n",
       "    <tr>\n",
       "      <th>599253</th>\n",
       "      <td>TTTGACTAGTCTGGTT</td>\n",
       "      <td>Index3_Bit1_F_007-Bit2_F_331-Bit3_F_247t</td>\n",
       "      <td>1</td>\n",
       "    </tr>\n",
       "    <tr>\n",
       "      <th>599972</th>\n",
       "      <td>TTTGACTGTACGTACT</td>\n",
       "      <td>Index3_Bit1_F_007-Bit2_F_331-Bit3_F_247t</td>\n",
       "      <td>1</td>\n",
       "    </tr>\n",
       "    <tr>\n",
       "      <th>601776</th>\n",
       "      <td>TTTGGTTGTCGTTATG</td>\n",
       "      <td>Index3_Bit1_F_007-Bit2_F_331-Bit3_F_247t</td>\n",
       "      <td>1</td>\n",
       "    </tr>\n",
       "    <tr>\n",
       "      <th>601822</th>\n",
       "      <td>TTTGGTTTCGAACGCC</td>\n",
       "      <td>Index3_Bit1_F_007-Bit2_F_331-Bit3_F_247t</td>\n",
       "      <td>1</td>\n",
       "    </tr>\n",
       "  </tbody>\n",
       "</table>\n",
       "<p>209 rows × 3 columns</p>\n",
       "</div>"
      ],
      "text/plain": [
       "                     CBC                                   barcode  UMI_Count\n",
       "4       AAACCCAAGGACAACC  Index3_Bit1_F_007-Bit2_F_331-Bit3_F_247t          1\n",
       "14062   AACGAAATCAAGCCAT  Index3_Bit1_F_007-Bit2_F_331-Bit3_F_247t          3\n",
       "24057   AAGGAATAGGTTCAGG  Index3_Bit1_F_007-Bit2_F_331-Bit3_F_247t          1\n",
       "27310   AATCACGCAAACAGGC  Index3_Bit1_F_007-Bit2_F_331-Bit3_F_247t          1\n",
       "28363   AATCGACGTAGCGTCC  Index3_Bit1_F_007-Bit2_F_331-Bit3_F_247t          2\n",
       "...                  ...                                       ...        ...\n",
       "597740  TTTCATGAGATGTTGA  Index3_Bit1_F_007-Bit2_F_331-Bit3_F_247t          1\n",
       "599253  TTTGACTAGTCTGGTT  Index3_Bit1_F_007-Bit2_F_331-Bit3_F_247t          1\n",
       "599972  TTTGACTGTACGTACT  Index3_Bit1_F_007-Bit2_F_331-Bit3_F_247t          1\n",
       "601776  TTTGGTTGTCGTTATG  Index3_Bit1_F_007-Bit2_F_331-Bit3_F_247t          1\n",
       "601822  TTTGGTTTCGAACGCC  Index3_Bit1_F_007-Bit2_F_331-Bit3_F_247t          1\n",
       "\n",
       "[209 rows x 3 columns]"
      ]
     },
     "execution_count": 94,
     "metadata": {},
     "output_type": "execute_result"
    }
   ],
   "source": [
    "test_bcs.loc[test_bcs['barcode']=='Index3_Bit1_F_007-Bit2_F_331-Bit3_F_247t','UMI_Count']"
   ]
  },
  {
   "cell_type": "code",
   "execution_count": 115,
   "id": "8fdaa2af-e397-4014-ac42-307e39fed484",
   "metadata": {},
   "outputs": [
    {
     "data": {
      "text/plain": [
       "226"
      ]
     },
     "execution_count": 115,
     "metadata": {},
     "output_type": "execute_result"
    }
   ],
   "source": [
    "sum(test_bcs.loc[test_bcs['barcode']=='Index3_Bit1_F_007-Bit2_F_331-Bit3_F_247t','UMI_Count'])"
   ]
  },
  {
   "cell_type": "code",
   "execution_count": 47,
   "id": "c7f8c730-4ba9-47fc-8cb2-647367e8c831",
   "metadata": {},
   "outputs": [
    {
     "data": {
      "text/html": [
       "<div>\n",
       "<style scoped>\n",
       "    .dataframe tbody tr th:only-of-type {\n",
       "        vertical-align: middle;\n",
       "    }\n",
       "\n",
       "    .dataframe tbody tr th {\n",
       "        vertical-align: top;\n",
       "    }\n",
       "\n",
       "    .dataframe thead th {\n",
       "        text-align: right;\n",
       "    }\n",
       "</style>\n",
       "<table border=\"1\" class=\"dataframe\">\n",
       "  <thead>\n",
       "    <tr style=\"text-align: right;\">\n",
       "      <th></th>\n",
       "      <th>Index3_Bit1_F_243-Bit2_F_336-Empty_Bit3</th>\n",
       "      <th>Index3_Bit1_F_365-Bit2_F_410-Bit3_F_328</th>\n",
       "      <th>Index3_Bit1_F_153-Bit2_F_331-Bit3_F_457</th>\n",
       "      <th>Index3_Bit1_F_032-Bit2_F_324-Bit3_F_256</th>\n",
       "      <th>Index3_Bit1_F_156-Bit2_F_079-Bit3_F_220</th>\n",
       "      <th>Index3_Bit1_F_328-Bit2_F_499-Bit3_F_091</th>\n",
       "      <th>Index3_Bit1_F_009-Bit2_F_281-Bit3_F_407</th>\n",
       "      <th>Index3_Bit1_F_032-Bit2_F_324-Bit3_F_433</th>\n",
       "      <th>Index3_Bit1_F_035-Bit2_F_421-Bit3_F_102</th>\n",
       "      <th>Index3_Bit1_F_069-Bit2_F_097-Bit3_F_176</th>\n",
       "      <th>...</th>\n",
       "      <th>Index3_Bit1_F_285-Bit2_F_174-Bit3_F_128</th>\n",
       "      <th>Index3_Bit1_F_497-Bit2_F_094-Bit3_F_113</th>\n",
       "      <th>Index3_Bit1_F_027-Bit2_F_495-Bit3_F_272</th>\n",
       "      <th>Index3_Bit1_F_105-Bit2_F_130-Bit3_F_210</th>\n",
       "      <th>Index3_Bit1_F_486-Bit2_F_257-Bit3_F_080</th>\n",
       "      <th>Index3_Bit1_F_103-Bit2_F_141-Bit3_F_300</th>\n",
       "      <th>Index3_Bit1_F_161-Bit2_F_257-Bit3_F_355</th>\n",
       "      <th>Index3_Bit1_F_122-Bit2_F_001-Bit3_F_189</th>\n",
       "      <th>Index3_Bit1_F_493-Bit2_F_075-Bit3_F_202</th>\n",
       "      <th>Index3_Bit1_F_381-Bit2_F_308-Bit3_F_171</th>\n",
       "    </tr>\n",
       "  </thead>\n",
       "  <tbody>\n",
       "    <tr>\n",
       "      <th>AAACCCAAGAAATGGG</th>\n",
       "      <td>1.0</td>\n",
       "      <td>1.0</td>\n",
       "      <td>0.0</td>\n",
       "      <td>0.0</td>\n",
       "      <td>0.0</td>\n",
       "      <td>0.0</td>\n",
       "      <td>0.0</td>\n",
       "      <td>0.0</td>\n",
       "      <td>0.0</td>\n",
       "      <td>0.0</td>\n",
       "      <td>...</td>\n",
       "      <td>0.0</td>\n",
       "      <td>0.0</td>\n",
       "      <td>0.0</td>\n",
       "      <td>0.0</td>\n",
       "      <td>0.0</td>\n",
       "      <td>0.0</td>\n",
       "      <td>0.0</td>\n",
       "      <td>0.0</td>\n",
       "      <td>0.0</td>\n",
       "      <td>0.0</td>\n",
       "    </tr>\n",
       "    <tr>\n",
       "      <th>AAACCCAAGACATATG</th>\n",
       "      <td>0.0</td>\n",
       "      <td>0.0</td>\n",
       "      <td>1.0</td>\n",
       "      <td>0.0</td>\n",
       "      <td>0.0</td>\n",
       "      <td>0.0</td>\n",
       "      <td>0.0</td>\n",
       "      <td>0.0</td>\n",
       "      <td>0.0</td>\n",
       "      <td>0.0</td>\n",
       "      <td>...</td>\n",
       "      <td>0.0</td>\n",
       "      <td>0.0</td>\n",
       "      <td>0.0</td>\n",
       "      <td>0.0</td>\n",
       "      <td>0.0</td>\n",
       "      <td>0.0</td>\n",
       "      <td>0.0</td>\n",
       "      <td>0.0</td>\n",
       "      <td>0.0</td>\n",
       "      <td>0.0</td>\n",
       "    </tr>\n",
       "    <tr>\n",
       "      <th>AAACCCAAGACCTTTG</th>\n",
       "      <td>0.0</td>\n",
       "      <td>0.0</td>\n",
       "      <td>0.0</td>\n",
       "      <td>1.0</td>\n",
       "      <td>0.0</td>\n",
       "      <td>0.0</td>\n",
       "      <td>0.0</td>\n",
       "      <td>0.0</td>\n",
       "      <td>0.0</td>\n",
       "      <td>0.0</td>\n",
       "      <td>...</td>\n",
       "      <td>0.0</td>\n",
       "      <td>0.0</td>\n",
       "      <td>0.0</td>\n",
       "      <td>0.0</td>\n",
       "      <td>0.0</td>\n",
       "      <td>0.0</td>\n",
       "      <td>0.0</td>\n",
       "      <td>0.0</td>\n",
       "      <td>0.0</td>\n",
       "      <td>0.0</td>\n",
       "    </tr>\n",
       "    <tr>\n",
       "      <th>AAACCCAAGATCGCCC</th>\n",
       "      <td>0.0</td>\n",
       "      <td>0.0</td>\n",
       "      <td>0.0</td>\n",
       "      <td>0.0</td>\n",
       "      <td>1.0</td>\n",
       "      <td>0.0</td>\n",
       "      <td>0.0</td>\n",
       "      <td>0.0</td>\n",
       "      <td>0.0</td>\n",
       "      <td>0.0</td>\n",
       "      <td>...</td>\n",
       "      <td>0.0</td>\n",
       "      <td>0.0</td>\n",
       "      <td>0.0</td>\n",
       "      <td>0.0</td>\n",
       "      <td>0.0</td>\n",
       "      <td>0.0</td>\n",
       "      <td>0.0</td>\n",
       "      <td>0.0</td>\n",
       "      <td>0.0</td>\n",
       "      <td>0.0</td>\n",
       "    </tr>\n",
       "    <tr>\n",
       "      <th>AAACCCAAGATTGTGA</th>\n",
       "      <td>0.0</td>\n",
       "      <td>0.0</td>\n",
       "      <td>0.0</td>\n",
       "      <td>0.0</td>\n",
       "      <td>0.0</td>\n",
       "      <td>1.0</td>\n",
       "      <td>0.0</td>\n",
       "      <td>0.0</td>\n",
       "      <td>0.0</td>\n",
       "      <td>0.0</td>\n",
       "      <td>...</td>\n",
       "      <td>0.0</td>\n",
       "      <td>0.0</td>\n",
       "      <td>0.0</td>\n",
       "      <td>0.0</td>\n",
       "      <td>0.0</td>\n",
       "      <td>0.0</td>\n",
       "      <td>0.0</td>\n",
       "      <td>0.0</td>\n",
       "      <td>0.0</td>\n",
       "      <td>0.0</td>\n",
       "    </tr>\n",
       "    <tr>\n",
       "      <th>...</th>\n",
       "      <td>...</td>\n",
       "      <td>...</td>\n",
       "      <td>...</td>\n",
       "      <td>...</td>\n",
       "      <td>...</td>\n",
       "      <td>...</td>\n",
       "      <td>...</td>\n",
       "      <td>...</td>\n",
       "      <td>...</td>\n",
       "      <td>...</td>\n",
       "      <td>...</td>\n",
       "      <td>...</td>\n",
       "      <td>...</td>\n",
       "      <td>...</td>\n",
       "      <td>...</td>\n",
       "      <td>...</td>\n",
       "      <td>...</td>\n",
       "      <td>...</td>\n",
       "      <td>...</td>\n",
       "      <td>...</td>\n",
       "      <td>...</td>\n",
       "    </tr>\n",
       "    <tr>\n",
       "      <th>TTTGTTGTCCGTGTGG</th>\n",
       "      <td>0.0</td>\n",
       "      <td>0.0</td>\n",
       "      <td>0.0</td>\n",
       "      <td>0.0</td>\n",
       "      <td>0.0</td>\n",
       "      <td>0.0</td>\n",
       "      <td>0.0</td>\n",
       "      <td>0.0</td>\n",
       "      <td>0.0</td>\n",
       "      <td>0.0</td>\n",
       "      <td>...</td>\n",
       "      <td>0.0</td>\n",
       "      <td>0.0</td>\n",
       "      <td>0.0</td>\n",
       "      <td>0.0</td>\n",
       "      <td>0.0</td>\n",
       "      <td>0.0</td>\n",
       "      <td>0.0</td>\n",
       "      <td>0.0</td>\n",
       "      <td>0.0</td>\n",
       "      <td>0.0</td>\n",
       "    </tr>\n",
       "    <tr>\n",
       "      <th>TTTGTTGTCGACCTAA</th>\n",
       "      <td>0.0</td>\n",
       "      <td>0.0</td>\n",
       "      <td>0.0</td>\n",
       "      <td>0.0</td>\n",
       "      <td>0.0</td>\n",
       "      <td>0.0</td>\n",
       "      <td>0.0</td>\n",
       "      <td>0.0</td>\n",
       "      <td>0.0</td>\n",
       "      <td>0.0</td>\n",
       "      <td>...</td>\n",
       "      <td>0.0</td>\n",
       "      <td>0.0</td>\n",
       "      <td>0.0</td>\n",
       "      <td>0.0</td>\n",
       "      <td>0.0</td>\n",
       "      <td>0.0</td>\n",
       "      <td>0.0</td>\n",
       "      <td>0.0</td>\n",
       "      <td>0.0</td>\n",
       "      <td>0.0</td>\n",
       "    </tr>\n",
       "    <tr>\n",
       "      <th>TTTGTTGTCGCATTAG</th>\n",
       "      <td>0.0</td>\n",
       "      <td>0.0</td>\n",
       "      <td>0.0</td>\n",
       "      <td>0.0</td>\n",
       "      <td>0.0</td>\n",
       "      <td>0.0</td>\n",
       "      <td>0.0</td>\n",
       "      <td>0.0</td>\n",
       "      <td>0.0</td>\n",
       "      <td>0.0</td>\n",
       "      <td>...</td>\n",
       "      <td>0.0</td>\n",
       "      <td>0.0</td>\n",
       "      <td>0.0</td>\n",
       "      <td>0.0</td>\n",
       "      <td>0.0</td>\n",
       "      <td>0.0</td>\n",
       "      <td>0.0</td>\n",
       "      <td>0.0</td>\n",
       "      <td>0.0</td>\n",
       "      <td>0.0</td>\n",
       "    </tr>\n",
       "    <tr>\n",
       "      <th>TTTGTTGTCTACGCAA</th>\n",
       "      <td>0.0</td>\n",
       "      <td>0.0</td>\n",
       "      <td>0.0</td>\n",
       "      <td>0.0</td>\n",
       "      <td>0.0</td>\n",
       "      <td>0.0</td>\n",
       "      <td>0.0</td>\n",
       "      <td>0.0</td>\n",
       "      <td>0.0</td>\n",
       "      <td>0.0</td>\n",
       "      <td>...</td>\n",
       "      <td>0.0</td>\n",
       "      <td>0.0</td>\n",
       "      <td>0.0</td>\n",
       "      <td>0.0</td>\n",
       "      <td>0.0</td>\n",
       "      <td>0.0</td>\n",
       "      <td>0.0</td>\n",
       "      <td>0.0</td>\n",
       "      <td>0.0</td>\n",
       "      <td>0.0</td>\n",
       "    </tr>\n",
       "    <tr>\n",
       "      <th>TTTGTTGTCTCAGGCG</th>\n",
       "      <td>0.0</td>\n",
       "      <td>0.0</td>\n",
       "      <td>0.0</td>\n",
       "      <td>0.0</td>\n",
       "      <td>0.0</td>\n",
       "      <td>0.0</td>\n",
       "      <td>0.0</td>\n",
       "      <td>0.0</td>\n",
       "      <td>0.0</td>\n",
       "      <td>0.0</td>\n",
       "      <td>...</td>\n",
       "      <td>0.0</td>\n",
       "      <td>0.0</td>\n",
       "      <td>0.0</td>\n",
       "      <td>0.0</td>\n",
       "      <td>0.0</td>\n",
       "      <td>0.0</td>\n",
       "      <td>0.0</td>\n",
       "      <td>0.0</td>\n",
       "      <td>0.0</td>\n",
       "      <td>0.0</td>\n",
       "    </tr>\n",
       "  </tbody>\n",
       "</table>\n",
       "<p>59534 rows × 7735 columns</p>\n",
       "</div>"
      ],
      "text/plain": [
       "                  Index3_Bit1_F_243-Bit2_F_336-Empty_Bit3  \\\n",
       "AAACCCAAGAAATGGG                                      1.0   \n",
       "AAACCCAAGACATATG                                      0.0   \n",
       "AAACCCAAGACCTTTG                                      0.0   \n",
       "AAACCCAAGATCGCCC                                      0.0   \n",
       "AAACCCAAGATTGTGA                                      0.0   \n",
       "...                                                   ...   \n",
       "TTTGTTGTCCGTGTGG                                      0.0   \n",
       "TTTGTTGTCGACCTAA                                      0.0   \n",
       "TTTGTTGTCGCATTAG                                      0.0   \n",
       "TTTGTTGTCTACGCAA                                      0.0   \n",
       "TTTGTTGTCTCAGGCG                                      0.0   \n",
       "\n",
       "                  Index3_Bit1_F_365-Bit2_F_410-Bit3_F_328  \\\n",
       "AAACCCAAGAAATGGG                                      1.0   \n",
       "AAACCCAAGACATATG                                      0.0   \n",
       "AAACCCAAGACCTTTG                                      0.0   \n",
       "AAACCCAAGATCGCCC                                      0.0   \n",
       "AAACCCAAGATTGTGA                                      0.0   \n",
       "...                                                   ...   \n",
       "TTTGTTGTCCGTGTGG                                      0.0   \n",
       "TTTGTTGTCGACCTAA                                      0.0   \n",
       "TTTGTTGTCGCATTAG                                      0.0   \n",
       "TTTGTTGTCTACGCAA                                      0.0   \n",
       "TTTGTTGTCTCAGGCG                                      0.0   \n",
       "\n",
       "                  Index3_Bit1_F_153-Bit2_F_331-Bit3_F_457  \\\n",
       "AAACCCAAGAAATGGG                                      0.0   \n",
       "AAACCCAAGACATATG                                      1.0   \n",
       "AAACCCAAGACCTTTG                                      0.0   \n",
       "AAACCCAAGATCGCCC                                      0.0   \n",
       "AAACCCAAGATTGTGA                                      0.0   \n",
       "...                                                   ...   \n",
       "TTTGTTGTCCGTGTGG                                      0.0   \n",
       "TTTGTTGTCGACCTAA                                      0.0   \n",
       "TTTGTTGTCGCATTAG                                      0.0   \n",
       "TTTGTTGTCTACGCAA                                      0.0   \n",
       "TTTGTTGTCTCAGGCG                                      0.0   \n",
       "\n",
       "                  Index3_Bit1_F_032-Bit2_F_324-Bit3_F_256  \\\n",
       "AAACCCAAGAAATGGG                                      0.0   \n",
       "AAACCCAAGACATATG                                      0.0   \n",
       "AAACCCAAGACCTTTG                                      1.0   \n",
       "AAACCCAAGATCGCCC                                      0.0   \n",
       "AAACCCAAGATTGTGA                                      0.0   \n",
       "...                                                   ...   \n",
       "TTTGTTGTCCGTGTGG                                      0.0   \n",
       "TTTGTTGTCGACCTAA                                      0.0   \n",
       "TTTGTTGTCGCATTAG                                      0.0   \n",
       "TTTGTTGTCTACGCAA                                      0.0   \n",
       "TTTGTTGTCTCAGGCG                                      0.0   \n",
       "\n",
       "                  Index3_Bit1_F_156-Bit2_F_079-Bit3_F_220  \\\n",
       "AAACCCAAGAAATGGG                                      0.0   \n",
       "AAACCCAAGACATATG                                      0.0   \n",
       "AAACCCAAGACCTTTG                                      0.0   \n",
       "AAACCCAAGATCGCCC                                      1.0   \n",
       "AAACCCAAGATTGTGA                                      0.0   \n",
       "...                                                   ...   \n",
       "TTTGTTGTCCGTGTGG                                      0.0   \n",
       "TTTGTTGTCGACCTAA                                      0.0   \n",
       "TTTGTTGTCGCATTAG                                      0.0   \n",
       "TTTGTTGTCTACGCAA                                      0.0   \n",
       "TTTGTTGTCTCAGGCG                                      0.0   \n",
       "\n",
       "                  Index3_Bit1_F_328-Bit2_F_499-Bit3_F_091  \\\n",
       "AAACCCAAGAAATGGG                                      0.0   \n",
       "AAACCCAAGACATATG                                      0.0   \n",
       "AAACCCAAGACCTTTG                                      0.0   \n",
       "AAACCCAAGATCGCCC                                      0.0   \n",
       "AAACCCAAGATTGTGA                                      1.0   \n",
       "...                                                   ...   \n",
       "TTTGTTGTCCGTGTGG                                      0.0   \n",
       "TTTGTTGTCGACCTAA                                      0.0   \n",
       "TTTGTTGTCGCATTAG                                      0.0   \n",
       "TTTGTTGTCTACGCAA                                      0.0   \n",
       "TTTGTTGTCTCAGGCG                                      0.0   \n",
       "\n",
       "                  Index3_Bit1_F_009-Bit2_F_281-Bit3_F_407  \\\n",
       "AAACCCAAGAAATGGG                                      0.0   \n",
       "AAACCCAAGACATATG                                      0.0   \n",
       "AAACCCAAGACCTTTG                                      0.0   \n",
       "AAACCCAAGATCGCCC                                      0.0   \n",
       "AAACCCAAGATTGTGA                                      0.0   \n",
       "...                                                   ...   \n",
       "TTTGTTGTCCGTGTGG                                      0.0   \n",
       "TTTGTTGTCGACCTAA                                      0.0   \n",
       "TTTGTTGTCGCATTAG                                      0.0   \n",
       "TTTGTTGTCTACGCAA                                      0.0   \n",
       "TTTGTTGTCTCAGGCG                                      0.0   \n",
       "\n",
       "                  Index3_Bit1_F_032-Bit2_F_324-Bit3_F_433  \\\n",
       "AAACCCAAGAAATGGG                                      0.0   \n",
       "AAACCCAAGACATATG                                      0.0   \n",
       "AAACCCAAGACCTTTG                                      0.0   \n",
       "AAACCCAAGATCGCCC                                      0.0   \n",
       "AAACCCAAGATTGTGA                                      0.0   \n",
       "...                                                   ...   \n",
       "TTTGTTGTCCGTGTGG                                      0.0   \n",
       "TTTGTTGTCGACCTAA                                      0.0   \n",
       "TTTGTTGTCGCATTAG                                      0.0   \n",
       "TTTGTTGTCTACGCAA                                      0.0   \n",
       "TTTGTTGTCTCAGGCG                                      0.0   \n",
       "\n",
       "                  Index3_Bit1_F_035-Bit2_F_421-Bit3_F_102  \\\n",
       "AAACCCAAGAAATGGG                                      0.0   \n",
       "AAACCCAAGACATATG                                      0.0   \n",
       "AAACCCAAGACCTTTG                                      0.0   \n",
       "AAACCCAAGATCGCCC                                      0.0   \n",
       "AAACCCAAGATTGTGA                                      0.0   \n",
       "...                                                   ...   \n",
       "TTTGTTGTCCGTGTGG                                      0.0   \n",
       "TTTGTTGTCGACCTAA                                      0.0   \n",
       "TTTGTTGTCGCATTAG                                      0.0   \n",
       "TTTGTTGTCTACGCAA                                      0.0   \n",
       "TTTGTTGTCTCAGGCG                                      0.0   \n",
       "\n",
       "                  Index3_Bit1_F_069-Bit2_F_097-Bit3_F_176  ...  \\\n",
       "AAACCCAAGAAATGGG                                      0.0  ...   \n",
       "AAACCCAAGACATATG                                      0.0  ...   \n",
       "AAACCCAAGACCTTTG                                      0.0  ...   \n",
       "AAACCCAAGATCGCCC                                      0.0  ...   \n",
       "AAACCCAAGATTGTGA                                      0.0  ...   \n",
       "...                                                   ...  ...   \n",
       "TTTGTTGTCCGTGTGG                                      0.0  ...   \n",
       "TTTGTTGTCGACCTAA                                      0.0  ...   \n",
       "TTTGTTGTCGCATTAG                                      0.0  ...   \n",
       "TTTGTTGTCTACGCAA                                      0.0  ...   \n",
       "TTTGTTGTCTCAGGCG                                      0.0  ...   \n",
       "\n",
       "                  Index3_Bit1_F_285-Bit2_F_174-Bit3_F_128  \\\n",
       "AAACCCAAGAAATGGG                                      0.0   \n",
       "AAACCCAAGACATATG                                      0.0   \n",
       "AAACCCAAGACCTTTG                                      0.0   \n",
       "AAACCCAAGATCGCCC                                      0.0   \n",
       "AAACCCAAGATTGTGA                                      0.0   \n",
       "...                                                   ...   \n",
       "TTTGTTGTCCGTGTGG                                      0.0   \n",
       "TTTGTTGTCGACCTAA                                      0.0   \n",
       "TTTGTTGTCGCATTAG                                      0.0   \n",
       "TTTGTTGTCTACGCAA                                      0.0   \n",
       "TTTGTTGTCTCAGGCG                                      0.0   \n",
       "\n",
       "                  Index3_Bit1_F_497-Bit2_F_094-Bit3_F_113  \\\n",
       "AAACCCAAGAAATGGG                                      0.0   \n",
       "AAACCCAAGACATATG                                      0.0   \n",
       "AAACCCAAGACCTTTG                                      0.0   \n",
       "AAACCCAAGATCGCCC                                      0.0   \n",
       "AAACCCAAGATTGTGA                                      0.0   \n",
       "...                                                   ...   \n",
       "TTTGTTGTCCGTGTGG                                      0.0   \n",
       "TTTGTTGTCGACCTAA                                      0.0   \n",
       "TTTGTTGTCGCATTAG                                      0.0   \n",
       "TTTGTTGTCTACGCAA                                      0.0   \n",
       "TTTGTTGTCTCAGGCG                                      0.0   \n",
       "\n",
       "                  Index3_Bit1_F_027-Bit2_F_495-Bit3_F_272  \\\n",
       "AAACCCAAGAAATGGG                                      0.0   \n",
       "AAACCCAAGACATATG                                      0.0   \n",
       "AAACCCAAGACCTTTG                                      0.0   \n",
       "AAACCCAAGATCGCCC                                      0.0   \n",
       "AAACCCAAGATTGTGA                                      0.0   \n",
       "...                                                   ...   \n",
       "TTTGTTGTCCGTGTGG                                      0.0   \n",
       "TTTGTTGTCGACCTAA                                      0.0   \n",
       "TTTGTTGTCGCATTAG                                      0.0   \n",
       "TTTGTTGTCTACGCAA                                      0.0   \n",
       "TTTGTTGTCTCAGGCG                                      0.0   \n",
       "\n",
       "                  Index3_Bit1_F_105-Bit2_F_130-Bit3_F_210  \\\n",
       "AAACCCAAGAAATGGG                                      0.0   \n",
       "AAACCCAAGACATATG                                      0.0   \n",
       "AAACCCAAGACCTTTG                                      0.0   \n",
       "AAACCCAAGATCGCCC                                      0.0   \n",
       "AAACCCAAGATTGTGA                                      0.0   \n",
       "...                                                   ...   \n",
       "TTTGTTGTCCGTGTGG                                      0.0   \n",
       "TTTGTTGTCGACCTAA                                      0.0   \n",
       "TTTGTTGTCGCATTAG                                      0.0   \n",
       "TTTGTTGTCTACGCAA                                      0.0   \n",
       "TTTGTTGTCTCAGGCG                                      0.0   \n",
       "\n",
       "                  Index3_Bit1_F_486-Bit2_F_257-Bit3_F_080  \\\n",
       "AAACCCAAGAAATGGG                                      0.0   \n",
       "AAACCCAAGACATATG                                      0.0   \n",
       "AAACCCAAGACCTTTG                                      0.0   \n",
       "AAACCCAAGATCGCCC                                      0.0   \n",
       "AAACCCAAGATTGTGA                                      0.0   \n",
       "...                                                   ...   \n",
       "TTTGTTGTCCGTGTGG                                      0.0   \n",
       "TTTGTTGTCGACCTAA                                      0.0   \n",
       "TTTGTTGTCGCATTAG                                      0.0   \n",
       "TTTGTTGTCTACGCAA                                      0.0   \n",
       "TTTGTTGTCTCAGGCG                                      0.0   \n",
       "\n",
       "                  Index3_Bit1_F_103-Bit2_F_141-Bit3_F_300  \\\n",
       "AAACCCAAGAAATGGG                                      0.0   \n",
       "AAACCCAAGACATATG                                      0.0   \n",
       "AAACCCAAGACCTTTG                                      0.0   \n",
       "AAACCCAAGATCGCCC                                      0.0   \n",
       "AAACCCAAGATTGTGA                                      0.0   \n",
       "...                                                   ...   \n",
       "TTTGTTGTCCGTGTGG                                      0.0   \n",
       "TTTGTTGTCGACCTAA                                      0.0   \n",
       "TTTGTTGTCGCATTAG                                      0.0   \n",
       "TTTGTTGTCTACGCAA                                      0.0   \n",
       "TTTGTTGTCTCAGGCG                                      0.0   \n",
       "\n",
       "                  Index3_Bit1_F_161-Bit2_F_257-Bit3_F_355  \\\n",
       "AAACCCAAGAAATGGG                                      0.0   \n",
       "AAACCCAAGACATATG                                      0.0   \n",
       "AAACCCAAGACCTTTG                                      0.0   \n",
       "AAACCCAAGATCGCCC                                      0.0   \n",
       "AAACCCAAGATTGTGA                                      0.0   \n",
       "...                                                   ...   \n",
       "TTTGTTGTCCGTGTGG                                      0.0   \n",
       "TTTGTTGTCGACCTAA                                      0.0   \n",
       "TTTGTTGTCGCATTAG                                      0.0   \n",
       "TTTGTTGTCTACGCAA                                      0.0   \n",
       "TTTGTTGTCTCAGGCG                                      0.0   \n",
       "\n",
       "                  Index3_Bit1_F_122-Bit2_F_001-Bit3_F_189  \\\n",
       "AAACCCAAGAAATGGG                                      0.0   \n",
       "AAACCCAAGACATATG                                      0.0   \n",
       "AAACCCAAGACCTTTG                                      0.0   \n",
       "AAACCCAAGATCGCCC                                      0.0   \n",
       "AAACCCAAGATTGTGA                                      0.0   \n",
       "...                                                   ...   \n",
       "TTTGTTGTCCGTGTGG                                      0.0   \n",
       "TTTGTTGTCGACCTAA                                      0.0   \n",
       "TTTGTTGTCGCATTAG                                      0.0   \n",
       "TTTGTTGTCTACGCAA                                      0.0   \n",
       "TTTGTTGTCTCAGGCG                                      0.0   \n",
       "\n",
       "                  Index3_Bit1_F_493-Bit2_F_075-Bit3_F_202  \\\n",
       "AAACCCAAGAAATGGG                                      0.0   \n",
       "AAACCCAAGACATATG                                      0.0   \n",
       "AAACCCAAGACCTTTG                                      0.0   \n",
       "AAACCCAAGATCGCCC                                      0.0   \n",
       "AAACCCAAGATTGTGA                                      0.0   \n",
       "...                                                   ...   \n",
       "TTTGTTGTCCGTGTGG                                      0.0   \n",
       "TTTGTTGTCGACCTAA                                      0.0   \n",
       "TTTGTTGTCGCATTAG                                      0.0   \n",
       "TTTGTTGTCTACGCAA                                      0.0   \n",
       "TTTGTTGTCTCAGGCG                                      0.0   \n",
       "\n",
       "                  Index3_Bit1_F_381-Bit2_F_308-Bit3_F_171  \n",
       "AAACCCAAGAAATGGG                                      0.0  \n",
       "AAACCCAAGACATATG                                      0.0  \n",
       "AAACCCAAGACCTTTG                                      0.0  \n",
       "AAACCCAAGATCGCCC                                      0.0  \n",
       "AAACCCAAGATTGTGA                                      0.0  \n",
       "...                                                   ...  \n",
       "TTTGTTGTCCGTGTGG                                      0.0  \n",
       "TTTGTTGTCGACCTAA                                      0.0  \n",
       "TTTGTTGTCGCATTAG                                      0.0  \n",
       "TTTGTTGTCTACGCAA                                      0.0  \n",
       "TTTGTTGTCTCAGGCG                                      0.0  \n",
       "\n",
       "[59534 rows x 7735 columns]"
      ]
     },
     "execution_count": 47,
     "metadata": {},
     "output_type": "execute_result"
    }
   ],
   "source": [
    "gw22_1118_s1_sticr_raw"
   ]
  },
  {
   "cell_type": "code",
   "execution_count": null,
   "id": "4d2d9720-a995-4327-b73f-498fa861ba6b",
   "metadata": {},
   "outputs": [],
   "source": []
  },
  {
   "cell_type": "code",
   "execution_count": 193,
   "id": "fa8ecacb-e5dc-4249-9501-678e449151b3",
   "metadata": {},
   "outputs": [],
   "source": [
    "#new processing for 221118 S1:"
   ]
  },
  {
   "cell_type": "code",
   "execution_count": 118,
   "id": "88bdd361-f877-4ba3-bdde-83405dec5cca",
   "metadata": {},
   "outputs": [],
   "source": [
    "sticr_tsv = pd.read_csv('/media/chang/HDD-11/mgkeefe/230106_MKTN09_local_STICR/230103_STICR_BCs/STICR_outs_GW22_221118/GW22_221118_S1/Final_Barcodes.tsv',\n",
    "                           sep='\\t')\n",
    "sticr_tsv.index = list(sticr_tsv['CBC'])"
   ]
  },
  {
   "cell_type": "code",
   "execution_count": 121,
   "id": "59686f87-ee17-4691-8f49-457af33d90dd",
   "metadata": {},
   "outputs": [],
   "source": [
    "cbc_names = np.unique(test_bcs['CBC'])\n",
    "bc_names = np.unique(test_bcs['barcode'])\n",
    "bc_matrix = np.zeros((len(np.unique(cbc_names)), len(np.unique(bc_names))))\n",
    "bc_df = pd.DataFrame(bc_matrix, index=list(cbc_names), columns=list(bc_names))"
   ]
  },
  {
   "cell_type": "code",
   "execution_count": 130,
   "id": "ad11b044-db20-4c27-95b0-d81fbac91089",
   "metadata": {},
   "outputs": [
    {
     "name": "stderr",
     "output_type": "stream",
     "text": [
      "100%|██████████| 15572/15572 [18:52<00:00, 13.75it/s]\n"
     ]
    }
   ],
   "source": [
    "from tqdm import tqdm\n",
    "\n",
    "for sbc in tqdm(bc_names):\n",
    "    bc_df.loc[bc_df.index.isin(sticr_tsv['CBC'][sticr_tsv['barcode']==sbc]), bc_df.columns==sbc] = sticr_tsv.loc[sticr_tsv['barcode']==sbc,'UMI_Count']"
   ]
  },
  {
   "cell_type": "code",
   "execution_count": 137,
   "id": "a83f8840-76f1-4c74-a729-89a6925218c8",
   "metadata": {},
   "outputs": [],
   "source": [
    "from scipy.sparse import csr_matrix\n",
    "import h5sparse\n",
    "import h5py\n",
    "import anndata\n",
    "bc_df_sparse = csr_matrix(bc_df)"
   ]
  },
  {
   "cell_type": "code",
   "execution_count": 158,
   "id": "76cf06b1-f7e3-42e9-8ba6-b00c0053379b",
   "metadata": {},
   "outputs": [],
   "source": [
    "bc_df_reformat = pd.DataFrame.sparse.from_spmatrix(bc_df_sparse, index=bc_df.index, columns=bc_df.columns)\n",
    "bc_df_sc_input = anndata.AnnData(bc_df_reformat)\n",
    "bc_df_sc_input.write_h5ad('/media/chang/HDD-11/mgkeefe/230106_MKTN09_local_STICR/230103_STICR_BCs/STICR_outs_GW22_221118/GW22_221118_S1_bc_matrix_sparse.h5ad')\n",
    "sc_input.write_h5ad('/media/chang/HDD-11/mgkeefe/230106_MKTN09_local_STICR/230103_STICR_BCs/STICR_outs_GW22_221118/GW22_221118_S1_bc_matrix_sparse.h5ad')"
   ]
  },
  {
   "cell_type": "markdown",
   "id": "d79d3f31-a2d5-4ea7-bbc6-52fe3b190b9e",
   "metadata": {
    "jp-MarkdownHeadingCollapsed": true,
    "tags": []
   },
   "source": [
    "## new processing for 221118 S1:"
   ]
  },
  {
   "cell_type": "code",
   "execution_count": 176,
   "id": "6d4ca9c5-b2a8-4280-9f46-143e4fdc6c07",
   "metadata": {},
   "outputs": [],
   "source": [
    "rna = '/media/chang/HDD-11/mgkeefe/230106_MKTN09_local_STICR/cellranger_outs/GW22_221118_sub_FBS_S1_cellranger/raw_feature_bc_matrix.h5'\n",
    "sticr = '/media/chang/HDD-11/mgkeefe/230106_MKTN09_local_STICR/230103_STICR_BCs/STICR_outs_GW22_221118/GW22_221118_S1_bc_matrix_sparse.h5ad'\n",
    "out = '/media/chang/HDD-11/mgkeefe/230106_MKTN09_local_STICR/230103_STICR_BCs/STICR_outs_GW22_221118/GW22_221118_S1_scAR_bcs.csv'\n",
    "gw22_1118_s1 = sc.read_10x_h5(filename=rna, gex_only=True) # Change this if ur using a different scRNA-seq format\n",
    "gw22_1118_s1_sticr = sticr\n",
    "gw22_1118_s1_sticr_raw = gw22_1118_s1_sticr.to_df()\n",
    "gw22_1118_s1_sticr.var_names_make_unique()"
   ]
  },
  {
   "cell_type": "code",
   "execution_count": 177,
   "id": "327ddc70-ad56-495d-80a6-8a8a293b6bf7",
   "metadata": {},
   "outputs": [
    {
     "name": "stdout",
     "output_type": "stream",
     "text": [
      "['AAACCCAAGAAACCCA', 'AAACCCAAGAAACCCG', 'AAACCCAAGAAACTAC', 'AAACCCAAGAAACTCA', 'AAACCCAAGAAAGCGA', 'AAACCCAAGAAAGGAT', 'AAACCCAAGAAAGTCT', 'AAACCCAAGAAATGGG', 'AAACCCAAGAACCGCA', 'AAACCCAAGAAGATCT']\n",
      "['AAACCCAAGAAACCCA-1', 'AAACCCAAGAAACCCG-1', 'AAACCCAAGAAACTAC-1', 'AAACCCAAGAAACTCA-1', 'AAACCCAAGAAAGCGA-1', 'AAACCCAAGAAAGGAT-1', 'AAACCCAAGAAAGTCT-1', 'AAACCCAAGAAATGGG-1', 'AAACCCAAGAACCGCA-1', 'AAACCCAAGAAGATCT-1']\n"
     ]
    }
   ],
   "source": [
    "#have to fix the names in the RNA file to remove the -1 from the CBC\n",
    "fixed_rna_names = gw22_1118_s1.obs_names.tolist()\n",
    "for c in range(0, len(fixed_rna_names)):\n",
    "    fixed_rna_names[c] = fixed_rna_names[c][0:-2]\n",
    "print(fixed_rna_names[0:10])\n",
    "print(gw22_1118_s1.obs_names[0:10].tolist())"
   ]
  },
  {
   "cell_type": "code",
   "execution_count": 178,
   "id": "45753617-9a62-418e-989c-3dc9127d38f6",
   "metadata": {},
   "outputs": [
    {
     "name": "stdout",
     "output_type": "stream",
     "text": [
      "['AAACCCAAGAAACCCA', 'AAACCCAAGAAACCCG', 'AAACCCAAGAAACTAC', 'AAACCCAAGAAACTCA', 'AAACCCAAGAAAGCGA', 'AAACCCAAGAAAGGAT', 'AAACCCAAGAAAGTCT', 'AAACCCAAGAAATGGG', 'AAACCCAAGAACCGCA', 'AAACCCAAGAAGATCT']\n",
      "['AAACCCAAGACGCCAA', 'AAACCCAAGCCAAGGT', 'AAACCCAAGCGAGGAG', 'AAACCCAAGCTGTACT', 'AAACCCAAGGACAACC', 'AAACCCAAGGACAGTC', 'AAACCCAAGGATTACA', 'AAACCCAAGGGCAGTC', 'AAACCCAAGGTAGCCA', 'AAACCCAAGTAGAATC']\n"
     ]
    }
   ],
   "source": [
    "gw22_1118_s1.obs_names = fixed_rna_names\n",
    "print(gw22_1118_s1.obs_names[:10].tolist())\n",
    "print(gw22_1118_s1_sticr.obs_names[:10].tolist())"
   ]
  },
  {
   "cell_type": "code",
   "execution_count": 179,
   "id": "7a24a561-b291-46c8-900a-15c30b24567d",
   "metadata": {},
   "outputs": [],
   "source": [
    "rank_UMIs = pd.DataFrame(gw22_1118_s1[:,gw22_1118_s1.var['feature_types']=='Gene Expression'].X.sum(axis=1), index = gw22_1118_s1.obs_names, columns=['total_counts'])\n",
    "rank_UMIs['droplets'] = 'cell-free droplets'\n",
    "rank_UMIs['droplets'] = rank_UMIs['droplets'].mask(rank_UMIs['total_counts']>50, 'droplet II')\n",
    "rank_UMIs['droplets'] = rank_UMIs['droplets'].mask(rank_UMIs['total_counts']>100, 'droplet I')\n",
    "rank_UMIs['droplets'] = rank_UMIs['droplets'].mask(rank_UMIs['total_counts']>500, 'cells')\n",
    "rank_UMIs = rank_UMIs.sort_values(by='total_counts', ascending=False).reset_index().rename_axis(\"rank\").reset_index()\n",
    "rank_UMIs = rank_UMIs.loc[rank_UMIs['total_counts']>0]\n",
    "rank_UMIs = rank_UMIs.set_index('index').rename_axis('cells')"
   ]
  },
  {
   "cell_type": "code",
   "execution_count": 180,
   "id": "40bd1f9e-2c9f-40e2-9a2f-cde858c88863",
   "metadata": {},
   "outputs": [
    {
     "data": {
      "image/png": "[encoded data removed]",
      "text/plain": [
       "<Figure size 600x450 with 1 Axes>"
      ]
     },
     "metadata": {},
     "output_type": "display_data"
    }
   ],
   "source": [
    "plt.figure(figsize=(4, 3), dpi=150)\n",
    "\n",
    "ax = sns.lineplot(data = rank_UMIs,\n",
    "                  x='rank',\n",
    "                  y='total_counts',\n",
    "                  hue='droplets',\n",
    "                  hue_order=['cells', 'droplet I', 'droplet II', 'cell-free droplets'],\n",
    "                  palette=sns.color_palette()[-4:],\n",
    "                  markers=False,\n",
    "                  lw=2)\n",
    "\n",
    "ax.set_xscale('log')\n",
    "ax.set_yscale('log')\n",
    "ax.set_xlabel('sorted droplets');\n",
    "ax.legend(loc='lower left', ncol=1, title=None, frameon=False)\n",
    "ax.set_title(f'kneeplot: gw22_1118_s1');\n",
    "\n",
    "sns.set_palette(\"muted\")\n",
    "sns.set_style(\"ticks\")\n",
    "sns.despine(offset=10, trim=False);"
   ]
  },
  {
   "cell_type": "code",
   "execution_count": 181,
   "id": "6be61a7b-ba7d-4ce0-944e-e60d792317b9",
   "metadata": {},
   "outputs": [
    {
     "name": "stdout",
     "output_type": "stream",
     "text": [
      "..Running VAE using the following param set:\n",
      "......scAR mode:  CROPseq\n",
      "......count model:  binomial\n",
      "......num_input_feature:  15572\n",
      "......NN_layer1:  150\n",
      "......NN_layer2:  100\n",
      "......latent_space:  15\n",
      "......dropout_prob:  0\n",
      "......kld_weight:  1e-05\n",
      "......lr:  0.001\n",
      "......lr_step_size:  5\n",
      "......lr_gamma:  0.97\n",
      "===========================================\n",
      "  Training.....\n",
      "100%|██████████| 400/400 [18:19<00:00,  2.75s/it]\n",
      "===========================================\n",
      "  Inferring .....\n"
     ]
    }
   ],
   "source": [
    "####################\n",
    "gw22_1118_s1_filtered = gw22_1118_s1[gw22_1118_s1.obs_names.isin(rank_UMIs[rank_UMIs['droplets']=='cells'].index)] # equal to filtered population as cellranger output\n",
    "gw22_1118_s1_sticr_filtered = gw22_1118_s1_sticr[gw22_1118_s1_sticr.obs_names.isin(gw22_1118_s1_filtered.obs_names)].to_df() # pandas.DataFrame\n",
    "gw22_1118_s1_sticr_filtered_empty_droplets = gw22_1118_s1_sticr_raw.loc[gw22_1118_s1_sticr_raw.index.difference(gw22_1118_s1_sticr_filtered.index)]\n",
    "gw22_1118_s1_sticr_filtered_empty_profile = gw22_1118_s1_sticr_filtered_empty_droplets.sum()/gw22_1118_s1_sticr_filtered_empty_droplets.sum().sum()    # pandas.Series\n",
    "scarObj = scAR.model(raw_count=gw22_1118_s1_sticr_filtered,\n",
    "                     empty_profile=gw22_1118_s1_sticr_filtered_empty_profile.values, # In the case of default None, the empty_profile will be calculated by averaging pooled cells\n",
    "                     scRNAseq_tech='CROPseq')\n",
    "scarObj.train(epochs=400)\n",
    "scarObj.inference(feature_type='sgRNAs', cutoff=3)\n",
    "scarObj.feature_assignment.to_csv(out)\n",
    "####################"
   ]
  },
  {
   "cell_type": "code",
   "execution_count": 182,
   "id": "1ce0f570-1811-43e3-9ae2-52cb0d149f69",
   "metadata": {},
   "outputs": [],
   "source": [
    "scarObj.feature_assignment.to_csv(out)"
   ]
  },
  {
   "cell_type": "code",
   "execution_count": 183,
   "id": "6845b783-b6c4-4b32-97ee-7f6b25836e21",
   "metadata": {},
   "outputs": [],
   "source": [
    "bc_csv = pd.read_csv(out)"
   ]
  },
  {
   "cell_type": "code",
   "execution_count": 184,
   "id": "5c09e53c-cc7b-44e3-bf1a-504cd850bba8",
   "metadata": {},
   "outputs": [
    {
     "data": {
      "text/html": [
       "<div>\n",
       "<style scoped>\n",
       "    .dataframe tbody tr th:only-of-type {\n",
       "        vertical-align: middle;\n",
       "    }\n",
       "\n",
       "    .dataframe tbody tr th {\n",
       "        vertical-align: top;\n",
       "    }\n",
       "\n",
       "    .dataframe thead th {\n",
       "        text-align: right;\n",
       "    }\n",
       "</style>\n",
       "<table border=\"1\" class=\"dataframe\">\n",
       "  <thead>\n",
       "    <tr style=\"text-align: right;\">\n",
       "      <th></th>\n",
       "      <th>Unnamed: 0</th>\n",
       "      <th>sgRNAs</th>\n",
       "      <th>n_sgRNAs</th>\n",
       "    </tr>\n",
       "  </thead>\n",
       "  <tbody>\n",
       "    <tr>\n",
       "      <th>0</th>\n",
       "      <td>AAACCCAGTCGTTATG</td>\n",
       "      <td>Index3_Bit1_F_438-Bit2_F_156-Bit3_F_280t</td>\n",
       "      <td>1</td>\n",
       "    </tr>\n",
       "    <tr>\n",
       "      <th>1</th>\n",
       "      <td>AAACCCAGTTGCTCAA</td>\n",
       "      <td>Index3_Bit1_F_303-Bit2_F_025-Bit3_F_137t</td>\n",
       "      <td>1</td>\n",
       "    </tr>\n",
       "    <tr>\n",
       "      <th>2</th>\n",
       "      <td>AAACGAAAGTCGGCCT</td>\n",
       "      <td>IndexE_Bit1_F_306-Bit2_F_355-Bit3_F_452t</td>\n",
       "      <td>1</td>\n",
       "    </tr>\n",
       "    <tr>\n",
       "      <th>3</th>\n",
       "      <td>AAACGAACAGGAATAT</td>\n",
       "      <td>Index3_Bit1_F_263-Bit2_F_481-Bit3_F_394t</td>\n",
       "      <td>1</td>\n",
       "    </tr>\n",
       "    <tr>\n",
       "      <th>4</th>\n",
       "      <td>AAACGAAGTAGCGTAG</td>\n",
       "      <td>IndexE_Bit1_F_217-Bit2_F_369-Bit3_F_128t</td>\n",
       "      <td>1</td>\n",
       "    </tr>\n",
       "    <tr>\n",
       "      <th>...</th>\n",
       "      <td>...</td>\n",
       "      <td>...</td>\n",
       "      <td>...</td>\n",
       "    </tr>\n",
       "    <tr>\n",
       "      <th>3734</th>\n",
       "      <td>TTTGTTGCAATCCAGT</td>\n",
       "      <td>IndexE_Bit1_F_187-Bit2_F_280-Bit3_F_025t</td>\n",
       "      <td>1</td>\n",
       "    </tr>\n",
       "    <tr>\n",
       "      <th>3735</th>\n",
       "      <td>TTTGTTGCAGCGGTCT</td>\n",
       "      <td>Index3_Bit1_F_476-Bit2_F_122-Bit3_F_123t</td>\n",
       "      <td>1</td>\n",
       "    </tr>\n",
       "    <tr>\n",
       "      <th>3736</th>\n",
       "      <td>TTTGTTGGTACGAGTG</td>\n",
       "      <td>Index3_Bit1_F_329-Bit2_F_324-Bit3_F_444t</td>\n",
       "      <td>1</td>\n",
       "    </tr>\n",
       "    <tr>\n",
       "      <th>3737</th>\n",
       "      <td>TTTGTTGGTATACCCA</td>\n",
       "      <td>IndexE_Bit1_F_201-Bit2_F_047-Bit3_F_406t</td>\n",
       "      <td>1</td>\n",
       "    </tr>\n",
       "    <tr>\n",
       "      <th>3738</th>\n",
       "      <td>TTTGTTGTCTTCTTCC</td>\n",
       "      <td>Index3_Bit1_F_488-Bit2_F_084-Bit3_F_090t</td>\n",
       "      <td>1</td>\n",
       "    </tr>\n",
       "  </tbody>\n",
       "</table>\n",
       "<p>3739 rows × 3 columns</p>\n",
       "</div>"
      ],
      "text/plain": [
       "            Unnamed: 0                                    sgRNAs  n_sgRNAs\n",
       "0     AAACCCAGTCGTTATG  Index3_Bit1_F_438-Bit2_F_156-Bit3_F_280t         1\n",
       "1     AAACCCAGTTGCTCAA  Index3_Bit1_F_303-Bit2_F_025-Bit3_F_137t         1\n",
       "2     AAACGAAAGTCGGCCT  IndexE_Bit1_F_306-Bit2_F_355-Bit3_F_452t         1\n",
       "3     AAACGAACAGGAATAT  Index3_Bit1_F_263-Bit2_F_481-Bit3_F_394t         1\n",
       "4     AAACGAAGTAGCGTAG  IndexE_Bit1_F_217-Bit2_F_369-Bit3_F_128t         1\n",
       "...                ...                                       ...       ...\n",
       "3734  TTTGTTGCAATCCAGT  IndexE_Bit1_F_187-Bit2_F_280-Bit3_F_025t         1\n",
       "3735  TTTGTTGCAGCGGTCT  Index3_Bit1_F_476-Bit2_F_122-Bit3_F_123t         1\n",
       "3736  TTTGTTGGTACGAGTG  Index3_Bit1_F_329-Bit2_F_324-Bit3_F_444t         1\n",
       "3737  TTTGTTGGTATACCCA  IndexE_Bit1_F_201-Bit2_F_047-Bit3_F_406t         1\n",
       "3738  TTTGTTGTCTTCTTCC  Index3_Bit1_F_488-Bit2_F_084-Bit3_F_090t         1\n",
       "\n",
       "[3739 rows x 3 columns]"
      ]
     },
     "execution_count": 184,
     "metadata": {},
     "output_type": "execute_result"
    }
   ],
   "source": [
    "bc_csv"
   ]
  },
  {
   "cell_type": "code",
   "execution_count": 185,
   "id": "2aaa36de-d997-4ff5-8397-24636ba88a1e",
   "metadata": {},
   "outputs": [
    {
     "data": {
      "text/plain": [
       "2643"
      ]
     },
     "execution_count": 185,
     "metadata": {},
     "output_type": "execute_result"
    }
   ],
   "source": [
    "len(np.unique(bc_csv['sgRNAs']))"
   ]
  },
  {
   "cell_type": "code",
   "execution_count": 187,
   "id": "4703e032-0f31-4d37-81d3-254957be3ce8",
   "metadata": {},
   "outputs": [
    {
     "data": {
      "text/plain": [
       "1    3715\n",
       "2      20\n",
       "3       3\n",
       "4       1\n",
       "Name: n_sgRNAs, dtype: int64"
      ]
     },
     "execution_count": 187,
     "metadata": {},
     "output_type": "execute_result"
    }
   ],
   "source": [
    "bc_csv['n_sgRNAs'].value_counts()"
   ]
  },
  {
   "cell_type": "code",
   "execution_count": 190,
   "id": "b94fc83e-870d-4365-bdfe-5c06ff93f5de",
   "metadata": {},
   "outputs": [
    {
     "data": {
      "text/plain": [
       "1      553833\n",
       "2       33038\n",
       "3        7416\n",
       "4        2819\n",
       "5        1400\n",
       "        ...  \n",
       "158         1\n",
       "59          1\n",
       "75          1\n",
       "135         1\n",
       "210         1\n",
       "Name: UMI_Count, Length: 114, dtype: int64"
      ]
     },
     "execution_count": 190,
     "metadata": {},
     "output_type": "execute_result"
    }
   ],
   "source": [
    "sticr_tsv['UMI_Count'].value_counts()"
   ]
  },
  {
   "cell_type": "code",
   "execution_count": 297,
   "id": "54bf03de-cfdc-4949-a695-0c35ff7c7b6a",
   "metadata": {},
   "outputs": [],
   "source": [
    "bc_csv = pd.read_csv('/media/chang/HDD-11/mgkeefe/230106_MKTN09_local_STICR/230103_STICR_BCs/STICR_outs_GW22_221118/GW22_221118_S1_scAR_bcs.csv')"
   ]
  },
  {
   "cell_type": "code",
   "execution_count": 298,
   "id": "72ba0c51-31d0-4e15-919d-8e73fd8a8758",
   "metadata": {},
   "outputs": [
    {
     "name": "stdout",
     "output_type": "stream",
     "text": [
      "Number of barcodes in clone:  1\n",
      "Total number of cells with given barcodes:\n",
      "3715\n",
      "Unique number of barcodes:\n",
      "2619\n",
      "\n",
      "Number of barcodes in clone:  2\n",
      "Total number of cells with given barcodes:\n",
      "20\n",
      "Unique number of barcodes:\n",
      "20\n",
      "\n",
      "Number of barcodes in clone:  3\n",
      "Total number of cells with given barcodes:\n",
      "3\n",
      "Unique number of barcodes:\n",
      "3\n",
      "\n",
      "Number of barcodes in clone:  4\n",
      "Total number of cells with given barcodes:\n",
      "1\n",
      "Unique number of barcodes:\n",
      "1\n",
      "\n"
     ]
    }
   ],
   "source": [
    "for n in np.unique(bc_csv.n_sgRNAs):\n",
    "    print('Number of barcodes in clone: ',str(n))\n",
    "    print('Total number of cells with given barcodes:')\n",
    "    print(sum(bc_csv.n_sgRNAs==n))\n",
    "    print('Unique number of barcodes:')\n",
    "    print(len(np.unique(bc_csv.loc[bc_csv.n_sgRNAs==n,:].sgRNAs)))\n",
    "    print('')"
   ]
  },
  {
   "cell_type": "code",
   "execution_count": 299,
   "id": "af7c49c0-bb35-4829-9fec-85cc9d36c564",
   "metadata": {},
   "outputs": [],
   "source": [
    "bc_csv.columns=['CBC','Clone_barcodes','n_barcodes']"
   ]
  },
  {
   "cell_type": "code",
   "execution_count": 300,
   "id": "65e4b31f-3c78-4eaa-9d35-593031ca60e1",
   "metadata": {},
   "outputs": [],
   "source": [
    "clone_data_df = pd.DataFrame(bc_csv.Clone_barcodes.value_counts())"
   ]
  },
  {
   "cell_type": "code",
   "execution_count": 301,
   "id": "3528859b-547d-4bdf-8270-37df2dfd5163",
   "metadata": {},
   "outputs": [],
   "source": [
    "clone_ids = []\n",
    "exp_prefix='LS27'\n",
    "for i in range(0,len(clone_data_df)):\n",
    "    clone_ids.append(exp_prefix+'_Clone_'+str(i))"
   ]
  },
  {
   "cell_type": "code",
   "execution_count": 302,
   "id": "49f222f2-fee4-47cf-b100-39b49d9abde4",
   "metadata": {},
   "outputs": [],
   "source": [
    "clone_data_df['Clone_IDs']=clone_ids"
   ]
  },
  {
   "cell_type": "code",
   "execution_count": 303,
   "id": "5ca07615-535a-42f0-9c23-a48db841460e",
   "metadata": {},
   "outputs": [],
   "source": [
    "clone_data_df.columns=['Clone_size','Clone_IDs']"
   ]
  },
  {
   "cell_type": "code",
   "execution_count": 304,
   "id": "7d7bbb12-e1bc-41df-8f9b-2b1884c54553",
   "metadata": {},
   "outputs": [],
   "source": [
    "clone_index = []\n",
    "for i in range(0,len(clone_data_df)):\n",
    "    clone_index.append(clone_data_df.index[i][0:6])"
   ]
  },
  {
   "cell_type": "code",
   "execution_count": 305,
   "id": "f20efb79-36aa-4590-bd3a-285292ce1b26",
   "metadata": {},
   "outputs": [],
   "source": [
    "clone_data_df['Clone_Index']=clone_index"
   ]
  },
  {
   "cell_type": "code",
   "execution_count": 306,
   "id": "0440d224-4b60-46ce-bf48-4438f05be892",
   "metadata": {},
   "outputs": [
    {
     "data": {
      "text/html": [
       "<div>\n",
       "<style scoped>\n",
       "    .dataframe tbody tr th:only-of-type {\n",
       "        vertical-align: middle;\n",
       "    }\n",
       "\n",
       "    .dataframe tbody tr th {\n",
       "        vertical-align: top;\n",
       "    }\n",
       "\n",
       "    .dataframe thead th {\n",
       "        text-align: right;\n",
       "    }\n",
       "</style>\n",
       "<table border=\"1\" class=\"dataframe\">\n",
       "  <thead>\n",
       "    <tr style=\"text-align: right;\">\n",
       "      <th></th>\n",
       "      <th>Clone_size</th>\n",
       "      <th>Clone_IDs</th>\n",
       "      <th>Clone_Index</th>\n",
       "    </tr>\n",
       "  </thead>\n",
       "  <tbody>\n",
       "    <tr>\n",
       "      <th>Index3_Bit1_F_392-Bit2_F_271-Bit3_F_011t</th>\n",
       "      <td>10</td>\n",
       "      <td>LS27_Clone_0</td>\n",
       "      <td>Index3</td>\n",
       "    </tr>\n",
       "    <tr>\n",
       "      <th>IndexE_Bit1_F_439-Bit2_F_112-Bit3_F_058t</th>\n",
       "      <td>8</td>\n",
       "      <td>LS27_Clone_1</td>\n",
       "      <td>IndexE</td>\n",
       "    </tr>\n",
       "    <tr>\n",
       "      <th>IndexE_Bit1_F_353-Bit2_F_057-Bit3_F_025t</th>\n",
       "      <td>8</td>\n",
       "      <td>LS27_Clone_2</td>\n",
       "      <td>IndexE</td>\n",
       "    </tr>\n",
       "    <tr>\n",
       "      <th>Index3_Bit1_F_328-Bit2_F_273-Bit3_F_477t</th>\n",
       "      <td>8</td>\n",
       "      <td>LS27_Clone_3</td>\n",
       "      <td>Index3</td>\n",
       "    </tr>\n",
       "    <tr>\n",
       "      <th>Index3_Bit1_F_109-Bit2_F_447-Bit3_F_349t</th>\n",
       "      <td>8</td>\n",
       "      <td>LS27_Clone_4</td>\n",
       "      <td>Index3</td>\n",
       "    </tr>\n",
       "    <tr>\n",
       "      <th>...</th>\n",
       "      <td>...</td>\n",
       "      <td>...</td>\n",
       "      <td>...</td>\n",
       "    </tr>\n",
       "    <tr>\n",
       "      <th>Index3_Bit1_F_362-Bit2_F_401-Bit3_F_490t</th>\n",
       "      <td>1</td>\n",
       "      <td>LS27_Clone_2638</td>\n",
       "      <td>Index3</td>\n",
       "    </tr>\n",
       "    <tr>\n",
       "      <th>Index3_Bit1_F_013-Bit2_F_250-Bit3_F_289t</th>\n",
       "      <td>1</td>\n",
       "      <td>LS27_Clone_2639</td>\n",
       "      <td>Index3</td>\n",
       "    </tr>\n",
       "    <tr>\n",
       "      <th>Index3_Bit1_F_322-Bit2_F_264-Bit3_F_280t</th>\n",
       "      <td>1</td>\n",
       "      <td>LS27_Clone_2640</td>\n",
       "      <td>Index3</td>\n",
       "    </tr>\n",
       "    <tr>\n",
       "      <th>Index3_Bit1_F_324-Bit2_F_208-Bit3_F_304t</th>\n",
       "      <td>1</td>\n",
       "      <td>LS27_Clone_2641</td>\n",
       "      <td>Index3</td>\n",
       "    </tr>\n",
       "    <tr>\n",
       "      <th>Index3_Bit1_F_488-Bit2_F_084-Bit3_F_090t</th>\n",
       "      <td>1</td>\n",
       "      <td>LS27_Clone_2642</td>\n",
       "      <td>Index3</td>\n",
       "    </tr>\n",
       "  </tbody>\n",
       "</table>\n",
       "<p>2643 rows × 3 columns</p>\n",
       "</div>"
      ],
      "text/plain": [
       "                                          Clone_size        Clone_IDs  \\\n",
       "Index3_Bit1_F_392-Bit2_F_271-Bit3_F_011t          10     LS27_Clone_0   \n",
       "IndexE_Bit1_F_439-Bit2_F_112-Bit3_F_058t           8     LS27_Clone_1   \n",
       "IndexE_Bit1_F_353-Bit2_F_057-Bit3_F_025t           8     LS27_Clone_2   \n",
       "Index3_Bit1_F_328-Bit2_F_273-Bit3_F_477t           8     LS27_Clone_3   \n",
       "Index3_Bit1_F_109-Bit2_F_447-Bit3_F_349t           8     LS27_Clone_4   \n",
       "...                                              ...              ...   \n",
       "Index3_Bit1_F_362-Bit2_F_401-Bit3_F_490t           1  LS27_Clone_2638   \n",
       "Index3_Bit1_F_013-Bit2_F_250-Bit3_F_289t           1  LS27_Clone_2639   \n",
       "Index3_Bit1_F_322-Bit2_F_264-Bit3_F_280t           1  LS27_Clone_2640   \n",
       "Index3_Bit1_F_324-Bit2_F_208-Bit3_F_304t           1  LS27_Clone_2641   \n",
       "Index3_Bit1_F_488-Bit2_F_084-Bit3_F_090t           1  LS27_Clone_2642   \n",
       "\n",
       "                                         Clone_Index  \n",
       "Index3_Bit1_F_392-Bit2_F_271-Bit3_F_011t      Index3  \n",
       "IndexE_Bit1_F_439-Bit2_F_112-Bit3_F_058t      IndexE  \n",
       "IndexE_Bit1_F_353-Bit2_F_057-Bit3_F_025t      IndexE  \n",
       "Index3_Bit1_F_328-Bit2_F_273-Bit3_F_477t      Index3  \n",
       "Index3_Bit1_F_109-Bit2_F_447-Bit3_F_349t      Index3  \n",
       "...                                              ...  \n",
       "Index3_Bit1_F_362-Bit2_F_401-Bit3_F_490t      Index3  \n",
       "Index3_Bit1_F_013-Bit2_F_250-Bit3_F_289t      Index3  \n",
       "Index3_Bit1_F_322-Bit2_F_264-Bit3_F_280t      Index3  \n",
       "Index3_Bit1_F_324-Bit2_F_208-Bit3_F_304t      Index3  \n",
       "Index3_Bit1_F_488-Bit2_F_084-Bit3_F_090t      Index3  \n",
       "\n",
       "[2643 rows x 3 columns]"
      ]
     },
     "execution_count": 306,
     "metadata": {},
     "output_type": "execute_result"
    }
   ],
   "source": [
    "clone_data_df"
   ]
  },
  {
   "cell_type": "code",
   "execution_count": 307,
   "id": "d25250a5-454a-4d89-9bbe-91506e668423",
   "metadata": {},
   "outputs": [
    {
     "data": {
      "text/plain": [
       "1     1939\n",
       "2      480\n",
       "3      134\n",
       "4       49\n",
       "5       21\n",
       "6       10\n",
       "7        5\n",
       "8        4\n",
       "10       1\n",
       "Name: Clone_size, dtype: int64"
      ]
     },
     "execution_count": 307,
     "metadata": {},
     "output_type": "execute_result"
    }
   ],
   "source": [
    "clone_data_df['Clone_size'].value_counts()"
   ]
  },
  {
   "cell_type": "code",
   "execution_count": 308,
   "id": "db1f7dde-2b58-42d7-8dc7-6335f12e6132",
   "metadata": {},
   "outputs": [],
   "source": [
    "bc_csv = bc_csv.merge(clone_data_df, left_on='Clone_barcodes', right_index=True)"
   ]
  },
  {
   "cell_type": "code",
   "execution_count": 309,
   "id": "4cb75baa-dd92-40c0-85ce-a0d1987f4881",
   "metadata": {},
   "outputs": [],
   "source": [
    "bc_csv.to_csv('/media/chang/HDD-11/mgkeefe/230106_MKTN09_local_STICR/230103_STICR_BCs/STICR_outs_GW22_221118/GW22_221118_S1_bcs_final_metadata.csv')"
   ]
  },
  {
   "cell_type": "markdown",
   "id": "ad23c1ac-e46d-4220-a34f-0ea046274790",
   "metadata": {
    "jp-MarkdownHeadingCollapsed": true,
    "tags": []
   },
   "source": [
    "## new processing for 221118 S2:"
   ]
  },
  {
   "cell_type": "code",
   "execution_count": 195,
   "id": "09c7d948-725b-4f13-a036-f72786ba90d5",
   "metadata": {},
   "outputs": [],
   "source": [
    "sticr_tsv = pd.read_csv('/media/chang/HDD-11/mgkeefe/230106_MKTN09_local_STICR/230103_STICR_BCs/STICR_outs_GW22_221118/GW22_221118_S2/Final_Barcodes.tsv',\n",
    "                           sep='\\t')\n",
    "sticr_tsv.index = list(sticr_tsv['CBC'])"
   ]
  },
  {
   "cell_type": "code",
   "execution_count": 198,
   "id": "eb412151-5507-4e63-a1e7-ba74e8c48e14",
   "metadata": {},
   "outputs": [],
   "source": [
    "cbc_names = np.unique(sticr_tsv['CBC'])\n",
    "bc_names = np.unique(sticr_tsv['barcode'])\n",
    "bc_matrix = np.zeros((len(np.unique(cbc_names)), len(np.unique(bc_names))))\n",
    "bc_df = pd.DataFrame(bc_matrix, index=list(cbc_names), columns=list(bc_names))"
   ]
  },
  {
   "cell_type": "code",
   "execution_count": 199,
   "id": "dd57ce01-b16a-42d5-951f-5ae5ce2721f1",
   "metadata": {},
   "outputs": [
    {
     "name": "stderr",
     "output_type": "stream",
     "text": [
      "100%|██████████| 18884/18884 [14:10<00:00, 22.20it/s]\n"
     ]
    }
   ],
   "source": [
    "from tqdm import tqdm\n",
    "\n",
    "for sbc in tqdm(bc_names):\n",
    "    bc_df.loc[bc_df.index.isin(sticr_tsv['CBC'][sticr_tsv['barcode']==sbc]), bc_df.columns==sbc] = sticr_tsv.loc[sticr_tsv['barcode']==sbc,'UMI_Count']"
   ]
  },
  {
   "cell_type": "code",
   "execution_count": 200,
   "id": "d8c75b34-e92f-4ce8-87dd-db8548e2fe94",
   "metadata": {},
   "outputs": [],
   "source": [
    "from scipy.sparse import csr_matrix\n",
    "import h5sparse\n",
    "import h5py\n",
    "import anndata\n",
    "bc_df_sparse = csr_matrix(bc_df)"
   ]
  },
  {
   "cell_type": "code",
   "execution_count": 225,
   "id": "8aebe966-5017-4108-9dd1-ca50e34ca773",
   "metadata": {},
   "outputs": [],
   "source": [
    "bc_df_reformat = pd.DataFrame.sparse.from_spmatrix(bc_df_sparse, index=bc_df.index, columns=bc_df.columns)\n",
    "bc_df_sc_input = anndata.AnnData(bc_df_reformat)\n",
    "bc_df_sc_input.write_h5ad('/media/chang/HDD-11/mgkeefe/230106_MKTN09_local_STICR/230103_STICR_BCs/STICR_outs_GW22_221118/GW22_221118_S2_bc_matrix_sparse.h5ad')"
   ]
  },
  {
   "cell_type": "code",
   "execution_count": 226,
   "id": "03cc4fce-469b-4246-a598-081c10f8b7fb",
   "metadata": {},
   "outputs": [],
   "source": [
    "rna = '/media/chang/HDD-11/mgkeefe/230106_MKTN09_local_STICR/cellranger_outs/GW22_221118_sub_FBS_S2_cellranger/raw_feature_bc_matrix.h5'\n",
    "sticr = '/media/chang/HDD-11/mgkeefe/230106_MKTN09_local_STICR/230103_STICR_BCs/STICR_outs_GW22_221118/GW22_221118_S2_bc_matrix_sparse.h5ad'\n",
    "out = '/media/chang/HDD-11/mgkeefe/230106_MKTN09_local_STICR/230103_STICR_BCs/STICR_outs_GW22_221118/GW22_221118_S2_scAR_bcs.csv'\n",
    "gw22_1118_s2 = sc.read_10x_h5(filename=rna, gex_only=True) # Change this if ur using a different scRNA-seq format\n",
    "gw22_1118_s2_sticr = sc.read_h5ad(sticr)\n",
    "gw22_1118_s2_sticr_raw = gw22_1118_s2_sticr.to_df()\n",
    "gw22_1118_s2_sticr.var_names_make_unique()"
   ]
  },
  {
   "cell_type": "code",
   "execution_count": 227,
   "id": "8f9778d0-f37b-41d4-90f8-e75dd4495e00",
   "metadata": {},
   "outputs": [
    {
     "name": "stdout",
     "output_type": "stream",
     "text": [
      "['AAACCCAAGAAACACT', 'AAACCCAAGAAACCCA', 'AAACCCAAGAAACTCA', 'AAACCCAAGAAACTGT', 'AAACCCAAGAAAGGTA', 'AAACCCAAGAAAGTCT', 'AAACCCAAGAAATCCA', 'AAACCCAAGAAATGGG', 'AAACCCAAGAAATTGC', 'AAACCCAAGAACGCGT']\n",
      "['AAACCCAAGAAACACT-1', 'AAACCCAAGAAACCCA-1', 'AAACCCAAGAAACTCA-1', 'AAACCCAAGAAACTGT-1', 'AAACCCAAGAAAGGTA-1', 'AAACCCAAGAAAGTCT-1', 'AAACCCAAGAAATCCA-1', 'AAACCCAAGAAATGGG-1', 'AAACCCAAGAAATTGC-1', 'AAACCCAAGAACGCGT-1']\n"
     ]
    }
   ],
   "source": [
    "#have to fix the names in the RNA file to remove the -1 from the CBC\n",
    "fixed_rna_names = gw22_1118_s2.obs_names.tolist()\n",
    "for c in range(0, len(fixed_rna_names)):\n",
    "    fixed_rna_names[c] = fixed_rna_names[c][0:-2]\n",
    "print(fixed_rna_names[0:10])\n",
    "print(gw22_1118_s2.obs_names[0:10].tolist())"
   ]
  },
  {
   "cell_type": "code",
   "execution_count": 228,
   "id": "7f5b1703-6f0f-4ac2-9ede-a6526f08e17a",
   "metadata": {},
   "outputs": [
    {
     "name": "stdout",
     "output_type": "stream",
     "text": [
      "['AAACCCAAGAAACACT', 'AAACCCAAGAAACCCA', 'AAACCCAAGAAACTCA', 'AAACCCAAGAAACTGT', 'AAACCCAAGAAAGGTA', 'AAACCCAAGAAAGTCT', 'AAACCCAAGAAATCCA', 'AAACCCAAGAAATGGG', 'AAACCCAAGAAATTGC', 'AAACCCAAGAACGCGT']\n",
      "['AAACCCAAGAAGCTGC', 'AAACCCAAGAATCCCT', 'AAACCCAAGACGGTTG', 'AAACCCAAGAGAATCT', 'AAACCCAAGATACATG', 'AAACCCAAGATAGGGA', 'AAACCCAAGCAGCACA', 'AAACCCAAGCCAGTAG', 'AAACCCAAGCCTTTCC', 'AAACCCAAGCGCCTCA']\n"
     ]
    }
   ],
   "source": [
    "gw22_1118_s2.obs_names = fixed_rna_names\n",
    "print(gw22_1118_s2.obs_names[:10].tolist())\n",
    "print(gw22_1118_s2_sticr.obs_names[:10].tolist())"
   ]
  },
  {
   "cell_type": "code",
   "execution_count": 229,
   "id": "22f70c18-2de7-4e66-a59d-dcc193e622b3",
   "metadata": {},
   "outputs": [],
   "source": [
    "rank_UMIs = pd.DataFrame(gw22_1118_s2[:,gw22_1118_s2.var['feature_types']=='Gene Expression'].X.sum(axis=1), index = gw22_1118_s2.obs_names, columns=['total_counts'])\n",
    "rank_UMIs['droplets'] = 'cell-free droplets'\n",
    "rank_UMIs['droplets'] = rank_UMIs['droplets'].mask(rank_UMIs['total_counts']>50, 'droplet II')\n",
    "rank_UMIs['droplets'] = rank_UMIs['droplets'].mask(rank_UMIs['total_counts']>100, 'droplet I')\n",
    "rank_UMIs['droplets'] = rank_UMIs['droplets'].mask(rank_UMIs['total_counts']>500, 'cells')\n",
    "rank_UMIs = rank_UMIs.sort_values(by='total_counts', ascending=False).reset_index().rename_axis(\"rank\").reset_index()\n",
    "rank_UMIs = rank_UMIs.loc[rank_UMIs['total_counts']>0]\n",
    "rank_UMIs = rank_UMIs.set_index('index').rename_axis('cells')"
   ]
  },
  {
   "cell_type": "code",
   "execution_count": 230,
   "id": "159692ea-1b3a-4b36-a0e5-64092b9bb51d",
   "metadata": {},
   "outputs": [
    {
     "data": {
      "image/png": "[encoded data removed]",
      "text/plain": [
       "<Figure size 600x450 with 1 Axes>"
      ]
     },
     "metadata": {},
     "output_type": "display_data"
    }
   ],
   "source": [
    "plt.figure(figsize=(4, 3), dpi=150)\n",
    "\n",
    "ax = sns.lineplot(data = rank_UMIs,\n",
    "                  x='rank',\n",
    "                  y='total_counts',\n",
    "                  hue='droplets',\n",
    "                  hue_order=['cells', 'droplet I', 'droplet II', 'cell-free droplets'],\n",
    "                  palette=sns.color_palette()[-4:],\n",
    "                  markers=False,\n",
    "                  lw=2)\n",
    "\n",
    "ax.set_xscale('log')\n",
    "ax.set_yscale('log')\n",
    "ax.set_xlabel('sorted droplets');\n",
    "ax.legend(loc='lower left', ncol=1, title=None, frameon=False)\n",
    "ax.set_title(f'kneeplot: gw22_1118_s2');\n",
    "\n",
    "sns.set_palette(\"muted\")\n",
    "sns.set_style(\"ticks\")\n",
    "sns.despine(offset=10, trim=False);"
   ]
  },
  {
   "cell_type": "code",
   "execution_count": 231,
   "id": "1086746e-2b74-4184-b905-ca93c94b7f9b",
   "metadata": {},
   "outputs": [
    {
     "name": "stdout",
     "output_type": "stream",
     "text": [
      "..Running VAE using the following param set:\n",
      "......scAR mode:  CROPseq\n",
      "......count model:  binomial\n",
      "......num_input_feature:  18884\n",
      "......NN_layer1:  150\n",
      "......NN_layer2:  100\n",
      "......latent_space:  15\n",
      "......dropout_prob:  0\n",
      "......kld_weight:  1e-05\n",
      "......lr:  0.001\n",
      "......lr_step_size:  5\n",
      "......lr_gamma:  0.97\n",
      "===========================================\n",
      "  Training.....\n",
      "100%|██████████| 400/400 [17:29<00:00,  2.62s/it]\n",
      "===========================================\n",
      "  Inferring .....\n"
     ]
    }
   ],
   "source": [
    "####################\n",
    "gw22_1118_s2_filtered = gw22_1118_s2[gw22_1118_s2.obs_names.isin(rank_UMIs[rank_UMIs['droplets']=='cells'].index)] # equal to filtered population as cellranger output\n",
    "gw22_1118_s2_sticr_filtered = gw22_1118_s2_sticr[gw22_1118_s2_sticr.obs_names.isin(gw22_1118_s2_filtered.obs_names)].to_df() # pandas.DataFrame\n",
    "gw22_1118_s2_sticr_filtered_empty_droplets = gw22_1118_s2_sticr_raw.loc[gw22_1118_s2_sticr_raw.index.difference(gw22_1118_s2_sticr_filtered.index)]\n",
    "gw22_1118_s2_sticr_filtered_empty_profile = gw22_1118_s2_sticr_filtered_empty_droplets.sum()/gw22_1118_s2_sticr_filtered_empty_droplets.sum().sum()    # pandas.Series\n",
    "scarObj = scAR.model(raw_count=gw22_1118_s2_sticr_filtered,\n",
    "                     empty_profile=gw22_1118_s2_sticr_filtered_empty_profile.values, # In the case of default None, the empty_profile will be calculated by averaging pooled cells\n",
    "                     scRNAseq_tech='CROPseq')\n",
    "scarObj.train(epochs=400)\n",
    "scarObj.inference(feature_type='sgRNAs', cutoff=3)\n",
    "scarObj.feature_assignment.to_csv(out)\n",
    "####################"
   ]
  },
  {
   "cell_type": "code",
   "execution_count": 232,
   "id": "5de8dd44-1340-42c4-be47-3932d37d3d65",
   "metadata": {},
   "outputs": [],
   "source": [
    "scarObj.feature_assignment.to_csv(out)"
   ]
  },
  {
   "cell_type": "code",
   "execution_count": 233,
   "id": "a4f10f3d-6b3e-4126-b303-02a65303ba4f",
   "metadata": {},
   "outputs": [],
   "source": [
    "bc_csv = pd.read_csv(out)"
   ]
  },
  {
   "cell_type": "code",
   "execution_count": 234,
   "id": "2c500f61-c210-423f-b6fe-1231d4e73934",
   "metadata": {},
   "outputs": [
    {
     "data": {
      "text/html": [
       "<div>\n",
       "<style scoped>\n",
       "    .dataframe tbody tr th:only-of-type {\n",
       "        vertical-align: middle;\n",
       "    }\n",
       "\n",
       "    .dataframe tbody tr th {\n",
       "        vertical-align: top;\n",
       "    }\n",
       "\n",
       "    .dataframe thead th {\n",
       "        text-align: right;\n",
       "    }\n",
       "</style>\n",
       "<table border=\"1\" class=\"dataframe\">\n",
       "  <thead>\n",
       "    <tr style=\"text-align: right;\">\n",
       "      <th></th>\n",
       "      <th>Unnamed: 0</th>\n",
       "      <th>sgRNAs</th>\n",
       "      <th>n_sgRNAs</th>\n",
       "    </tr>\n",
       "  </thead>\n",
       "  <tbody>\n",
       "    <tr>\n",
       "      <th>0</th>\n",
       "      <td>AAACCCAGTATTAAGG</td>\n",
       "      <td>IndexE_Bit1_F_321-Bit2_F_305-Bit3_F_465t</td>\n",
       "      <td>1</td>\n",
       "    </tr>\n",
       "    <tr>\n",
       "      <th>1</th>\n",
       "      <td>AAACCCATCCTTGGAA</td>\n",
       "      <td>IndexE_Bit1_F_397-Bit2_F_273-Bit3_F_307t</td>\n",
       "      <td>1</td>\n",
       "    </tr>\n",
       "    <tr>\n",
       "      <th>2</th>\n",
       "      <td>AAACGAAAGATTCGCT</td>\n",
       "      <td>Index3_Bit1_F_140-Bit2_F_129-Bit3_F_305t</td>\n",
       "      <td>1</td>\n",
       "    </tr>\n",
       "    <tr>\n",
       "      <th>3</th>\n",
       "      <td>AAACGAACAACCGCCA</td>\n",
       "      <td>IndexE_Bit1_F_203-Bit2_F_259-Bit3_F_430t</td>\n",
       "      <td>1</td>\n",
       "    </tr>\n",
       "    <tr>\n",
       "      <th>4</th>\n",
       "      <td>AAACGAACAGCGACAA</td>\n",
       "      <td>IndexE_Bit1_F_191-Bit2_F_314-Bit3_F_485t</td>\n",
       "      <td>1</td>\n",
       "    </tr>\n",
       "    <tr>\n",
       "      <th>...</th>\n",
       "      <td>...</td>\n",
       "      <td>...</td>\n",
       "      <td>...</td>\n",
       "    </tr>\n",
       "    <tr>\n",
       "      <th>3251</th>\n",
       "      <td>TTTGTTGCAAGAGATT</td>\n",
       "      <td>IndexE_Bit1_F_204-Bit2_F_125-Bit3_F_205t</td>\n",
       "      <td>1</td>\n",
       "    </tr>\n",
       "    <tr>\n",
       "      <th>3252</th>\n",
       "      <td>TTTGTTGCAGTTGAAA</td>\n",
       "      <td>Index3_Bit1_F_097-Bit2_F_228-Bit3_F_485t</td>\n",
       "      <td>1</td>\n",
       "    </tr>\n",
       "    <tr>\n",
       "      <th>3253</th>\n",
       "      <td>TTTGTTGCATGATCTG</td>\n",
       "      <td>IndexE_Bit1_F_047-Bit2_F_180-Bit3_F_025t</td>\n",
       "      <td>1</td>\n",
       "    </tr>\n",
       "    <tr>\n",
       "      <th>3254</th>\n",
       "      <td>TTTGTTGGTAGGAGGG</td>\n",
       "      <td>Index3_Bit1_F_027-Bit2_F_037-Bit3_F_199t</td>\n",
       "      <td>1</td>\n",
       "    </tr>\n",
       "    <tr>\n",
       "      <th>3255</th>\n",
       "      <td>TTTGTTGTCTGCCTCA</td>\n",
       "      <td>IndexE_Bit1_F_189-Bit2_F_056-Bit3_F_272t</td>\n",
       "      <td>1</td>\n",
       "    </tr>\n",
       "  </tbody>\n",
       "</table>\n",
       "<p>3256 rows × 3 columns</p>\n",
       "</div>"
      ],
      "text/plain": [
       "            Unnamed: 0                                    sgRNAs  n_sgRNAs\n",
       "0     AAACCCAGTATTAAGG  IndexE_Bit1_F_321-Bit2_F_305-Bit3_F_465t         1\n",
       "1     AAACCCATCCTTGGAA  IndexE_Bit1_F_397-Bit2_F_273-Bit3_F_307t         1\n",
       "2     AAACGAAAGATTCGCT  Index3_Bit1_F_140-Bit2_F_129-Bit3_F_305t         1\n",
       "3     AAACGAACAACCGCCA  IndexE_Bit1_F_203-Bit2_F_259-Bit3_F_430t         1\n",
       "4     AAACGAACAGCGACAA  IndexE_Bit1_F_191-Bit2_F_314-Bit3_F_485t         1\n",
       "...                ...                                       ...       ...\n",
       "3251  TTTGTTGCAAGAGATT  IndexE_Bit1_F_204-Bit2_F_125-Bit3_F_205t         1\n",
       "3252  TTTGTTGCAGTTGAAA  Index3_Bit1_F_097-Bit2_F_228-Bit3_F_485t         1\n",
       "3253  TTTGTTGCATGATCTG  IndexE_Bit1_F_047-Bit2_F_180-Bit3_F_025t         1\n",
       "3254  TTTGTTGGTAGGAGGG  Index3_Bit1_F_027-Bit2_F_037-Bit3_F_199t         1\n",
       "3255  TTTGTTGTCTGCCTCA  IndexE_Bit1_F_189-Bit2_F_056-Bit3_F_272t         1\n",
       "\n",
       "[3256 rows x 3 columns]"
      ]
     },
     "execution_count": 234,
     "metadata": {},
     "output_type": "execute_result"
    }
   ],
   "source": [
    "bc_csv"
   ]
  },
  {
   "cell_type": "code",
   "execution_count": 235,
   "id": "a3fecfb1-4865-4c7b-823d-74b227b02a29",
   "metadata": {},
   "outputs": [
    {
     "data": {
      "text/plain": [
       "2187"
      ]
     },
     "execution_count": 235,
     "metadata": {},
     "output_type": "execute_result"
    }
   ],
   "source": [
    "len(np.unique(bc_csv['sgRNAs']))"
   ]
  },
  {
   "cell_type": "code",
   "execution_count": 236,
   "id": "50b975cb-dee8-4c10-94c3-1ce47afd4e3d",
   "metadata": {},
   "outputs": [
    {
     "data": {
      "text/plain": [
       "1    3235\n",
       "2      19\n",
       "6       1\n",
       "3       1\n",
       "Name: n_sgRNAs, dtype: int64"
      ]
     },
     "execution_count": 236,
     "metadata": {},
     "output_type": "execute_result"
    }
   ],
   "source": [
    "bc_csv['n_sgRNAs'].value_counts()"
   ]
  },
  {
   "cell_type": "code",
   "execution_count": 237,
   "id": "327ec2da-5b2c-454a-b5e0-0a6e2c6ad4e9",
   "metadata": {},
   "outputs": [
    {
     "data": {
      "text/plain": [
       "1      326258\n",
       "2       17848\n",
       "3        4701\n",
       "4        2220\n",
       "5        1386\n",
       "        ...  \n",
       "127         1\n",
       "214         1\n",
       "178         1\n",
       "589         1\n",
       "107         1\n",
       "Name: UMI_Count, Length: 142, dtype: int64"
      ]
     },
     "execution_count": 237,
     "metadata": {},
     "output_type": "execute_result"
    }
   ],
   "source": [
    "sticr_tsv['UMI_Count'].value_counts()"
   ]
  },
  {
   "cell_type": "code",
   "execution_count": 283,
   "id": "98070fbc-b78a-4aa8-acec-136a962c6126",
   "metadata": {},
   "outputs": [],
   "source": [
    "bc_csv = pd.read_csv('/media/chang/HDD-11/mgkeefe/230106_MKTN09_local_STICR/230103_STICR_BCs/STICR_outs_GW22_221118/GW22_221118_S2_scAR_bcs.csv')"
   ]
  },
  {
   "cell_type": "code",
   "execution_count": 285,
   "id": "2b9a91e8-6aa5-4bb5-a475-36d8486b4a84",
   "metadata": {},
   "outputs": [
    {
     "name": "stdout",
     "output_type": "stream",
     "text": [
      "Number of barcodes in clone:  1\n",
      "Total number of cells with given barcodes:\n",
      "3235\n",
      "Unique number of barcodes:\n",
      "2166\n",
      "\n",
      "Number of barcodes in clone:  2\n",
      "Total number of cells with given barcodes:\n",
      "19\n",
      "Unique number of barcodes:\n",
      "19\n",
      "\n",
      "Number of barcodes in clone:  3\n",
      "Total number of cells with given barcodes:\n",
      "1\n",
      "Unique number of barcodes:\n",
      "1\n",
      "\n",
      "Number of barcodes in clone:  6\n",
      "Total number of cells with given barcodes:\n",
      "1\n",
      "Unique number of barcodes:\n",
      "1\n",
      "\n"
     ]
    }
   ],
   "source": [
    "for n in np.unique(bc_csv.n_sgRNAs):\n",
    "    print('Number of barcodes in clone: ',str(n))\n",
    "    print('Total number of cells with given barcodes:')\n",
    "    print(sum(bc_csv.n_sgRNAs==n))\n",
    "    print('Unique number of barcodes:')\n",
    "    print(len(np.unique(bc_csv.loc[bc_csv.n_sgRNAs==n,:].sgRNAs)))\n",
    "    print('')"
   ]
  },
  {
   "cell_type": "code",
   "execution_count": 286,
   "id": "090e755e-ee46-4471-a15d-4ac50e854b40",
   "metadata": {},
   "outputs": [],
   "source": [
    "bc_csv.columns=['CBC','Clone_barcodes','n_barcodes']"
   ]
  },
  {
   "cell_type": "code",
   "execution_count": 287,
   "id": "d6c0f15d-aa9e-4857-ba5c-aac670c8f70f",
   "metadata": {},
   "outputs": [],
   "source": [
    "clone_data_df = pd.DataFrame(bc_csv.Clone_barcodes.value_counts())"
   ]
  },
  {
   "cell_type": "code",
   "execution_count": 288,
   "id": "c25da275-4a8d-4b59-88b6-8aa7ce2a7b18",
   "metadata": {},
   "outputs": [],
   "source": [
    "clone_ids = []\n",
    "exp_prefix='LS28'\n",
    "for i in range(0,len(clone_data_df)):\n",
    "    clone_ids.append(exp_prefix+'_Clone_'+str(i))"
   ]
  },
  {
   "cell_type": "code",
   "execution_count": 289,
   "id": "9e6a8759-eb56-4a30-8a29-df583e8b0593",
   "metadata": {},
   "outputs": [],
   "source": [
    "clone_data_df['Clone_IDs']=clone_ids"
   ]
  },
  {
   "cell_type": "code",
   "execution_count": 290,
   "id": "95475fa5-1310-41d7-ab4f-ff2412bc71b8",
   "metadata": {},
   "outputs": [],
   "source": [
    "clone_data_df.columns=['Clone_size','Clone_IDs']"
   ]
  },
  {
   "cell_type": "code",
   "execution_count": 291,
   "id": "272e1a81-326f-46c7-83f5-c468d2ec9cba",
   "metadata": {},
   "outputs": [],
   "source": [
    "clone_index = []\n",
    "for i in range(0,len(clone_data_df)):\n",
    "    clone_index.append(clone_data_df.index[i][0:6])"
   ]
  },
  {
   "cell_type": "code",
   "execution_count": 292,
   "id": "906c9f87-450d-4cd1-860c-fbb458aefb0c",
   "metadata": {},
   "outputs": [],
   "source": [
    "clone_data_df['Clone_Index']=clone_index"
   ]
  },
  {
   "cell_type": "code",
   "execution_count": 293,
   "id": "03223d53-396e-45d3-9e13-38ad355ff0d0",
   "metadata": {},
   "outputs": [
    {
     "data": {
      "text/html": [
       "<div>\n",
       "<style scoped>\n",
       "    .dataframe tbody tr th:only-of-type {\n",
       "        vertical-align: middle;\n",
       "    }\n",
       "\n",
       "    .dataframe tbody tr th {\n",
       "        vertical-align: top;\n",
       "    }\n",
       "\n",
       "    .dataframe thead th {\n",
       "        text-align: right;\n",
       "    }\n",
       "</style>\n",
       "<table border=\"1\" class=\"dataframe\">\n",
       "  <thead>\n",
       "    <tr style=\"text-align: right;\">\n",
       "      <th></th>\n",
       "      <th>Clone_size</th>\n",
       "      <th>Clone_IDs</th>\n",
       "      <th>Clone_Index</th>\n",
       "    </tr>\n",
       "  </thead>\n",
       "  <tbody>\n",
       "    <tr>\n",
       "      <th>IndexE_Bit1_F_292-Bit2_F_140-Bit3_F_063t</th>\n",
       "      <td>11</td>\n",
       "      <td>LS28_Clone_0</td>\n",
       "      <td>IndexE</td>\n",
       "    </tr>\n",
       "    <tr>\n",
       "      <th>IndexE_Bit1_F_384-Bit2_F_045-Bit3_F_213t</th>\n",
       "      <td>10</td>\n",
       "      <td>LS28_Clone_1</td>\n",
       "      <td>IndexE</td>\n",
       "    </tr>\n",
       "    <tr>\n",
       "      <th>IndexE_Bit1_F_086-Bit2_F_136-Bit3_F_156t</th>\n",
       "      <td>9</td>\n",
       "      <td>LS28_Clone_2</td>\n",
       "      <td>IndexE</td>\n",
       "    </tr>\n",
       "    <tr>\n",
       "      <th>IndexE_Bit1_F_250-Bit2_F_099-Bit3_F_370t</th>\n",
       "      <td>9</td>\n",
       "      <td>LS28_Clone_3</td>\n",
       "      <td>IndexE</td>\n",
       "    </tr>\n",
       "    <tr>\n",
       "      <th>Index3_Bit1_F_066-Bit2_F_327-Bit3_F_244t</th>\n",
       "      <td>9</td>\n",
       "      <td>LS28_Clone_4</td>\n",
       "      <td>Index3</td>\n",
       "    </tr>\n",
       "    <tr>\n",
       "      <th>...</th>\n",
       "      <td>...</td>\n",
       "      <td>...</td>\n",
       "      <td>...</td>\n",
       "    </tr>\n",
       "    <tr>\n",
       "      <th>Index3_Bit1_F_474-Bit2_F_253-Bit3_F_279t</th>\n",
       "      <td>1</td>\n",
       "      <td>LS28_Clone_2182</td>\n",
       "      <td>Index3</td>\n",
       "    </tr>\n",
       "    <tr>\n",
       "      <th>IndexE_Bit1_F_134-Bit2_F_152-Bit3_F_203t</th>\n",
       "      <td>1</td>\n",
       "      <td>LS28_Clone_2183</td>\n",
       "      <td>IndexE</td>\n",
       "    </tr>\n",
       "    <tr>\n",
       "      <th>Index3_Bit1_F_398-Bit2_F_060-Bit3_F_099t</th>\n",
       "      <td>1</td>\n",
       "      <td>LS28_Clone_2184</td>\n",
       "      <td>Index3</td>\n",
       "    </tr>\n",
       "    <tr>\n",
       "      <th>Index3_Bit1_F_426-Bit2_F_344-Bit3_F_281t</th>\n",
       "      <td>1</td>\n",
       "      <td>LS28_Clone_2185</td>\n",
       "      <td>Index3</td>\n",
       "    </tr>\n",
       "    <tr>\n",
       "      <th>IndexE_Bit1_F_189-Bit2_F_056-Bit3_F_272t</th>\n",
       "      <td>1</td>\n",
       "      <td>LS28_Clone_2186</td>\n",
       "      <td>IndexE</td>\n",
       "    </tr>\n",
       "  </tbody>\n",
       "</table>\n",
       "<p>2187 rows × 3 columns</p>\n",
       "</div>"
      ],
      "text/plain": [
       "                                          Clone_size        Clone_IDs  \\\n",
       "IndexE_Bit1_F_292-Bit2_F_140-Bit3_F_063t          11     LS28_Clone_0   \n",
       "IndexE_Bit1_F_384-Bit2_F_045-Bit3_F_213t          10     LS28_Clone_1   \n",
       "IndexE_Bit1_F_086-Bit2_F_136-Bit3_F_156t           9     LS28_Clone_2   \n",
       "IndexE_Bit1_F_250-Bit2_F_099-Bit3_F_370t           9     LS28_Clone_3   \n",
       "Index3_Bit1_F_066-Bit2_F_327-Bit3_F_244t           9     LS28_Clone_4   \n",
       "...                                              ...              ...   \n",
       "Index3_Bit1_F_474-Bit2_F_253-Bit3_F_279t           1  LS28_Clone_2182   \n",
       "IndexE_Bit1_F_134-Bit2_F_152-Bit3_F_203t           1  LS28_Clone_2183   \n",
       "Index3_Bit1_F_398-Bit2_F_060-Bit3_F_099t           1  LS28_Clone_2184   \n",
       "Index3_Bit1_F_426-Bit2_F_344-Bit3_F_281t           1  LS28_Clone_2185   \n",
       "IndexE_Bit1_F_189-Bit2_F_056-Bit3_F_272t           1  LS28_Clone_2186   \n",
       "\n",
       "                                         Clone_Index  \n",
       "IndexE_Bit1_F_292-Bit2_F_140-Bit3_F_063t      IndexE  \n",
       "IndexE_Bit1_F_384-Bit2_F_045-Bit3_F_213t      IndexE  \n",
       "IndexE_Bit1_F_086-Bit2_F_136-Bit3_F_156t      IndexE  \n",
       "IndexE_Bit1_F_250-Bit2_F_099-Bit3_F_370t      IndexE  \n",
       "Index3_Bit1_F_066-Bit2_F_327-Bit3_F_244t      Index3  \n",
       "...                                              ...  \n",
       "Index3_Bit1_F_474-Bit2_F_253-Bit3_F_279t      Index3  \n",
       "IndexE_Bit1_F_134-Bit2_F_152-Bit3_F_203t      IndexE  \n",
       "Index3_Bit1_F_398-Bit2_F_060-Bit3_F_099t      Index3  \n",
       "Index3_Bit1_F_426-Bit2_F_344-Bit3_F_281t      Index3  \n",
       "IndexE_Bit1_F_189-Bit2_F_056-Bit3_F_272t      IndexE  \n",
       "\n",
       "[2187 rows x 3 columns]"
      ]
     },
     "execution_count": 293,
     "metadata": {},
     "output_type": "execute_result"
    }
   ],
   "source": [
    "clone_data_df"
   ]
  },
  {
   "cell_type": "code",
   "execution_count": 294,
   "id": "73b648a3-7791-4d81-9d03-bba1a1564b21",
   "metadata": {},
   "outputs": [
    {
     "data": {
      "text/plain": [
       "1     1571\n",
       "2      383\n",
       "3      131\n",
       "4       45\n",
       "5       30\n",
       "6       10\n",
       "7        8\n",
       "8        4\n",
       "9        3\n",
       "11       1\n",
       "10       1\n",
       "Name: Clone_size, dtype: int64"
      ]
     },
     "execution_count": 294,
     "metadata": {},
     "output_type": "execute_result"
    }
   ],
   "source": [
    "clone_data_df['Clone_size'].value_counts()"
   ]
  },
  {
   "cell_type": "code",
   "execution_count": 295,
   "id": "5573eb66-af04-46d7-9161-2bd570e027cd",
   "metadata": {},
   "outputs": [],
   "source": [
    "bc_csv = bc_csv.merge(clone_data_df, left_on='Clone_barcodes', right_index=True)"
   ]
  },
  {
   "cell_type": "code",
   "execution_count": 296,
   "id": "9e076aad-85a2-4c10-b354-50f82456046d",
   "metadata": {},
   "outputs": [],
   "source": [
    "bc_csv.to_csv('/media/chang/HDD-11/mgkeefe/230106_MKTN09_local_STICR/230103_STICR_BCs/STICR_outs_GW22_221118/GW22_221118_S2_bcs_final_metadata.csv')"
   ]
  },
  {
   "cell_type": "markdown",
   "id": "56c2a515-73a1-4c40-b09e-e73f33f0698c",
   "metadata": {
    "jp-MarkdownHeadingCollapsed": true,
    "tags": []
   },
   "source": [
    "## new processing for 221118 S3:"
   ]
  },
  {
   "cell_type": "code",
   "execution_count": 240,
   "id": "3e6113f2-e120-45bb-a00f-0165c939a767",
   "metadata": {},
   "outputs": [],
   "source": [
    "sticr_tsv = pd.read_csv('/media/chang/HDD-11/mgkeefe/230106_MKTN09_local_STICR/230103_STICR_BCs/STICR_outs_GW22_221118/GW22_221118_S3/Final_Barcodes.tsv',\n",
    "                           sep='\\t')\n",
    "sticr_tsv.index = list(sticr_tsv['CBC'])"
   ]
  },
  {
   "cell_type": "code",
   "execution_count": 241,
   "id": "555583dc-eff2-44a7-923e-76a56ed7cf81",
   "metadata": {},
   "outputs": [],
   "source": [
    "cbc_names = np.unique(sticr_tsv['CBC'])\n",
    "bc_names = np.unique(sticr_tsv['barcode'])\n",
    "bc_matrix = np.zeros((len(np.unique(cbc_names)), len(np.unique(bc_names))))\n",
    "bc_df = pd.DataFrame(bc_matrix, index=list(cbc_names), columns=list(bc_names))"
   ]
  },
  {
   "cell_type": "code",
   "execution_count": 242,
   "id": "3e098978-0be8-4b6d-9978-6a61a1beddfe",
   "metadata": {},
   "outputs": [
    {
     "name": "stderr",
     "output_type": "stream",
     "text": [
      "100%|██████████| 21115/21115 [10:52<00:00, 32.38it/s]\n"
     ]
    }
   ],
   "source": [
    "from tqdm import tqdm\n",
    "\n",
    "for sbc in tqdm(bc_names):\n",
    "    bc_df.loc[bc_df.index.isin(sticr_tsv['CBC'][sticr_tsv['barcode']==sbc]), bc_df.columns==sbc] = sticr_tsv.loc[sticr_tsv['barcode']==sbc,'UMI_Count']"
   ]
  },
  {
   "cell_type": "code",
   "execution_count": 243,
   "id": "23ea1053-721a-429a-8b24-89b989d706bb",
   "metadata": {},
   "outputs": [],
   "source": [
    "from scipy.sparse import csr_matrix\n",
    "import h5sparse\n",
    "import h5py\n",
    "import anndata\n",
    "bc_df_sparse = csr_matrix(bc_df)"
   ]
  },
  {
   "cell_type": "code",
   "execution_count": 244,
   "id": "ff22f6a2-fc2d-4a08-bd10-87f9cbf78a4f",
   "metadata": {},
   "outputs": [],
   "source": [
    "bc_df_reformat = pd.DataFrame.sparse.from_spmatrix(bc_df_sparse, index=bc_df.index, columns=bc_df.columns)\n",
    "bc_df_sc_input = anndata.AnnData(bc_df_reformat)\n",
    "bc_df_sc_input.write_h5ad('/media/chang/HDD-11/mgkeefe/230106_MKTN09_local_STICR/230103_STICR_BCs/STICR_outs_GW22_221118/GW22_221118_S3_bc_matrix_sparse.h5ad')"
   ]
  },
  {
   "cell_type": "code",
   "execution_count": 245,
   "id": "c6c1bd0c-6f42-43ec-a309-b71855992cc8",
   "metadata": {},
   "outputs": [],
   "source": [
    "rna = '/media/chang/HDD-11/mgkeefe/230106_MKTN09_local_STICR/cellranger_outs/GW22_221118_sub_FBS_S3_cellranger/raw_feature_bc_matrix.h5'\n",
    "sticr = '/media/chang/HDD-11/mgkeefe/230106_MKTN09_local_STICR/230103_STICR_BCs/STICR_outs_GW22_221118/GW22_221118_S3_bc_matrix_sparse.h5ad'\n",
    "out = '/media/chang/HDD-11/mgkeefe/230106_MKTN09_local_STICR/230103_STICR_BCs/STICR_outs_GW22_221118/GW22_221118_S3_scAR_bcs.csv'\n",
    "gw22_1118_S3 = sc.read_10x_h5(filename=rna, gex_only=True) # Change this if ur using a different scRNA-seq format\n",
    "gw22_1118_S3_sticr = sc.read_h5ad(sticr)\n",
    "gw22_1118_S3_sticr_raw = gw22_1118_S3_sticr.to_df()\n",
    "gw22_1118_S3_sticr.var_names_make_unique()"
   ]
  },
  {
   "cell_type": "code",
   "execution_count": 246,
   "id": "d4d96376-ab8d-40e7-a235-a54b677907e3",
   "metadata": {},
   "outputs": [
    {
     "name": "stdout",
     "output_type": "stream",
     "text": [
      "['AAACCCAAGAAACCCA', 'AAACCCAAGAAACTGT', 'AAACCCAAGAAAGTCT', 'AAACCCAAGAAATAGG', 'AAACCCAAGAAATTCG', 'AAACCCAAGAAATTGC', 'AAACCCAAGAACCGCA', 'AAACCCAAGAACCTCC', 'AAACCCAAGAACGCGT', 'AAACCCAAGAAGCTCG']\n",
      "['AAACCCAAGAAACCCA-1', 'AAACCCAAGAAACTGT-1', 'AAACCCAAGAAAGTCT-1', 'AAACCCAAGAAATAGG-1', 'AAACCCAAGAAATTCG-1', 'AAACCCAAGAAATTGC-1', 'AAACCCAAGAACCGCA-1', 'AAACCCAAGAACCTCC-1', 'AAACCCAAGAACGCGT-1', 'AAACCCAAGAAGCTCG-1']\n"
     ]
    }
   ],
   "source": [
    "#have to fix the names in the RNA file to remove the -1 from the CBC\n",
    "fixed_rna_names = gw22_1118_S3.obs_names.tolist()\n",
    "for c in range(0, len(fixed_rna_names)):\n",
    "    fixed_rna_names[c] = fixed_rna_names[c][0:-2]\n",
    "print(fixed_rna_names[0:10])\n",
    "print(gw22_1118_S3.obs_names[0:10].tolist())"
   ]
  },
  {
   "cell_type": "code",
   "execution_count": 247,
   "id": "c90f460d-1d76-4380-af51-f1d03bd77a5f",
   "metadata": {},
   "outputs": [
    {
     "name": "stdout",
     "output_type": "stream",
     "text": [
      "['AAACCCAAGAAACCCA', 'AAACCCAAGAAACTGT', 'AAACCCAAGAAAGTCT', 'AAACCCAAGAAATAGG', 'AAACCCAAGAAATTCG', 'AAACCCAAGAAATTGC', 'AAACCCAAGAACCGCA', 'AAACCCAAGAACCTCC', 'AAACCCAAGAACGCGT', 'AAACCCAAGAAGCTCG']\n",
      "['AAACCCAAGACGGTTG', 'AAACCCAAGATCGCCC', 'AAACCCAAGATGACAT', 'AAACCCAAGATGGTAT', 'AAACCCAAGCATAGGC', 'AAACCCAAGCGCCTTG', 'AAACCCAAGGTTCTAC', 'AAACCCAAGTATCTGC', 'AAACCCAAGTCTAGCT', 'AAACCCAAGTTCCGTA']\n"
     ]
    }
   ],
   "source": [
    "gw22_1118_S3.obs_names = fixed_rna_names\n",
    "print(gw22_1118_S3.obs_names[:10].tolist())\n",
    "print(gw22_1118_S3_sticr.obs_names[:10].tolist())"
   ]
  },
  {
   "cell_type": "code",
   "execution_count": 248,
   "id": "8192a03f-9cb7-4f41-8d7d-ff5c160ac07f",
   "metadata": {},
   "outputs": [],
   "source": [
    "rank_UMIs = pd.DataFrame(gw22_1118_S3[:,gw22_1118_S3.var['feature_types']=='Gene Expression'].X.sum(axis=1), index = gw22_1118_S3.obs_names, columns=['total_counts'])\n",
    "rank_UMIs['droplets'] = 'cell-free droplets'\n",
    "rank_UMIs['droplets'] = rank_UMIs['droplets'].mask(rank_UMIs['total_counts']>50, 'droplet II')\n",
    "rank_UMIs['droplets'] = rank_UMIs['droplets'].mask(rank_UMIs['total_counts']>100, 'droplet I')\n",
    "rank_UMIs['droplets'] = rank_UMIs['droplets'].mask(rank_UMIs['total_counts']>500, 'cells')\n",
    "rank_UMIs = rank_UMIs.sort_values(by='total_counts', ascending=False).reset_index().rename_axis(\"rank\").reset_index()\n",
    "rank_UMIs = rank_UMIs.loc[rank_UMIs['total_counts']>0]\n",
    "rank_UMIs = rank_UMIs.set_index('index').rename_axis('cells')"
   ]
  },
  {
   "cell_type": "code",
   "execution_count": 249,
   "id": "54abd95a-e7ec-4ca1-8a32-4ede5bbfc07c",
   "metadata": {},
   "outputs": [
    {
     "data": {
      "image/png": "[encoded data removed]",
      "text/plain": [
       "<Figure size 600x450 with 1 Axes>"
      ]
     },
     "metadata": {},
     "output_type": "display_data"
    }
   ],
   "source": [
    "plt.figure(figsize=(4, 3), dpi=150)\n",
    "\n",
    "ax = sns.lineplot(data = rank_UMIs,\n",
    "                  x='rank',\n",
    "                  y='total_counts',\n",
    "                  hue='droplets',\n",
    "                  hue_order=['cells', 'droplet I', 'droplet II', 'cell-free droplets'],\n",
    "                  palette=sns.color_palette()[-4:],\n",
    "                  markers=False,\n",
    "                  lw=2)\n",
    "\n",
    "ax.set_xscale('log')\n",
    "ax.set_yscale('log')\n",
    "ax.set_xlabel('sorted droplets');\n",
    "ax.legend(loc='lower left', ncol=1, title=None, frameon=False)\n",
    "ax.set_title(f'kneeplot: gw22_1118_S3');\n",
    "\n",
    "sns.set_palette(\"muted\")\n",
    "sns.set_style(\"ticks\")\n",
    "sns.despine(offset=10, trim=False);"
   ]
  },
  {
   "cell_type": "code",
   "execution_count": 250,
   "id": "91893e22-2a04-4206-9b59-ae00f133f6dd",
   "metadata": {},
   "outputs": [
    {
     "name": "stdout",
     "output_type": "stream",
     "text": [
      "..Running VAE using the following param set:\n",
      "......scAR mode:  CROPseq\n",
      "......count model:  binomial\n",
      "......num_input_feature:  21115\n",
      "......NN_layer1:  150\n",
      "......NN_layer2:  100\n",
      "......latent_space:  15\n",
      "......dropout_prob:  0\n",
      "......kld_weight:  1e-05\n",
      "......lr:  0.001\n",
      "......lr_step_size:  5\n",
      "......lr_gamma:  0.97\n",
      "===========================================\n",
      "  Training.....\n",
      "100%|██████████| 400/400 [13:56<00:00,  2.09s/it]\n",
      "===========================================\n",
      "  Inferring .....\n"
     ]
    }
   ],
   "source": [
    "####################\n",
    "gw22_1118_S3_filtered = gw22_1118_S3[gw22_1118_S3.obs_names.isin(rank_UMIs[rank_UMIs['droplets']=='cells'].index)] # equal to filtered population as cellranger output\n",
    "gw22_1118_S3_sticr_filtered = gw22_1118_S3_sticr[gw22_1118_S3_sticr.obs_names.isin(gw22_1118_S3_filtered.obs_names)].to_df() # pandas.DataFrame\n",
    "gw22_1118_S3_sticr_filtered_empty_droplets = gw22_1118_S3_sticr_raw.loc[gw22_1118_S3_sticr_raw.index.difference(gw22_1118_S3_sticr_filtered.index)]\n",
    "gw22_1118_S3_sticr_filtered_empty_profile = gw22_1118_S3_sticr_filtered_empty_droplets.sum()/gw22_1118_S3_sticr_filtered_empty_droplets.sum().sum()    # pandas.Series\n",
    "scarObj = scAR.model(raw_count=gw22_1118_S3_sticr_filtered,\n",
    "                     empty_profile=gw22_1118_S3_sticr_filtered_empty_profile.values, # In the case of default None, the empty_profile will be calculated by averaging pooled cells\n",
    "                     scRNAseq_tech='CROPseq')\n",
    "scarObj.train(epochs=400)\n",
    "scarObj.inference(feature_type='sgRNAs', cutoff=3)\n",
    "scarObj.feature_assignment.to_csv(out)\n",
    "####################"
   ]
  },
  {
   "cell_type": "code",
   "execution_count": 251,
   "id": "89db47f0-696b-4bcd-afa2-1471c067e9bb",
   "metadata": {},
   "outputs": [],
   "source": [
    "scarObj.feature_assignment.to_csv(out)"
   ]
  },
  {
   "cell_type": "code",
   "execution_count": 252,
   "id": "923e3b44-133f-44e9-a0bd-efdef21e9d0a",
   "metadata": {},
   "outputs": [],
   "source": [
    "bc_csv = pd.read_csv(out)"
   ]
  },
  {
   "cell_type": "code",
   "execution_count": 253,
   "id": "42fd288a-c62b-4ec5-98a5-ba89570405d7",
   "metadata": {},
   "outputs": [
    {
     "data": {
      "text/html": [
       "<div>\n",
       "<style scoped>\n",
       "    .dataframe tbody tr th:only-of-type {\n",
       "        vertical-align: middle;\n",
       "    }\n",
       "\n",
       "    .dataframe tbody tr th {\n",
       "        vertical-align: top;\n",
       "    }\n",
       "\n",
       "    .dataframe thead th {\n",
       "        text-align: right;\n",
       "    }\n",
       "</style>\n",
       "<table border=\"1\" class=\"dataframe\">\n",
       "  <thead>\n",
       "    <tr style=\"text-align: right;\">\n",
       "      <th></th>\n",
       "      <th>Unnamed: 0</th>\n",
       "      <th>sgRNAs</th>\n",
       "      <th>n_sgRNAs</th>\n",
       "    </tr>\n",
       "  </thead>\n",
       "  <tbody>\n",
       "    <tr>\n",
       "      <th>0</th>\n",
       "      <td>AAACCCAGTGCTCTTC</td>\n",
       "      <td>Index3_Bit1_F_171-Bit2_F_277-Bit3_F_364t</td>\n",
       "      <td>1</td>\n",
       "    </tr>\n",
       "    <tr>\n",
       "      <th>1</th>\n",
       "      <td>AAACCCATCGTTATCT</td>\n",
       "      <td>IndexE_Bit1_F_150-Bit2_F_347-Bit3_F_272t</td>\n",
       "      <td>1</td>\n",
       "    </tr>\n",
       "    <tr>\n",
       "      <th>2</th>\n",
       "      <td>AAACGAACAAGTGGTG</td>\n",
       "      <td>IndexE_Bit1_F_057-Bit2_F_427-Bit3_F_139t</td>\n",
       "      <td>1</td>\n",
       "    </tr>\n",
       "    <tr>\n",
       "      <th>3</th>\n",
       "      <td>AAACGAATCCTTTAGT</td>\n",
       "      <td>IndexE_Bit1_F_085-Bit2_F_218-Bit3_F_433t</td>\n",
       "      <td>1</td>\n",
       "    </tr>\n",
       "    <tr>\n",
       "      <th>4</th>\n",
       "      <td>AAACGCTAGAAATCCA</td>\n",
       "      <td>IndexE_Bit1_F_323-Bit2_F_375-Bit3_F_098t</td>\n",
       "      <td>1</td>\n",
       "    </tr>\n",
       "    <tr>\n",
       "      <th>...</th>\n",
       "      <td>...</td>\n",
       "      <td>...</td>\n",
       "      <td>...</td>\n",
       "    </tr>\n",
       "    <tr>\n",
       "      <th>2404</th>\n",
       "      <td>TTTGGTTTCAGCTGAT</td>\n",
       "      <td>IndexE_Bit1_F_056-Bit2_F_263-Bit3_F_344t</td>\n",
       "      <td>1</td>\n",
       "    </tr>\n",
       "    <tr>\n",
       "      <th>2405</th>\n",
       "      <td>TTTGGTTTCCACAGCG</td>\n",
       "      <td>Index3_Bit1_F_122-Bit2_F_103-Bit3_F_156t</td>\n",
       "      <td>1</td>\n",
       "    </tr>\n",
       "    <tr>\n",
       "      <th>2406</th>\n",
       "      <td>TTTGTTGAGGCTTAAA</td>\n",
       "      <td>Index3_Bit1_F_218-Bit2_F_338-Bit3_F_051t</td>\n",
       "      <td>1</td>\n",
       "    </tr>\n",
       "    <tr>\n",
       "      <th>2407</th>\n",
       "      <td>TTTGTTGAGTCAGAGC</td>\n",
       "      <td>IndexE_Bit1_F_083-Bit2_F_125-Bit3_F_391t</td>\n",
       "      <td>1</td>\n",
       "    </tr>\n",
       "    <tr>\n",
       "      <th>2408</th>\n",
       "      <td>TTTGTTGTCAACCTCC</td>\n",
       "      <td>Index3_Bit1_F_222-Bit2_F_367-Bit3_F_080t</td>\n",
       "      <td>1</td>\n",
       "    </tr>\n",
       "  </tbody>\n",
       "</table>\n",
       "<p>2409 rows × 3 columns</p>\n",
       "</div>"
      ],
      "text/plain": [
       "            Unnamed: 0                                    sgRNAs  n_sgRNAs\n",
       "0     AAACCCAGTGCTCTTC  Index3_Bit1_F_171-Bit2_F_277-Bit3_F_364t         1\n",
       "1     AAACCCATCGTTATCT  IndexE_Bit1_F_150-Bit2_F_347-Bit3_F_272t         1\n",
       "2     AAACGAACAAGTGGTG  IndexE_Bit1_F_057-Bit2_F_427-Bit3_F_139t         1\n",
       "3     AAACGAATCCTTTAGT  IndexE_Bit1_F_085-Bit2_F_218-Bit3_F_433t         1\n",
       "4     AAACGCTAGAAATCCA  IndexE_Bit1_F_323-Bit2_F_375-Bit3_F_098t         1\n",
       "...                ...                                       ...       ...\n",
       "2404  TTTGGTTTCAGCTGAT  IndexE_Bit1_F_056-Bit2_F_263-Bit3_F_344t         1\n",
       "2405  TTTGGTTTCCACAGCG  Index3_Bit1_F_122-Bit2_F_103-Bit3_F_156t         1\n",
       "2406  TTTGTTGAGGCTTAAA  Index3_Bit1_F_218-Bit2_F_338-Bit3_F_051t         1\n",
       "2407  TTTGTTGAGTCAGAGC  IndexE_Bit1_F_083-Bit2_F_125-Bit3_F_391t         1\n",
       "2408  TTTGTTGTCAACCTCC  Index3_Bit1_F_222-Bit2_F_367-Bit3_F_080t         1\n",
       "\n",
       "[2409 rows x 3 columns]"
      ]
     },
     "execution_count": 253,
     "metadata": {},
     "output_type": "execute_result"
    }
   ],
   "source": [
    "bc_csv"
   ]
  },
  {
   "cell_type": "code",
   "execution_count": 254,
   "id": "a95953ab-9f5a-439c-97db-63e18ca602d3",
   "metadata": {},
   "outputs": [
    {
     "data": {
      "text/plain": [
       "1626"
      ]
     },
     "execution_count": 254,
     "metadata": {},
     "output_type": "execute_result"
    }
   ],
   "source": [
    "len(np.unique(bc_csv['sgRNAs']))"
   ]
  },
  {
   "cell_type": "code",
   "execution_count": 255,
   "id": "ea84813d-111c-4040-9aaf-fb71612bd404",
   "metadata": {},
   "outputs": [
    {
     "data": {
      "text/plain": [
       "1    2393\n",
       "2      16\n",
       "Name: n_sgRNAs, dtype: int64"
      ]
     },
     "execution_count": 255,
     "metadata": {},
     "output_type": "execute_result"
    }
   ],
   "source": [
    "bc_csv['n_sgRNAs'].value_counts()"
   ]
  },
  {
   "cell_type": "code",
   "execution_count": 256,
   "id": "036954e3-7768-4da3-8a14-abddcf97d44e",
   "metadata": {},
   "outputs": [
    {
     "data": {
      "text/plain": [
       "1      209704\n",
       "2       11007\n",
       "3        3904\n",
       "4        2136\n",
       "5        1389\n",
       "        ...  \n",
       "118         1\n",
       "149         1\n",
       "141         1\n",
       "170         1\n",
       "169         1\n",
       "Name: UMI_Count, Length: 136, dtype: int64"
      ]
     },
     "execution_count": 256,
     "metadata": {},
     "output_type": "execute_result"
    }
   ],
   "source": [
    "sticr_tsv['UMI_Count'].value_counts()"
   ]
  },
  {
   "cell_type": "code",
   "execution_count": 257,
   "id": "af1f4da9-c1ed-43bf-b1d9-27df016d8a4f",
   "metadata": {},
   "outputs": [
    {
     "name": "stdout",
     "output_type": "stream",
     "text": [
      "Number of barcodes in clone:  1\n",
      "Total number of cells with given barcodes:\n",
      "2393\n",
      "Unique number of barcodes:\n",
      "1610\n",
      "\n",
      "Number of barcodes in clone:  2\n",
      "Total number of cells with given barcodes:\n",
      "16\n",
      "Unique number of barcodes:\n",
      "16\n",
      "\n"
     ]
    }
   ],
   "source": [
    "for n in np.unique(bc_csv.n_sgRNAs):\n",
    "    print('Number of barcodes in clone: ',str(n))\n",
    "    print('Total number of cells with given barcodes:')\n",
    "    print(sum(bc_csv.n_sgRNAs==n))\n",
    "    print('Unique number of barcodes:')\n",
    "    print(len(np.unique(bc_csv.loc[bc_csv.n_sgRNAs==n,:].sgRNAs)))\n",
    "    print('')"
   ]
  },
  {
   "cell_type": "code",
   "execution_count": 258,
   "id": "46323c90-bb8c-4c0c-ad97-d7edf3b5780b",
   "metadata": {},
   "outputs": [],
   "source": [
    "bc_csv.columns=['CBC','Clone_barcodes','n_barcodes']"
   ]
  },
  {
   "cell_type": "code",
   "execution_count": 259,
   "id": "b28ad82a-ad31-478b-91bb-464898a2d10e",
   "metadata": {},
   "outputs": [],
   "source": [
    "clone_data_df = pd.DataFrame(bc_csv.Clone_barcodes.value_counts())"
   ]
  },
  {
   "cell_type": "code",
   "execution_count": 260,
   "id": "cee86f6b-d3b9-4887-8860-6a05a0bc5b41",
   "metadata": {},
   "outputs": [],
   "source": [
    "clone_ids = []\n",
    "exp_prefix='LS29'\n",
    "for i in range(0,len(clone_data_df)):\n",
    "    clone_ids.append(exp_prefix+'_Clone_'+str(i))"
   ]
  },
  {
   "cell_type": "code",
   "execution_count": 261,
   "id": "85f96f5a-be07-48fe-9e50-fc95ccfe680f",
   "metadata": {},
   "outputs": [],
   "source": [
    "clone_data_df['Clone_IDs']=clone_ids"
   ]
  },
  {
   "cell_type": "code",
   "execution_count": 262,
   "id": "52387267-bee6-4a2f-bf50-dfc4ece04578",
   "metadata": {},
   "outputs": [],
   "source": [
    "clone_data_df.columns=['Clone_size','Clone_IDs']"
   ]
  },
  {
   "cell_type": "code",
   "execution_count": 263,
   "id": "3023aaab-b120-48cc-b218-26f8b11436b5",
   "metadata": {},
   "outputs": [],
   "source": [
    "clone_index = []\n",
    "for i in range(0,len(clone_data_df)):\n",
    "    clone_index.append(clone_data_df.index[i][0:6])"
   ]
  },
  {
   "cell_type": "code",
   "execution_count": 264,
   "id": "02476f48-2b2f-45b7-b119-7774b142f9ea",
   "metadata": {},
   "outputs": [],
   "source": [
    "clone_data_df['Clone_Index']=clone_index"
   ]
  },
  {
   "cell_type": "code",
   "execution_count": 265,
   "id": "da3bef33-5c7a-461f-af38-704c89916fd9",
   "metadata": {},
   "outputs": [
    {
     "data": {
      "text/html": [
       "<div>\n",
       "<style scoped>\n",
       "    .dataframe tbody tr th:only-of-type {\n",
       "        vertical-align: middle;\n",
       "    }\n",
       "\n",
       "    .dataframe tbody tr th {\n",
       "        vertical-align: top;\n",
       "    }\n",
       "\n",
       "    .dataframe thead th {\n",
       "        text-align: right;\n",
       "    }\n",
       "</style>\n",
       "<table border=\"1\" class=\"dataframe\">\n",
       "  <thead>\n",
       "    <tr style=\"text-align: right;\">\n",
       "      <th></th>\n",
       "      <th>Clone_size</th>\n",
       "      <th>Clone_IDs</th>\n",
       "      <th>Clone_Index</th>\n",
       "    </tr>\n",
       "  </thead>\n",
       "  <tbody>\n",
       "    <tr>\n",
       "      <th>Index3_Bit1_F_075-Bit2_F_262-Bit3_F_244t</th>\n",
       "      <td>10</td>\n",
       "      <td>LS29_Clone_0</td>\n",
       "      <td>Index3</td>\n",
       "    </tr>\n",
       "    <tr>\n",
       "      <th>Index3_Bit1_F_196-Bit2_F_150-Bit3_F_097t</th>\n",
       "      <td>8</td>\n",
       "      <td>LS29_Clone_1</td>\n",
       "      <td>Index3</td>\n",
       "    </tr>\n",
       "    <tr>\n",
       "      <th>Index3_Bit1_F_222-Bit2_F_367-Bit3_F_080t</th>\n",
       "      <td>8</td>\n",
       "      <td>LS29_Clone_2</td>\n",
       "      <td>Index3</td>\n",
       "    </tr>\n",
       "    <tr>\n",
       "      <th>IndexE_Bit1_F_049-Bit2_F_148-Bit3_F_314t</th>\n",
       "      <td>8</td>\n",
       "      <td>LS29_Clone_3</td>\n",
       "      <td>IndexE</td>\n",
       "    </tr>\n",
       "    <tr>\n",
       "      <th>Index3_Bit1_F_495-Bit2_F_168-Bit3_F_237t</th>\n",
       "      <td>8</td>\n",
       "      <td>LS29_Clone_4</td>\n",
       "      <td>Index3</td>\n",
       "    </tr>\n",
       "    <tr>\n",
       "      <th>...</th>\n",
       "      <td>...</td>\n",
       "      <td>...</td>\n",
       "      <td>...</td>\n",
       "    </tr>\n",
       "    <tr>\n",
       "      <th>Index3_Bit1_F_366-Bit2_F_096-Bit3_F_111t</th>\n",
       "      <td>1</td>\n",
       "      <td>LS29_Clone_1621</td>\n",
       "      <td>Index3</td>\n",
       "    </tr>\n",
       "    <tr>\n",
       "      <th>IndexE_Bit1_F_050-Bit2_F_292-Bit3_F_028t</th>\n",
       "      <td>1</td>\n",
       "      <td>LS29_Clone_1622</td>\n",
       "      <td>IndexE</td>\n",
       "    </tr>\n",
       "    <tr>\n",
       "      <th>IndexE_Bit1_F_383-Bit2_F_001-Bit3_F_249t</th>\n",
       "      <td>1</td>\n",
       "      <td>LS29_Clone_1623</td>\n",
       "      <td>IndexE</td>\n",
       "    </tr>\n",
       "    <tr>\n",
       "      <th>Index3_Bit1_F_067-Bit2_F_427-Bit3_F_105t</th>\n",
       "      <td>1</td>\n",
       "      <td>LS29_Clone_1624</td>\n",
       "      <td>Index3</td>\n",
       "    </tr>\n",
       "    <tr>\n",
       "      <th>IndexE_Bit1_F_083-Bit2_F_125-Bit3_F_391t</th>\n",
       "      <td>1</td>\n",
       "      <td>LS29_Clone_1625</td>\n",
       "      <td>IndexE</td>\n",
       "    </tr>\n",
       "  </tbody>\n",
       "</table>\n",
       "<p>1626 rows × 3 columns</p>\n",
       "</div>"
      ],
      "text/plain": [
       "                                          Clone_size        Clone_IDs  \\\n",
       "Index3_Bit1_F_075-Bit2_F_262-Bit3_F_244t          10     LS29_Clone_0   \n",
       "Index3_Bit1_F_196-Bit2_F_150-Bit3_F_097t           8     LS29_Clone_1   \n",
       "Index3_Bit1_F_222-Bit2_F_367-Bit3_F_080t           8     LS29_Clone_2   \n",
       "IndexE_Bit1_F_049-Bit2_F_148-Bit3_F_314t           8     LS29_Clone_3   \n",
       "Index3_Bit1_F_495-Bit2_F_168-Bit3_F_237t           8     LS29_Clone_4   \n",
       "...                                              ...              ...   \n",
       "Index3_Bit1_F_366-Bit2_F_096-Bit3_F_111t           1  LS29_Clone_1621   \n",
       "IndexE_Bit1_F_050-Bit2_F_292-Bit3_F_028t           1  LS29_Clone_1622   \n",
       "IndexE_Bit1_F_383-Bit2_F_001-Bit3_F_249t           1  LS29_Clone_1623   \n",
       "Index3_Bit1_F_067-Bit2_F_427-Bit3_F_105t           1  LS29_Clone_1624   \n",
       "IndexE_Bit1_F_083-Bit2_F_125-Bit3_F_391t           1  LS29_Clone_1625   \n",
       "\n",
       "                                         Clone_Index  \n",
       "Index3_Bit1_F_075-Bit2_F_262-Bit3_F_244t      Index3  \n",
       "Index3_Bit1_F_196-Bit2_F_150-Bit3_F_097t      Index3  \n",
       "Index3_Bit1_F_222-Bit2_F_367-Bit3_F_080t      Index3  \n",
       "IndexE_Bit1_F_049-Bit2_F_148-Bit3_F_314t      IndexE  \n",
       "Index3_Bit1_F_495-Bit2_F_168-Bit3_F_237t      Index3  \n",
       "...                                              ...  \n",
       "Index3_Bit1_F_366-Bit2_F_096-Bit3_F_111t      Index3  \n",
       "IndexE_Bit1_F_050-Bit2_F_292-Bit3_F_028t      IndexE  \n",
       "IndexE_Bit1_F_383-Bit2_F_001-Bit3_F_249t      IndexE  \n",
       "Index3_Bit1_F_067-Bit2_F_427-Bit3_F_105t      Index3  \n",
       "IndexE_Bit1_F_083-Bit2_F_125-Bit3_F_391t      IndexE  \n",
       "\n",
       "[1626 rows x 3 columns]"
      ]
     },
     "execution_count": 265,
     "metadata": {},
     "output_type": "execute_result"
    }
   ],
   "source": [
    "clone_data_df"
   ]
  },
  {
   "cell_type": "code",
   "execution_count": 267,
   "id": "3067edb9-9c41-4a6c-b903-ee870a96a081",
   "metadata": {},
   "outputs": [
    {
     "data": {
      "text/plain": [
       "1     1167\n",
       "2      282\n",
       "3      108\n",
       "4       29\n",
       "5       19\n",
       "6       11\n",
       "7        5\n",
       "8        4\n",
       "10       1\n",
       "Name: Clone_size, dtype: int64"
      ]
     },
     "execution_count": 267,
     "metadata": {},
     "output_type": "execute_result"
    }
   ],
   "source": [
    "clone_data_df['Clone_size'].value_counts()"
   ]
  },
  {
   "cell_type": "code",
   "execution_count": 268,
   "id": "390e394d-0e28-4c04-a0fb-ad671ae4e8d7",
   "metadata": {},
   "outputs": [],
   "source": [
    "bc_csv = bc_csv.merge(clone_data_df, left_on='Clone_barcodes', right_index=True)"
   ]
  },
  {
   "cell_type": "code",
   "execution_count": 269,
   "id": "b8660c85-b056-4bf6-9c34-d9b432e0b4a5",
   "metadata": {},
   "outputs": [],
   "source": [
    "bc_csv.to_csv('/media/chang/HDD-11/mgkeefe/230106_MKTN09_local_STICR/230103_STICR_BCs/STICR_outs_GW22_221118/GW22_221118_S3_bcs_final_metadata.csv')"
   ]
  },
  {
   "cell_type": "code",
   "execution_count": null,
   "id": "43c6c73b-76ca-432b-a7c6-c3106373249a",
   "metadata": {},
   "outputs": [],
   "source": []
  },
  {
   "cell_type": "markdown",
   "id": "08f737de-fa9d-4e51-99e9-2e89a1c6bea4",
   "metadata": {
    "jp-MarkdownHeadingCollapsed": true,
    "tags": []
   },
   "source": [
    "## new processing for 221220 S1:"
   ]
  },
  {
   "cell_type": "code",
   "execution_count": 310,
   "id": "bd2be28e-892a-4622-9ae7-e1b6a205f3eb",
   "metadata": {},
   "outputs": [],
   "source": [
    "## load in the Final_Barcodes.tsv output from the STICR pipeline\n",
    "sticr_tsv = pd.read_csv('/media/chang/HDD-11/mgkeefe/230106_MKTN09_local_STICR/230103_STICR_BCs/STICR_outs_GW16_1220/GW16_1220_S1/Final_Barcodes.tsv',\n",
    "                           sep='\\t')\n",
    "sticr_tsv.index = list(sticr_tsv['CBC'])"
   ]
  },
  {
   "cell_type": "code",
   "execution_count": 311,
   "id": "253d5d4a-1939-4263-8fd2-23c64bd7b837",
   "metadata": {},
   "outputs": [],
   "source": [
    "## generate a matrix of zeroes with dimensions CBCs (rows) by STICR BCs (columns)\n",
    "cbc_names = np.unique(sticr_tsv['CBC'])\n",
    "bc_names = np.unique(sticr_tsv['barcode'])\n",
    "bc_matrix = np.zeros((len(np.unique(cbc_names)), len(np.unique(bc_names))))\n",
    "bc_df = pd.DataFrame(bc_matrix, index=list(cbc_names), columns=list(bc_names))"
   ]
  },
  {
   "cell_type": "code",
   "execution_count": 312,
   "id": "73921288-ffea-4906-aa99-f5ab53a5e4ad",
   "metadata": {},
   "outputs": [
    {
     "name": "stderr",
     "output_type": "stream",
     "text": [
      "100%|██████████| 31284/31284 [1:14:23<00:00,  7.01it/s]\n"
     ]
    }
   ],
   "source": [
    "## iterate through every STICR BC and pull the UMI values for a given CBC and map them into the matrix of cells by barcodes\n",
    "from tqdm import tqdm\n",
    "\n",
    "for sbc in tqdm(bc_names):\n",
    "    bc_df.loc[bc_df.index.isin(sticr_tsv['CBC'][sticr_tsv['barcode']==sbc]), bc_df.columns==sbc] = sticr_tsv.loc[sticr_tsv['barcode']==sbc,'UMI_Count']"
   ]
  },
  {
   "cell_type": "code",
   "execution_count": 313,
   "id": "0c4f2897-5f32-4caa-abb3-99bc9cecfb48",
   "metadata": {},
   "outputs": [],
   "source": [
    "## compress the dataframe by turning it into a sparse matrix, which is the input for scanpy\n",
    "## note: this used to be done in R with DropletUtils, but that stopped working for some reason so doing it this way instead\n",
    "from scipy.sparse import csr_matrix\n",
    "import h5sparse\n",
    "import h5py\n",
    "import anndata\n",
    "bc_df_sparse = csr_matrix(bc_df)"
   ]
  },
  {
   "cell_type": "code",
   "execution_count": 314,
   "id": "44d14acb-fb75-47ad-a1b1-e05d8ccbf03a",
   "metadata": {},
   "outputs": [],
   "source": [
    "## convert the sparse matrix back into a dataframe, then parse it with AnnData for scanpy input\n",
    "## save the scanpy input in h5 format so that the slow matrix generation doesn't have to be done again\n",
    "bc_df_reformat = pd.DataFrame.sparse.from_spmatrix(bc_df_sparse, index=bc_df.index, columns=bc_df.columns)\n",
    "bc_df_sc_input = anndata.AnnData(bc_df_reformat)\n",
    "bc_df_sc_input.write_h5ad('/media/chang/HDD-11/mgkeefe/230106_MKTN09_local_STICR/230103_STICR_BCs/STICR_outs_GW16_1220/GW16_221220_S1_bc_matrix_sparse.h5ad')"
   ]
  },
  {
   "cell_type": "code",
   "execution_count": 315,
   "id": "67c0104c-d070-416d-a42b-1a9735720f76",
   "metadata": {},
   "outputs": [],
   "source": [
    "## load in the cellranger output and barcode matrix\n",
    "rna = '/media/chang/HDD-11/mgkeefe/230106_MKTN09_local_STICR/cellranger_outs/GW16_1220_sub_FBS_S1_cellranger/raw_feature_bc_matrix.h5'\n",
    "sticr = '/media/chang/HDD-11/mgkeefe/230106_MKTN09_local_STICR/230103_STICR_BCs/STICR_outs_GW16_1220/GW16_221220_S1_bc_matrix_sparse.h5ad'\n",
    "out = '/media/chang/HDD-11/mgkeefe/230106_MKTN09_local_STICR/230103_STICR_BCs/STICR_outs_GW16_1220/GW16_221220_S1_scAR_bcs.csv'\n",
    "gw16_1220_s1 = sc.read_10x_h5(filename=rna, gex_only=True) # Change this if ur using a different scRNA-seq format\n",
    "gw16_1220_s1_sticr = sc.read_h5ad(sticr)\n",
    "gw16_1220_s1_sticr_raw = gw16_1220_s1_sticr.to_df()\n",
    "gw16_1220_s1_sticr.var_names_make_unique()"
   ]
  },
  {
   "cell_type": "code",
   "execution_count": 316,
   "id": "531543a4-90c3-4237-8ee2-88849653f229",
   "metadata": {},
   "outputs": [
    {
     "name": "stdout",
     "output_type": "stream",
     "text": [
      "old names:\n",
      "['AAACCCAAGAAACCCA-1', 'AAACCCAAGAAACGTC-1', 'AAACCCAAGAAACTCA-1', 'AAACCCAAGAAAGAAC-1', 'AAACCCAAGAAAGGAT-1', 'AAACCCAAGAAAGTCT-1', 'AAACCCAAGAAATGGG-1', 'AAACCCAAGAAATTCG-1', 'AAACCCAAGAACAAGG-1', 'AAACCCAAGAACCGCA-1']\n",
      "fixed names:\n",
      "['AAACCCAAGAAACCCA', 'AAACCCAAGAAACGTC', 'AAACCCAAGAAACTCA', 'AAACCCAAGAAAGAAC', 'AAACCCAAGAAAGGAT', 'AAACCCAAGAAAGTCT', 'AAACCCAAGAAATGGG', 'AAACCCAAGAAATTCG', 'AAACCCAAGAACAAGG', 'AAACCCAAGAACCGCA']\n",
      "cell names from cellranger:\n",
      "['AAACCCAAGAAACCCA', 'AAACCCAAGAAACGTC', 'AAACCCAAGAAACTCA', 'AAACCCAAGAAAGAAC', 'AAACCCAAGAAAGGAT', 'AAACCCAAGAAAGTCT', 'AAACCCAAGAAATGGG', 'AAACCCAAGAAATTCG', 'AAACCCAAGAACAAGG', 'AAACCCAAGAACCGCA']\n",
      "cell names from STICR processing:\n",
      "['AAACCCAAGAAACTGC', 'AAACCCAAGAGTCACG', 'AAACCCAAGATACATG', 'AAACCCAAGATTACTC', 'AAACCCAAGATTTGTC', 'AAACCCAAGCATCTGC', 'AAACCCAAGCATTTGC', 'AAACCCAAGCGACATA', 'AAACCCAAGCGCTGCT', 'AAACCCAAGCGGTAAC']\n"
     ]
    }
   ],
   "source": [
    "## fix the names in the RNA file to remove the -1 from the CBC\n",
    "fixed_rna_names = gw16_1220_s1.obs_names.tolist()\n",
    "for c in range(0, len(fixed_rna_names)):\n",
    "    fixed_rna_names[c] = fixed_rna_names[c][0:-2]\n",
    "print('old names:')\n",
    "print(gw16_1220_s1.obs_names[0:10].tolist())\n",
    "print('fixed names:')\n",
    "print(fixed_rna_names[0:10])\n",
    "gw16_1220_s1.obs_names = fixed_rna_names\n",
    "print('cell names from cellranger:')\n",
    "print(gw16_1220_s1.obs_names[:10].tolist())\n",
    "print('cell names from STICR processing:')\n",
    "print(gw16_1220_s1_sticr.obs_names[:10].tolist())"
   ]
  },
  {
   "cell_type": "code",
   "execution_count": 317,
   "id": "4a320fa2-11bd-4d78-9040-1098ad441ac5",
   "metadata": {},
   "outputs": [
    {
     "data": {
      "image/png": "[encoded data removed]",
      "text/plain": [
       "<Figure size 600x450 with 1 Axes>"
      ]
     },
     "metadata": {},
     "output_type": "display_data"
    }
   ],
   "source": [
    "## run scAR (stole this code from Chang)\n",
    "rank_UMIs = pd.DataFrame(gw16_1220_s1[:,gw16_1220_s1.var['feature_types']=='Gene Expression'].X.sum(axis=1), index = gw16_1220_s1.obs_names, columns=['total_counts'])\n",
    "rank_UMIs['droplets'] = 'cell-free droplets'\n",
    "rank_UMIs['droplets'] = rank_UMIs['droplets'].mask(rank_UMIs['total_counts']>50, 'droplet II')\n",
    "rank_UMIs['droplets'] = rank_UMIs['droplets'].mask(rank_UMIs['total_counts']>100, 'droplet I')\n",
    "rank_UMIs['droplets'] = rank_UMIs['droplets'].mask(rank_UMIs['total_counts']>500, 'cells')\n",
    "rank_UMIs = rank_UMIs.sort_values(by='total_counts', ascending=False).reset_index().rename_axis(\"rank\").reset_index()\n",
    "rank_UMIs = rank_UMIs.loc[rank_UMIs['total_counts']>0]\n",
    "rank_UMIs = rank_UMIs.set_index('index').rename_axis('cells')\n",
    "\n",
    "\n",
    "plt.figure(figsize=(4, 3), dpi=150)\n",
    "\n",
    "ax = sns.lineplot(data = rank_UMIs,\n",
    "                  x='rank',\n",
    "                  y='total_counts',\n",
    "                  hue='droplets',\n",
    "                  hue_order=['cells', 'droplet I', 'droplet II', 'cell-free droplets'],\n",
    "                  palette=sns.color_palette()[-4:],\n",
    "                  markers=False,\n",
    "                  lw=2)\n",
    "\n",
    "ax.set_xscale('log')\n",
    "ax.set_yscale('log')\n",
    "ax.set_xlabel('sorted droplets');\n",
    "ax.legend(loc='lower left', ncol=1, title=None, frameon=False)\n",
    "ax.set_title(f'kneeplot: gw16_1220_s1');\n",
    "\n",
    "sns.set_palette(\"muted\")\n",
    "sns.set_style(\"ticks\")\n",
    "sns.despine(offset=10, trim=False);"
   ]
  },
  {
   "cell_type": "code",
   "execution_count": 318,
   "id": "cc9dd3f6-ee8e-46d6-ae2c-31511102c6e3",
   "metadata": {},
   "outputs": [
    {
     "name": "stdout",
     "output_type": "stream",
     "text": [
      "..Running VAE using the following param set:\n",
      "......scAR mode:  CROPseq\n",
      "......count model:  binomial\n",
      "......num_input_feature:  31284\n",
      "......NN_layer1:  150\n",
      "......NN_layer2:  100\n",
      "......latent_space:  15\n",
      "......dropout_prob:  0\n",
      "......kld_weight:  1e-05\n",
      "......lr:  0.001\n",
      "......lr_step_size:  5\n",
      "......lr_gamma:  0.97\n",
      "===========================================\n",
      "  Training.....\n",
      "100%|██████████| 400/400 [1:42:15<00:00, 15.34s/it]\n",
      "===========================================\n",
      "  Inferring .....\n"
     ]
    }
   ],
   "source": [
    "## run scAR (stole this code from Chang)\n",
    "####################\n",
    "gw16_1220_s1_filtered = gw16_1220_s1[gw16_1220_s1.obs_names.isin(rank_UMIs[rank_UMIs['droplets']=='cells'].index)] # equal to filtered population as cellranger output\n",
    "gw16_1220_s1_sticr_filtered = gw16_1220_s1_sticr[gw16_1220_s1_sticr.obs_names.isin(gw16_1220_s1_filtered.obs_names)].to_df() # pandas.DataFrame\n",
    "gw16_1220_s1_sticr_filtered_empty_droplets = gw16_1220_s1_sticr_raw.loc[gw16_1220_s1_sticr_raw.index.difference(gw16_1220_s1_sticr_filtered.index)]\n",
    "gw16_1220_s1_sticr_filtered_empty_profile = gw16_1220_s1_sticr_filtered_empty_droplets.sum()/gw16_1220_s1_sticr_filtered_empty_droplets.sum().sum()    # pandas.Series\n",
    "scarObj = scAR.model(raw_count=gw16_1220_s1_sticr_filtered,\n",
    "                     empty_profile=gw16_1220_s1_sticr_filtered_empty_profile.values, # In the case of default None, the empty_profile will be calculated by averaging pooled cells\n",
    "                     scRNAseq_tech='CROPseq')\n",
    "scarObj.train(epochs=400)\n",
    "scarObj.inference(feature_type='sgRNAs', cutoff=3)\n",
    "scarObj.feature_assignment.to_csv(out)\n",
    "####################"
   ]
  },
  {
   "cell_type": "code",
   "execution_count": 319,
   "id": "c0b05f53-9e05-4319-b32e-e64d6d48a3f2",
   "metadata": {},
   "outputs": [],
   "source": [
    "## write the final scAR output to a csv\n",
    "scarObj.feature_assignment.to_csv(out)"
   ]
  },
  {
   "cell_type": "code",
   "execution_count": 320,
   "id": "79194492-4acf-4acb-bdbf-e690feb65362",
   "metadata": {},
   "outputs": [
    {
     "data": {
      "text/html": [
       "<div>\n",
       "<style scoped>\n",
       "    .dataframe tbody tr th:only-of-type {\n",
       "        vertical-align: middle;\n",
       "    }\n",
       "\n",
       "    .dataframe tbody tr th {\n",
       "        vertical-align: top;\n",
       "    }\n",
       "\n",
       "    .dataframe thead th {\n",
       "        text-align: right;\n",
       "    }\n",
       "</style>\n",
       "<table border=\"1\" class=\"dataframe\">\n",
       "  <thead>\n",
       "    <tr style=\"text-align: right;\">\n",
       "      <th></th>\n",
       "      <th>Unnamed: 0</th>\n",
       "      <th>sgRNAs</th>\n",
       "      <th>n_sgRNAs</th>\n",
       "    </tr>\n",
       "  </thead>\n",
       "  <tbody>\n",
       "    <tr>\n",
       "      <th>0</th>\n",
       "      <td>AAACCCAAGGTTCTAC</td>\n",
       "      <td>IndexE_Bit1_F_360-Bit2_F_303-Bit3_F_332t</td>\n",
       "      <td>1</td>\n",
       "    </tr>\n",
       "    <tr>\n",
       "      <th>1</th>\n",
       "      <td>AAACCCAAGTATCTGC</td>\n",
       "      <td>IndexE_Bit1_F_482-Bit2_F_318-Bit3_F_069t</td>\n",
       "      <td>1</td>\n",
       "    </tr>\n",
       "    <tr>\n",
       "      <th>2</th>\n",
       "      <td>AAACCCACAAGAGGTC</td>\n",
       "      <td>Index3_Bit1_F_330-Bit2_F_114-Bit3_F_189t</td>\n",
       "      <td>1</td>\n",
       "    </tr>\n",
       "    <tr>\n",
       "      <th>3</th>\n",
       "      <td>AAACCCACACATACTG</td>\n",
       "      <td>Index3_Bit1_F_219-Bit2_F_461-Bit3_F_298t</td>\n",
       "      <td>1</td>\n",
       "    </tr>\n",
       "    <tr>\n",
       "      <th>4</th>\n",
       "      <td>AAACCCACACCTGCAG</td>\n",
       "      <td>Index3_Bit1_F_184-Bit2_F_078-Bit3_F_099t</td>\n",
       "      <td>1</td>\n",
       "    </tr>\n",
       "    <tr>\n",
       "      <th>...</th>\n",
       "      <td>...</td>\n",
       "      <td>...</td>\n",
       "      <td>...</td>\n",
       "    </tr>\n",
       "    <tr>\n",
       "      <th>11648</th>\n",
       "      <td>TTTGTTGGTGTCCGGT</td>\n",
       "      <td>Index3_Bit1_F_140-Bit2_F_276-Bit3_F_184t</td>\n",
       "      <td>1</td>\n",
       "    </tr>\n",
       "    <tr>\n",
       "      <th>11649</th>\n",
       "      <td>TTTGTTGTCAACGTGT</td>\n",
       "      <td>IndexE_Bit1_F_289-Bit2_F_267-Bit3_F_328t</td>\n",
       "      <td>1</td>\n",
       "    </tr>\n",
       "    <tr>\n",
       "      <th>11650</th>\n",
       "      <td>TTTGTTGTCAATGCAC</td>\n",
       "      <td>IndexE_Bit1_F_424-Bit2_F_285-Bit3_F_425t</td>\n",
       "      <td>1</td>\n",
       "    </tr>\n",
       "    <tr>\n",
       "      <th>11651</th>\n",
       "      <td>TTTGTTGTCAGCTCTC</td>\n",
       "      <td>IndexE_Bit1_F_126-Bit2_F_224-Bit3_F_436t</td>\n",
       "      <td>1</td>\n",
       "    </tr>\n",
       "    <tr>\n",
       "      <th>11652</th>\n",
       "      <td>TTTGTTGTCGCTCATC</td>\n",
       "      <td>Index3_Bit1_F_100-Bit2_F_225-Bit3_F_227t</td>\n",
       "      <td>1</td>\n",
       "    </tr>\n",
       "  </tbody>\n",
       "</table>\n",
       "<p>11653 rows × 3 columns</p>\n",
       "</div>"
      ],
      "text/plain": [
       "             Unnamed: 0                                    sgRNAs  n_sgRNAs\n",
       "0      AAACCCAAGGTTCTAC  IndexE_Bit1_F_360-Bit2_F_303-Bit3_F_332t         1\n",
       "1      AAACCCAAGTATCTGC  IndexE_Bit1_F_482-Bit2_F_318-Bit3_F_069t         1\n",
       "2      AAACCCACAAGAGGTC  Index3_Bit1_F_330-Bit2_F_114-Bit3_F_189t         1\n",
       "3      AAACCCACACATACTG  Index3_Bit1_F_219-Bit2_F_461-Bit3_F_298t         1\n",
       "4      AAACCCACACCTGCAG  Index3_Bit1_F_184-Bit2_F_078-Bit3_F_099t         1\n",
       "...                 ...                                       ...       ...\n",
       "11648  TTTGTTGGTGTCCGGT  Index3_Bit1_F_140-Bit2_F_276-Bit3_F_184t         1\n",
       "11649  TTTGTTGTCAACGTGT  IndexE_Bit1_F_289-Bit2_F_267-Bit3_F_328t         1\n",
       "11650  TTTGTTGTCAATGCAC  IndexE_Bit1_F_424-Bit2_F_285-Bit3_F_425t         1\n",
       "11651  TTTGTTGTCAGCTCTC  IndexE_Bit1_F_126-Bit2_F_224-Bit3_F_436t         1\n",
       "11652  TTTGTTGTCGCTCATC  Index3_Bit1_F_100-Bit2_F_225-Bit3_F_227t         1\n",
       "\n",
       "[11653 rows x 3 columns]"
      ]
     },
     "execution_count": 320,
     "metadata": {},
     "output_type": "execute_result"
    }
   ],
   "source": [
    "## read the final scAR output back in for further validations/manipulations\n",
    "bc_csv = pd.read_csv(out)\n",
    "bc_csv"
   ]
  },
  {
   "cell_type": "code",
   "execution_count": 321,
   "id": "38d9938e-cfea-444f-b209-24e51e7080ec",
   "metadata": {},
   "outputs": [
    {
     "name": "stdout",
     "output_type": "stream",
     "text": [
      "n STICR BCs:\n",
      "7990\n"
     ]
    }
   ],
   "source": [
    "print('n STICR BCs:')\n",
    "print(len(np.unique(bc_csv['sgRNAs'])))"
   ]
  },
  {
   "cell_type": "code",
   "execution_count": 322,
   "id": "5a42ba17-a33f-40a7-afaf-1899f0c665bd",
   "metadata": {},
   "outputs": [
    {
     "data": {
      "text/plain": [
       "1    11495\n",
       "2      147\n",
       "3        9\n",
       "4        2\n",
       "Name: n_sgRNAs, dtype: int64"
      ]
     },
     "execution_count": 322,
     "metadata": {},
     "output_type": "execute_result"
    }
   ],
   "source": [
    "bc_csv['n_sgRNAs'].value_counts()"
   ]
  },
  {
   "cell_type": "code",
   "execution_count": 323,
   "id": "f4bf45f0-f223-4aa9-b438-2a6f69e46b09",
   "metadata": {},
   "outputs": [
    {
     "data": {
      "text/plain": [
       "1      1076591\n",
       "2        47521\n",
       "3         8294\n",
       "4         3097\n",
       "5         1684\n",
       "        ...   \n",
       "167          1\n",
       "280          1\n",
       "135          1\n",
       "182          1\n",
       "157          1\n",
       "Name: UMI_Count, Length: 234, dtype: int64"
      ]
     },
     "execution_count": 323,
     "metadata": {},
     "output_type": "execute_result"
    }
   ],
   "source": [
    "sticr_tsv['UMI_Count'].value_counts()"
   ]
  },
  {
   "cell_type": "code",
   "execution_count": 324,
   "id": "f62a10cc-3909-430b-b117-a23629369e02",
   "metadata": {},
   "outputs": [
    {
     "name": "stdout",
     "output_type": "stream",
     "text": [
      "Number of barcodes in clone:  1\n",
      "Total number of cells with given barcodes:\n",
      "11495\n",
      "Unique number of barcodes:\n",
      "7832\n",
      "\n",
      "Number of barcodes in clone:  2\n",
      "Total number of cells with given barcodes:\n",
      "147\n",
      "Unique number of barcodes:\n",
      "147\n",
      "\n",
      "Number of barcodes in clone:  3\n",
      "Total number of cells with given barcodes:\n",
      "9\n",
      "Unique number of barcodes:\n",
      "9\n",
      "\n",
      "Number of barcodes in clone:  4\n",
      "Total number of cells with given barcodes:\n",
      "2\n",
      "Unique number of barcodes:\n",
      "2\n",
      "\n"
     ]
    }
   ],
   "source": [
    "for n in np.unique(bc_csv.n_sgRNAs):\n",
    "    print('Number of barcodes in clone: ',str(n))\n",
    "    print('Total number of cells with given barcodes:')\n",
    "    print(sum(bc_csv.n_sgRNAs==n))\n",
    "    print('Unique number of barcodes:')\n",
    "    print(len(np.unique(bc_csv.loc[bc_csv.n_sgRNAs==n,:].sgRNAs)))\n",
    "    print('')"
   ]
  },
  {
   "cell_type": "code",
   "execution_count": 325,
   "id": "38c5b2eb-38af-4b77-ae31-074cdc27a701",
   "metadata": {},
   "outputs": [],
   "source": [
    "bc_csv.columns=['CBC','Clone_barcodes','n_barcodes']\n",
    "clone_data_df = pd.DataFrame(bc_csv.Clone_barcodes.value_counts())"
   ]
  },
  {
   "cell_type": "code",
   "execution_count": 326,
   "id": "672dd3a4-6f3f-4059-a12b-ac6bc15e61e6",
   "metadata": {},
   "outputs": [],
   "source": [
    "clone_ids = []\n",
    "exp_prefix='LS30'\n",
    "for i in range(0,len(clone_data_df)):\n",
    "    clone_ids.append(exp_prefix+'_Clone_'+str(i))"
   ]
  },
  {
   "cell_type": "code",
   "execution_count": 327,
   "id": "fa23c9f5-ce82-4688-afac-453a436ebf2d",
   "metadata": {},
   "outputs": [],
   "source": [
    "clone_data_df['Clone_IDs']=clone_ids"
   ]
  },
  {
   "cell_type": "code",
   "execution_count": 328,
   "id": "90deabe1-93cb-4680-aa7a-6064e6b4ef2f",
   "metadata": {},
   "outputs": [],
   "source": [
    "clone_data_df.columns=['Clone_size','Clone_IDs']"
   ]
  },
  {
   "cell_type": "code",
   "execution_count": 329,
   "id": "36811f7d-d546-421b-9ec5-5bdfe35c9518",
   "metadata": {},
   "outputs": [],
   "source": [
    "clone_index = []\n",
    "for i in range(0,len(clone_data_df)):\n",
    "    clone_index.append(clone_data_df.index[i][0:6])"
   ]
  },
  {
   "cell_type": "code",
   "execution_count": 330,
   "id": "f818d68f-cf40-41d0-8d89-160c45d66dcf",
   "metadata": {},
   "outputs": [],
   "source": [
    "clone_data_df['Clone_Index']=clone_index"
   ]
  },
  {
   "cell_type": "code",
   "execution_count": 331,
   "id": "5e823cff-e163-4b73-9fe9-8c32fd79ec05",
   "metadata": {},
   "outputs": [
    {
     "data": {
      "text/html": [
       "<div>\n",
       "<style scoped>\n",
       "    .dataframe tbody tr th:only-of-type {\n",
       "        vertical-align: middle;\n",
       "    }\n",
       "\n",
       "    .dataframe tbody tr th {\n",
       "        vertical-align: top;\n",
       "    }\n",
       "\n",
       "    .dataframe thead th {\n",
       "        text-align: right;\n",
       "    }\n",
       "</style>\n",
       "<table border=\"1\" class=\"dataframe\">\n",
       "  <thead>\n",
       "    <tr style=\"text-align: right;\">\n",
       "      <th></th>\n",
       "      <th>Clone_size</th>\n",
       "      <th>Clone_IDs</th>\n",
       "      <th>Clone_Index</th>\n",
       "    </tr>\n",
       "  </thead>\n",
       "  <tbody>\n",
       "    <tr>\n",
       "      <th>Index3_Bit1_F_245-Bit2_F_146-Bit3_F_137t</th>\n",
       "      <td>13</td>\n",
       "      <td>LS30_Clone_0</td>\n",
       "      <td>Index3</td>\n",
       "    </tr>\n",
       "    <tr>\n",
       "      <th>IndexE_Bit1_F_048-Bit2_F_069-Bit3_F_183t</th>\n",
       "      <td>12</td>\n",
       "      <td>LS30_Clone_1</td>\n",
       "      <td>IndexE</td>\n",
       "    </tr>\n",
       "    <tr>\n",
       "      <th>IndexE_Bit1_F_291-Bit2_F_076-Bit3_F_123t</th>\n",
       "      <td>11</td>\n",
       "      <td>LS30_Clone_2</td>\n",
       "      <td>IndexE</td>\n",
       "    </tr>\n",
       "    <tr>\n",
       "      <th>IndexE_Bit1_F_031-Bit2_F_016-Bit3_F_461t</th>\n",
       "      <td>11</td>\n",
       "      <td>LS30_Clone_3</td>\n",
       "      <td>IndexE</td>\n",
       "    </tr>\n",
       "    <tr>\n",
       "      <th>IndexE_Bit1_F_187-Bit2_F_038-Bit3_F_190t</th>\n",
       "      <td>10</td>\n",
       "      <td>LS30_Clone_4</td>\n",
       "      <td>IndexE</td>\n",
       "    </tr>\n",
       "    <tr>\n",
       "      <th>...</th>\n",
       "      <td>...</td>\n",
       "      <td>...</td>\n",
       "      <td>...</td>\n",
       "    </tr>\n",
       "    <tr>\n",
       "      <th>IndexE_Bit1_F_244-Bit2_F_315-Bit3_F_231t</th>\n",
       "      <td>1</td>\n",
       "      <td>LS30_Clone_7985</td>\n",
       "      <td>IndexE</td>\n",
       "    </tr>\n",
       "    <tr>\n",
       "      <th>Index3_Bit1_F_170-Bit2_F_171-Bit3_F_489t</th>\n",
       "      <td>1</td>\n",
       "      <td>LS30_Clone_7986</td>\n",
       "      <td>Index3</td>\n",
       "    </tr>\n",
       "    <tr>\n",
       "      <th>Index3_Bit1_F_294-Bit2_F_476-Bit3_F_341t</th>\n",
       "      <td>1</td>\n",
       "      <td>LS30_Clone_7987</td>\n",
       "      <td>Index3</td>\n",
       "    </tr>\n",
       "    <tr>\n",
       "      <th>IndexE_Bit1_F_330-Bit2_F_114-Bit3_F_337t</th>\n",
       "      <td>1</td>\n",
       "      <td>LS30_Clone_7988</td>\n",
       "      <td>IndexE</td>\n",
       "    </tr>\n",
       "    <tr>\n",
       "      <th>IndexE_Bit1_F_289-Bit2_F_267-Bit3_F_328t</th>\n",
       "      <td>1</td>\n",
       "      <td>LS30_Clone_7989</td>\n",
       "      <td>IndexE</td>\n",
       "    </tr>\n",
       "  </tbody>\n",
       "</table>\n",
       "<p>7990 rows × 3 columns</p>\n",
       "</div>"
      ],
      "text/plain": [
       "                                          Clone_size        Clone_IDs  \\\n",
       "Index3_Bit1_F_245-Bit2_F_146-Bit3_F_137t          13     LS30_Clone_0   \n",
       "IndexE_Bit1_F_048-Bit2_F_069-Bit3_F_183t          12     LS30_Clone_1   \n",
       "IndexE_Bit1_F_291-Bit2_F_076-Bit3_F_123t          11     LS30_Clone_2   \n",
       "IndexE_Bit1_F_031-Bit2_F_016-Bit3_F_461t          11     LS30_Clone_3   \n",
       "IndexE_Bit1_F_187-Bit2_F_038-Bit3_F_190t          10     LS30_Clone_4   \n",
       "...                                              ...              ...   \n",
       "IndexE_Bit1_F_244-Bit2_F_315-Bit3_F_231t           1  LS30_Clone_7985   \n",
       "Index3_Bit1_F_170-Bit2_F_171-Bit3_F_489t           1  LS30_Clone_7986   \n",
       "Index3_Bit1_F_294-Bit2_F_476-Bit3_F_341t           1  LS30_Clone_7987   \n",
       "IndexE_Bit1_F_330-Bit2_F_114-Bit3_F_337t           1  LS30_Clone_7988   \n",
       "IndexE_Bit1_F_289-Bit2_F_267-Bit3_F_328t           1  LS30_Clone_7989   \n",
       "\n",
       "                                         Clone_Index  \n",
       "Index3_Bit1_F_245-Bit2_F_146-Bit3_F_137t      Index3  \n",
       "IndexE_Bit1_F_048-Bit2_F_069-Bit3_F_183t      IndexE  \n",
       "IndexE_Bit1_F_291-Bit2_F_076-Bit3_F_123t      IndexE  \n",
       "IndexE_Bit1_F_031-Bit2_F_016-Bit3_F_461t      IndexE  \n",
       "IndexE_Bit1_F_187-Bit2_F_038-Bit3_F_190t      IndexE  \n",
       "...                                              ...  \n",
       "IndexE_Bit1_F_244-Bit2_F_315-Bit3_F_231t      IndexE  \n",
       "Index3_Bit1_F_170-Bit2_F_171-Bit3_F_489t      Index3  \n",
       "Index3_Bit1_F_294-Bit2_F_476-Bit3_F_341t      Index3  \n",
       "IndexE_Bit1_F_330-Bit2_F_114-Bit3_F_337t      IndexE  \n",
       "IndexE_Bit1_F_289-Bit2_F_267-Bit3_F_328t      IndexE  \n",
       "\n",
       "[7990 rows x 3 columns]"
      ]
     },
     "execution_count": 331,
     "metadata": {},
     "output_type": "execute_result"
    }
   ],
   "source": [
    "clone_data_df"
   ]
  },
  {
   "cell_type": "code",
   "execution_count": 332,
   "id": "23c0b1cf-ee9b-4a35-b87f-5d443ad5c931",
   "metadata": {},
   "outputs": [
    {
     "data": {
      "text/plain": [
       "1     5646\n",
       "2     1608\n",
       "3      447\n",
       "4      147\n",
       "5       62\n",
       "6       44\n",
       "7       19\n",
       "8       10\n",
       "11       2\n",
       "9        2\n",
       "13       1\n",
       "12       1\n",
       "10       1\n",
       "Name: Clone_size, dtype: int64"
      ]
     },
     "execution_count": 332,
     "metadata": {},
     "output_type": "execute_result"
    }
   ],
   "source": [
    "clone_data_df['Clone_size'].value_counts()"
   ]
  },
  {
   "cell_type": "code",
   "execution_count": 333,
   "id": "cec3fd13-79ce-4b60-976b-77639fb5278d",
   "metadata": {},
   "outputs": [],
   "source": [
    "bc_csv = bc_csv.merge(clone_data_df, left_on='Clone_barcodes', right_index=True)"
   ]
  },
  {
   "cell_type": "code",
   "execution_count": 334,
   "id": "935328be-d2ac-4668-9187-e4e0fe5666ff",
   "metadata": {},
   "outputs": [],
   "source": [
    "bc_csv.to_csv('/media/chang/HDD-11/mgkeefe/230106_MKTN09_local_STICR/230103_STICR_BCs/STICR_outs_GW16_1220/GW16_221220_S1_bcs_final_metadata.csv')"
   ]
  },
  {
   "cell_type": "markdown",
   "id": "4b358698-8048-41ff-84b0-e7ff5c82d86f",
   "metadata": {
    "jp-MarkdownHeadingCollapsed": true,
    "tags": []
   },
   "source": [
    "## new processing for 221220 S2:"
   ]
  },
  {
   "cell_type": "code",
   "execution_count": 335,
   "id": "611c3566-862d-4145-bf8a-0f1c1cd6422b",
   "metadata": {},
   "outputs": [],
   "source": [
    "## load in the Final_Barcodes.tsv output from the STICR pipeline\n",
    "sticr_tsv = pd.read_csv('/media/chang/HDD-11/mgkeefe/230106_MKTN09_local_STICR/230103_STICR_BCs/STICR_outs_GW16_1220/GW16_1220_S2/Final_Barcodes.tsv',\n",
    "                           sep='\\t')\n",
    "sticr_tsv.index = list(sticr_tsv['CBC'])"
   ]
  },
  {
   "cell_type": "code",
   "execution_count": 336,
   "id": "28c31d78-d95c-4752-8c44-cc5303ef6f30",
   "metadata": {},
   "outputs": [],
   "source": [
    "## generate a matrix of zeroes with dimensions CBCs (rows) by STICR BCs (columns)\n",
    "cbc_names = np.unique(sticr_tsv['CBC'])\n",
    "bc_names = np.unique(sticr_tsv['barcode'])\n",
    "bc_matrix = np.zeros((len(np.unique(cbc_names)), len(np.unique(bc_names))))\n",
    "bc_df = pd.DataFrame(bc_matrix, index=list(cbc_names), columns=list(bc_names))"
   ]
  },
  {
   "cell_type": "code",
   "execution_count": 337,
   "id": "9e43daa4-7317-414f-a4b9-9f2b4d64d684",
   "metadata": {},
   "outputs": [
    {
     "name": "stderr",
     "output_type": "stream",
     "text": [
      "100%|██████████| 17517/17517 [10:45<00:00, 27.12it/s]\n"
     ]
    }
   ],
   "source": [
    "## iterate through every STICR BC and pull the UMI values for a given CBC and map them into the matrix of cells by barcodes\n",
    "from tqdm import tqdm\n",
    "\n",
    "for sbc in tqdm(bc_names):\n",
    "    bc_df.loc[bc_df.index.isin(sticr_tsv['CBC'][sticr_tsv['barcode']==sbc]), bc_df.columns==sbc] = sticr_tsv.loc[sticr_tsv['barcode']==sbc,'UMI_Count']"
   ]
  },
  {
   "cell_type": "code",
   "execution_count": 338,
   "id": "dbd03b7c-263f-466f-83e2-6761770974c5",
   "metadata": {},
   "outputs": [],
   "source": [
    "## compress the dataframe by turning it into a sparse matrix, which is the input for scanpy\n",
    "## note: this used to be done in R with DropletUtils, but that stopped working for some reason so doing it this way instead\n",
    "from scipy.sparse import csr_matrix\n",
    "import h5sparse\n",
    "import h5py\n",
    "import anndata\n",
    "bc_df_sparse = csr_matrix(bc_df)"
   ]
  },
  {
   "cell_type": "code",
   "execution_count": 339,
   "id": "e6ebf556-cd0f-4e49-9b83-31e4458a5db5",
   "metadata": {},
   "outputs": [],
   "source": [
    "## convert the sparse matrix back into a dataframe, then parse it with AnnData for scanpy input\n",
    "## save the scanpy input in h5 format so that the slow matrix generation doesn't have to be done again\n",
    "bc_df_reformat = pd.DataFrame.sparse.from_spmatrix(bc_df_sparse, index=bc_df.index, columns=bc_df.columns)\n",
    "bc_df_sc_input = anndata.AnnData(bc_df_reformat)\n",
    "bc_df_sc_input.write_h5ad('/media/chang/HDD-11/mgkeefe/230106_MKTN09_local_STICR/230103_STICR_BCs/STICR_outs_GW16_1220/GW16_221220_S2_bc_matrix_sparse.h5ad')"
   ]
  },
  {
   "cell_type": "code",
   "execution_count": 340,
   "id": "16154578-b313-4abd-aa66-fcd2657929de",
   "metadata": {},
   "outputs": [],
   "source": [
    "## load in the cellranger output and barcode matrix\n",
    "rna = '/media/chang/HDD-11/mgkeefe/230106_MKTN09_local_STICR/cellranger_outs/GW16_1220_sub_FBS_S2_cellranger/raw_feature_bc_matrix.h5'\n",
    "sticr = '/media/chang/HDD-11/mgkeefe/230106_MKTN09_local_STICR/230103_STICR_BCs/STICR_outs_GW16_1220/GW16_221220_S2_bc_matrix_sparse.h5ad'\n",
    "out = '/media/chang/HDD-11/mgkeefe/230106_MKTN09_local_STICR/230103_STICR_BCs/STICR_outs_GW16_1220/GW16_221220_S2_scAR_bcs.csv'\n",
    "gw16_1220_s2 = sc.read_10x_h5(filename=rna, gex_only=True) # Change this if ur using a different scRNA-seq format\n",
    "gw16_1220_s2_sticr = sc.read_h5ad(sticr)\n",
    "gw16_1220_s2_sticr_raw = gw16_1220_s2_sticr.to_df()\n",
    "gw16_1220_s2_sticr.var_names_make_unique()"
   ]
  },
  {
   "cell_type": "code",
   "execution_count": 341,
   "id": "0fc1bade-78ea-4dbb-b02e-76fc127255af",
   "metadata": {},
   "outputs": [
    {
     "name": "stdout",
     "output_type": "stream",
     "text": [
      "old names:\n",
      "['AAACCCAAGAAACCAT-1', 'AAACCCAAGAAACCCA-1', 'AAACCCAAGAAACCCG-1', 'AAACCCAAGAAACGAA-1', 'AAACCCAAGAAACTAC-1', 'AAACCCAAGAAACTCA-1', 'AAACCCAAGAAAGACA-1', 'AAACCCAAGAAATCCA-1', 'AAACCCAAGAACAGGA-1', 'AAACCCAAGAACCCGA-1']\n",
      "fixed names:\n",
      "['AAACCCAAGAAACCAT', 'AAACCCAAGAAACCCA', 'AAACCCAAGAAACCCG', 'AAACCCAAGAAACGAA', 'AAACCCAAGAAACTAC', 'AAACCCAAGAAACTCA', 'AAACCCAAGAAAGACA', 'AAACCCAAGAAATCCA', 'AAACCCAAGAACAGGA', 'AAACCCAAGAACCCGA']\n",
      "cell names from cellranger:\n",
      "['AAACCCAAGAAACCAT', 'AAACCCAAGAAACCCA', 'AAACCCAAGAAACCCG', 'AAACCCAAGAAACGAA', 'AAACCCAAGAAACTAC', 'AAACCCAAGAAACTCA', 'AAACCCAAGAAAGACA', 'AAACCCAAGAAATCCA', 'AAACCCAAGAACAGGA', 'AAACCCAAGAACCCGA']\n",
      "cell names from STICR processing:\n",
      "['AAACCCAAGAATTTGG', 'AAACCCAAGAGACAAG', 'AAACCCAAGATACATG', 'AAACCCAAGATAGCTA', 'AAACCCAAGATAGTCA', 'AAACCCAAGCAACTAG', 'AAACCCAAGCAATTAG', 'AAACCCAAGCCAATAG', 'AAACCCAAGCCACAAG', 'AAACCCAAGCCACTCG']\n"
     ]
    }
   ],
   "source": [
    "## fix the names in the RNA file to remove the -1 from the CBC\n",
    "fixed_rna_names = gw16_1220_s2.obs_names.tolist()\n",
    "for c in range(0, len(fixed_rna_names)):\n",
    "    fixed_rna_names[c] = fixed_rna_names[c][0:-2]\n",
    "print('old names:')\n",
    "print(gw16_1220_s2.obs_names[0:10].tolist())\n",
    "print('fixed names:')\n",
    "print(fixed_rna_names[0:10])\n",
    "gw16_1220_s2.obs_names = fixed_rna_names\n",
    "print('cell names from cellranger:')\n",
    "print(gw16_1220_s2.obs_names[:10].tolist())\n",
    "print('cell names from STICR processing:')\n",
    "print(gw16_1220_s2_sticr.obs_names[:10].tolist())"
   ]
  },
  {
   "cell_type": "code",
   "execution_count": 342,
   "id": "3a444c5c-7dd9-4b59-ad4e-978215eba224",
   "metadata": {},
   "outputs": [
    {
     "data": {
      "image/png": "[encoded data removed]",
      "text/plain": [
       "<Figure size 600x450 with 1 Axes>"
      ]
     },
     "metadata": {},
     "output_type": "display_data"
    }
   ],
   "source": [
    "## run scAR (stole this code from Chang)\n",
    "rank_UMIs = pd.DataFrame(gw16_1220_s2[:,gw16_1220_s2.var['feature_types']=='Gene Expression'].X.sum(axis=1), index = gw16_1220_s2.obs_names, columns=['total_counts'])\n",
    "rank_UMIs['droplets'] = 'cell-free droplets'\n",
    "rank_UMIs['droplets'] = rank_UMIs['droplets'].mask(rank_UMIs['total_counts']>50, 'droplet II')\n",
    "rank_UMIs['droplets'] = rank_UMIs['droplets'].mask(rank_UMIs['total_counts']>100, 'droplet I')\n",
    "rank_UMIs['droplets'] = rank_UMIs['droplets'].mask(rank_UMIs['total_counts']>500, 'cells')\n",
    "rank_UMIs = rank_UMIs.sort_values(by='total_counts', ascending=False).reset_index().rename_axis(\"rank\").reset_index()\n",
    "rank_UMIs = rank_UMIs.loc[rank_UMIs['total_counts']>0]\n",
    "rank_UMIs = rank_UMIs.set_index('index').rename_axis('cells')\n",
    "\n",
    "\n",
    "plt.figure(figsize=(4, 3), dpi=150)\n",
    "\n",
    "ax = sns.lineplot(data = rank_UMIs,\n",
    "                  x='rank',\n",
    "                  y='total_counts',\n",
    "                  hue='droplets',\n",
    "                  hue_order=['cells', 'droplet I', 'droplet II', 'cell-free droplets'],\n",
    "                  palette=sns.color_palette()[-4:],\n",
    "                  markers=False,\n",
    "                  lw=2)\n",
    "\n",
    "ax.set_xscale('log')\n",
    "ax.set_yscale('log')\n",
    "ax.set_xlabel('sorted droplets');\n",
    "ax.legend(loc='lower left', ncol=1, title=None, frameon=False)\n",
    "ax.set_title(f'kneeplot: gw16_1220_s2');\n",
    "\n",
    "sns.set_palette(\"muted\")\n",
    "sns.set_style(\"ticks\")\n",
    "sns.despine(offset=10, trim=False);"
   ]
  },
  {
   "cell_type": "code",
   "execution_count": 343,
   "id": "cd0196da-0f26-4183-ba69-d94f457e4bf4",
   "metadata": {},
   "outputs": [
    {
     "name": "stdout",
     "output_type": "stream",
     "text": [
      "..Running VAE using the following param set:\n",
      "......scAR mode:  CROPseq\n",
      "......count model:  binomial\n",
      "......num_input_feature:  17517\n",
      "......NN_layer1:  150\n",
      "......NN_layer2:  100\n",
      "......latent_space:  15\n",
      "......dropout_prob:  0\n",
      "......kld_weight:  1e-05\n",
      "......lr:  0.001\n",
      "......lr_step_size:  5\n",
      "......lr_gamma:  0.97\n",
      "===========================================\n",
      "  Training.....\n",
      "100%|██████████| 400/400 [28:19<00:00,  4.25s/it]\n",
      "===========================================\n",
      "  Inferring .....\n"
     ]
    }
   ],
   "source": [
    "## run scAR (stole this code from Chang)\n",
    "####################\n",
    "gw16_1220_s2_filtered = gw16_1220_s2[gw16_1220_s2.obs_names.isin(rank_UMIs[rank_UMIs['droplets']=='cells'].index)] # equal to filtered population as cellranger output\n",
    "gw16_1220_s2_sticr_filtered = gw16_1220_s2_sticr[gw16_1220_s2_sticr.obs_names.isin(gw16_1220_s2_filtered.obs_names)].to_df() # pandas.DataFrame\n",
    "gw16_1220_s2_sticr_filtered_empty_droplets = gw16_1220_s2_sticr_raw.loc[gw16_1220_s2_sticr_raw.index.difference(gw16_1220_s2_sticr_filtered.index)]\n",
    "gw16_1220_s2_sticr_filtered_empty_profile = gw16_1220_s2_sticr_filtered_empty_droplets.sum()/gw16_1220_s2_sticr_filtered_empty_droplets.sum().sum()    # pandas.Series\n",
    "scarObj = scAR.model(raw_count=gw16_1220_s2_sticr_filtered,\n",
    "                     empty_profile=gw16_1220_s2_sticr_filtered_empty_profile.values, # In the case of default None, the empty_profile will be calculated by averaging pooled cells\n",
    "                     scRNAseq_tech='CROPseq')\n",
    "scarObj.train(epochs=400)\n",
    "scarObj.inference(feature_type='sgRNAs', cutoff=3)\n",
    "scarObj.feature_assignment.to_csv(out)\n",
    "####################"
   ]
  },
  {
   "cell_type": "code",
   "execution_count": 344,
   "id": "2c20e3da-30f5-4844-b017-c312e5ea969b",
   "metadata": {},
   "outputs": [],
   "source": [
    "## write the final scAR output to a csv\n",
    "scarObj.feature_assignment.to_csv(out)"
   ]
  },
  {
   "cell_type": "code",
   "execution_count": 345,
   "id": "76f5a666-1b3a-4ffa-8af1-05ce27deac75",
   "metadata": {},
   "outputs": [
    {
     "data": {
      "text/html": [
       "<div>\n",
       "<style scoped>\n",
       "    .dataframe tbody tr th:only-of-type {\n",
       "        vertical-align: middle;\n",
       "    }\n",
       "\n",
       "    .dataframe tbody tr th {\n",
       "        vertical-align: top;\n",
       "    }\n",
       "\n",
       "    .dataframe thead th {\n",
       "        text-align: right;\n",
       "    }\n",
       "</style>\n",
       "<table border=\"1\" class=\"dataframe\">\n",
       "  <thead>\n",
       "    <tr style=\"text-align: right;\">\n",
       "      <th></th>\n",
       "      <th>Unnamed: 0</th>\n",
       "      <th>sgRNAs</th>\n",
       "      <th>n_sgRNAs</th>\n",
       "    </tr>\n",
       "  </thead>\n",
       "  <tbody>\n",
       "    <tr>\n",
       "      <th>0</th>\n",
       "      <td>AAACCCAAGCCAGTAG</td>\n",
       "      <td>IndexE_Bit1_F_266-Bit2_F_129-Bit3_F_370t</td>\n",
       "      <td>1</td>\n",
       "    </tr>\n",
       "    <tr>\n",
       "      <th>1</th>\n",
       "      <td>AAACCCAAGCCTTTCC</td>\n",
       "      <td>IndexE_Bit1_F_139-Bit2_F_059-Bit3_F_018t</td>\n",
       "      <td>1</td>\n",
       "    </tr>\n",
       "    <tr>\n",
       "      <th>2</th>\n",
       "      <td>AAACCCAAGGTAGCCA</td>\n",
       "      <td>IndexE_Bit1_F_183-Bit2_F_416-Bit3_F_298t</td>\n",
       "      <td>1</td>\n",
       "    </tr>\n",
       "    <tr>\n",
       "      <th>3</th>\n",
       "      <td>AAACCCAGTCTTGCTC</td>\n",
       "      <td>IndexE_Bit1_F_420-Bit2_F_008-Bit3_F_397t</td>\n",
       "      <td>1</td>\n",
       "    </tr>\n",
       "    <tr>\n",
       "      <th>4</th>\n",
       "      <td>AAACCCAGTTATTCCT</td>\n",
       "      <td>IndexE_Bit1_F_494-Bit2_F_292-Bit3_F_452t</td>\n",
       "      <td>1</td>\n",
       "    </tr>\n",
       "    <tr>\n",
       "      <th>...</th>\n",
       "      <td>...</td>\n",
       "      <td>...</td>\n",
       "      <td>...</td>\n",
       "    </tr>\n",
       "    <tr>\n",
       "      <th>5673</th>\n",
       "      <td>TTTGGTTTCTCAGTCC</td>\n",
       "      <td>Index3_Bit1_F_001-Bit2_F_425-Bit3_F_415t</td>\n",
       "      <td>1</td>\n",
       "    </tr>\n",
       "    <tr>\n",
       "      <th>5674</th>\n",
       "      <td>TTTGTTGAGAGGTTAT</td>\n",
       "      <td>IndexE_Bit1_F_406-Bit2_F_138-Bit3_F_218t</td>\n",
       "      <td>1</td>\n",
       "    </tr>\n",
       "    <tr>\n",
       "      <th>5675</th>\n",
       "      <td>TTTGTTGAGCAGGCTA</td>\n",
       "      <td>IndexE_Bit1_F_114-Bit2_F_051-Bit3_F_210t</td>\n",
       "      <td>1</td>\n",
       "    </tr>\n",
       "    <tr>\n",
       "      <th>5676</th>\n",
       "      <td>TTTGTTGCAAATGAAC</td>\n",
       "      <td>Index3_Bit1_F_209-Bit2_F_147-Bit3_F_302t</td>\n",
       "      <td>1</td>\n",
       "    </tr>\n",
       "    <tr>\n",
       "      <th>5677</th>\n",
       "      <td>TTTGTTGGTGCGAGTA</td>\n",
       "      <td>IndexE_Bit1_F_127-Bit2_F_236-Bit3_F_025t</td>\n",
       "      <td>1</td>\n",
       "    </tr>\n",
       "  </tbody>\n",
       "</table>\n",
       "<p>5678 rows × 3 columns</p>\n",
       "</div>"
      ],
      "text/plain": [
       "            Unnamed: 0                                    sgRNAs  n_sgRNAs\n",
       "0     AAACCCAAGCCAGTAG  IndexE_Bit1_F_266-Bit2_F_129-Bit3_F_370t         1\n",
       "1     AAACCCAAGCCTTTCC  IndexE_Bit1_F_139-Bit2_F_059-Bit3_F_018t         1\n",
       "2     AAACCCAAGGTAGCCA  IndexE_Bit1_F_183-Bit2_F_416-Bit3_F_298t         1\n",
       "3     AAACCCAGTCTTGCTC  IndexE_Bit1_F_420-Bit2_F_008-Bit3_F_397t         1\n",
       "4     AAACCCAGTTATTCCT  IndexE_Bit1_F_494-Bit2_F_292-Bit3_F_452t         1\n",
       "...                ...                                       ...       ...\n",
       "5673  TTTGGTTTCTCAGTCC  Index3_Bit1_F_001-Bit2_F_425-Bit3_F_415t         1\n",
       "5674  TTTGTTGAGAGGTTAT  IndexE_Bit1_F_406-Bit2_F_138-Bit3_F_218t         1\n",
       "5675  TTTGTTGAGCAGGCTA  IndexE_Bit1_F_114-Bit2_F_051-Bit3_F_210t         1\n",
       "5676  TTTGTTGCAAATGAAC  Index3_Bit1_F_209-Bit2_F_147-Bit3_F_302t         1\n",
       "5677  TTTGTTGGTGCGAGTA  IndexE_Bit1_F_127-Bit2_F_236-Bit3_F_025t         1\n",
       "\n",
       "[5678 rows x 3 columns]"
      ]
     },
     "execution_count": 345,
     "metadata": {},
     "output_type": "execute_result"
    }
   ],
   "source": [
    "## read the final scAR output back in for further validations/manipulations\n",
    "bc_csv = pd.read_csv(out)\n",
    "bc_csv"
   ]
  },
  {
   "cell_type": "code",
   "execution_count": 346,
   "id": "48811736-1f83-47a8-a711-98c5a521e17d",
   "metadata": {},
   "outputs": [
    {
     "name": "stdout",
     "output_type": "stream",
     "text": [
      "n STICR BCs:\n",
      "3728\n"
     ]
    }
   ],
   "source": [
    "print('n STICR BCs:')\n",
    "print(len(np.unique(bc_csv['sgRNAs'])))"
   ]
  },
  {
   "cell_type": "code",
   "execution_count": 347,
   "id": "c3109d58-6abb-44b6-acda-d09572d34621",
   "metadata": {},
   "outputs": [
    {
     "data": {
      "text/plain": [
       "1    5595\n",
       "2      76\n",
       "3       6\n",
       "4       1\n",
       "Name: n_sgRNAs, dtype: int64"
      ]
     },
     "execution_count": 347,
     "metadata": {},
     "output_type": "execute_result"
    }
   ],
   "source": [
    "bc_csv['n_sgRNAs'].value_counts()"
   ]
  },
  {
   "cell_type": "code",
   "execution_count": 348,
   "id": "e14b58f5-7a56-45f3-91f4-1bcd803f2f03",
   "metadata": {},
   "outputs": [
    {
     "data": {
      "text/plain": [
       "1      254684\n",
       "2       13943\n",
       "3        4148\n",
       "4        1977\n",
       "5        1173\n",
       "        ...  \n",
       "139         1\n",
       "375         1\n",
       "180         1\n",
       "326         1\n",
       "254         1\n",
       "Name: UMI_Count, Length: 224, dtype: int64"
      ]
     },
     "execution_count": 348,
     "metadata": {},
     "output_type": "execute_result"
    }
   ],
   "source": [
    "sticr_tsv['UMI_Count'].value_counts()"
   ]
  },
  {
   "cell_type": "code",
   "execution_count": 349,
   "id": "318c96b1-92a5-4321-a57f-280fa901f50e",
   "metadata": {},
   "outputs": [
    {
     "name": "stdout",
     "output_type": "stream",
     "text": [
      "Number of barcodes in clone:  1\n",
      "Total number of cells with given barcodes:\n",
      "5595\n",
      "Unique number of barcodes:\n",
      "3645\n",
      "\n",
      "Number of barcodes in clone:  2\n",
      "Total number of cells with given barcodes:\n",
      "76\n",
      "Unique number of barcodes:\n",
      "76\n",
      "\n",
      "Number of barcodes in clone:  3\n",
      "Total number of cells with given barcodes:\n",
      "6\n",
      "Unique number of barcodes:\n",
      "6\n",
      "\n",
      "Number of barcodes in clone:  4\n",
      "Total number of cells with given barcodes:\n",
      "1\n",
      "Unique number of barcodes:\n",
      "1\n",
      "\n"
     ]
    }
   ],
   "source": [
    "for n in np.unique(bc_csv.n_sgRNAs):\n",
    "    print('Number of barcodes in clone: ',str(n))\n",
    "    print('Total number of cells with given barcodes:')\n",
    "    print(sum(bc_csv.n_sgRNAs==n))\n",
    "    print('Unique number of barcodes:')\n",
    "    print(len(np.unique(bc_csv.loc[bc_csv.n_sgRNAs==n,:].sgRNAs)))\n",
    "    print('')"
   ]
  },
  {
   "cell_type": "code",
   "execution_count": 350,
   "id": "d7269a4d-6016-49fc-99bf-6769651fbbfe",
   "metadata": {},
   "outputs": [],
   "source": [
    "bc_csv.columns=['CBC','Clone_barcodes','n_barcodes']\n",
    "clone_data_df = pd.DataFrame(bc_csv.Clone_barcodes.value_counts())"
   ]
  },
  {
   "cell_type": "code",
   "execution_count": 351,
   "id": "d745b8af-5c41-44f8-8bc4-af3c2edb4409",
   "metadata": {},
   "outputs": [],
   "source": [
    "clone_ids = []\n",
    "exp_prefix='LS31'\n",
    "for i in range(0,len(clone_data_df)):\n",
    "    clone_ids.append(exp_prefix+'_Clone_'+str(i))"
   ]
  },
  {
   "cell_type": "code",
   "execution_count": 352,
   "id": "86870669-9b61-4bff-825b-6945c6260626",
   "metadata": {},
   "outputs": [],
   "source": [
    "clone_data_df['Clone_IDs']=clone_ids"
   ]
  },
  {
   "cell_type": "code",
   "execution_count": 353,
   "id": "bebcc642-839d-4276-8931-e10f126bc99d",
   "metadata": {},
   "outputs": [],
   "source": [
    "clone_data_df.columns=['Clone_size','Clone_IDs']"
   ]
  },
  {
   "cell_type": "code",
   "execution_count": 354,
   "id": "685baaa8-8d19-4e6c-936d-f75dcfb162ba",
   "metadata": {},
   "outputs": [],
   "source": [
    "clone_index = []\n",
    "for i in range(0,len(clone_data_df)):\n",
    "    clone_index.append(clone_data_df.index[i][0:6])"
   ]
  },
  {
   "cell_type": "code",
   "execution_count": 355,
   "id": "9c34670e-fcdc-4984-94bb-27e7afd1045a",
   "metadata": {},
   "outputs": [],
   "source": [
    "clone_data_df['Clone_Index']=clone_index"
   ]
  },
  {
   "cell_type": "code",
   "execution_count": 356,
   "id": "8847f87d-dc68-4713-a796-10c076c13e30",
   "metadata": {},
   "outputs": [
    {
     "data": {
      "text/html": [
       "<div>\n",
       "<style scoped>\n",
       "    .dataframe tbody tr th:only-of-type {\n",
       "        vertical-align: middle;\n",
       "    }\n",
       "\n",
       "    .dataframe tbody tr th {\n",
       "        vertical-align: top;\n",
       "    }\n",
       "\n",
       "    .dataframe thead th {\n",
       "        text-align: right;\n",
       "    }\n",
       "</style>\n",
       "<table border=\"1\" class=\"dataframe\">\n",
       "  <thead>\n",
       "    <tr style=\"text-align: right;\">\n",
       "      <th></th>\n",
       "      <th>Clone_size</th>\n",
       "      <th>Clone_IDs</th>\n",
       "      <th>Clone_Index</th>\n",
       "    </tr>\n",
       "  </thead>\n",
       "  <tbody>\n",
       "    <tr>\n",
       "      <th>IndexE_Bit1_F_225-Bit2_F_228-Bit3_F_251t</th>\n",
       "      <td>45</td>\n",
       "      <td>LS31_Clone_0</td>\n",
       "      <td>IndexE</td>\n",
       "    </tr>\n",
       "    <tr>\n",
       "      <th>IndexE_Bit1_F_220-Bit2_F_041-Bit3_F_201t</th>\n",
       "      <td>30</td>\n",
       "      <td>LS31_Clone_1</td>\n",
       "      <td>IndexE</td>\n",
       "    </tr>\n",
       "    <tr>\n",
       "      <th>IndexE_Bit1_F_357-Bit2_F_351-Bit3_F_492t</th>\n",
       "      <td>18</td>\n",
       "      <td>LS31_Clone_2</td>\n",
       "      <td>IndexE</td>\n",
       "    </tr>\n",
       "    <tr>\n",
       "      <th>Index3_Bit1_F_001-Bit2_F_425-Bit3_F_415t</th>\n",
       "      <td>15</td>\n",
       "      <td>LS31_Clone_3</td>\n",
       "      <td>Index3</td>\n",
       "    </tr>\n",
       "    <tr>\n",
       "      <th>IndexE_Bit1_F_301-Bit2_F_269-Bit3_F_124t</th>\n",
       "      <td>13</td>\n",
       "      <td>LS31_Clone_4</td>\n",
       "      <td>IndexE</td>\n",
       "    </tr>\n",
       "    <tr>\n",
       "      <th>...</th>\n",
       "      <td>...</td>\n",
       "      <td>...</td>\n",
       "      <td>...</td>\n",
       "    </tr>\n",
       "    <tr>\n",
       "      <th>IndexE_Bit1_F_155-Bit2_F_207-Bit3_F_068t</th>\n",
       "      <td>1</td>\n",
       "      <td>LS31_Clone_3723</td>\n",
       "      <td>IndexE</td>\n",
       "    </tr>\n",
       "    <tr>\n",
       "      <th>IndexE_Bit1_F_112-Bit2_F_110-Bit3_F_159t</th>\n",
       "      <td>1</td>\n",
       "      <td>LS31_Clone_3724</td>\n",
       "      <td>IndexE</td>\n",
       "    </tr>\n",
       "    <tr>\n",
       "      <th>IndexE_Bit1_F_015-Bit2_F_260-Bit3_F_391t</th>\n",
       "      <td>1</td>\n",
       "      <td>LS31_Clone_3725</td>\n",
       "      <td>IndexE</td>\n",
       "    </tr>\n",
       "    <tr>\n",
       "      <th>IndexE_Bit1_F_237-Bit2_F_204-Bit3_F_258t</th>\n",
       "      <td>1</td>\n",
       "      <td>LS31_Clone_3726</td>\n",
       "      <td>IndexE</td>\n",
       "    </tr>\n",
       "    <tr>\n",
       "      <th>IndexE_Bit1_F_406-Bit2_F_138-Bit3_F_218t</th>\n",
       "      <td>1</td>\n",
       "      <td>LS31_Clone_3727</td>\n",
       "      <td>IndexE</td>\n",
       "    </tr>\n",
       "  </tbody>\n",
       "</table>\n",
       "<p>3728 rows × 3 columns</p>\n",
       "</div>"
      ],
      "text/plain": [
       "                                          Clone_size        Clone_IDs  \\\n",
       "IndexE_Bit1_F_225-Bit2_F_228-Bit3_F_251t          45     LS31_Clone_0   \n",
       "IndexE_Bit1_F_220-Bit2_F_041-Bit3_F_201t          30     LS31_Clone_1   \n",
       "IndexE_Bit1_F_357-Bit2_F_351-Bit3_F_492t          18     LS31_Clone_2   \n",
       "Index3_Bit1_F_001-Bit2_F_425-Bit3_F_415t          15     LS31_Clone_3   \n",
       "IndexE_Bit1_F_301-Bit2_F_269-Bit3_F_124t          13     LS31_Clone_4   \n",
       "...                                              ...              ...   \n",
       "IndexE_Bit1_F_155-Bit2_F_207-Bit3_F_068t           1  LS31_Clone_3723   \n",
       "IndexE_Bit1_F_112-Bit2_F_110-Bit3_F_159t           1  LS31_Clone_3724   \n",
       "IndexE_Bit1_F_015-Bit2_F_260-Bit3_F_391t           1  LS31_Clone_3725   \n",
       "IndexE_Bit1_F_237-Bit2_F_204-Bit3_F_258t           1  LS31_Clone_3726   \n",
       "IndexE_Bit1_F_406-Bit2_F_138-Bit3_F_218t           1  LS31_Clone_3727   \n",
       "\n",
       "                                         Clone_Index  \n",
       "IndexE_Bit1_F_225-Bit2_F_228-Bit3_F_251t      IndexE  \n",
       "IndexE_Bit1_F_220-Bit2_F_041-Bit3_F_201t      IndexE  \n",
       "IndexE_Bit1_F_357-Bit2_F_351-Bit3_F_492t      IndexE  \n",
       "Index3_Bit1_F_001-Bit2_F_425-Bit3_F_415t      Index3  \n",
       "IndexE_Bit1_F_301-Bit2_F_269-Bit3_F_124t      IndexE  \n",
       "...                                              ...  \n",
       "IndexE_Bit1_F_155-Bit2_F_207-Bit3_F_068t      IndexE  \n",
       "IndexE_Bit1_F_112-Bit2_F_110-Bit3_F_159t      IndexE  \n",
       "IndexE_Bit1_F_015-Bit2_F_260-Bit3_F_391t      IndexE  \n",
       "IndexE_Bit1_F_237-Bit2_F_204-Bit3_F_258t      IndexE  \n",
       "IndexE_Bit1_F_406-Bit2_F_138-Bit3_F_218t      IndexE  \n",
       "\n",
       "[3728 rows x 3 columns]"
      ]
     },
     "execution_count": 356,
     "metadata": {},
     "output_type": "execute_result"
    }
   ],
   "source": [
    "clone_data_df"
   ]
  },
  {
   "cell_type": "code",
   "execution_count": 357,
   "id": "b3a37b82-b88f-4d97-8765-6874709bf166",
   "metadata": {},
   "outputs": [
    {
     "data": {
      "text/plain": [
       "1     2677\n",
       "2      671\n",
       "3      210\n",
       "4       77\n",
       "5       29\n",
       "6       24\n",
       "7       10\n",
       "8        7\n",
       "9        7\n",
       "10       4\n",
       "11       3\n",
       "12       3\n",
       "13       2\n",
       "30       1\n",
       "15       1\n",
       "18       1\n",
       "45       1\n",
       "Name: Clone_size, dtype: int64"
      ]
     },
     "execution_count": 357,
     "metadata": {},
     "output_type": "execute_result"
    }
   ],
   "source": [
    "clone_data_df['Clone_size'].value_counts()"
   ]
  },
  {
   "cell_type": "code",
   "execution_count": 358,
   "id": "06cca296-b104-4419-b1ba-ec1ea3597891",
   "metadata": {},
   "outputs": [],
   "source": [
    "bc_csv = bc_csv.merge(clone_data_df, left_on='Clone_barcodes', right_index=True)"
   ]
  },
  {
   "cell_type": "code",
   "execution_count": 359,
   "id": "d08df380-aa1b-4d00-a26d-07004ba2a4f4",
   "metadata": {},
   "outputs": [],
   "source": [
    "bc_csv.to_csv('/media/chang/HDD-11/mgkeefe/230106_MKTN09_local_STICR/230103_STICR_BCs/STICR_outs_GW16_1220/GW16_221220_S2_bcs_final_metadata.csv')"
   ]
  },
  {
   "cell_type": "code",
   "execution_count": 361,
   "id": "6e4dd438-f388-4ba0-9500-db85d7a9be70",
   "metadata": {},
   "outputs": [
    {
     "data": {
      "text/html": [
       "<div>\n",
       "<style scoped>\n",
       "    .dataframe tbody tr th:only-of-type {\n",
       "        vertical-align: middle;\n",
       "    }\n",
       "\n",
       "    .dataframe tbody tr th {\n",
       "        vertical-align: top;\n",
       "    }\n",
       "\n",
       "    .dataframe thead th {\n",
       "        text-align: right;\n",
       "    }\n",
       "</style>\n",
       "<table border=\"1\" class=\"dataframe\">\n",
       "  <thead>\n",
       "    <tr style=\"text-align: right;\">\n",
       "      <th></th>\n",
       "      <th>Clone_size</th>\n",
       "      <th>Clone_IDs</th>\n",
       "      <th>Clone_Index</th>\n",
       "    </tr>\n",
       "  </thead>\n",
       "  <tbody>\n",
       "    <tr>\n",
       "      <th>IndexE_Bit1_F_225-Bit2_F_228-Bit3_F_251t</th>\n",
       "      <td>45</td>\n",
       "      <td>LS31_Clone_0</td>\n",
       "      <td>IndexE</td>\n",
       "    </tr>\n",
       "  </tbody>\n",
       "</table>\n",
       "</div>"
      ],
      "text/plain": [
       "                                          Clone_size     Clone_IDs Clone_Index\n",
       "IndexE_Bit1_F_225-Bit2_F_228-Bit3_F_251t          45  LS31_Clone_0      IndexE"
      ]
     },
     "execution_count": 361,
     "metadata": {},
     "output_type": "execute_result"
    }
   ],
   "source": [
    "clone_data_df.loc[clone_data_df['Clone_size']==45,:]"
   ]
  },
  {
   "cell_type": "code",
   "execution_count": 368,
   "id": "c44430c1-f53d-4adf-ae1e-42e065c0b19d",
   "metadata": {},
   "outputs": [
    {
     "data": {
      "text/plain": [
       "1      1597\n",
       "2       296\n",
       "3        87\n",
       "4        31\n",
       "5        19\n",
       "6        10\n",
       "7         5\n",
       "8         4\n",
       "9         4\n",
       "20        3\n",
       "16        2\n",
       "12        2\n",
       "10        2\n",
       "84        1\n",
       "93        1\n",
       "55        1\n",
       "21        1\n",
       "80        1\n",
       "72        1\n",
       "165       1\n",
       "62        1\n",
       "11        1\n",
       "18        1\n",
       "45        1\n",
       "95        1\n",
       "124       1\n",
       "86        1\n",
       "96        1\n",
       "40        1\n",
       "15        1\n",
       "184       1\n",
       "227       1\n",
       "Name: UMI_Count, dtype: int64"
      ]
     },
     "execution_count": 368,
     "metadata": {},
     "output_type": "execute_result"
    }
   ],
   "source": [
    "sticr_tsv.loc[sticr_tsv['barcode']==\"IndexE_Bit1_F_225-Bit2_F_228-Bit3_F_251t\"]['UMI_Count'].value_counts()"
   ]
  },
  {
   "cell_type": "code",
   "execution_count": 363,
   "id": "263c8550-2263-46c9-b2da-7c481b066192",
   "metadata": {},
   "outputs": [
    {
     "data": {
      "text/html": [
       "<div>\n",
       "<style scoped>\n",
       "    .dataframe tbody tr th:only-of-type {\n",
       "        vertical-align: middle;\n",
       "    }\n",
       "\n",
       "    .dataframe tbody tr th {\n",
       "        vertical-align: top;\n",
       "    }\n",
       "\n",
       "    .dataframe thead th {\n",
       "        text-align: right;\n",
       "    }\n",
       "</style>\n",
       "<table border=\"1\" class=\"dataframe\">\n",
       "  <thead>\n",
       "    <tr style=\"text-align: right;\">\n",
       "      <th></th>\n",
       "      <th>CBC</th>\n",
       "      <th>barcode</th>\n",
       "      <th>UMI_Count</th>\n",
       "    </tr>\n",
       "  </thead>\n",
       "  <tbody>\n",
       "    <tr>\n",
       "      <th>AAACCCAAGAATTTGG</th>\n",
       "      <td>AAACCCAAGAATTTGG</td>\n",
       "      <td>Index3_Bit1_F_443-Bit2_F_296-Bit3_F_358t</td>\n",
       "      <td>4</td>\n",
       "    </tr>\n",
       "    <tr>\n",
       "      <th>AAACCCAAGAGACAAG</th>\n",
       "      <td>AAACCCAAGAGACAAG</td>\n",
       "      <td>IndexE_Bit1_F_055-Bit2_F_224-Bit3_F_011t</td>\n",
       "      <td>1</td>\n",
       "    </tr>\n",
       "    <tr>\n",
       "      <th>AAACCCAAGAGACAAG</th>\n",
       "      <td>AAACCCAAGAGACAAG</td>\n",
       "      <td>IndexE_Bit1_F_357-Bit2_F_047-Bit3_F_242t</td>\n",
       "      <td>1</td>\n",
       "    </tr>\n",
       "    <tr>\n",
       "      <th>AAACCCAAGATACATG</th>\n",
       "      <td>AAACCCAAGATACATG</td>\n",
       "      <td>IndexE_Bit1_F_036-Bit2_F_057-Bit3_F_170t</td>\n",
       "      <td>1</td>\n",
       "    </tr>\n",
       "    <tr>\n",
       "      <th>AAACCCAAGATAGCTA</th>\n",
       "      <td>AAACCCAAGATAGCTA</td>\n",
       "      <td>IndexE_Bit1_F_392-Bit2_F_338-Bit3_F_100t</td>\n",
       "      <td>1</td>\n",
       "    </tr>\n",
       "  </tbody>\n",
       "</table>\n",
       "</div>"
      ],
      "text/plain": [
       "                               CBC                                   barcode  \\\n",
       "AAACCCAAGAATTTGG  AAACCCAAGAATTTGG  Index3_Bit1_F_443-Bit2_F_296-Bit3_F_358t   \n",
       "AAACCCAAGAGACAAG  AAACCCAAGAGACAAG  IndexE_Bit1_F_055-Bit2_F_224-Bit3_F_011t   \n",
       "AAACCCAAGAGACAAG  AAACCCAAGAGACAAG  IndexE_Bit1_F_357-Bit2_F_047-Bit3_F_242t   \n",
       "AAACCCAAGATACATG  AAACCCAAGATACATG  IndexE_Bit1_F_036-Bit2_F_057-Bit3_F_170t   \n",
       "AAACCCAAGATAGCTA  AAACCCAAGATAGCTA  IndexE_Bit1_F_392-Bit2_F_338-Bit3_F_100t   \n",
       "\n",
       "                  UMI_Count  \n",
       "AAACCCAAGAATTTGG          4  \n",
       "AAACCCAAGAGACAAG          1  \n",
       "AAACCCAAGAGACAAG          1  \n",
       "AAACCCAAGATACATG          1  \n",
       "AAACCCAAGATAGCTA          1  "
      ]
     },
     "execution_count": 363,
     "metadata": {},
     "output_type": "execute_result"
    }
   ],
   "source": [
    "sticr_tsv.iloc[0:5,:]"
   ]
  },
  {
   "cell_type": "code",
   "execution_count": null,
   "id": "148b0790-f574-4841-ab44-0733fc65d824",
   "metadata": {},
   "outputs": [],
   "source": []
  },
  {
   "cell_type": "markdown",
   "id": "8d6278c3-21ae-433b-8012-9704b7de2509",
   "metadata": {
    "jp-MarkdownHeadingCollapsed": true,
    "tags": []
   },
   "source": [
    "## new processing for 220215 GW18:"
   ]
  },
  {
   "cell_type": "code",
   "execution_count": 369,
   "id": "4de3886e-0b9f-4265-bbf4-e3eea05e0f87",
   "metadata": {},
   "outputs": [],
   "source": [
    "## load in the Final_Barcodes.tsv output from the STICR pipeline\n",
    "sticr_tsv = pd.read_csv('/media/chang/HDD-11/mgkeefe/220324_STICR_local_slice/STICR_BCs/GW18_merge/Final_Barcodes_merge.tsv',\n",
    "                           sep='\\t')\n",
    "sticr_tsv.index = list(sticr_tsv['CBC'])"
   ]
  },
  {
   "cell_type": "code",
   "execution_count": 370,
   "id": "0c9e52fe-db0c-4217-bd3b-74d905392c92",
   "metadata": {},
   "outputs": [],
   "source": [
    "## generate a matrix of zeroes with dimensions CBCs (rows) by STICR BCs (columns)\n",
    "cbc_names = np.unique(sticr_tsv['CBC'])\n",
    "bc_names = np.unique(sticr_tsv['barcode'])\n",
    "bc_matrix = np.zeros((len(np.unique(cbc_names)), len(np.unique(bc_names))))\n",
    "bc_df = pd.DataFrame(bc_matrix, index=list(cbc_names), columns=list(bc_names))"
   ]
  },
  {
   "cell_type": "code",
   "execution_count": 382,
   "id": "017c0ff7-bb7e-4a39-8e4a-5855629fe78d",
   "metadata": {},
   "outputs": [
    {
     "data": {
      "text/html": [
       "<div>\n",
       "<style scoped>\n",
       "    .dataframe tbody tr th:only-of-type {\n",
       "        vertical-align: middle;\n",
       "    }\n",
       "\n",
       "    .dataframe tbody tr th {\n",
       "        vertical-align: top;\n",
       "    }\n",
       "\n",
       "    .dataframe thead th {\n",
       "        text-align: right;\n",
       "    }\n",
       "</style>\n",
       "<table border=\"1\" class=\"dataframe\">\n",
       "  <thead>\n",
       "    <tr style=\"text-align: right;\">\n",
       "      <th></th>\n",
       "      <th>CBC</th>\n",
       "      <th>barcode</th>\n",
       "      <th>UMI_Count</th>\n",
       "    </tr>\n",
       "  </thead>\n",
       "  <tbody>\n",
       "    <tr>\n",
       "      <th>AAACCCAAGAGGATCC</th>\n",
       "      <td>AAACCCAAGAGGATCC</td>\n",
       "      <td>Index3_Bit1_F_117-Bit2_F_040-Bit3_F_099</td>\n",
       "      <td>2</td>\n",
       "    </tr>\n",
       "    <tr>\n",
       "      <th>AAACCCAAGCCTCAGC</th>\n",
       "      <td>AAACCCAAGCCTCAGC</td>\n",
       "      <td>IndexE_Bit1_F_190-Bit2_F_368-Bit3_F_170</td>\n",
       "      <td>1</td>\n",
       "    </tr>\n",
       "    <tr>\n",
       "      <th>AAACCCAAGGATATGT</th>\n",
       "      <td>AAACCCAAGGATATGT</td>\n",
       "      <td>Index3_Bit1_F_310-Bit2_F_065-Bit3_F_187</td>\n",
       "      <td>1</td>\n",
       "    </tr>\n",
       "    <tr>\n",
       "      <th>AAACCCACACGCTGAC</th>\n",
       "      <td>AAACCCACACGCTGAC</td>\n",
       "      <td>IndexE_Bit1_F_157-Bit2_F_081-Bit3_F_428</td>\n",
       "      <td>1</td>\n",
       "    </tr>\n",
       "    <tr>\n",
       "      <th>AAACCCACAGCGGATA</th>\n",
       "      <td>AAACCCACAGCGGATA</td>\n",
       "      <td>Index3_Bit1_F_289-Bit2_F_341-Bit3_F_472</td>\n",
       "      <td>1</td>\n",
       "    </tr>\n",
       "    <tr>\n",
       "      <th>...</th>\n",
       "      <td>...</td>\n",
       "      <td>...</td>\n",
       "      <td>...</td>\n",
       "    </tr>\n",
       "    <tr>\n",
       "      <th>TTTGTTGCAACTACGT</th>\n",
       "      <td>TTTGTTGCAACTACGT</td>\n",
       "      <td>Index3_Bit1_F_048-Bit2_F_221-Bit3_F_152</td>\n",
       "      <td>1</td>\n",
       "    </tr>\n",
       "    <tr>\n",
       "      <th>TTTGTTGCAGTCGCAC</th>\n",
       "      <td>TTTGTTGCAGTCGCAC</td>\n",
       "      <td>IndexE_Bit1_F_057-Bit2_F_142-Bit3_F_020</td>\n",
       "      <td>1</td>\n",
       "    </tr>\n",
       "    <tr>\n",
       "      <th>TTTGTTGCATGTGGCC</th>\n",
       "      <td>TTTGTTGCATGTGGCC</td>\n",
       "      <td>Index3_Bit1_F_408-Bit2_F_143-Bit3_F_061</td>\n",
       "      <td>1</td>\n",
       "    </tr>\n",
       "    <tr>\n",
       "      <th>TTTGTTGGTCGTTTCC</th>\n",
       "      <td>TTTGTTGGTCGTTTCC</td>\n",
       "      <td>IndexE_Bit1_F_379-Bit2_F_361-Bit3_F_489</td>\n",
       "      <td>1</td>\n",
       "    </tr>\n",
       "    <tr>\n",
       "      <th>TTTGTTGGTGAATAAC</th>\n",
       "      <td>TTTGTTGGTGAATAAC</td>\n",
       "      <td>IndexE_Bit1_F_148-Bit2_F_124-Bit3_F_122</td>\n",
       "      <td>2</td>\n",
       "    </tr>\n",
       "  </tbody>\n",
       "</table>\n",
       "<p>10904 rows × 3 columns</p>\n",
       "</div>"
      ],
      "text/plain": [
       "                               CBC                                  barcode  \\\n",
       "AAACCCAAGAGGATCC  AAACCCAAGAGGATCC  Index3_Bit1_F_117-Bit2_F_040-Bit3_F_099   \n",
       "AAACCCAAGCCTCAGC  AAACCCAAGCCTCAGC  IndexE_Bit1_F_190-Bit2_F_368-Bit3_F_170   \n",
       "AAACCCAAGGATATGT  AAACCCAAGGATATGT  Index3_Bit1_F_310-Bit2_F_065-Bit3_F_187   \n",
       "AAACCCACACGCTGAC  AAACCCACACGCTGAC  IndexE_Bit1_F_157-Bit2_F_081-Bit3_F_428   \n",
       "AAACCCACAGCGGATA  AAACCCACAGCGGATA  Index3_Bit1_F_289-Bit2_F_341-Bit3_F_472   \n",
       "...                            ...                                      ...   \n",
       "TTTGTTGCAACTACGT  TTTGTTGCAACTACGT  Index3_Bit1_F_048-Bit2_F_221-Bit3_F_152   \n",
       "TTTGTTGCAGTCGCAC  TTTGTTGCAGTCGCAC  IndexE_Bit1_F_057-Bit2_F_142-Bit3_F_020   \n",
       "TTTGTTGCATGTGGCC  TTTGTTGCATGTGGCC  Index3_Bit1_F_408-Bit2_F_143-Bit3_F_061   \n",
       "TTTGTTGGTCGTTTCC  TTTGTTGGTCGTTTCC  IndexE_Bit1_F_379-Bit2_F_361-Bit3_F_489   \n",
       "TTTGTTGGTGAATAAC  TTTGTTGGTGAATAAC  IndexE_Bit1_F_148-Bit2_F_124-Bit3_F_122   \n",
       "\n",
       "                  UMI_Count  \n",
       "AAACCCAAGAGGATCC          2  \n",
       "AAACCCAAGCCTCAGC          1  \n",
       "AAACCCAAGGATATGT          1  \n",
       "AAACCCACACGCTGAC          1  \n",
       "AAACCCACAGCGGATA          1  \n",
       "...                     ...  \n",
       "TTTGTTGCAACTACGT          1  \n",
       "TTTGTTGCAGTCGCAC          1  \n",
       "TTTGTTGCATGTGGCC          1  \n",
       "TTTGTTGGTCGTTTCC          1  \n",
       "TTTGTTGGTGAATAAC          2  \n",
       "\n",
       "[10904 rows x 3 columns]"
      ]
     },
     "execution_count": 382,
     "metadata": {},
     "output_type": "execute_result"
    }
   ],
   "source": [
    "sticr_tsv"
   ]
  },
  {
   "cell_type": "code",
   "execution_count": 395,
   "id": "fb3ccd87-f5d9-4693-833f-a666030db13b",
   "metadata": {},
   "outputs": [
    {
     "data": {
      "text/plain": [
       "1     9536\n",
       "2      594\n",
       "3      181\n",
       "4       80\n",
       "6       59\n",
       "5       57\n",
       "8       42\n",
       "7       40\n",
       "9       37\n",
       "11      30\n",
       "12      29\n",
       "15      28\n",
       "10      27\n",
       "14      25\n",
       "13      19\n",
       "16      17\n",
       "18      15\n",
       "21       8\n",
       "19       8\n",
       "17       7\n",
       "22       7\n",
       "20       6\n",
       "24       6\n",
       "23       5\n",
       "29       4\n",
       "28       4\n",
       "31       3\n",
       "27       3\n",
       "25       3\n",
       "40       2\n",
       "26       2\n",
       "30       2\n",
       "50       2\n",
       "34       2\n",
       "52       1\n",
       "39       1\n",
       "38       1\n",
       "37       1\n",
       "55       1\n",
       "67       1\n",
       "36       1\n",
       "70       1\n",
       "33       1\n",
       "35       1\n",
       "48       1\n",
       "60       1\n",
       "47       1\n",
       "63       1\n",
       "Name: UMI_Count, dtype: int64"
      ]
     },
     "execution_count": 395,
     "metadata": {},
     "output_type": "execute_result"
    }
   ],
   "source": [
    "sticr_tsv['UMI_Count'].value_counts()"
   ]
  },
  {
   "cell_type": "code",
   "execution_count": 378,
   "id": "dd6b7896-9aa9-4f16-b912-605d828fd741",
   "metadata": {},
   "outputs": [
    {
     "data": {
      "text/plain": [
       "10904"
      ]
     },
     "execution_count": 378,
     "metadata": {},
     "output_type": "execute_result"
    }
   ],
   "source": [
    "len(sticr_tsv['CBC'])"
   ]
  },
  {
   "cell_type": "code",
   "execution_count": 379,
   "id": "7a58e8cb-8f43-489b-8d48-a6d5727d0e3d",
   "metadata": {},
   "outputs": [
    {
     "data": {
      "text/plain": [
       "9850"
      ]
     },
     "execution_count": 379,
     "metadata": {},
     "output_type": "execute_result"
    }
   ],
   "source": [
    "len(cbc_names)"
   ]
  },
  {
   "cell_type": "code",
   "execution_count": 380,
   "id": "68e02102-1e14-426f-9174-55a6191f534b",
   "metadata": {},
   "outputs": [
    {
     "data": {
      "text/plain": [
       "10904"
      ]
     },
     "execution_count": 380,
     "metadata": {},
     "output_type": "execute_result"
    }
   ],
   "source": [
    "len(sticr_tsv['barcode'])"
   ]
  },
  {
   "cell_type": "code",
   "execution_count": 381,
   "id": "cb5b3385-a77c-4d1a-9191-0dec73eb7145",
   "metadata": {},
   "outputs": [
    {
     "data": {
      "text/plain": [
       "1276"
      ]
     },
     "execution_count": 381,
     "metadata": {},
     "output_type": "execute_result"
    }
   ],
   "source": [
    "len(bc_names)"
   ]
  },
  {
   "cell_type": "code",
   "execution_count": 377,
   "id": "a45208cd-5314-47df-bd50-1723b2a0fc1f",
   "metadata": {},
   "outputs": [
    {
     "name": "stderr",
     "output_type": "stream",
     "text": [
      "  7%|▋         | 95/1276 [00:00<00:03, 354.29it/s]\n"
     ]
    },
    {
     "ename": "ValueError",
     "evalue": "cannot reindex on an axis with duplicate labels",
     "output_type": "error",
     "traceback": [
      "\u001b[0;31m---------------------------------------------------------------------------\u001b[0m",
      "\u001b[0;31mValueError\u001b[0m                                Traceback (most recent call last)",
      "Input \u001b[0;32mIn [377]\u001b[0m, in \u001b[0;36m<cell line: 4>\u001b[0;34m()\u001b[0m\n\u001b[1;32m      2\u001b[0m \u001b[38;5;28;01mfrom\u001b[39;00m \u001b[38;5;21;01mtqdm\u001b[39;00m \u001b[38;5;28;01mimport\u001b[39;00m tqdm\n\u001b[1;32m      4\u001b[0m \u001b[38;5;28;01mfor\u001b[39;00m sbc \u001b[38;5;129;01min\u001b[39;00m tqdm(bc_names):\n\u001b[0;32m----> 5\u001b[0m     bc_df\u001b[38;5;241m.\u001b[39mloc[bc_df\u001b[38;5;241m.\u001b[39mindex\u001b[38;5;241m.\u001b[39misin(sticr_tsv[\u001b[38;5;124m'\u001b[39m\u001b[38;5;124mCBC\u001b[39m\u001b[38;5;124m'\u001b[39m][sticr_tsv[\u001b[38;5;124m'\u001b[39m\u001b[38;5;124mbarcode\u001b[39m\u001b[38;5;124m'\u001b[39m]\u001b[38;5;241m==\u001b[39msbc]), bc_df\u001b[38;5;241m.\u001b[39mcolumns\u001b[38;5;241m==\u001b[39msbc] \u001b[38;5;241m=\u001b[39m sticr_tsv\u001b[38;5;241m.\u001b[39mloc[sticr_tsv[\u001b[38;5;124m'\u001b[39m\u001b[38;5;124mbarcode\u001b[39m\u001b[38;5;124m'\u001b[39m]\u001b[38;5;241m==\u001b[39msbc,\u001b[38;5;124m'\u001b[39m\u001b[38;5;124mUMI_Count\u001b[39m\u001b[38;5;124m'\u001b[39m]\n",
      "File \u001b[0;32m~/miniconda3/envs/scAR_env/lib/python3.8/site-packages/pandas/core/indexing.py:716\u001b[0m, in \u001b[0;36m_LocationIndexer.__setitem__\u001b[0;34m(self, key, value)\u001b[0m\n\u001b[1;32m    713\u001b[0m \u001b[38;5;28mself\u001b[39m\u001b[38;5;241m.\u001b[39m_has_valid_setitem_indexer(key)\n\u001b[1;32m    715\u001b[0m iloc \u001b[38;5;241m=\u001b[39m \u001b[38;5;28mself\u001b[39m \u001b[38;5;28;01mif\u001b[39;00m \u001b[38;5;28mself\u001b[39m\u001b[38;5;241m.\u001b[39mname \u001b[38;5;241m==\u001b[39m \u001b[38;5;124m\"\u001b[39m\u001b[38;5;124miloc\u001b[39m\u001b[38;5;124m\"\u001b[39m \u001b[38;5;28;01melse\u001b[39;00m \u001b[38;5;28mself\u001b[39m\u001b[38;5;241m.\u001b[39mobj\u001b[38;5;241m.\u001b[39miloc\n\u001b[0;32m--> 716\u001b[0m \u001b[43miloc\u001b[49m\u001b[38;5;241;43m.\u001b[39;49m\u001b[43m_setitem_with_indexer\u001b[49m\u001b[43m(\u001b[49m\u001b[43mindexer\u001b[49m\u001b[43m,\u001b[49m\u001b[43m \u001b[49m\u001b[43mvalue\u001b[49m\u001b[43m,\u001b[49m\u001b[43m \u001b[49m\u001b[38;5;28;43mself\u001b[39;49m\u001b[38;5;241;43m.\u001b[39;49m\u001b[43mname\u001b[49m\u001b[43m)\u001b[49m\n",
      "File \u001b[0;32m~/miniconda3/envs/scAR_env/lib/python3.8/site-packages/pandas/core/indexing.py:1690\u001b[0m, in \u001b[0;36m_iLocIndexer._setitem_with_indexer\u001b[0;34m(self, indexer, value, name)\u001b[0m\n\u001b[1;32m   1688\u001b[0m     \u001b[38;5;28mself\u001b[39m\u001b[38;5;241m.\u001b[39m_setitem_with_indexer_split_path(indexer, value, name)\n\u001b[1;32m   1689\u001b[0m \u001b[38;5;28;01melse\u001b[39;00m:\n\u001b[0;32m-> 1690\u001b[0m     \u001b[38;5;28;43mself\u001b[39;49m\u001b[38;5;241;43m.\u001b[39;49m\u001b[43m_setitem_single_block\u001b[49m\u001b[43m(\u001b[49m\u001b[43mindexer\u001b[49m\u001b[43m,\u001b[49m\u001b[43m \u001b[49m\u001b[43mvalue\u001b[49m\u001b[43m,\u001b[49m\u001b[43m \u001b[49m\u001b[43mname\u001b[49m\u001b[43m)\u001b[49m\n",
      "File \u001b[0;32m~/miniconda3/envs/scAR_env/lib/python3.8/site-packages/pandas/core/indexing.py:1929\u001b[0m, in \u001b[0;36m_iLocIndexer._setitem_single_block\u001b[0;34m(self, indexer, value, name)\u001b[0m\n\u001b[1;32m   1923\u001b[0m     indexer \u001b[38;5;241m=\u001b[39m maybe_convert_ix(\u001b[38;5;241m*\u001b[39mindexer)  \u001b[38;5;66;03m# e.g. test_setitem_frame_align\u001b[39;00m\n\u001b[1;32m   1925\u001b[0m \u001b[38;5;28;01mif\u001b[39;00m (\u001b[38;5;28misinstance\u001b[39m(value, ABCSeries) \u001b[38;5;129;01mand\u001b[39;00m name \u001b[38;5;241m!=\u001b[39m \u001b[38;5;124m\"\u001b[39m\u001b[38;5;124miloc\u001b[39m\u001b[38;5;124m\"\u001b[39m) \u001b[38;5;129;01mor\u001b[39;00m \u001b[38;5;28misinstance\u001b[39m(value, \u001b[38;5;28mdict\u001b[39m):\n\u001b[1;32m   1926\u001b[0m     \u001b[38;5;66;03m# TODO(EA): ExtensionBlock.setitem this causes issues with\u001b[39;00m\n\u001b[1;32m   1927\u001b[0m     \u001b[38;5;66;03m# setting for extensionarrays that store dicts. Need to decide\u001b[39;00m\n\u001b[1;32m   1928\u001b[0m     \u001b[38;5;66;03m# if it's worth supporting that.\u001b[39;00m\n\u001b[0;32m-> 1929\u001b[0m     value \u001b[38;5;241m=\u001b[39m \u001b[38;5;28;43mself\u001b[39;49m\u001b[38;5;241;43m.\u001b[39;49m\u001b[43m_align_series\u001b[49m\u001b[43m(\u001b[49m\u001b[43mindexer\u001b[49m\u001b[43m,\u001b[49m\u001b[43m \u001b[49m\u001b[43mSeries\u001b[49m\u001b[43m(\u001b[49m\u001b[43mvalue\u001b[49m\u001b[43m)\u001b[49m\u001b[43m)\u001b[49m\n\u001b[1;32m   1931\u001b[0m \u001b[38;5;28;01melif\u001b[39;00m \u001b[38;5;28misinstance\u001b[39m(value, ABCDataFrame) \u001b[38;5;129;01mand\u001b[39;00m name \u001b[38;5;241m!=\u001b[39m \u001b[38;5;124m\"\u001b[39m\u001b[38;5;124miloc\u001b[39m\u001b[38;5;124m\"\u001b[39m:\n\u001b[1;32m   1932\u001b[0m     value \u001b[38;5;241m=\u001b[39m \u001b[38;5;28mself\u001b[39m\u001b[38;5;241m.\u001b[39m_align_frame(indexer, value)\n",
      "File \u001b[0;32m~/miniconda3/envs/scAR_env/lib/python3.8/site-packages/pandas/core/indexing.py:2091\u001b[0m, in \u001b[0;36m_iLocIndexer._align_series\u001b[0;34m(self, indexer, ser, multiindex_indexer)\u001b[0m\n\u001b[1;32m   2089\u001b[0m \u001b[38;5;28;01mif\u001b[39;00m obj\u001b[38;5;241m.\u001b[39mndim \u001b[38;5;241m==\u001b[39m \u001b[38;5;241m2\u001b[39m \u001b[38;5;129;01mand\u001b[39;00m is_empty_indexer(indexer[\u001b[38;5;241m0\u001b[39m], ser\u001b[38;5;241m.\u001b[39m_values):\n\u001b[1;32m   2090\u001b[0m     \u001b[38;5;28;01mreturn\u001b[39;00m ser\u001b[38;5;241m.\u001b[39m_values\u001b[38;5;241m.\u001b[39mcopy()\n\u001b[0;32m-> 2091\u001b[0m ser \u001b[38;5;241m=\u001b[39m \u001b[43mser\u001b[49m\u001b[38;5;241;43m.\u001b[39;49m\u001b[43mreindex\u001b[49m\u001b[43m(\u001b[49m\u001b[43mobj\u001b[49m\u001b[38;5;241;43m.\u001b[39;49m\u001b[43maxes\u001b[49m\u001b[43m[\u001b[49m\u001b[38;5;241;43m0\u001b[39;49m\u001b[43m]\u001b[49m\u001b[43m[\u001b[49m\u001b[43mindexer\u001b[49m\u001b[43m[\u001b[49m\u001b[38;5;241;43m0\u001b[39;49m\u001b[43m]\u001b[49m\u001b[43m]\u001b[49m\u001b[43m,\u001b[49m\u001b[43m \u001b[49m\u001b[43mcopy\u001b[49m\u001b[38;5;241;43m=\u001b[39;49m\u001b[38;5;28;43;01mTrue\u001b[39;49;00m\u001b[43m)\u001b[49m\u001b[38;5;241m.\u001b[39m_values\n\u001b[1;32m   2093\u001b[0m \u001b[38;5;66;03m# single indexer\u001b[39;00m\n\u001b[1;32m   2094\u001b[0m \u001b[38;5;28;01mif\u001b[39;00m \u001b[38;5;28mlen\u001b[39m(indexer) \u001b[38;5;241m>\u001b[39m \u001b[38;5;241m1\u001b[39m \u001b[38;5;129;01mand\u001b[39;00m \u001b[38;5;129;01mnot\u001b[39;00m multiindex_indexer:\n",
      "File \u001b[0;32m~/miniconda3/envs/scAR_env/lib/python3.8/site-packages/pandas/core/series.py:4672\u001b[0m, in \u001b[0;36mSeries.reindex\u001b[0;34m(self, *args, **kwargs)\u001b[0m\n\u001b[1;32m   4668\u001b[0m         \u001b[38;5;28;01mraise\u001b[39;00m \u001b[38;5;167;01mTypeError\u001b[39;00m(\n\u001b[1;32m   4669\u001b[0m             \u001b[38;5;124m\"\u001b[39m\u001b[38;5;124m'\u001b[39m\u001b[38;5;124mindex\u001b[39m\u001b[38;5;124m'\u001b[39m\u001b[38;5;124m passed as both positional and keyword argument\u001b[39m\u001b[38;5;124m\"\u001b[39m\n\u001b[1;32m   4670\u001b[0m         )\n\u001b[1;32m   4671\u001b[0m     kwargs\u001b[38;5;241m.\u001b[39mupdate({\u001b[38;5;124m\"\u001b[39m\u001b[38;5;124mindex\u001b[39m\u001b[38;5;124m\"\u001b[39m: index})\n\u001b[0;32m-> 4672\u001b[0m \u001b[38;5;28;01mreturn\u001b[39;00m \u001b[38;5;28;43msuper\u001b[39;49m\u001b[43m(\u001b[49m\u001b[43m)\u001b[49m\u001b[38;5;241;43m.\u001b[39;49m\u001b[43mreindex\u001b[49m\u001b[43m(\u001b[49m\u001b[38;5;241;43m*\u001b[39;49m\u001b[38;5;241;43m*\u001b[39;49m\u001b[43mkwargs\u001b[49m\u001b[43m)\u001b[49m\n",
      "File \u001b[0;32m~/miniconda3/envs/scAR_env/lib/python3.8/site-packages/pandas/core/generic.py:4966\u001b[0m, in \u001b[0;36mNDFrame.reindex\u001b[0;34m(self, *args, **kwargs)\u001b[0m\n\u001b[1;32m   4963\u001b[0m     \u001b[38;5;28;01mreturn\u001b[39;00m \u001b[38;5;28mself\u001b[39m\u001b[38;5;241m.\u001b[39m_reindex_multi(axes, copy, fill_value)\n\u001b[1;32m   4965\u001b[0m \u001b[38;5;66;03m# perform the reindex on the axes\u001b[39;00m\n\u001b[0;32m-> 4966\u001b[0m \u001b[38;5;28;01mreturn\u001b[39;00m \u001b[38;5;28;43mself\u001b[39;49m\u001b[38;5;241;43m.\u001b[39;49m\u001b[43m_reindex_axes\u001b[49m\u001b[43m(\u001b[49m\n\u001b[1;32m   4967\u001b[0m \u001b[43m    \u001b[49m\u001b[43maxes\u001b[49m\u001b[43m,\u001b[49m\u001b[43m \u001b[49m\u001b[43mlevel\u001b[49m\u001b[43m,\u001b[49m\u001b[43m \u001b[49m\u001b[43mlimit\u001b[49m\u001b[43m,\u001b[49m\u001b[43m \u001b[49m\u001b[43mtolerance\u001b[49m\u001b[43m,\u001b[49m\u001b[43m \u001b[49m\u001b[43mmethod\u001b[49m\u001b[43m,\u001b[49m\u001b[43m \u001b[49m\u001b[43mfill_value\u001b[49m\u001b[43m,\u001b[49m\u001b[43m \u001b[49m\u001b[43mcopy\u001b[49m\n\u001b[1;32m   4968\u001b[0m \u001b[43m\u001b[49m\u001b[43m)\u001b[49m\u001b[38;5;241m.\u001b[39m__finalize__(\u001b[38;5;28mself\u001b[39m, method\u001b[38;5;241m=\u001b[39m\u001b[38;5;124m\"\u001b[39m\u001b[38;5;124mreindex\u001b[39m\u001b[38;5;124m\"\u001b[39m)\n",
      "File \u001b[0;32m~/miniconda3/envs/scAR_env/lib/python3.8/site-packages/pandas/core/generic.py:4986\u001b[0m, in \u001b[0;36mNDFrame._reindex_axes\u001b[0;34m(self, axes, level, limit, tolerance, method, fill_value, copy)\u001b[0m\n\u001b[1;32m   4981\u001b[0m new_index, indexer \u001b[38;5;241m=\u001b[39m ax\u001b[38;5;241m.\u001b[39mreindex(\n\u001b[1;32m   4982\u001b[0m     labels, level\u001b[38;5;241m=\u001b[39mlevel, limit\u001b[38;5;241m=\u001b[39mlimit, tolerance\u001b[38;5;241m=\u001b[39mtolerance, method\u001b[38;5;241m=\u001b[39mmethod\n\u001b[1;32m   4983\u001b[0m )\n\u001b[1;32m   4985\u001b[0m axis \u001b[38;5;241m=\u001b[39m \u001b[38;5;28mself\u001b[39m\u001b[38;5;241m.\u001b[39m_get_axis_number(a)\n\u001b[0;32m-> 4986\u001b[0m obj \u001b[38;5;241m=\u001b[39m \u001b[43mobj\u001b[49m\u001b[38;5;241;43m.\u001b[39;49m\u001b[43m_reindex_with_indexers\u001b[49m\u001b[43m(\u001b[49m\n\u001b[1;32m   4987\u001b[0m \u001b[43m    \u001b[49m\u001b[43m{\u001b[49m\u001b[43maxis\u001b[49m\u001b[43m:\u001b[49m\u001b[43m \u001b[49m\u001b[43m[\u001b[49m\u001b[43mnew_index\u001b[49m\u001b[43m,\u001b[49m\u001b[43m \u001b[49m\u001b[43mindexer\u001b[49m\u001b[43m]\u001b[49m\u001b[43m}\u001b[49m\u001b[43m,\u001b[49m\n\u001b[1;32m   4988\u001b[0m \u001b[43m    \u001b[49m\u001b[43mfill_value\u001b[49m\u001b[38;5;241;43m=\u001b[39;49m\u001b[43mfill_value\u001b[49m\u001b[43m,\u001b[49m\n\u001b[1;32m   4989\u001b[0m \u001b[43m    \u001b[49m\u001b[43mcopy\u001b[49m\u001b[38;5;241;43m=\u001b[39;49m\u001b[43mcopy\u001b[49m\u001b[43m,\u001b[49m\n\u001b[1;32m   4990\u001b[0m \u001b[43m    \u001b[49m\u001b[43mallow_dups\u001b[49m\u001b[38;5;241;43m=\u001b[39;49m\u001b[38;5;28;43;01mFalse\u001b[39;49;00m\u001b[43m,\u001b[49m\n\u001b[1;32m   4991\u001b[0m \u001b[43m\u001b[49m\u001b[43m)\u001b[49m\n\u001b[1;32m   4992\u001b[0m \u001b[38;5;66;03m# If we've made a copy once, no need to make another one\u001b[39;00m\n\u001b[1;32m   4993\u001b[0m copy \u001b[38;5;241m=\u001b[39m \u001b[38;5;28;01mFalse\u001b[39;00m\n",
      "File \u001b[0;32m~/miniconda3/envs/scAR_env/lib/python3.8/site-packages/pandas/core/generic.py:5032\u001b[0m, in \u001b[0;36mNDFrame._reindex_with_indexers\u001b[0;34m(self, reindexers, fill_value, copy, allow_dups)\u001b[0m\n\u001b[1;32m   5029\u001b[0m     indexer \u001b[38;5;241m=\u001b[39m ensure_platform_int(indexer)\n\u001b[1;32m   5031\u001b[0m \u001b[38;5;66;03m# TODO: speed up on homogeneous DataFrame objects (see _reindex_multi)\u001b[39;00m\n\u001b[0;32m-> 5032\u001b[0m new_data \u001b[38;5;241m=\u001b[39m \u001b[43mnew_data\u001b[49m\u001b[38;5;241;43m.\u001b[39;49m\u001b[43mreindex_indexer\u001b[49m\u001b[43m(\u001b[49m\n\u001b[1;32m   5033\u001b[0m \u001b[43m    \u001b[49m\u001b[43mindex\u001b[49m\u001b[43m,\u001b[49m\n\u001b[1;32m   5034\u001b[0m \u001b[43m    \u001b[49m\u001b[43mindexer\u001b[49m\u001b[43m,\u001b[49m\n\u001b[1;32m   5035\u001b[0m \u001b[43m    \u001b[49m\u001b[43maxis\u001b[49m\u001b[38;5;241;43m=\u001b[39;49m\u001b[43mbaxis\u001b[49m\u001b[43m,\u001b[49m\n\u001b[1;32m   5036\u001b[0m \u001b[43m    \u001b[49m\u001b[43mfill_value\u001b[49m\u001b[38;5;241;43m=\u001b[39;49m\u001b[43mfill_value\u001b[49m\u001b[43m,\u001b[49m\n\u001b[1;32m   5037\u001b[0m \u001b[43m    \u001b[49m\u001b[43mallow_dups\u001b[49m\u001b[38;5;241;43m=\u001b[39;49m\u001b[43mallow_dups\u001b[49m\u001b[43m,\u001b[49m\n\u001b[1;32m   5038\u001b[0m \u001b[43m    \u001b[49m\u001b[43mcopy\u001b[49m\u001b[38;5;241;43m=\u001b[39;49m\u001b[43mcopy\u001b[49m\u001b[43m,\u001b[49m\n\u001b[1;32m   5039\u001b[0m \u001b[43m\u001b[49m\u001b[43m)\u001b[49m\n\u001b[1;32m   5040\u001b[0m \u001b[38;5;66;03m# If we've made a copy once, no need to make another one\u001b[39;00m\n\u001b[1;32m   5041\u001b[0m copy \u001b[38;5;241m=\u001b[39m \u001b[38;5;28;01mFalse\u001b[39;00m\n",
      "File \u001b[0;32m~/miniconda3/envs/scAR_env/lib/python3.8/site-packages/pandas/core/internals/managers.py:679\u001b[0m, in \u001b[0;36mBaseBlockManager.reindex_indexer\u001b[0;34m(self, new_axis, indexer, axis, fill_value, allow_dups, copy, consolidate, only_slice, use_na_proxy)\u001b[0m\n\u001b[1;32m    677\u001b[0m \u001b[38;5;66;03m# some axes don't allow reindexing with dups\u001b[39;00m\n\u001b[1;32m    678\u001b[0m \u001b[38;5;28;01mif\u001b[39;00m \u001b[38;5;129;01mnot\u001b[39;00m allow_dups:\n\u001b[0;32m--> 679\u001b[0m     \u001b[38;5;28;43mself\u001b[39;49m\u001b[38;5;241;43m.\u001b[39;49m\u001b[43maxes\u001b[49m\u001b[43m[\u001b[49m\u001b[43maxis\u001b[49m\u001b[43m]\u001b[49m\u001b[38;5;241;43m.\u001b[39;49m\u001b[43m_validate_can_reindex\u001b[49m\u001b[43m(\u001b[49m\u001b[43mindexer\u001b[49m\u001b[43m)\u001b[49m\n\u001b[1;32m    681\u001b[0m \u001b[38;5;28;01mif\u001b[39;00m axis \u001b[38;5;241m>\u001b[39m\u001b[38;5;241m=\u001b[39m \u001b[38;5;28mself\u001b[39m\u001b[38;5;241m.\u001b[39mndim:\n\u001b[1;32m    682\u001b[0m     \u001b[38;5;28;01mraise\u001b[39;00m \u001b[38;5;167;01mIndexError\u001b[39;00m(\u001b[38;5;124m\"\u001b[39m\u001b[38;5;124mRequested axis not found in manager\u001b[39m\u001b[38;5;124m\"\u001b[39m)\n",
      "File \u001b[0;32m~/miniconda3/envs/scAR_env/lib/python3.8/site-packages/pandas/core/indexes/base.py:4107\u001b[0m, in \u001b[0;36mIndex._validate_can_reindex\u001b[0;34m(self, indexer)\u001b[0m\n\u001b[1;32m   4105\u001b[0m \u001b[38;5;66;03m# trying to reindex on an axis with duplicates\u001b[39;00m\n\u001b[1;32m   4106\u001b[0m \u001b[38;5;28;01mif\u001b[39;00m \u001b[38;5;129;01mnot\u001b[39;00m \u001b[38;5;28mself\u001b[39m\u001b[38;5;241m.\u001b[39m_index_as_unique \u001b[38;5;129;01mand\u001b[39;00m \u001b[38;5;28mlen\u001b[39m(indexer):\n\u001b[0;32m-> 4107\u001b[0m     \u001b[38;5;28;01mraise\u001b[39;00m \u001b[38;5;167;01mValueError\u001b[39;00m(\u001b[38;5;124m\"\u001b[39m\u001b[38;5;124mcannot reindex on an axis with duplicate labels\u001b[39m\u001b[38;5;124m\"\u001b[39m)\n",
      "\u001b[0;31mValueError\u001b[0m: cannot reindex on an axis with duplicate labels"
     ]
    }
   ],
   "source": [
    "## iterate through every STICR BC and pull the UMI values for a given CBC and map them into the matrix of cells by barcodes\n",
    "from tqdm import tqdm\n",
    "\n",
    "for sbc in tqdm(bc_names):\n",
    "    bc_df.loc[bc_df.index.isin(sticr_tsv['CBC'][sticr_tsv['barcode']==sbc]), bc_df.columns==sbc] = sticr_tsv.loc[sticr_tsv['barcode']==sbc,'UMI_Count']"
   ]
  },
  {
   "cell_type": "code",
   "execution_count": 338,
   "id": "9151e54a-fabc-44a4-b59d-01c0c5dce44f",
   "metadata": {},
   "outputs": [],
   "source": [
    "## compress the dataframe by turning it into a sparse matrix, which is the input for scanpy\n",
    "## note: this used to be done in R with DropletUtils, but that stopped working for some reason so doing it this way instead\n",
    "from scipy.sparse import csr_matrix\n",
    "import h5sparse\n",
    "import h5py\n",
    "import anndata\n",
    "bc_df_sparse = csr_matrix(bc_df)"
   ]
  },
  {
   "cell_type": "code",
   "execution_count": 339,
   "id": "f49cf5c6-2504-457d-8e24-1cd127666077",
   "metadata": {},
   "outputs": [],
   "source": [
    "## convert the sparse matrix back into a dataframe, then parse it with AnnData for scanpy input\n",
    "## save the scanpy input in h5 format so that the slow matrix generation doesn't have to be done again\n",
    "bc_df_reformat = pd.DataFrame.sparse.from_spmatrix(bc_df_sparse, index=bc_df.index, columns=bc_df.columns)\n",
    "bc_df_sc_input = anndata.AnnData(bc_df_reformat)\n",
    "bc_df_sc_input.write_h5ad('/media/chang/HDD-11/mgkeefe/230106_MKTN09_local_STICR/230103_STICR_BCs/STICR_outs_GW16_1220/GW16_221220_S2_bc_matrix_sparse.h5ad')"
   ]
  },
  {
   "cell_type": "code",
   "execution_count": 340,
   "id": "f6f11df0-bd9f-4f62-8695-9f6a2dee4998",
   "metadata": {},
   "outputs": [],
   "source": [
    "## load in the cellranger output and barcode matrix\n",
    "rna = '/media/chang/HDD-11/mgkeefe/230106_MKTN09_local_STICR/cellranger_outs/GW16_1220_sub_FBS_S2_cellranger/raw_feature_bc_matrix.h5'\n",
    "sticr = '/media/chang/HDD-11/mgkeefe/230106_MKTN09_local_STICR/230103_STICR_BCs/STICR_outs_GW16_1220/GW16_221220_S2_bc_matrix_sparse.h5ad'\n",
    "out = '/media/chang/HDD-11/mgkeefe/230106_MKTN09_local_STICR/230103_STICR_BCs/STICR_outs_GW16_1220/GW16_221220_S2_scAR_bcs.csv'\n",
    "gw16_1220_s2 = sc.read_10x_h5(filename=rna, gex_only=True) # Change this if ur using a different scRNA-seq format\n",
    "gw16_1220_s2_sticr = sc.read_h5ad(sticr)\n",
    "gw16_1220_s2_sticr_raw = gw16_1220_s2_sticr.to_df()\n",
    "gw16_1220_s2_sticr.var_names_make_unique()"
   ]
  },
  {
   "cell_type": "code",
   "execution_count": 341,
   "id": "eaa42998-e340-4d56-a17b-81b458881aa1",
   "metadata": {},
   "outputs": [
    {
     "name": "stdout",
     "output_type": "stream",
     "text": [
      "old names:\n",
      "['AAACCCAAGAAACCAT-1', 'AAACCCAAGAAACCCA-1', 'AAACCCAAGAAACCCG-1', 'AAACCCAAGAAACGAA-1', 'AAACCCAAGAAACTAC-1', 'AAACCCAAGAAACTCA-1', 'AAACCCAAGAAAGACA-1', 'AAACCCAAGAAATCCA-1', 'AAACCCAAGAACAGGA-1', 'AAACCCAAGAACCCGA-1']\n",
      "fixed names:\n",
      "['AAACCCAAGAAACCAT', 'AAACCCAAGAAACCCA', 'AAACCCAAGAAACCCG', 'AAACCCAAGAAACGAA', 'AAACCCAAGAAACTAC', 'AAACCCAAGAAACTCA', 'AAACCCAAGAAAGACA', 'AAACCCAAGAAATCCA', 'AAACCCAAGAACAGGA', 'AAACCCAAGAACCCGA']\n",
      "cell names from cellranger:\n",
      "['AAACCCAAGAAACCAT', 'AAACCCAAGAAACCCA', 'AAACCCAAGAAACCCG', 'AAACCCAAGAAACGAA', 'AAACCCAAGAAACTAC', 'AAACCCAAGAAACTCA', 'AAACCCAAGAAAGACA', 'AAACCCAAGAAATCCA', 'AAACCCAAGAACAGGA', 'AAACCCAAGAACCCGA']\n",
      "cell names from STICR processing:\n",
      "['AAACCCAAGAATTTGG', 'AAACCCAAGAGACAAG', 'AAACCCAAGATACATG', 'AAACCCAAGATAGCTA', 'AAACCCAAGATAGTCA', 'AAACCCAAGCAACTAG', 'AAACCCAAGCAATTAG', 'AAACCCAAGCCAATAG', 'AAACCCAAGCCACAAG', 'AAACCCAAGCCACTCG']\n"
     ]
    }
   ],
   "source": [
    "## fix the names in the RNA file to remove the -1 from the CBC\n",
    "fixed_rna_names = gw16_1220_s2.obs_names.tolist()\n",
    "for c in range(0, len(fixed_rna_names)):\n",
    "    fixed_rna_names[c] = fixed_rna_names[c][0:-2]\n",
    "print('old names:')\n",
    "print(gw16_1220_s2.obs_names[0:10].tolist())\n",
    "print('fixed names:')\n",
    "print(fixed_rna_names[0:10])\n",
    "gw16_1220_s2.obs_names = fixed_rna_names\n",
    "print('cell names from cellranger:')\n",
    "print(gw16_1220_s2.obs_names[:10].tolist())\n",
    "print('cell names from STICR processing:')\n",
    "print(gw16_1220_s2_sticr.obs_names[:10].tolist())"
   ]
  },
  {
   "cell_type": "code",
   "execution_count": 342,
   "id": "02e2366b-3392-4e5c-91c1-3784734564af",
   "metadata": {},
   "outputs": [
    {
     "data": {
      "image/png": "[encoded data removed]",
      "text/plain": [
       "<Figure size 600x450 with 1 Axes>"
      ]
     },
     "metadata": {},
     "output_type": "display_data"
    }
   ],
   "source": [
    "## run scAR (stole this code from Chang)\n",
    "rank_UMIs = pd.DataFrame(gw16_1220_s2[:,gw16_1220_s2.var['feature_types']=='Gene Expression'].X.sum(axis=1), index = gw16_1220_s2.obs_names, columns=['total_counts'])\n",
    "rank_UMIs['droplets'] = 'cell-free droplets'\n",
    "rank_UMIs['droplets'] = rank_UMIs['droplets'].mask(rank_UMIs['total_counts']>50, 'droplet II')\n",
    "rank_UMIs['droplets'] = rank_UMIs['droplets'].mask(rank_UMIs['total_counts']>100, 'droplet I')\n",
    "rank_UMIs['droplets'] = rank_UMIs['droplets'].mask(rank_UMIs['total_counts']>500, 'cells')\n",
    "rank_UMIs = rank_UMIs.sort_values(by='total_counts', ascending=False).reset_index().rename_axis(\"rank\").reset_index()\n",
    "rank_UMIs = rank_UMIs.loc[rank_UMIs['total_counts']>0]\n",
    "rank_UMIs = rank_UMIs.set_index('index').rename_axis('cells')\n",
    "\n",
    "\n",
    "plt.figure(figsize=(4, 3), dpi=150)\n",
    "\n",
    "ax = sns.lineplot(data = rank_UMIs,\n",
    "                  x='rank',\n",
    "                  y='total_counts',\n",
    "                  hue='droplets',\n",
    "                  hue_order=['cells', 'droplet I', 'droplet II', 'cell-free droplets'],\n",
    "                  palette=sns.color_palette()[-4:],\n",
    "                  markers=False,\n",
    "                  lw=2)\n",
    "\n",
    "ax.set_xscale('log')\n",
    "ax.set_yscale('log')\n",
    "ax.set_xlabel('sorted droplets');\n",
    "ax.legend(loc='lower left', ncol=1, title=None, frameon=False)\n",
    "ax.set_title(f'kneeplot: gw16_1220_s2');\n",
    "\n",
    "sns.set_palette(\"muted\")\n",
    "sns.set_style(\"ticks\")\n",
    "sns.despine(offset=10, trim=False);"
   ]
  },
  {
   "cell_type": "code",
   "execution_count": 343,
   "id": "ebbdd908-a39e-4856-aa5a-8fbe12235676",
   "metadata": {},
   "outputs": [
    {
     "name": "stdout",
     "output_type": "stream",
     "text": [
      "..Running VAE using the following param set:\n",
      "......scAR mode:  CROPseq\n",
      "......count model:  binomial\n",
      "......num_input_feature:  17517\n",
      "......NN_layer1:  150\n",
      "......NN_layer2:  100\n",
      "......latent_space:  15\n",
      "......dropout_prob:  0\n",
      "......kld_weight:  1e-05\n",
      "......lr:  0.001\n",
      "......lr_step_size:  5\n",
      "......lr_gamma:  0.97\n",
      "===========================================\n",
      "  Training.....\n",
      "100%|██████████| 400/400 [28:19<00:00,  4.25s/it]\n",
      "===========================================\n",
      "  Inferring .....\n"
     ]
    }
   ],
   "source": [
    "## run scAR (stole this code from Chang)\n",
    "####################\n",
    "gw16_1220_s2_filtered = gw16_1220_s2[gw16_1220_s2.obs_names.isin(rank_UMIs[rank_UMIs['droplets']=='cells'].index)] # equal to filtered population as cellranger output\n",
    "gw16_1220_s2_sticr_filtered = gw16_1220_s2_sticr[gw16_1220_s2_sticr.obs_names.isin(gw16_1220_s2_filtered.obs_names)].to_df() # pandas.DataFrame\n",
    "gw16_1220_s2_sticr_filtered_empty_droplets = gw16_1220_s2_sticr_raw.loc[gw16_1220_s2_sticr_raw.index.difference(gw16_1220_s2_sticr_filtered.index)]\n",
    "gw16_1220_s2_sticr_filtered_empty_profile = gw16_1220_s2_sticr_filtered_empty_droplets.sum()/gw16_1220_s2_sticr_filtered_empty_droplets.sum().sum()    # pandas.Series\n",
    "scarObj = scAR.model(raw_count=gw16_1220_s2_sticr_filtered,\n",
    "                     empty_profile=gw16_1220_s2_sticr_filtered_empty_profile.values, # In the case of default None, the empty_profile will be calculated by averaging pooled cells\n",
    "                     scRNAseq_tech='CROPseq')\n",
    "scarObj.train(epochs=400)\n",
    "scarObj.inference(feature_type='sgRNAs', cutoff=3)\n",
    "scarObj.feature_assignment.to_csv(out)\n",
    "####################"
   ]
  },
  {
   "cell_type": "code",
   "execution_count": 344,
   "id": "d7c1c29e-d21c-4531-bb9c-b5b2b87c79db",
   "metadata": {},
   "outputs": [],
   "source": [
    "## write the final scAR output to a csv\n",
    "scarObj.feature_assignment.to_csv(out)"
   ]
  },
  {
   "cell_type": "code",
   "execution_count": 345,
   "id": "b9c84ed4-ac80-4481-a39f-28373154a609",
   "metadata": {},
   "outputs": [
    {
     "data": {
      "text/html": [
       "<div>\n",
       "<style scoped>\n",
       "    .dataframe tbody tr th:only-of-type {\n",
       "        vertical-align: middle;\n",
       "    }\n",
       "\n",
       "    .dataframe tbody tr th {\n",
       "        vertical-align: top;\n",
       "    }\n",
       "\n",
       "    .dataframe thead th {\n",
       "        text-align: right;\n",
       "    }\n",
       "</style>\n",
       "<table border=\"1\" class=\"dataframe\">\n",
       "  <thead>\n",
       "    <tr style=\"text-align: right;\">\n",
       "      <th></th>\n",
       "      <th>Unnamed: 0</th>\n",
       "      <th>sgRNAs</th>\n",
       "      <th>n_sgRNAs</th>\n",
       "    </tr>\n",
       "  </thead>\n",
       "  <tbody>\n",
       "    <tr>\n",
       "      <th>0</th>\n",
       "      <td>AAACCCAAGCCAGTAG</td>\n",
       "      <td>IndexE_Bit1_F_266-Bit2_F_129-Bit3_F_370t</td>\n",
       "      <td>1</td>\n",
       "    </tr>\n",
       "    <tr>\n",
       "      <th>1</th>\n",
       "      <td>AAACCCAAGCCTTTCC</td>\n",
       "      <td>IndexE_Bit1_F_139-Bit2_F_059-Bit3_F_018t</td>\n",
       "      <td>1</td>\n",
       "    </tr>\n",
       "    <tr>\n",
       "      <th>2</th>\n",
       "      <td>AAACCCAAGGTAGCCA</td>\n",
       "      <td>IndexE_Bit1_F_183-Bit2_F_416-Bit3_F_298t</td>\n",
       "      <td>1</td>\n",
       "    </tr>\n",
       "    <tr>\n",
       "      <th>3</th>\n",
       "      <td>AAACCCAGTCTTGCTC</td>\n",
       "      <td>IndexE_Bit1_F_420-Bit2_F_008-Bit3_F_397t</td>\n",
       "      <td>1</td>\n",
       "    </tr>\n",
       "    <tr>\n",
       "      <th>4</th>\n",
       "      <td>AAACCCAGTTATTCCT</td>\n",
       "      <td>IndexE_Bit1_F_494-Bit2_F_292-Bit3_F_452t</td>\n",
       "      <td>1</td>\n",
       "    </tr>\n",
       "    <tr>\n",
       "      <th>...</th>\n",
       "      <td>...</td>\n",
       "      <td>...</td>\n",
       "      <td>...</td>\n",
       "    </tr>\n",
       "    <tr>\n",
       "      <th>5673</th>\n",
       "      <td>TTTGGTTTCTCAGTCC</td>\n",
       "      <td>Index3_Bit1_F_001-Bit2_F_425-Bit3_F_415t</td>\n",
       "      <td>1</td>\n",
       "    </tr>\n",
       "    <tr>\n",
       "      <th>5674</th>\n",
       "      <td>TTTGTTGAGAGGTTAT</td>\n",
       "      <td>IndexE_Bit1_F_406-Bit2_F_138-Bit3_F_218t</td>\n",
       "      <td>1</td>\n",
       "    </tr>\n",
       "    <tr>\n",
       "      <th>5675</th>\n",
       "      <td>TTTGTTGAGCAGGCTA</td>\n",
       "      <td>IndexE_Bit1_F_114-Bit2_F_051-Bit3_F_210t</td>\n",
       "      <td>1</td>\n",
       "    </tr>\n",
       "    <tr>\n",
       "      <th>5676</th>\n",
       "      <td>TTTGTTGCAAATGAAC</td>\n",
       "      <td>Index3_Bit1_F_209-Bit2_F_147-Bit3_F_302t</td>\n",
       "      <td>1</td>\n",
       "    </tr>\n",
       "    <tr>\n",
       "      <th>5677</th>\n",
       "      <td>TTTGTTGGTGCGAGTA</td>\n",
       "      <td>IndexE_Bit1_F_127-Bit2_F_236-Bit3_F_025t</td>\n",
       "      <td>1</td>\n",
       "    </tr>\n",
       "  </tbody>\n",
       "</table>\n",
       "<p>5678 rows × 3 columns</p>\n",
       "</div>"
      ],
      "text/plain": [
       "            Unnamed: 0                                    sgRNAs  n_sgRNAs\n",
       "0     AAACCCAAGCCAGTAG  IndexE_Bit1_F_266-Bit2_F_129-Bit3_F_370t         1\n",
       "1     AAACCCAAGCCTTTCC  IndexE_Bit1_F_139-Bit2_F_059-Bit3_F_018t         1\n",
       "2     AAACCCAAGGTAGCCA  IndexE_Bit1_F_183-Bit2_F_416-Bit3_F_298t         1\n",
       "3     AAACCCAGTCTTGCTC  IndexE_Bit1_F_420-Bit2_F_008-Bit3_F_397t         1\n",
       "4     AAACCCAGTTATTCCT  IndexE_Bit1_F_494-Bit2_F_292-Bit3_F_452t         1\n",
       "...                ...                                       ...       ...\n",
       "5673  TTTGGTTTCTCAGTCC  Index3_Bit1_F_001-Bit2_F_425-Bit3_F_415t         1\n",
       "5674  TTTGTTGAGAGGTTAT  IndexE_Bit1_F_406-Bit2_F_138-Bit3_F_218t         1\n",
       "5675  TTTGTTGAGCAGGCTA  IndexE_Bit1_F_114-Bit2_F_051-Bit3_F_210t         1\n",
       "5676  TTTGTTGCAAATGAAC  Index3_Bit1_F_209-Bit2_F_147-Bit3_F_302t         1\n",
       "5677  TTTGTTGGTGCGAGTA  IndexE_Bit1_F_127-Bit2_F_236-Bit3_F_025t         1\n",
       "\n",
       "[5678 rows x 3 columns]"
      ]
     },
     "execution_count": 345,
     "metadata": {},
     "output_type": "execute_result"
    }
   ],
   "source": [
    "## read the final scAR output back in for further validations/manipulations\n",
    "bc_csv = pd.read_csv(out)\n",
    "bc_csv"
   ]
  },
  {
   "cell_type": "code",
   "execution_count": 346,
   "id": "6e2ee4e1-79dc-4d42-aa62-78bed5e46b61",
   "metadata": {},
   "outputs": [
    {
     "name": "stdout",
     "output_type": "stream",
     "text": [
      "n STICR BCs:\n",
      "3728\n"
     ]
    }
   ],
   "source": [
    "print('n STICR BCs:')\n",
    "print(len(np.unique(bc_csv['sgRNAs'])))"
   ]
  },
  {
   "cell_type": "code",
   "execution_count": 347,
   "id": "7fe96f01-b8a3-41b7-84f0-63e17d8a90d7",
   "metadata": {},
   "outputs": [
    {
     "data": {
      "text/plain": [
       "1    5595\n",
       "2      76\n",
       "3       6\n",
       "4       1\n",
       "Name: n_sgRNAs, dtype: int64"
      ]
     },
     "execution_count": 347,
     "metadata": {},
     "output_type": "execute_result"
    }
   ],
   "source": [
    "bc_csv['n_sgRNAs'].value_counts()"
   ]
  },
  {
   "cell_type": "code",
   "execution_count": 348,
   "id": "1d353972-6b83-4cd9-a253-ebb09432141e",
   "metadata": {},
   "outputs": [
    {
     "data": {
      "text/plain": [
       "1      254684\n",
       "2       13943\n",
       "3        4148\n",
       "4        1977\n",
       "5        1173\n",
       "        ...  \n",
       "139         1\n",
       "375         1\n",
       "180         1\n",
       "326         1\n",
       "254         1\n",
       "Name: UMI_Count, Length: 224, dtype: int64"
      ]
     },
     "execution_count": 348,
     "metadata": {},
     "output_type": "execute_result"
    }
   ],
   "source": [
    "sticr_tsv['UMI_Count'].value_counts()"
   ]
  },
  {
   "cell_type": "code",
   "execution_count": 349,
   "id": "2e596d66-ca37-4abc-acde-2d94fba5775c",
   "metadata": {},
   "outputs": [
    {
     "name": "stdout",
     "output_type": "stream",
     "text": [
      "Number of barcodes in clone:  1\n",
      "Total number of cells with given barcodes:\n",
      "5595\n",
      "Unique number of barcodes:\n",
      "3645\n",
      "\n",
      "Number of barcodes in clone:  2\n",
      "Total number of cells with given barcodes:\n",
      "76\n",
      "Unique number of barcodes:\n",
      "76\n",
      "\n",
      "Number of barcodes in clone:  3\n",
      "Total number of cells with given barcodes:\n",
      "6\n",
      "Unique number of barcodes:\n",
      "6\n",
      "\n",
      "Number of barcodes in clone:  4\n",
      "Total number of cells with given barcodes:\n",
      "1\n",
      "Unique number of barcodes:\n",
      "1\n",
      "\n"
     ]
    }
   ],
   "source": [
    "for n in np.unique(bc_csv.n_sgRNAs):\n",
    "    print('Number of barcodes in clone: ',str(n))\n",
    "    print('Total number of cells with given barcodes:')\n",
    "    print(sum(bc_csv.n_sgRNAs==n))\n",
    "    print('Unique number of barcodes:')\n",
    "    print(len(np.unique(bc_csv.loc[bc_csv.n_sgRNAs==n,:].sgRNAs)))\n",
    "    print('')"
   ]
  },
  {
   "cell_type": "code",
   "execution_count": 350,
   "id": "9852146f-7ac2-4a3e-a7a4-5e87d200a993",
   "metadata": {},
   "outputs": [],
   "source": [
    "bc_csv.columns=['CBC','Clone_barcodes','n_barcodes']\n",
    "clone_data_df = pd.DataFrame(bc_csv.Clone_barcodes.value_counts())"
   ]
  },
  {
   "cell_type": "code",
   "execution_count": 351,
   "id": "2463bfd7-3301-48f8-9826-10531482ef00",
   "metadata": {},
   "outputs": [],
   "source": [
    "clone_ids = []\n",
    "exp_prefix='LS31'\n",
    "for i in range(0,len(clone_data_df)):\n",
    "    clone_ids.append(exp_prefix+'_Clone_'+str(i))"
   ]
  },
  {
   "cell_type": "code",
   "execution_count": 352,
   "id": "7116b4e2-81ba-4767-84e7-9fe976281f15",
   "metadata": {},
   "outputs": [],
   "source": [
    "clone_data_df['Clone_IDs']=clone_ids"
   ]
  },
  {
   "cell_type": "code",
   "execution_count": 353,
   "id": "a7a89733-ed94-4ff1-8822-09796e248938",
   "metadata": {},
   "outputs": [],
   "source": [
    "clone_data_df.columns=['Clone_size','Clone_IDs']"
   ]
  },
  {
   "cell_type": "code",
   "execution_count": 354,
   "id": "3804b8de-84ba-417a-bae4-585a258a8d22",
   "metadata": {},
   "outputs": [],
   "source": [
    "clone_index = []\n",
    "for i in range(0,len(clone_data_df)):\n",
    "    clone_index.append(clone_data_df.index[i][0:6])"
   ]
  },
  {
   "cell_type": "code",
   "execution_count": 355,
   "id": "de55bc58-48a2-4716-be1a-266e1c2fa5b9",
   "metadata": {},
   "outputs": [],
   "source": [
    "clone_data_df['Clone_Index']=clone_index"
   ]
  },
  {
   "cell_type": "code",
   "execution_count": 356,
   "id": "b838f137-d2c5-4cb8-be2e-935056e756d0",
   "metadata": {},
   "outputs": [
    {
     "data": {
      "text/html": [
       "<div>\n",
       "<style scoped>\n",
       "    .dataframe tbody tr th:only-of-type {\n",
       "        vertical-align: middle;\n",
       "    }\n",
       "\n",
       "    .dataframe tbody tr th {\n",
       "        vertical-align: top;\n",
       "    }\n",
       "\n",
       "    .dataframe thead th {\n",
       "        text-align: right;\n",
       "    }\n",
       "</style>\n",
       "<table border=\"1\" class=\"dataframe\">\n",
       "  <thead>\n",
       "    <tr style=\"text-align: right;\">\n",
       "      <th></th>\n",
       "      <th>Clone_size</th>\n",
       "      <th>Clone_IDs</th>\n",
       "      <th>Clone_Index</th>\n",
       "    </tr>\n",
       "  </thead>\n",
       "  <tbody>\n",
       "    <tr>\n",
       "      <th>IndexE_Bit1_F_225-Bit2_F_228-Bit3_F_251t</th>\n",
       "      <td>45</td>\n",
       "      <td>LS31_Clone_0</td>\n",
       "      <td>IndexE</td>\n",
       "    </tr>\n",
       "    <tr>\n",
       "      <th>IndexE_Bit1_F_220-Bit2_F_041-Bit3_F_201t</th>\n",
       "      <td>30</td>\n",
       "      <td>LS31_Clone_1</td>\n",
       "      <td>IndexE</td>\n",
       "    </tr>\n",
       "    <tr>\n",
       "      <th>IndexE_Bit1_F_357-Bit2_F_351-Bit3_F_492t</th>\n",
       "      <td>18</td>\n",
       "      <td>LS31_Clone_2</td>\n",
       "      <td>IndexE</td>\n",
       "    </tr>\n",
       "    <tr>\n",
       "      <th>Index3_Bit1_F_001-Bit2_F_425-Bit3_F_415t</th>\n",
       "      <td>15</td>\n",
       "      <td>LS31_Clone_3</td>\n",
       "      <td>Index3</td>\n",
       "    </tr>\n",
       "    <tr>\n",
       "      <th>IndexE_Bit1_F_301-Bit2_F_269-Bit3_F_124t</th>\n",
       "      <td>13</td>\n",
       "      <td>LS31_Clone_4</td>\n",
       "      <td>IndexE</td>\n",
       "    </tr>\n",
       "    <tr>\n",
       "      <th>...</th>\n",
       "      <td>...</td>\n",
       "      <td>...</td>\n",
       "      <td>...</td>\n",
       "    </tr>\n",
       "    <tr>\n",
       "      <th>IndexE_Bit1_F_155-Bit2_F_207-Bit3_F_068t</th>\n",
       "      <td>1</td>\n",
       "      <td>LS31_Clone_3723</td>\n",
       "      <td>IndexE</td>\n",
       "    </tr>\n",
       "    <tr>\n",
       "      <th>IndexE_Bit1_F_112-Bit2_F_110-Bit3_F_159t</th>\n",
       "      <td>1</td>\n",
       "      <td>LS31_Clone_3724</td>\n",
       "      <td>IndexE</td>\n",
       "    </tr>\n",
       "    <tr>\n",
       "      <th>IndexE_Bit1_F_015-Bit2_F_260-Bit3_F_391t</th>\n",
       "      <td>1</td>\n",
       "      <td>LS31_Clone_3725</td>\n",
       "      <td>IndexE</td>\n",
       "    </tr>\n",
       "    <tr>\n",
       "      <th>IndexE_Bit1_F_237-Bit2_F_204-Bit3_F_258t</th>\n",
       "      <td>1</td>\n",
       "      <td>LS31_Clone_3726</td>\n",
       "      <td>IndexE</td>\n",
       "    </tr>\n",
       "    <tr>\n",
       "      <th>IndexE_Bit1_F_406-Bit2_F_138-Bit3_F_218t</th>\n",
       "      <td>1</td>\n",
       "      <td>LS31_Clone_3727</td>\n",
       "      <td>IndexE</td>\n",
       "    </tr>\n",
       "  </tbody>\n",
       "</table>\n",
       "<p>3728 rows × 3 columns</p>\n",
       "</div>"
      ],
      "text/plain": [
       "                                          Clone_size        Clone_IDs  \\\n",
       "IndexE_Bit1_F_225-Bit2_F_228-Bit3_F_251t          45     LS31_Clone_0   \n",
       "IndexE_Bit1_F_220-Bit2_F_041-Bit3_F_201t          30     LS31_Clone_1   \n",
       "IndexE_Bit1_F_357-Bit2_F_351-Bit3_F_492t          18     LS31_Clone_2   \n",
       "Index3_Bit1_F_001-Bit2_F_425-Bit3_F_415t          15     LS31_Clone_3   \n",
       "IndexE_Bit1_F_301-Bit2_F_269-Bit3_F_124t          13     LS31_Clone_4   \n",
       "...                                              ...              ...   \n",
       "IndexE_Bit1_F_155-Bit2_F_207-Bit3_F_068t           1  LS31_Clone_3723   \n",
       "IndexE_Bit1_F_112-Bit2_F_110-Bit3_F_159t           1  LS31_Clone_3724   \n",
       "IndexE_Bit1_F_015-Bit2_F_260-Bit3_F_391t           1  LS31_Clone_3725   \n",
       "IndexE_Bit1_F_237-Bit2_F_204-Bit3_F_258t           1  LS31_Clone_3726   \n",
       "IndexE_Bit1_F_406-Bit2_F_138-Bit3_F_218t           1  LS31_Clone_3727   \n",
       "\n",
       "                                         Clone_Index  \n",
       "IndexE_Bit1_F_225-Bit2_F_228-Bit3_F_251t      IndexE  \n",
       "IndexE_Bit1_F_220-Bit2_F_041-Bit3_F_201t      IndexE  \n",
       "IndexE_Bit1_F_357-Bit2_F_351-Bit3_F_492t      IndexE  \n",
       "Index3_Bit1_F_001-Bit2_F_425-Bit3_F_415t      Index3  \n",
       "IndexE_Bit1_F_301-Bit2_F_269-Bit3_F_124t      IndexE  \n",
       "...                                              ...  \n",
       "IndexE_Bit1_F_155-Bit2_F_207-Bit3_F_068t      IndexE  \n",
       "IndexE_Bit1_F_112-Bit2_F_110-Bit3_F_159t      IndexE  \n",
       "IndexE_Bit1_F_015-Bit2_F_260-Bit3_F_391t      IndexE  \n",
       "IndexE_Bit1_F_237-Bit2_F_204-Bit3_F_258t      IndexE  \n",
       "IndexE_Bit1_F_406-Bit2_F_138-Bit3_F_218t      IndexE  \n",
       "\n",
       "[3728 rows x 3 columns]"
      ]
     },
     "execution_count": 356,
     "metadata": {},
     "output_type": "execute_result"
    }
   ],
   "source": [
    "clone_data_df"
   ]
  },
  {
   "cell_type": "code",
   "execution_count": 357,
   "id": "d380a6c5-5c38-4604-b050-e827882b4c20",
   "metadata": {},
   "outputs": [
    {
     "data": {
      "text/plain": [
       "1     2677\n",
       "2      671\n",
       "3      210\n",
       "4       77\n",
       "5       29\n",
       "6       24\n",
       "7       10\n",
       "8        7\n",
       "9        7\n",
       "10       4\n",
       "11       3\n",
       "12       3\n",
       "13       2\n",
       "30       1\n",
       "15       1\n",
       "18       1\n",
       "45       1\n",
       "Name: Clone_size, dtype: int64"
      ]
     },
     "execution_count": 357,
     "metadata": {},
     "output_type": "execute_result"
    }
   ],
   "source": [
    "clone_data_df['Clone_size'].value_counts()"
   ]
  },
  {
   "cell_type": "code",
   "execution_count": 358,
   "id": "84dbfb1a-abd6-40aa-aecc-b92c6bf4a677",
   "metadata": {},
   "outputs": [],
   "source": [
    "bc_csv = bc_csv.merge(clone_data_df, left_on='Clone_barcodes', right_index=True)"
   ]
  },
  {
   "cell_type": "code",
   "execution_count": 359,
   "id": "ddb5b097-e5d7-4227-afa3-e7e6efbf3d03",
   "metadata": {},
   "outputs": [],
   "source": [
    "bc_csv.to_csv('/media/chang/HDD-11/mgkeefe/230106_MKTN09_local_STICR/230103_STICR_BCs/STICR_outs_GW16_1220/GW16_221220_S2_bcs_final_metadata.csv')"
   ]
  },
  {
   "cell_type": "code",
   "execution_count": null,
   "id": "b06ef92d-0497-4e10-8a58-e89285c9ef26",
   "metadata": {},
   "outputs": [],
   "source": []
  },
  {
   "cell_type": "code",
   "execution_count": null,
   "id": "f27dc346-8d94-469a-b11e-a26853701c83",
   "metadata": {},
   "outputs": [],
   "source": []
  },
  {
   "cell_type": "markdown",
   "id": "40730377-0499-4274-ab61-7a22f404e636",
   "metadata": {
    "jp-MarkdownHeadingCollapsed": true,
    "tags": []
   },
   "source": [
    "## new processing for 230221 S1:"
   ]
  },
  {
   "cell_type": "code",
   "execution_count": 16,
   "id": "9b3e5628-fc88-4b07-aea8-caeb3b159ee5",
   "metadata": {},
   "outputs": [],
   "source": [
    "## load in the Final_Barcodes.tsv output from the STICR pipeline\n",
    "sticr_tsv = pd.read_csv('/media/chang/HDD-4/mgkeefe/230303_local_STICR/bc_outs/GW19_0221_S1/Final_Barcodes.tsv',\n",
    "                           sep='\\t')\n",
    "sticr_tsv.index = list(sticr_tsv['CBC'])"
   ]
  },
  {
   "cell_type": "code",
   "execution_count": 5,
   "id": "7641a1c7-a2b8-41d3-93d8-02683d110322",
   "metadata": {},
   "outputs": [],
   "source": [
    "## generate a matrix of zeroes with dimensions CBCs (rows) by STICR BCs (columns)\n",
    "cbc_names = np.unique(sticr_tsv['CBC'])\n",
    "bc_names = np.unique(sticr_tsv['barcode'])\n",
    "bc_matrix = np.zeros((len(np.unique(cbc_names)), len(np.unique(bc_names))))\n",
    "bc_df = pd.DataFrame(bc_matrix, index=list(cbc_names), columns=list(bc_names))"
   ]
  },
  {
   "cell_type": "code",
   "execution_count": 6,
   "id": "778757a4-4e82-4cb1-be4f-0b2679d1a8f0",
   "metadata": {},
   "outputs": [
    {
     "name": "stderr",
     "output_type": "stream",
     "text": [
      "100%|██████████| 79267/79267 [1:17:34<00:00, 17.03it/s]\n"
     ]
    }
   ],
   "source": [
    "## iterate through every STICR BC and pull the UMI values for a given CBC and map them into the matrix of cells by barcodes\n",
    "from tqdm import tqdm\n",
    "\n",
    "for sbc in tqdm(bc_names):\n",
    "    bc_df.loc[bc_df.index.isin(sticr_tsv['CBC'][sticr_tsv['barcode']==sbc]), bc_df.columns==sbc] = sticr_tsv.loc[sticr_tsv['barcode']==sbc,'UMI_Count']"
   ]
  },
  {
   "cell_type": "code",
   "execution_count": 4,
   "id": "4ae38a98-283b-420e-9dcd-40db6d9109b1",
   "metadata": {},
   "outputs": [
    {
     "ename": "NameError",
     "evalue": "name 'bc_df' is not defined",
     "output_type": "error",
     "traceback": [
      "\u001b[0;31m---------------------------------------------------------------------------\u001b[0m",
      "\u001b[0;31mNameError\u001b[0m                                 Traceback (most recent call last)",
      "Input \u001b[0;32mIn [4]\u001b[0m, in \u001b[0;36m<cell line: 7>\u001b[0;34m()\u001b[0m\n\u001b[1;32m      5\u001b[0m \u001b[38;5;28;01mimport\u001b[39;00m \u001b[38;5;21;01mh5py\u001b[39;00m\n\u001b[1;32m      6\u001b[0m \u001b[38;5;28;01mimport\u001b[39;00m \u001b[38;5;21;01manndata\u001b[39;00m\n\u001b[0;32m----> 7\u001b[0m bc_df_sparse \u001b[38;5;241m=\u001b[39m csr_matrix(\u001b[43mbc_df\u001b[49m)\n",
      "\u001b[0;31mNameError\u001b[0m: name 'bc_df' is not defined"
     ]
    }
   ],
   "source": [
    "## compress the dataframe by turning it into a sparse matrix, which is the input for scanpy\n",
    "## note: this used to be done in R with DropletUtils, but that stopped working for some reason so doing it this way instead\n",
    "from scipy.sparse import csr_matrix\n",
    "import h5sparse\n",
    "import h5py\n",
    "import anndata\n",
    "bc_df_sparse = csr_matrix(bc_df)"
   ]
  },
  {
   "cell_type": "code",
   "execution_count": 8,
   "id": "25196ca1-f85e-4d01-8513-f928d81d28ad",
   "metadata": {},
   "outputs": [],
   "source": [
    "## convert the sparse matrix back into a dataframe, then parse it with AnnData for scanpy input\n",
    "## save the scanpy input in h5 format so that the slow matrix generation doesn't have to be done again\n",
    "bc_df_reformat = pd.DataFrame.sparse.from_spmatrix(bc_df_sparse, index=bc_df.index, columns=bc_df.columns)\n",
    "bc_df_sc_input = anndata.AnnData(bc_df_reformat)\n",
    "bc_df_sc_input.write_h5ad('/media/chang/HDD-4/mgkeefe/230303_local_STICR/bc_outs/GW19_0221_S1/GW19_0221_S1_bc_matrix_sparse.h5ad')"
   ]
  },
  {
   "cell_type": "code",
   "execution_count": 5,
   "id": "4e413937-eb9a-42f9-83d3-95900dd6f32d",
   "metadata": {},
   "outputs": [],
   "source": [
    "## load in the cellranger output and barcode matrix\n",
    "rna = '/media/chang/HDD-4/mgkeefe/230303_local_STICR/cellranger_outs/GW19_0221_sub_FBS_S1_cellranger/raw_feature_bc_matrix.h5'\n",
    "sticr = '/media/chang/HDD-4/mgkeefe/230303_local_STICR/bc_outs/GW19_0221_S1/GW19_0221_S1_bc_matrix_sparse.h5ad'\n",
    "out = '/media/chang/HDD-4/mgkeefe/230303_local_STICR/bc_outs/GW19_0221_S1/GW19_0221_S1_scAR_bcs.csv'\n",
    "gw19_0221_s1 = sc.read_10x_h5(filename=rna, gex_only=True) # Change this if ur using a different scRNA-seq format\n",
    "gw19_0221_s1_sticr = sc.read_h5ad(sticr)\n",
    "gw19_0221_s1_sticr_raw = gw19_0221_s1_sticr.to_df()\n",
    "gw19_0221_s1_sticr.var_names_make_unique()"
   ]
  },
  {
   "cell_type": "code",
   "execution_count": 6,
   "id": "32b10bb0-3537-4583-b3b3-6cd69a081b3a",
   "metadata": {},
   "outputs": [
    {
     "name": "stdout",
     "output_type": "stream",
     "text": [
      "old names:\n",
      "['AAACCCAAGAAACACT-1', 'AAACCCAAGAAACCCA-1', 'AAACCCAAGAAACGAA-1', 'AAACCCAAGAAACTAC-1', 'AAACCCAAGAAACTCA-1', 'AAACCCAAGAAAGAAC-1', 'AAACCCAAGAAAGTCT-1', 'AAACCCAAGAAATCCA-1', 'AAACCCAAGAAATGGG-1', 'AAACCCAAGAACAGGA-1']\n",
      "fixed names:\n",
      "['AAACCCAAGAAACACT', 'AAACCCAAGAAACCCA', 'AAACCCAAGAAACGAA', 'AAACCCAAGAAACTAC', 'AAACCCAAGAAACTCA', 'AAACCCAAGAAAGAAC', 'AAACCCAAGAAAGTCT', 'AAACCCAAGAAATCCA', 'AAACCCAAGAAATGGG', 'AAACCCAAGAACAGGA']\n",
      "cell names from cellranger:\n",
      "['AAACCCAAGAAACACT', 'AAACCCAAGAAACCCA', 'AAACCCAAGAAACGAA', 'AAACCCAAGAAACTAC', 'AAACCCAAGAAACTCA', 'AAACCCAAGAAAGAAC', 'AAACCCAAGAAAGTCT', 'AAACCCAAGAAATCCA', 'AAACCCAAGAAATGGG', 'AAACCCAAGAACAGGA']\n",
      "cell names from STICR processing:\n",
      "['AAACCCAAGAACTGAC', 'AAACCCAAGACATCCT', 'AAACCCAAGACATGCG', 'AAACCCAAGACGTCCT', 'AAACCCAAGAGTTGTA', 'AAACCCAAGATAGAGA', 'AAACCCAAGATGCGAC', 'AAACCCAAGATTACGG', 'AAACCCAAGATTGGGC', 'AAACCCAAGCACGATG']\n"
     ]
    }
   ],
   "source": [
    "## fix the names in the RNA file to remove the -1 from the CBC\n",
    "fixed_rna_names = gw19_0221_s1.obs_names.tolist()\n",
    "for c in range(0, len(fixed_rna_names)):\n",
    "    fixed_rna_names[c] = fixed_rna_names[c][0:-2]\n",
    "print('old names:')\n",
    "print(gw19_0221_s1.obs_names[0:10].tolist())\n",
    "print('fixed names:')\n",
    "print(fixed_rna_names[0:10])\n",
    "gw19_0221_s1.obs_names = fixed_rna_names\n",
    "print('cell names from cellranger:')\n",
    "print(gw19_0221_s1.obs_names[:10].tolist())\n",
    "print('cell names from STICR processing:')\n",
    "print(gw19_0221_s1_sticr.obs_names[:10].tolist())"
   ]
  },
  {
   "cell_type": "code",
   "execution_count": 8,
   "id": "1210f680-a74e-43eb-9e85-89cfd286c79b",
   "metadata": {},
   "outputs": [
    {
     "data": {
      "image/png": "[encoded data removed]",
      "text/plain": [
       "<Figure size 600x450 with 1 Axes>"
      ]
     },
     "metadata": {},
     "output_type": "display_data"
    }
   ],
   "source": [
    "## run scAR (stole this code from Chang)\n",
    "rank_UMIs = pd.DataFrame(gw19_0221_s1[:,gw19_0221_s1.var['feature_types']=='Gene Expression'].X.sum(axis=1), index = gw19_0221_s1.obs_names, columns=['total_counts'])\n",
    "rank_UMIs['droplets'] = 'cell-free droplets'\n",
    "rank_UMIs['droplets'] = rank_UMIs['droplets'].mask(rank_UMIs['total_counts']>50, 'droplet II')\n",
    "rank_UMIs['droplets'] = rank_UMIs['droplets'].mask(rank_UMIs['total_counts']>100, 'droplet I')\n",
    "rank_UMIs['droplets'] = rank_UMIs['droplets'].mask(rank_UMIs['total_counts']>500, 'cells')\n",
    "rank_UMIs = rank_UMIs.sort_values(by='total_counts', ascending=False).reset_index().rename_axis(\"rank\").reset_index()\n",
    "rank_UMIs = rank_UMIs.loc[rank_UMIs['total_counts']>0]\n",
    "rank_UMIs = rank_UMIs.set_index('index').rename_axis('cells')\n",
    "\n",
    "\n",
    "plt.figure(figsize=(4, 3), dpi=150)\n",
    "\n",
    "ax = sns.lineplot(data = rank_UMIs,\n",
    "                  x='rank',\n",
    "                  y='total_counts',\n",
    "                  hue='droplets',\n",
    "                  hue_order=['cells', 'droplet I', 'droplet II', 'cell-free droplets'],\n",
    "                  palette=sns.color_palette()[-4:],\n",
    "                  markers=False,\n",
    "                  lw=2)\n",
    "\n",
    "ax.set_xscale('log')\n",
    "ax.set_yscale('log')\n",
    "ax.set_xlabel('sorted droplets');\n",
    "ax.legend(loc='lower left', ncol=1, title=None, frameon=False)\n",
    "ax.set_title(f'kneeplot: gw19_0221_s1');\n",
    "\n",
    "sns.set_palette(\"muted\")\n",
    "sns.set_style(\"ticks\")\n",
    "sns.despine(offset=10, trim=False);"
   ]
  },
  {
   "cell_type": "code",
   "execution_count": 9,
   "id": "3a3df1e5-1e77-45b9-8454-4816bbb1ea1e",
   "metadata": {},
   "outputs": [
    {
     "name": "stdout",
     "output_type": "stream",
     "text": [
      "..Running VAE using the following param set:\n",
      "......scAR mode:  CROPseq\n",
      "......count model:  binomial\n",
      "......num_input_feature:  79267\n",
      "......NN_layer1:  150\n",
      "......NN_layer2:  100\n",
      "......latent_space:  15\n",
      "......dropout_prob:  0\n",
      "......kld_weight:  1e-05\n",
      "......lr:  0.001\n",
      "......lr_step_size:  5\n",
      "......lr_gamma:  0.97\n",
      "===========================================\n",
      "  Training.....\n",
      "100%|██████████| 400/400 [14:40:51<00:00, 132.13s/it]  \n",
      "===========================================\n",
      "  Inferring .....\n"
     ]
    }
   ],
   "source": [
    "## run scAR (stole this code from Chang)\n",
    "####################\n",
    "gw19_0221_s1_filtered = gw19_0221_s1[gw19_0221_s1.obs_names.isin(rank_UMIs[rank_UMIs['droplets']=='cells'].index)] # equal to filtered population as cellranger output\n",
    "gw19_0221_s1_sticr_filtered = gw19_0221_s1_sticr[gw19_0221_s1_sticr.obs_names.isin(gw19_0221_s1_filtered.obs_names)].to_df() # pandas.DataFrame\n",
    "gw19_0221_s1_sticr_filtered_empty_droplets = gw19_0221_s1_sticr_raw.loc[gw19_0221_s1_sticr_raw.index.difference(gw19_0221_s1_sticr_filtered.index)]\n",
    "gw19_0221_s1_sticr_filtered_empty_profile = gw19_0221_s1_sticr_filtered_empty_droplets.sum()/gw19_0221_s1_sticr_filtered_empty_droplets.sum().sum()    # pandas.Series\n",
    "scarObj = scAR.model(raw_count=gw19_0221_s1_sticr_filtered,\n",
    "                     empty_profile=gw19_0221_s1_sticr_filtered_empty_profile.values, # In the case of default None, the empty_profile will be calculated by averaging pooled cells\n",
    "                     scRNAseq_tech='CROPseq')\n",
    "scarObj.train(epochs=400)\n",
    "scarObj.inference(feature_type='sgRNAs', cutoff=3)\n",
    "scarObj.feature_assignment.to_csv(out)\n",
    "####################"
   ]
  },
  {
   "cell_type": "code",
   "execution_count": 11,
   "id": "fdaaf738-58aa-4841-9c2f-f2cd7c55766b",
   "metadata": {},
   "outputs": [],
   "source": [
    "## write the final scAR output to a csv\n",
    "scarObj.feature_assignment.to_csv(out)"
   ]
  },
  {
   "cell_type": "code",
   "execution_count": 12,
   "id": "29e94116-f594-4c77-8651-1527f790462b",
   "metadata": {},
   "outputs": [
    {
     "data": {
      "text/html": [
       "<div>\n",
       "<style scoped>\n",
       "    .dataframe tbody tr th:only-of-type {\n",
       "        vertical-align: middle;\n",
       "    }\n",
       "\n",
       "    .dataframe tbody tr th {\n",
       "        vertical-align: top;\n",
       "    }\n",
       "\n",
       "    .dataframe thead th {\n",
       "        text-align: right;\n",
       "    }\n",
       "</style>\n",
       "<table border=\"1\" class=\"dataframe\">\n",
       "  <thead>\n",
       "    <tr style=\"text-align: right;\">\n",
       "      <th></th>\n",
       "      <th>Unnamed: 0</th>\n",
       "      <th>sgRNAs</th>\n",
       "      <th>n_sgRNAs</th>\n",
       "    </tr>\n",
       "  </thead>\n",
       "  <tbody>\n",
       "    <tr>\n",
       "      <th>0</th>\n",
       "      <td>AAACCCAAGACATCCT</td>\n",
       "      <td>IndexE_Bit1_F_100-Bit2_F_316-Bit3_F_295t</td>\n",
       "      <td>1</td>\n",
       "    </tr>\n",
       "    <tr>\n",
       "      <th>1</th>\n",
       "      <td>AAACCCAAGATGCGAC</td>\n",
       "      <td>Index3_Bit1_F_429-Bit2_F_456-Bit3_F_433t</td>\n",
       "      <td>1</td>\n",
       "    </tr>\n",
       "    <tr>\n",
       "      <th>2</th>\n",
       "      <td>AAACCCAAGCCTCTTC</td>\n",
       "      <td>IndexE_Bit1_F_448-Bit2_F_156-Bit3_F_355t</td>\n",
       "      <td>1</td>\n",
       "    </tr>\n",
       "    <tr>\n",
       "      <th>3</th>\n",
       "      <td>AAACCCAAGCTGACCC</td>\n",
       "      <td>IndexE_Bit1_F_063-Bit2_F_240-Bit3_F_180t</td>\n",
       "      <td>1</td>\n",
       "    </tr>\n",
       "    <tr>\n",
       "      <th>4</th>\n",
       "      <td>AAACCCAAGGATCACG</td>\n",
       "      <td>IndexE_Bit1_F_416-Bit2_F_184-Bit3_F_307t</td>\n",
       "      <td>1</td>\n",
       "    </tr>\n",
       "    <tr>\n",
       "      <th>...</th>\n",
       "      <td>...</td>\n",
       "      <td>...</td>\n",
       "      <td>...</td>\n",
       "    </tr>\n",
       "    <tr>\n",
       "      <th>35733</th>\n",
       "      <td>TTTGTTGTCTAGTACG</td>\n",
       "      <td>IndexE_Bit1_F_486-Bit2_F_221-Bit3_F_128t</td>\n",
       "      <td>1</td>\n",
       "    </tr>\n",
       "    <tr>\n",
       "      <th>35734</th>\n",
       "      <td>TTTGTTGTCTCAGAAC</td>\n",
       "      <td>IndexE_Bit1_F_235-Bit2_F_380-Bit3_F_445t</td>\n",
       "      <td>1</td>\n",
       "    </tr>\n",
       "    <tr>\n",
       "      <th>35735</th>\n",
       "      <td>TTTGTTGTCTGAATGC</td>\n",
       "      <td>IndexE_Bit1_F_076-Bit2_F_262-Bit3_F_064t</td>\n",
       "      <td>1</td>\n",
       "    </tr>\n",
       "    <tr>\n",
       "      <th>35736</th>\n",
       "      <td>TTTGTTGTCTGCATGA</td>\n",
       "      <td>IndexE_Bit1_F_034-Bit2_F_209-Bit3_F_289t</td>\n",
       "      <td>1</td>\n",
       "    </tr>\n",
       "    <tr>\n",
       "      <th>35737</th>\n",
       "      <td>TTTGTTGTCTGCTGAA</td>\n",
       "      <td>IndexE_Bit1_F_425-Bit2_F_377-Bit3_F_414t</td>\n",
       "      <td>1</td>\n",
       "    </tr>\n",
       "  </tbody>\n",
       "</table>\n",
       "<p>35738 rows × 3 columns</p>\n",
       "</div>"
      ],
      "text/plain": [
       "             Unnamed: 0                                    sgRNAs  n_sgRNAs\n",
       "0      AAACCCAAGACATCCT  IndexE_Bit1_F_100-Bit2_F_316-Bit3_F_295t         1\n",
       "1      AAACCCAAGATGCGAC  Index3_Bit1_F_429-Bit2_F_456-Bit3_F_433t         1\n",
       "2      AAACCCAAGCCTCTTC  IndexE_Bit1_F_448-Bit2_F_156-Bit3_F_355t         1\n",
       "3      AAACCCAAGCTGACCC  IndexE_Bit1_F_063-Bit2_F_240-Bit3_F_180t         1\n",
       "4      AAACCCAAGGATCACG  IndexE_Bit1_F_416-Bit2_F_184-Bit3_F_307t         1\n",
       "...                 ...                                       ...       ...\n",
       "35733  TTTGTTGTCTAGTACG  IndexE_Bit1_F_486-Bit2_F_221-Bit3_F_128t         1\n",
       "35734  TTTGTTGTCTCAGAAC  IndexE_Bit1_F_235-Bit2_F_380-Bit3_F_445t         1\n",
       "35735  TTTGTTGTCTGAATGC  IndexE_Bit1_F_076-Bit2_F_262-Bit3_F_064t         1\n",
       "35736  TTTGTTGTCTGCATGA  IndexE_Bit1_F_034-Bit2_F_209-Bit3_F_289t         1\n",
       "35737  TTTGTTGTCTGCTGAA  IndexE_Bit1_F_425-Bit2_F_377-Bit3_F_414t         1\n",
       "\n",
       "[35738 rows x 3 columns]"
      ]
     },
     "execution_count": 12,
     "metadata": {},
     "output_type": "execute_result"
    }
   ],
   "source": [
    "## read the final scAR output back in for further validations/manipulations\n",
    "bc_csv = pd.read_csv(out)\n",
    "bc_csv"
   ]
  },
  {
   "cell_type": "code",
   "execution_count": 13,
   "id": "dcef2170-d53c-4dda-8d75-f4aa8daacb74",
   "metadata": {},
   "outputs": [
    {
     "name": "stdout",
     "output_type": "stream",
     "text": [
      "n STICR BCs:\n",
      "22344\n"
     ]
    }
   ],
   "source": [
    "print('n STICR BCs:')\n",
    "print(len(np.unique(bc_csv['sgRNAs'])))"
   ]
  },
  {
   "cell_type": "code",
   "execution_count": 14,
   "id": "3536e7bf-6b77-4993-a903-2cd911564e75",
   "metadata": {},
   "outputs": [
    {
     "data": {
      "text/plain": [
       "1     32392\n",
       "2      1946\n",
       "3       570\n",
       "4       272\n",
       "5       169\n",
       "6       113\n",
       "7        65\n",
       "8        53\n",
       "9        37\n",
       "10       34\n",
       "12       20\n",
       "11       19\n",
       "15        9\n",
       "14        9\n",
       "13        9\n",
       "16        6\n",
       "17        4\n",
       "23        2\n",
       "24        2\n",
       "18        2\n",
       "25        1\n",
       "27        1\n",
       "19        1\n",
       "21        1\n",
       "34        1\n",
       "Name: n_sgRNAs, dtype: int64"
      ]
     },
     "execution_count": 14,
     "metadata": {},
     "output_type": "execute_result"
    }
   ],
   "source": [
    "bc_csv['n_sgRNAs'].value_counts()"
   ]
  },
  {
   "cell_type": "code",
   "execution_count": 17,
   "id": "689fc464-672d-497a-ae93-e069b567960f",
   "metadata": {},
   "outputs": [
    {
     "data": {
      "text/plain": [
       "1      340363\n",
       "2       21372\n",
       "3        7204\n",
       "4        3621\n",
       "5        2016\n",
       "        ...  \n",
       "132         1\n",
       "148         1\n",
       "100         1\n",
       "182         1\n",
       "154         1\n",
       "Name: UMI_Count, Length: 175, dtype: int64"
      ]
     },
     "execution_count": 17,
     "metadata": {},
     "output_type": "execute_result"
    }
   ],
   "source": [
    "sticr_tsv['UMI_Count'].value_counts()"
   ]
  },
  {
   "cell_type": "code",
   "execution_count": 18,
   "id": "93dcafb7-a180-4352-af44-6d389f729130",
   "metadata": {},
   "outputs": [
    {
     "name": "stdout",
     "output_type": "stream",
     "text": [
      "Number of barcodes in clone:  1\n",
      "Total number of cells with given barcodes:\n",
      "32392\n",
      "Unique number of barcodes:\n",
      "19004\n",
      "\n",
      "Number of barcodes in clone:  2\n",
      "Total number of cells with given barcodes:\n",
      "1946\n",
      "Unique number of barcodes:\n",
      "1942\n",
      "\n",
      "Number of barcodes in clone:  3\n",
      "Total number of cells with given barcodes:\n",
      "570\n",
      "Unique number of barcodes:\n",
      "569\n",
      "\n",
      "Number of barcodes in clone:  4\n",
      "Total number of cells with given barcodes:\n",
      "272\n",
      "Unique number of barcodes:\n",
      "271\n",
      "\n",
      "Number of barcodes in clone:  5\n",
      "Total number of cells with given barcodes:\n",
      "169\n",
      "Unique number of barcodes:\n",
      "169\n",
      "\n",
      "Number of barcodes in clone:  6\n",
      "Total number of cells with given barcodes:\n",
      "113\n",
      "Unique number of barcodes:\n",
      "113\n",
      "\n",
      "Number of barcodes in clone:  7\n",
      "Total number of cells with given barcodes:\n",
      "65\n",
      "Unique number of barcodes:\n",
      "65\n",
      "\n",
      "Number of barcodes in clone:  8\n",
      "Total number of cells with given barcodes:\n",
      "53\n",
      "Unique number of barcodes:\n",
      "53\n",
      "\n",
      "Number of barcodes in clone:  9\n",
      "Total number of cells with given barcodes:\n",
      "37\n",
      "Unique number of barcodes:\n",
      "37\n",
      "\n",
      "Number of barcodes in clone:  10\n",
      "Total number of cells with given barcodes:\n",
      "34\n",
      "Unique number of barcodes:\n",
      "34\n",
      "\n",
      "Number of barcodes in clone:  11\n",
      "Total number of cells with given barcodes:\n",
      "19\n",
      "Unique number of barcodes:\n",
      "19\n",
      "\n",
      "Number of barcodes in clone:  12\n",
      "Total number of cells with given barcodes:\n",
      "20\n",
      "Unique number of barcodes:\n",
      "20\n",
      "\n",
      "Number of barcodes in clone:  13\n",
      "Total number of cells with given barcodes:\n",
      "9\n",
      "Unique number of barcodes:\n",
      "9\n",
      "\n",
      "Number of barcodes in clone:  14\n",
      "Total number of cells with given barcodes:\n",
      "9\n",
      "Unique number of barcodes:\n",
      "9\n",
      "\n",
      "Number of barcodes in clone:  15\n",
      "Total number of cells with given barcodes:\n",
      "9\n",
      "Unique number of barcodes:\n",
      "9\n",
      "\n",
      "Number of barcodes in clone:  16\n",
      "Total number of cells with given barcodes:\n",
      "6\n",
      "Unique number of barcodes:\n",
      "6\n",
      "\n",
      "Number of barcodes in clone:  17\n",
      "Total number of cells with given barcodes:\n",
      "4\n",
      "Unique number of barcodes:\n",
      "4\n",
      "\n",
      "Number of barcodes in clone:  18\n",
      "Total number of cells with given barcodes:\n",
      "2\n",
      "Unique number of barcodes:\n",
      "2\n",
      "\n",
      "Number of barcodes in clone:  19\n",
      "Total number of cells with given barcodes:\n",
      "1\n",
      "Unique number of barcodes:\n",
      "1\n",
      "\n",
      "Number of barcodes in clone:  21\n",
      "Total number of cells with given barcodes:\n",
      "1\n",
      "Unique number of barcodes:\n",
      "1\n",
      "\n",
      "Number of barcodes in clone:  23\n",
      "Total number of cells with given barcodes:\n",
      "2\n",
      "Unique number of barcodes:\n",
      "2\n",
      "\n",
      "Number of barcodes in clone:  24\n",
      "Total number of cells with given barcodes:\n",
      "2\n",
      "Unique number of barcodes:\n",
      "2\n",
      "\n",
      "Number of barcodes in clone:  25\n",
      "Total number of cells with given barcodes:\n",
      "1\n",
      "Unique number of barcodes:\n",
      "1\n",
      "\n",
      "Number of barcodes in clone:  27\n",
      "Total number of cells with given barcodes:\n",
      "1\n",
      "Unique number of barcodes:\n",
      "1\n",
      "\n",
      "Number of barcodes in clone:  34\n",
      "Total number of cells with given barcodes:\n",
      "1\n",
      "Unique number of barcodes:\n",
      "1\n",
      "\n"
     ]
    }
   ],
   "source": [
    "for n in np.unique(bc_csv.n_sgRNAs):\n",
    "    print('Number of barcodes in clone: ',str(n))\n",
    "    print('Total number of cells with given barcodes:')\n",
    "    print(sum(bc_csv.n_sgRNAs==n))\n",
    "    print('Unique number of barcodes:')\n",
    "    print(len(np.unique(bc_csv.loc[bc_csv.n_sgRNAs==n,:].sgRNAs)))\n",
    "    print('')"
   ]
  },
  {
   "cell_type": "code",
   "execution_count": 19,
   "id": "9ec2a9a0-895f-47cb-8081-95310a6874eb",
   "metadata": {},
   "outputs": [],
   "source": [
    "bc_csv.columns=['CBC','Clone_barcodes','n_barcodes']\n",
    "clone_data_df = pd.DataFrame(bc_csv.Clone_barcodes.value_counts())"
   ]
  },
  {
   "cell_type": "code",
   "execution_count": 20,
   "id": "3d357b2a-8b90-4af4-9fee-a44cbee9d6a7",
   "metadata": {},
   "outputs": [],
   "source": [
    "clone_ids = []\n",
    "exp_prefix='LS32'\n",
    "for i in range(0,len(clone_data_df)):\n",
    "    clone_ids.append(exp_prefix+'_Clone_'+str(i))"
   ]
  },
  {
   "cell_type": "code",
   "execution_count": 21,
   "id": "e1d074e4-e523-431e-b0f4-0ceb5d2fbc25",
   "metadata": {},
   "outputs": [],
   "source": [
    "clone_data_df['Clone_IDs']=clone_ids"
   ]
  },
  {
   "cell_type": "code",
   "execution_count": 22,
   "id": "b20bee8e-d2d8-4b2c-9633-768fb031343a",
   "metadata": {},
   "outputs": [],
   "source": [
    "clone_data_df.columns=['Clone_size','Clone_IDs']"
   ]
  },
  {
   "cell_type": "code",
   "execution_count": 23,
   "id": "28fc6b59-70c7-4ef1-a588-07c3ac575fa9",
   "metadata": {},
   "outputs": [],
   "source": [
    "clone_index = []\n",
    "for i in range(0,len(clone_data_df)):\n",
    "    clone_index.append(clone_data_df.index[i][0:6])"
   ]
  },
  {
   "cell_type": "code",
   "execution_count": 24,
   "id": "336a1508-0964-42a2-b4eb-49111d5179ca",
   "metadata": {},
   "outputs": [],
   "source": [
    "clone_data_df['Clone_Index']=clone_index"
   ]
  },
  {
   "cell_type": "code",
   "execution_count": 25,
   "id": "dc5050d6-02f2-4921-b62f-e6e8f07731d5",
   "metadata": {},
   "outputs": [
    {
     "data": {
      "text/html": [
       "<div>\n",
       "<style scoped>\n",
       "    .dataframe tbody tr th:only-of-type {\n",
       "        vertical-align: middle;\n",
       "    }\n",
       "\n",
       "    .dataframe tbody tr th {\n",
       "        vertical-align: top;\n",
       "    }\n",
       "\n",
       "    .dataframe thead th {\n",
       "        text-align: right;\n",
       "    }\n",
       "</style>\n",
       "<table border=\"1\" class=\"dataframe\">\n",
       "  <thead>\n",
       "    <tr style=\"text-align: right;\">\n",
       "      <th></th>\n",
       "      <th>Clone_size</th>\n",
       "      <th>Clone_IDs</th>\n",
       "      <th>Clone_Index</th>\n",
       "    </tr>\n",
       "  </thead>\n",
       "  <tbody>\n",
       "    <tr>\n",
       "      <th>Index3_Bit1_F_408-Bit2_F_042-Bit3_F_247t</th>\n",
       "      <td>19</td>\n",
       "      <td>LS32_Clone_0</td>\n",
       "      <td>Index3</td>\n",
       "    </tr>\n",
       "    <tr>\n",
       "      <th>Index3_Bit1_F_073-Bit2_F_197-Bit3_F_071t</th>\n",
       "      <td>19</td>\n",
       "      <td>LS32_Clone_1</td>\n",
       "      <td>Index3</td>\n",
       "    </tr>\n",
       "    <tr>\n",
       "      <th>IndexE_Bit1_F_255-Bit2_F_353-Bit3_F_304t</th>\n",
       "      <td>17</td>\n",
       "      <td>LS32_Clone_2</td>\n",
       "      <td>IndexE</td>\n",
       "    </tr>\n",
       "    <tr>\n",
       "      <th>Index3_Bit1_F_335-Bit2_F_067-Bit3_F_041t</th>\n",
       "      <td>17</td>\n",
       "      <td>LS32_Clone_3</td>\n",
       "      <td>Index3</td>\n",
       "    </tr>\n",
       "    <tr>\n",
       "      <th>Index3_Bit1_F_418-Bit2_F_300-Bit3_F_370t</th>\n",
       "      <td>16</td>\n",
       "      <td>LS32_Clone_4</td>\n",
       "      <td>Index3</td>\n",
       "    </tr>\n",
       "    <tr>\n",
       "      <th>...</th>\n",
       "      <td>...</td>\n",
       "      <td>...</td>\n",
       "      <td>...</td>\n",
       "    </tr>\n",
       "    <tr>\n",
       "      <th>IndexE_Bit1_F_325-Bit2_F_008-Bit3_F_067t</th>\n",
       "      <td>1</td>\n",
       "      <td>LS32_Clone_22339</td>\n",
       "      <td>IndexE</td>\n",
       "    </tr>\n",
       "    <tr>\n",
       "      <th>IndexE_Bit1_F_105-Bit2_F_049-Bit3_F_124t</th>\n",
       "      <td>1</td>\n",
       "      <td>LS32_Clone_22340</td>\n",
       "      <td>IndexE</td>\n",
       "    </tr>\n",
       "    <tr>\n",
       "      <th>Index3_Bit1_F_057-Bit2_F_108-Bit3_F_128t</th>\n",
       "      <td>1</td>\n",
       "      <td>LS32_Clone_22341</td>\n",
       "      <td>Index3</td>\n",
       "    </tr>\n",
       "    <tr>\n",
       "      <th>IndexE_Bit1_F_491-Bit2_F_405-Bit3_F_416t</th>\n",
       "      <td>1</td>\n",
       "      <td>LS32_Clone_22342</td>\n",
       "      <td>IndexE</td>\n",
       "    </tr>\n",
       "    <tr>\n",
       "      <th>IndexE_Bit1_F_034-Bit2_F_209-Bit3_F_289t</th>\n",
       "      <td>1</td>\n",
       "      <td>LS32_Clone_22343</td>\n",
       "      <td>IndexE</td>\n",
       "    </tr>\n",
       "  </tbody>\n",
       "</table>\n",
       "<p>22344 rows × 3 columns</p>\n",
       "</div>"
      ],
      "text/plain": [
       "                                          Clone_size         Clone_IDs  \\\n",
       "Index3_Bit1_F_408-Bit2_F_042-Bit3_F_247t          19      LS32_Clone_0   \n",
       "Index3_Bit1_F_073-Bit2_F_197-Bit3_F_071t          19      LS32_Clone_1   \n",
       "IndexE_Bit1_F_255-Bit2_F_353-Bit3_F_304t          17      LS32_Clone_2   \n",
       "Index3_Bit1_F_335-Bit2_F_067-Bit3_F_041t          17      LS32_Clone_3   \n",
       "Index3_Bit1_F_418-Bit2_F_300-Bit3_F_370t          16      LS32_Clone_4   \n",
       "...                                              ...               ...   \n",
       "IndexE_Bit1_F_325-Bit2_F_008-Bit3_F_067t           1  LS32_Clone_22339   \n",
       "IndexE_Bit1_F_105-Bit2_F_049-Bit3_F_124t           1  LS32_Clone_22340   \n",
       "Index3_Bit1_F_057-Bit2_F_108-Bit3_F_128t           1  LS32_Clone_22341   \n",
       "IndexE_Bit1_F_491-Bit2_F_405-Bit3_F_416t           1  LS32_Clone_22342   \n",
       "IndexE_Bit1_F_034-Bit2_F_209-Bit3_F_289t           1  LS32_Clone_22343   \n",
       "\n",
       "                                         Clone_Index  \n",
       "Index3_Bit1_F_408-Bit2_F_042-Bit3_F_247t      Index3  \n",
       "Index3_Bit1_F_073-Bit2_F_197-Bit3_F_071t      Index3  \n",
       "IndexE_Bit1_F_255-Bit2_F_353-Bit3_F_304t      IndexE  \n",
       "Index3_Bit1_F_335-Bit2_F_067-Bit3_F_041t      Index3  \n",
       "Index3_Bit1_F_418-Bit2_F_300-Bit3_F_370t      Index3  \n",
       "...                                              ...  \n",
       "IndexE_Bit1_F_325-Bit2_F_008-Bit3_F_067t      IndexE  \n",
       "IndexE_Bit1_F_105-Bit2_F_049-Bit3_F_124t      IndexE  \n",
       "Index3_Bit1_F_057-Bit2_F_108-Bit3_F_128t      Index3  \n",
       "IndexE_Bit1_F_491-Bit2_F_405-Bit3_F_416t      IndexE  \n",
       "IndexE_Bit1_F_034-Bit2_F_209-Bit3_F_289t      IndexE  \n",
       "\n",
       "[22344 rows x 3 columns]"
      ]
     },
     "execution_count": 25,
     "metadata": {},
     "output_type": "execute_result"
    }
   ],
   "source": [
    "clone_data_df"
   ]
  },
  {
   "cell_type": "code",
   "execution_count": 26,
   "id": "e5fe873b-9503-45c3-8880-e18dde4b1a22",
   "metadata": {},
   "outputs": [
    {
     "data": {
      "text/plain": [
       "1     15086\n",
       "2      4113\n",
       "3      1747\n",
       "4       729\n",
       "5       331\n",
       "6       139\n",
       "7        67\n",
       "8        49\n",
       "9        27\n",
       "10       21\n",
       "12       10\n",
       "11        9\n",
       "15        5\n",
       "14        3\n",
       "17        2\n",
       "13        2\n",
       "16        2\n",
       "19        2\n",
       "Name: Clone_size, dtype: int64"
      ]
     },
     "execution_count": 26,
     "metadata": {},
     "output_type": "execute_result"
    }
   ],
   "source": [
    "clone_data_df['Clone_size'].value_counts()"
   ]
  },
  {
   "cell_type": "code",
   "execution_count": 27,
   "id": "7cbfac99-7fff-4754-8d86-4b6161626b40",
   "metadata": {},
   "outputs": [],
   "source": [
    "bc_csv = bc_csv.merge(clone_data_df, left_on='Clone_barcodes', right_index=True)"
   ]
  },
  {
   "cell_type": "code",
   "execution_count": 28,
   "id": "d3597e09-de50-49e3-899f-d52282fbc276",
   "metadata": {},
   "outputs": [],
   "source": [
    "bc_csv.to_csv('/media/chang/HDD-4/mgkeefe/230303_local_STICR/bc_outs/GW19_0221_S1/GW19_0221_S1_bcs_final_metadata.csv')"
   ]
  },
  {
   "cell_type": "code",
   "execution_count": null,
   "id": "731c2488-859b-4ffb-9e3e-fbc60029446e",
   "metadata": {},
   "outputs": [],
   "source": []
  },
  {
   "cell_type": "code",
   "execution_count": null,
   "id": "2e078661-4602-4b66-bcb7-d57b0b191848",
   "metadata": {},
   "outputs": [],
   "source": []
  },
  {
   "cell_type": "markdown",
   "id": "50e2365b-804d-496b-9f5a-f87d78ddddc1",
   "metadata": {
    "jp-MarkdownHeadingCollapsed": true,
    "tags": []
   },
   "source": [
    "## new processing for 230221 S2:"
   ]
  },
  {
   "cell_type": "code",
   "execution_count": 30,
   "id": "8d1fa8a1-9567-464f-bd3c-a8f5127b6d72",
   "metadata": {},
   "outputs": [],
   "source": [
    "## load in the Final_Barcodes.tsv output from the STICR pipeline\n",
    "sticr_tsv = pd.read_csv('/media/chang/HDD-4/mgkeefe/230303_local_STICR/bc_outs/GW19_0221_S2/Final_Barcodes.tsv',\n",
    "                           sep='\\t')\n",
    "sticr_tsv.index = list(sticr_tsv['CBC'])"
   ]
  },
  {
   "cell_type": "code",
   "execution_count": 31,
   "id": "a87b98ba-f3b2-4b26-ae6d-a8cb8560de15",
   "metadata": {},
   "outputs": [],
   "source": [
    "## generate a matrix of zeroes with dimensions CBCs (rows) by STICR BCs (columns)\n",
    "cbc_names = np.unique(sticr_tsv['CBC'])\n",
    "bc_names = np.unique(sticr_tsv['barcode'])\n",
    "bc_matrix = np.zeros((len(np.unique(cbc_names)), len(np.unique(bc_names))))\n",
    "bc_df = pd.DataFrame(bc_matrix, index=list(cbc_names), columns=list(bc_names))"
   ]
  },
  {
   "cell_type": "code",
   "execution_count": 35,
   "id": "0d7804a2-6aed-48b1-b9c2-16362d39cc7a",
   "metadata": {},
   "outputs": [
    {
     "name": "stderr",
     "output_type": "stream",
     "text": [
      "100%|██████████| 44225/44225 [15:34<00:00, 47.34it/s]\n"
     ]
    }
   ],
   "source": [
    "## iterate through every STICR BC and pull the UMI values for a given CBC and map them into the matrix of cells by barcodes\n",
    "from tqdm import tqdm\n",
    "\n",
    "for sbc in tqdm(bc_names):\n",
    "    bc_df.loc[bc_df.index.isin(sticr_tsv['CBC'][sticr_tsv['barcode']==sbc]), bc_df.columns==sbc] = sticr_tsv.loc[sticr_tsv['barcode']==sbc,'UMI_Count']"
   ]
  },
  {
   "cell_type": "code",
   "execution_count": 36,
   "id": "17c80f64-3882-4543-b0ba-7b8b1e8a4db8",
   "metadata": {},
   "outputs": [],
   "source": [
    "## compress the dataframe by turning it into a sparse matrix, which is the input for scanpy\n",
    "## note: this used to be done in R with DropletUtils, but that stopped working for some reason so doing it this way instead\n",
    "from scipy.sparse import csr_matrix\n",
    "import h5sparse\n",
    "import h5py\n",
    "import anndata\n",
    "bc_df_sparse = csr_matrix(bc_df)"
   ]
  },
  {
   "cell_type": "code",
   "execution_count": 37,
   "id": "84108f83-ec76-4721-b61c-9b48227e5862",
   "metadata": {},
   "outputs": [],
   "source": [
    "## convert the sparse matrix back into a dataframe, then parse it with AnnData for scanpy input\n",
    "## save the scanpy input in h5 format so that the slow matrix generation doesn't have to be done again\n",
    "bc_df_reformat = pd.DataFrame.sparse.from_spmatrix(bc_df_sparse, index=bc_df.index, columns=bc_df.columns)\n",
    "bc_df_sc_input = anndata.AnnData(bc_df_reformat)\n",
    "bc_df_sc_input.write_h5ad('/media/chang/HDD-4/mgkeefe/230303_local_STICR/bc_outs/GW19_0221_S2/GW19_0221_S2_bc_matrix_sparse.h5ad')"
   ]
  },
  {
   "cell_type": "code",
   "execution_count": 38,
   "id": "031da08b-8d8b-46c7-b054-bbabd24fca98",
   "metadata": {},
   "outputs": [],
   "source": [
    "## load in the cellranger output and barcode matrix\n",
    "rna = '/media/chang/HDD-4/mgkeefe/230303_local_STICR/cellranger_outs/GW19_0221_sub_FBS_S2_cellranger/raw_feature_bc_matrix.h5'\n",
    "sticr = '/media/chang/HDD-4/mgkeefe/230303_local_STICR/bc_outs/GW19_0221_S2/GW19_0221_S2_bc_matrix_sparse.h5ad'\n",
    "out = '/media/chang/HDD-4/mgkeefe/230303_local_STICR/bc_outs/GW19_0221_S2/GW19_0221_S2_scAR_bcs.csv'\n",
    "gw19_0221_s2 = sc.read_10x_h5(filename=rna, gex_only=True) # Change this if ur using a different scRNA-seq format\n",
    "gw19_0221_s2_sticr = sc.read_h5ad(sticr)\n",
    "gw19_0221_s2_sticr_raw = gw19_0221_s2_sticr.to_df()\n",
    "gw19_0221_s2_sticr.var_names_make_unique()"
   ]
  },
  {
   "cell_type": "code",
   "execution_count": 39,
   "id": "a34b609e-376f-4596-b97a-1e2a0f2af909",
   "metadata": {},
   "outputs": [
    {
     "name": "stdout",
     "output_type": "stream",
     "text": [
      "old names:\n",
      "['AAACCCAAGAAACCCA-1', 'AAACCCAAGAAACCCG-1', 'AAACCCAAGAAATCCA-1', 'AAACCCAAGAAATTCG-1', 'AAACCCAAGAACGTGC-1', 'AAACCCAAGAAGATCT-1', 'AAACCCAAGAAGCCAC-1', 'AAACCCAAGAAGCCAT-1', 'AAACCCAAGAAGTATC-1', 'AAACCCAAGAATCGAT-1']\n",
      "fixed names:\n",
      "['AAACCCAAGAAACCCA', 'AAACCCAAGAAACCCG', 'AAACCCAAGAAATCCA', 'AAACCCAAGAAATTCG', 'AAACCCAAGAACGTGC', 'AAACCCAAGAAGATCT', 'AAACCCAAGAAGCCAC', 'AAACCCAAGAAGCCAT', 'AAACCCAAGAAGTATC', 'AAACCCAAGAATCGAT']\n",
      "cell names from cellranger:\n",
      "['AAACCCAAGAAACCCA', 'AAACCCAAGAAACCCG', 'AAACCCAAGAAATCCA', 'AAACCCAAGAAATTCG', 'AAACCCAAGAACGTGC', 'AAACCCAAGAAGATCT', 'AAACCCAAGAAGCCAC', 'AAACCCAAGAAGCCAT', 'AAACCCAAGAAGTATC', 'AAACCCAAGAATCGAT']\n",
      "cell names from STICR processing:\n",
      "['AAACCCAAGAATCGAT', 'AAACCCAAGAATTTGG', 'AAACCCAAGAGTTGCG', 'AAACCCAAGCGTCTGC', 'AAACCCAAGCTCAGAA', 'AAACCCAAGCTCTGCA', 'AAACCCAAGCTCTGTA', 'AAACCCAAGGCACAAC', 'AAACCCAAGGCACGAC', 'AAACCCAAGGCACGAT']\n"
     ]
    }
   ],
   "source": [
    "## fix the names in the RNA file to remove the -1 from the CBC\n",
    "fixed_rna_names = gw19_0221_s2.obs_names.tolist()\n",
    "for c in range(0, len(fixed_rna_names)):\n",
    "    fixed_rna_names[c] = fixed_rna_names[c][0:-2]\n",
    "print('old names:')\n",
    "print(gw19_0221_s2.obs_names[0:10].tolist())\n",
    "print('fixed names:')\n",
    "print(fixed_rna_names[0:10])\n",
    "gw19_0221_s2.obs_names = fixed_rna_names\n",
    "print('cell names from cellranger:')\n",
    "print(gw19_0221_s2.obs_names[:10].tolist())\n",
    "print('cell names from STICR processing:')\n",
    "print(gw19_0221_s2_sticr.obs_names[:10].tolist())"
   ]
  },
  {
   "cell_type": "code",
   "execution_count": 40,
   "id": "3bcbd581-8d6f-4bd2-b7f1-2e67cdf134ac",
   "metadata": {},
   "outputs": [
    {
     "data": {
      "image/png": "[encoded data removed]",
      "text/plain": [
       "<Figure size 600x450 with 1 Axes>"
      ]
     },
     "metadata": {},
     "output_type": "display_data"
    }
   ],
   "source": [
    "## run scAR (stole this code from Chang)\n",
    "rank_UMIs = pd.DataFrame(gw19_0221_s2[:,gw19_0221_s2.var['feature_types']=='Gene Expression'].X.sum(axis=1), index = gw19_0221_s2.obs_names, columns=['total_counts'])\n",
    "rank_UMIs['droplets'] = 'cell-free droplets'\n",
    "rank_UMIs['droplets'] = rank_UMIs['droplets'].mask(rank_UMIs['total_counts']>50, 'droplet II')\n",
    "rank_UMIs['droplets'] = rank_UMIs['droplets'].mask(rank_UMIs['total_counts']>100, 'droplet I')\n",
    "rank_UMIs['droplets'] = rank_UMIs['droplets'].mask(rank_UMIs['total_counts']>500, 'cells')\n",
    "rank_UMIs = rank_UMIs.sort_values(by='total_counts', ascending=False).reset_index().rename_axis(\"rank\").reset_index()\n",
    "rank_UMIs = rank_UMIs.loc[rank_UMIs['total_counts']>0]\n",
    "rank_UMIs = rank_UMIs.set_index('index').rename_axis('cells')\n",
    "\n",
    "\n",
    "plt.figure(figsize=(4, 3), dpi=150)\n",
    "\n",
    "ax = sns.lineplot(data = rank_UMIs,\n",
    "                  x='rank',\n",
    "                  y='total_counts',\n",
    "                  hue='droplets',\n",
    "                  hue_order=['cells', 'droplet I', 'droplet II', 'cell-free droplets'],\n",
    "                  palette=sns.color_palette()[-4:],\n",
    "                  markers=False,\n",
    "                  lw=2)\n",
    "\n",
    "ax.set_xscale('log')\n",
    "ax.set_yscale('log')\n",
    "ax.set_xlabel('sorted droplets');\n",
    "ax.legend(loc='lower left', ncol=1, title=None, frameon=False)\n",
    "ax.set_title(f'kneeplot: gw19_0221_s2');\n",
    "\n",
    "sns.set_palette(\"muted\")\n",
    "sns.set_style(\"ticks\")\n",
    "sns.despine(offset=10, trim=False);"
   ]
  },
  {
   "cell_type": "code",
   "execution_count": 41,
   "id": "891b03b0-01e2-48d1-81ca-baa14516ec40",
   "metadata": {},
   "outputs": [
    {
     "name": "stdout",
     "output_type": "stream",
     "text": [
      "..Running VAE using the following param set:\n",
      "......scAR mode:  CROPseq\n",
      "......count model:  binomial\n",
      "......num_input_feature:  44225\n",
      "......NN_layer1:  150\n",
      "......NN_layer2:  100\n",
      "......latent_space:  15\n",
      "......dropout_prob:  0\n",
      "......kld_weight:  1e-05\n",
      "......lr:  0.001\n",
      "......lr_step_size:  5\n",
      "......lr_gamma:  0.97\n",
      "===========================================\n",
      "  Training.....\n",
      "100%|██████████| 400/400 [41:06<00:00,  6.17s/it]\n",
      "===========================================\n",
      "  Inferring .....\n"
     ]
    }
   ],
   "source": [
    "## run scAR (stole this code from Chang)\n",
    "####################\n",
    "gw19_0221_s2_filtered = gw19_0221_s2[gw19_0221_s2.obs_names.isin(rank_UMIs[rank_UMIs['droplets']=='cells'].index)] # equal to filtered population as cellranger output\n",
    "gw19_0221_s2_sticr_filtered = gw19_0221_s2_sticr[gw19_0221_s2_sticr.obs_names.isin(gw19_0221_s2_filtered.obs_names)].to_df() # pandas.DataFrame\n",
    "gw19_0221_s2_sticr_filtered_empty_droplets = gw19_0221_s2_sticr_raw.loc[gw19_0221_s2_sticr_raw.index.difference(gw19_0221_s2_sticr_filtered.index)]\n",
    "gw19_0221_s2_sticr_filtered_empty_profile = gw19_0221_s2_sticr_filtered_empty_droplets.sum()/gw19_0221_s2_sticr_filtered_empty_droplets.sum().sum()    # pandas.Series\n",
    "scarObj = scAR.model(raw_count=gw19_0221_s2_sticr_filtered,\n",
    "                     empty_profile=gw19_0221_s2_sticr_filtered_empty_profile.values, # In the case of default None, the empty_profile will be calculated by averaging pooled cells\n",
    "                     scRNAseq_tech='CROPseq')\n",
    "scarObj.train(epochs=400)\n",
    "scarObj.inference(feature_type='sgRNAs', cutoff=3)\n",
    "scarObj.feature_assignment.to_csv(out)\n",
    "####################"
   ]
  },
  {
   "cell_type": "code",
   "execution_count": 42,
   "id": "91b4206f-8a5a-4332-97e4-18e0a12bf129",
   "metadata": {},
   "outputs": [],
   "source": [
    "## write the final scAR output to a csv\n",
    "scarObj.feature_assignment.to_csv(out)"
   ]
  },
  {
   "cell_type": "code",
   "execution_count": 43,
   "id": "7aa2e22c-49d6-4a16-ae27-586906fe9cea",
   "metadata": {},
   "outputs": [
    {
     "data": {
      "text/html": [
       "<div>\n",
       "<style scoped>\n",
       "    .dataframe tbody tr th:only-of-type {\n",
       "        vertical-align: middle;\n",
       "    }\n",
       "\n",
       "    .dataframe tbody tr th {\n",
       "        vertical-align: top;\n",
       "    }\n",
       "\n",
       "    .dataframe thead th {\n",
       "        text-align: right;\n",
       "    }\n",
       "</style>\n",
       "<table border=\"1\" class=\"dataframe\">\n",
       "  <thead>\n",
       "    <tr style=\"text-align: right;\">\n",
       "      <th></th>\n",
       "      <th>Unnamed: 0</th>\n",
       "      <th>sgRNAs</th>\n",
       "      <th>n_sgRNAs</th>\n",
       "    </tr>\n",
       "  </thead>\n",
       "  <tbody>\n",
       "    <tr>\n",
       "      <th>0</th>\n",
       "      <td>AAACCCAAGTAATTGG</td>\n",
       "      <td>Index3_Bit1_F_407-Bit2_F_055-Bit3_F_409t</td>\n",
       "      <td>1</td>\n",
       "    </tr>\n",
       "    <tr>\n",
       "      <th>1</th>\n",
       "      <td>AAACCCACAGTTTCGA</td>\n",
       "      <td>IndexE_Bit1_F_286-Bit2_F_326-Bit3_F_130t</td>\n",
       "      <td>1</td>\n",
       "    </tr>\n",
       "    <tr>\n",
       "      <th>2</th>\n",
       "      <td>AAACCCACATAACGGG</td>\n",
       "      <td>IndexE_Bit1_F_456-Bit2_F_333-Bit3_F_406t</td>\n",
       "      <td>1</td>\n",
       "    </tr>\n",
       "    <tr>\n",
       "      <th>3</th>\n",
       "      <td>AAACGCTCAGATACTC</td>\n",
       "      <td>Index3_Bit1_F_067-Bit2_F_279-Bit3_F_269t</td>\n",
       "      <td>1</td>\n",
       "    </tr>\n",
       "    <tr>\n",
       "      <th>4</th>\n",
       "      <td>AAACGCTGTCCGCAGT</td>\n",
       "      <td>IndexE_Bit1_F_463-Bit2_F_034-Bit3_F_202t</td>\n",
       "      <td>1</td>\n",
       "    </tr>\n",
       "    <tr>\n",
       "      <th>...</th>\n",
       "      <td>...</td>\n",
       "      <td>...</td>\n",
       "      <td>...</td>\n",
       "    </tr>\n",
       "    <tr>\n",
       "      <th>3899</th>\n",
       "      <td>TTTGGTTGTCCTTTGC</td>\n",
       "      <td>IndexE_Bit1_F_366-Bit2_F_262-Bit3_F_379t</td>\n",
       "      <td>1</td>\n",
       "    </tr>\n",
       "    <tr>\n",
       "      <th>3900</th>\n",
       "      <td>TTTGGTTTCGGTCTAA</td>\n",
       "      <td>IndexE_Bit1_F_055-Bit2_F_008-Bit3_F_029t</td>\n",
       "      <td>1</td>\n",
       "    </tr>\n",
       "    <tr>\n",
       "      <th>3901</th>\n",
       "      <td>TTTGTTGAGAGTCTTC</td>\n",
       "      <td>IndexE_Bit1_F_195-Bit2_F_144-Bit3_F_085t</td>\n",
       "      <td>1</td>\n",
       "    </tr>\n",
       "    <tr>\n",
       "      <th>3902</th>\n",
       "      <td>TTTGTTGGTATGGAAT</td>\n",
       "      <td>IndexE_Bit1_F_146-Bit2_F_252-Bit3_F_331t</td>\n",
       "      <td>1</td>\n",
       "    </tr>\n",
       "    <tr>\n",
       "      <th>3903</th>\n",
       "      <td>TTTGTTGTCTCAACCC</td>\n",
       "      <td>Index3_Bit1_F_313-Bit2_F_225-Bit3_F_152t</td>\n",
       "      <td>1</td>\n",
       "    </tr>\n",
       "  </tbody>\n",
       "</table>\n",
       "<p>3904 rows × 3 columns</p>\n",
       "</div>"
      ],
      "text/plain": [
       "            Unnamed: 0                                    sgRNAs  n_sgRNAs\n",
       "0     AAACCCAAGTAATTGG  Index3_Bit1_F_407-Bit2_F_055-Bit3_F_409t         1\n",
       "1     AAACCCACAGTTTCGA  IndexE_Bit1_F_286-Bit2_F_326-Bit3_F_130t         1\n",
       "2     AAACCCACATAACGGG  IndexE_Bit1_F_456-Bit2_F_333-Bit3_F_406t         1\n",
       "3     AAACGCTCAGATACTC  Index3_Bit1_F_067-Bit2_F_279-Bit3_F_269t         1\n",
       "4     AAACGCTGTCCGCAGT  IndexE_Bit1_F_463-Bit2_F_034-Bit3_F_202t         1\n",
       "...                ...                                       ...       ...\n",
       "3899  TTTGGTTGTCCTTTGC  IndexE_Bit1_F_366-Bit2_F_262-Bit3_F_379t         1\n",
       "3900  TTTGGTTTCGGTCTAA  IndexE_Bit1_F_055-Bit2_F_008-Bit3_F_029t         1\n",
       "3901  TTTGTTGAGAGTCTTC  IndexE_Bit1_F_195-Bit2_F_144-Bit3_F_085t         1\n",
       "3902  TTTGTTGGTATGGAAT  IndexE_Bit1_F_146-Bit2_F_252-Bit3_F_331t         1\n",
       "3903  TTTGTTGTCTCAACCC  Index3_Bit1_F_313-Bit2_F_225-Bit3_F_152t         1\n",
       "\n",
       "[3904 rows x 3 columns]"
      ]
     },
     "execution_count": 43,
     "metadata": {},
     "output_type": "execute_result"
    }
   ],
   "source": [
    "## read the final scAR output back in for further validations/manipulations\n",
    "bc_csv = pd.read_csv(out)\n",
    "bc_csv"
   ]
  },
  {
   "cell_type": "code",
   "execution_count": 44,
   "id": "fc829e53-f0fa-4cea-8a4d-48aa7c8950a9",
   "metadata": {},
   "outputs": [
    {
     "name": "stdout",
     "output_type": "stream",
     "text": [
      "n STICR BCs:\n",
      "2914\n"
     ]
    }
   ],
   "source": [
    "print('n STICR BCs:')\n",
    "print(len(np.unique(bc_csv['sgRNAs'])))"
   ]
  },
  {
   "cell_type": "code",
   "execution_count": 45,
   "id": "bf242075-3e9d-49bb-8ee3-1c90c9c06e6c",
   "metadata": {},
   "outputs": [
    {
     "data": {
      "text/plain": [
       "1     3623\n",
       "2      138\n",
       "3       50\n",
       "5       24\n",
       "4       21\n",
       "6       12\n",
       "7       11\n",
       "9        6\n",
       "8        5\n",
       "11       5\n",
       "13       3\n",
       "36       1\n",
       "12       1\n",
       "16       1\n",
       "15       1\n",
       "18       1\n",
       "10       1\n",
       "Name: n_sgRNAs, dtype: int64"
      ]
     },
     "execution_count": 45,
     "metadata": {},
     "output_type": "execute_result"
    }
   ],
   "source": [
    "bc_csv['n_sgRNAs'].value_counts()"
   ]
  },
  {
   "cell_type": "code",
   "execution_count": 46,
   "id": "dcb39409-c2e9-4e88-ba70-78561060246c",
   "metadata": {},
   "outputs": [
    {
     "data": {
      "text/plain": [
       "1      118360\n",
       "2       10778\n",
       "3        4045\n",
       "4        2169\n",
       "5        1362\n",
       "        ...  \n",
       "308         1\n",
       "116         1\n",
       "218         1\n",
       "262         1\n",
       "114         1\n",
       "Name: UMI_Count, Length: 202, dtype: int64"
      ]
     },
     "execution_count": 46,
     "metadata": {},
     "output_type": "execute_result"
    }
   ],
   "source": [
    "sticr_tsv['UMI_Count'].value_counts()"
   ]
  },
  {
   "cell_type": "code",
   "execution_count": 47,
   "id": "973e5c92-bfd6-43cb-81cd-60aa4b016938",
   "metadata": {},
   "outputs": [
    {
     "name": "stdout",
     "output_type": "stream",
     "text": [
      "Number of barcodes in clone:  1\n",
      "Total number of cells with given barcodes:\n",
      "3623\n",
      "Unique number of barcodes:\n",
      "2633\n",
      "\n",
      "Number of barcodes in clone:  2\n",
      "Total number of cells with given barcodes:\n",
      "138\n",
      "Unique number of barcodes:\n",
      "138\n",
      "\n",
      "Number of barcodes in clone:  3\n",
      "Total number of cells with given barcodes:\n",
      "50\n",
      "Unique number of barcodes:\n",
      "50\n",
      "\n",
      "Number of barcodes in clone:  4\n",
      "Total number of cells with given barcodes:\n",
      "21\n",
      "Unique number of barcodes:\n",
      "21\n",
      "\n",
      "Number of barcodes in clone:  5\n",
      "Total number of cells with given barcodes:\n",
      "24\n",
      "Unique number of barcodes:\n",
      "24\n",
      "\n",
      "Number of barcodes in clone:  6\n",
      "Total number of cells with given barcodes:\n",
      "12\n",
      "Unique number of barcodes:\n",
      "12\n",
      "\n",
      "Number of barcodes in clone:  7\n",
      "Total number of cells with given barcodes:\n",
      "11\n",
      "Unique number of barcodes:\n",
      "11\n",
      "\n",
      "Number of barcodes in clone:  8\n",
      "Total number of cells with given barcodes:\n",
      "5\n",
      "Unique number of barcodes:\n",
      "5\n",
      "\n",
      "Number of barcodes in clone:  9\n",
      "Total number of cells with given barcodes:\n",
      "6\n",
      "Unique number of barcodes:\n",
      "6\n",
      "\n",
      "Number of barcodes in clone:  10\n",
      "Total number of cells with given barcodes:\n",
      "1\n",
      "Unique number of barcodes:\n",
      "1\n",
      "\n",
      "Number of barcodes in clone:  11\n",
      "Total number of cells with given barcodes:\n",
      "5\n",
      "Unique number of barcodes:\n",
      "5\n",
      "\n",
      "Number of barcodes in clone:  12\n",
      "Total number of cells with given barcodes:\n",
      "1\n",
      "Unique number of barcodes:\n",
      "1\n",
      "\n",
      "Number of barcodes in clone:  13\n",
      "Total number of cells with given barcodes:\n",
      "3\n",
      "Unique number of barcodes:\n",
      "3\n",
      "\n",
      "Number of barcodes in clone:  15\n",
      "Total number of cells with given barcodes:\n",
      "1\n",
      "Unique number of barcodes:\n",
      "1\n",
      "\n",
      "Number of barcodes in clone:  16\n",
      "Total number of cells with given barcodes:\n",
      "1\n",
      "Unique number of barcodes:\n",
      "1\n",
      "\n",
      "Number of barcodes in clone:  18\n",
      "Total number of cells with given barcodes:\n",
      "1\n",
      "Unique number of barcodes:\n",
      "1\n",
      "\n",
      "Number of barcodes in clone:  36\n",
      "Total number of cells with given barcodes:\n",
      "1\n",
      "Unique number of barcodes:\n",
      "1\n",
      "\n"
     ]
    }
   ],
   "source": [
    "for n in np.unique(bc_csv.n_sgRNAs):\n",
    "    print('Number of barcodes in clone: ',str(n))\n",
    "    print('Total number of cells with given barcodes:')\n",
    "    print(sum(bc_csv.n_sgRNAs==n))\n",
    "    print('Unique number of barcodes:')\n",
    "    print(len(np.unique(bc_csv.loc[bc_csv.n_sgRNAs==n,:].sgRNAs)))\n",
    "    print('')"
   ]
  },
  {
   "cell_type": "code",
   "execution_count": 48,
   "id": "ccb47241-5a4c-42c4-adf2-18c0337158ae",
   "metadata": {},
   "outputs": [],
   "source": [
    "bc_csv.columns=['CBC','Clone_barcodes','n_barcodes']\n",
    "clone_data_df = pd.DataFrame(bc_csv.Clone_barcodes.value_counts())"
   ]
  },
  {
   "cell_type": "code",
   "execution_count": 51,
   "id": "adcb86db-eac4-417a-86a3-7867ae68158d",
   "metadata": {},
   "outputs": [],
   "source": [
    "clone_ids = []\n",
    "exp_prefix='LS33'\n",
    "for i in range(0,len(clone_data_df)):\n",
    "    clone_ids.append(exp_prefix+'_Clone_'+str(i))"
   ]
  },
  {
   "cell_type": "code",
   "execution_count": 52,
   "id": "9b7cd686-b830-49d8-a641-cf33190e7c14",
   "metadata": {},
   "outputs": [],
   "source": [
    "clone_data_df['Clone_IDs']=clone_ids"
   ]
  },
  {
   "cell_type": "code",
   "execution_count": 53,
   "id": "acd2bea7-31e7-47de-aa8e-234b647a3456",
   "metadata": {},
   "outputs": [],
   "source": [
    "clone_data_df.columns=['Clone_size','Clone_IDs']"
   ]
  },
  {
   "cell_type": "code",
   "execution_count": 54,
   "id": "789bc39d-0b56-4e1c-b9da-9c98e6055e90",
   "metadata": {},
   "outputs": [],
   "source": [
    "clone_index = []\n",
    "for i in range(0,len(clone_data_df)):\n",
    "    clone_index.append(clone_data_df.index[i][0:6])"
   ]
  },
  {
   "cell_type": "code",
   "execution_count": 55,
   "id": "7066e929-94fa-4ec1-9581-30c0fcfc18ca",
   "metadata": {},
   "outputs": [],
   "source": [
    "clone_data_df['Clone_Index']=clone_index"
   ]
  },
  {
   "cell_type": "code",
   "execution_count": 56,
   "id": "2154395f-ce6f-488c-9173-1f76f448c242",
   "metadata": {},
   "outputs": [
    {
     "data": {
      "text/html": [
       "<div>\n",
       "<style scoped>\n",
       "    .dataframe tbody tr th:only-of-type {\n",
       "        vertical-align: middle;\n",
       "    }\n",
       "\n",
       "    .dataframe tbody tr th {\n",
       "        vertical-align: top;\n",
       "    }\n",
       "\n",
       "    .dataframe thead th {\n",
       "        text-align: right;\n",
       "    }\n",
       "</style>\n",
       "<table border=\"1\" class=\"dataframe\">\n",
       "  <thead>\n",
       "    <tr style=\"text-align: right;\">\n",
       "      <th></th>\n",
       "      <th>Clone_size</th>\n",
       "      <th>Clone_IDs</th>\n",
       "      <th>Clone_Index</th>\n",
       "    </tr>\n",
       "  </thead>\n",
       "  <tbody>\n",
       "    <tr>\n",
       "      <th>IndexE_Bit1_F_351-Bit2_F_339-Bit3_F_326t</th>\n",
       "      <td>27</td>\n",
       "      <td>LS33_Clone_0</td>\n",
       "      <td>IndexE</td>\n",
       "    </tr>\n",
       "    <tr>\n",
       "      <th>IndexE_Bit1_F_311-Bit2_F_015-Bit3_F_246t</th>\n",
       "      <td>26</td>\n",
       "      <td>LS33_Clone_1</td>\n",
       "      <td>IndexE</td>\n",
       "    </tr>\n",
       "    <tr>\n",
       "      <th>IndexE_Bit1_F_289-Bit2_F_059-Bit3_F_351t</th>\n",
       "      <td>19</td>\n",
       "      <td>LS33_Clone_2</td>\n",
       "      <td>IndexE</td>\n",
       "    </tr>\n",
       "    <tr>\n",
       "      <th>IndexE_Bit1_F_222-Bit2_F_002-Bit3_F_442t</th>\n",
       "      <td>15</td>\n",
       "      <td>LS33_Clone_3</td>\n",
       "      <td>IndexE</td>\n",
       "    </tr>\n",
       "    <tr>\n",
       "      <th>Index3_Bit1_F_361-Bit2_F_361-Bit3_F_025t</th>\n",
       "      <td>9</td>\n",
       "      <td>LS33_Clone_4</td>\n",
       "      <td>Index3</td>\n",
       "    </tr>\n",
       "    <tr>\n",
       "      <th>...</th>\n",
       "      <td>...</td>\n",
       "      <td>...</td>\n",
       "      <td>...</td>\n",
       "    </tr>\n",
       "    <tr>\n",
       "      <th>Index3_Bit1_F_290-Bit2_F_104-Bit3_F_266t</th>\n",
       "      <td>1</td>\n",
       "      <td>LS33_Clone_2909</td>\n",
       "      <td>Index3</td>\n",
       "    </tr>\n",
       "    <tr>\n",
       "      <th>IndexE_Bit1_F_263-Bit2_F_060-Bit3_F_227t</th>\n",
       "      <td>1</td>\n",
       "      <td>LS33_Clone_2910</td>\n",
       "      <td>IndexE</td>\n",
       "    </tr>\n",
       "    <tr>\n",
       "      <th>IndexE_Bit1_F_171-Bit2_F_375-Bit3_F_414t</th>\n",
       "      <td>1</td>\n",
       "      <td>LS33_Clone_2911</td>\n",
       "      <td>IndexE</td>\n",
       "    </tr>\n",
       "    <tr>\n",
       "      <th>IndexE_Bit1_F_079-Bit2_F_439-Bit3_F_333t</th>\n",
       "      <td>1</td>\n",
       "      <td>LS33_Clone_2912</td>\n",
       "      <td>IndexE</td>\n",
       "    </tr>\n",
       "    <tr>\n",
       "      <th>Index3_Bit1_F_313-Bit2_F_225-Bit3_F_152t</th>\n",
       "      <td>1</td>\n",
       "      <td>LS33_Clone_2913</td>\n",
       "      <td>Index3</td>\n",
       "    </tr>\n",
       "  </tbody>\n",
       "</table>\n",
       "<p>2914 rows × 3 columns</p>\n",
       "</div>"
      ],
      "text/plain": [
       "                                          Clone_size        Clone_IDs  \\\n",
       "IndexE_Bit1_F_351-Bit2_F_339-Bit3_F_326t          27     LS33_Clone_0   \n",
       "IndexE_Bit1_F_311-Bit2_F_015-Bit3_F_246t          26     LS33_Clone_1   \n",
       "IndexE_Bit1_F_289-Bit2_F_059-Bit3_F_351t          19     LS33_Clone_2   \n",
       "IndexE_Bit1_F_222-Bit2_F_002-Bit3_F_442t          15     LS33_Clone_3   \n",
       "Index3_Bit1_F_361-Bit2_F_361-Bit3_F_025t           9     LS33_Clone_4   \n",
       "...                                              ...              ...   \n",
       "Index3_Bit1_F_290-Bit2_F_104-Bit3_F_266t           1  LS33_Clone_2909   \n",
       "IndexE_Bit1_F_263-Bit2_F_060-Bit3_F_227t           1  LS33_Clone_2910   \n",
       "IndexE_Bit1_F_171-Bit2_F_375-Bit3_F_414t           1  LS33_Clone_2911   \n",
       "IndexE_Bit1_F_079-Bit2_F_439-Bit3_F_333t           1  LS33_Clone_2912   \n",
       "Index3_Bit1_F_313-Bit2_F_225-Bit3_F_152t           1  LS33_Clone_2913   \n",
       "\n",
       "                                         Clone_Index  \n",
       "IndexE_Bit1_F_351-Bit2_F_339-Bit3_F_326t      IndexE  \n",
       "IndexE_Bit1_F_311-Bit2_F_015-Bit3_F_246t      IndexE  \n",
       "IndexE_Bit1_F_289-Bit2_F_059-Bit3_F_351t      IndexE  \n",
       "IndexE_Bit1_F_222-Bit2_F_002-Bit3_F_442t      IndexE  \n",
       "Index3_Bit1_F_361-Bit2_F_361-Bit3_F_025t      Index3  \n",
       "...                                              ...  \n",
       "Index3_Bit1_F_290-Bit2_F_104-Bit3_F_266t      Index3  \n",
       "IndexE_Bit1_F_263-Bit2_F_060-Bit3_F_227t      IndexE  \n",
       "IndexE_Bit1_F_171-Bit2_F_375-Bit3_F_414t      IndexE  \n",
       "IndexE_Bit1_F_079-Bit2_F_439-Bit3_F_333t      IndexE  \n",
       "Index3_Bit1_F_313-Bit2_F_225-Bit3_F_152t      Index3  \n",
       "\n",
       "[2914 rows x 3 columns]"
      ]
     },
     "execution_count": 56,
     "metadata": {},
     "output_type": "execute_result"
    }
   ],
   "source": [
    "clone_data_df"
   ]
  },
  {
   "cell_type": "code",
   "execution_count": 57,
   "id": "ab95e839-8234-49a9-aebc-4a0e6465fb26",
   "metadata": {},
   "outputs": [
    {
     "data": {
      "text/plain": [
       "1     2301\n",
       "2      425\n",
       "3      126\n",
       "4       24\n",
       "5       21\n",
       "6        7\n",
       "7        4\n",
       "27       1\n",
       "26       1\n",
       "19       1\n",
       "15       1\n",
       "9        1\n",
       "8        1\n",
       "Name: Clone_size, dtype: int64"
      ]
     },
     "execution_count": 57,
     "metadata": {},
     "output_type": "execute_result"
    }
   ],
   "source": [
    "clone_data_df['Clone_size'].value_counts()"
   ]
  },
  {
   "cell_type": "code",
   "execution_count": 58,
   "id": "8d1de28e-fc41-44c0-a73b-5f354042bea7",
   "metadata": {},
   "outputs": [],
   "source": [
    "bc_csv = bc_csv.merge(clone_data_df, left_on='Clone_barcodes', right_index=True)"
   ]
  },
  {
   "cell_type": "code",
   "execution_count": 59,
   "id": "577453c1-4fd6-4fc3-9b87-714352e66d8e",
   "metadata": {},
   "outputs": [],
   "source": [
    "bc_csv.to_csv('/media/chang/HDD-4/mgkeefe/230303_local_STICR/bc_outs/GW19_0221_S2/GW19_0221_S2_bcs_final_metadata.csv')"
   ]
  },
  {
   "cell_type": "code",
   "execution_count": null,
   "id": "f31e96f2-5026-4255-a67c-1dfd9b4e2bc2",
   "metadata": {},
   "outputs": [],
   "source": []
  },
  {
   "cell_type": "code",
   "execution_count": null,
   "id": "159cd7a0-642a-40ac-ade6-404133430584",
   "metadata": {},
   "outputs": [],
   "source": []
  },
  {
   "cell_type": "code",
   "execution_count": null,
   "id": "a1853584-634a-4fe9-ab39-8c82229b9ba2",
   "metadata": {},
   "outputs": [],
   "source": []
  },
  {
   "cell_type": "markdown",
   "id": "5862539c-f851-4083-9da7-c7adda112ade",
   "metadata": {
    "jp-MarkdownHeadingCollapsed": true,
    "tags": []
   },
   "source": [
    "## new processing for 230308 PFC 2S:"
   ]
  },
  {
   "cell_type": "code",
   "execution_count": 64,
   "id": "0f6972e4-62b2-4157-ac86-831c162c1567",
   "metadata": {},
   "outputs": [],
   "source": [
    "## load in the Final_Barcodes.tsv output from the STICR pipeline\n",
    "sticr_tsv = pd.read_csv('/media/chang/HDD-4/mgkeefe/230317_local_STICR/barcodes/bc_outs_PFC_2S/Final_Barcodes.tsv',\n",
    "                           sep='\\t')\n",
    "sticr_tsv.index = list(sticr_tsv['CBC'])"
   ]
  },
  {
   "cell_type": "code",
   "execution_count": 65,
   "id": "ef202fb6-839f-40cc-8ba8-1936a30b04c1",
   "metadata": {},
   "outputs": [],
   "source": [
    "## generate a matrix of zeroes with dimensions CBCs (rows) by STICR BCs (columns)\n",
    "cbc_names = np.unique(sticr_tsv['CBC'])\n",
    "bc_names = np.unique(sticr_tsv['barcode'])\n",
    "bc_matrix = np.zeros((len(np.unique(cbc_names)), len(np.unique(bc_names))))\n",
    "bc_df = pd.DataFrame(bc_matrix, index=list(cbc_names), columns=list(bc_names))"
   ]
  },
  {
   "cell_type": "code",
   "execution_count": 66,
   "id": "fb81b4b8-3674-4dd4-8f00-90e1ecc4a7c5",
   "metadata": {},
   "outputs": [
    {
     "name": "stderr",
     "output_type": "stream",
     "text": [
      "100%|██████████| 22067/22067 [10:00<00:00, 36.72it/s]\n"
     ]
    }
   ],
   "source": [
    "## iterate through every STICR BC and pull the UMI values for a given CBC and map them into the matrix of cells by barcodes\n",
    "from tqdm import tqdm\n",
    "\n",
    "for sbc in tqdm(bc_names):\n",
    "    bc_df.loc[bc_df.index.isin(sticr_tsv['CBC'][sticr_tsv['barcode']==sbc]), bc_df.columns==sbc] = sticr_tsv.loc[sticr_tsv['barcode']==sbc,'UMI_Count']"
   ]
  },
  {
   "cell_type": "code",
   "execution_count": 67,
   "id": "b5614282-d844-4729-81fc-aa27141a43fb",
   "metadata": {},
   "outputs": [],
   "source": [
    "## compress the dataframe by turning it into a sparse matrix, which is the input for scanpy\n",
    "## note: this used to be done in R with DropletUtils, but that stopped working for some reason so doing it this way instead\n",
    "from scipy.sparse import csr_matrix\n",
    "import h5sparse\n",
    "import h5py\n",
    "import anndata\n",
    "bc_df_sparse = csr_matrix(bc_df)"
   ]
  },
  {
   "cell_type": "code",
   "execution_count": 68,
   "id": "6bceec21-d1dc-4828-8bb4-e0785aee0135",
   "metadata": {},
   "outputs": [],
   "source": [
    "file_idx = 'GW20_0308_PFC_2S'"
   ]
  },
  {
   "cell_type": "code",
   "execution_count": 69,
   "id": "92394854-5cd2-40e2-bf03-49624be450b1",
   "metadata": {},
   "outputs": [],
   "source": [
    "## convert the sparse matrix back into a dataframe, then parse it with AnnData for scanpy input\n",
    "## save the scanpy input in h5 format so that the slow matrix generation doesn't have to be done again\n",
    "bc_df_reformat = pd.DataFrame.sparse.from_spmatrix(bc_df_sparse, index=bc_df.index, columns=bc_df.columns)\n",
    "bc_df_sc_input = anndata.AnnData(bc_df_reformat)\n",
    "bc_df_sc_input.write_h5ad('/media/chang/HDD-4/mgkeefe/230317_local_STICR/barcodes/bc_outs_PFC_2S/'+file_idx+'_bc_matrix_sparse.h5ad')"
   ]
  },
  {
   "cell_type": "code",
   "execution_count": 117,
   "id": "970b0aab-d154-4332-a80e-189e7c283a3f",
   "metadata": {},
   "outputs": [
    {
     "ename": "FileNotFoundError",
     "evalue": "[Errno 2] Unable to open file (unable to open file: name = '/media/chang/HDD-4/mgkeefe/230317_local_STICR/barcodes/bc_outs_PFC_2S/GW20_0308_V1_S1_bc_matrix_sparse.h5ad', errno = 2, error message = 'No such file or directory', flags = 0, o_flags = 0)",
     "output_type": "error",
     "traceback": [
      "\u001b[0;31m---------------------------------------------------------------------------\u001b[0m",
      "\u001b[0;31mFileNotFoundError\u001b[0m                         Traceback (most recent call last)",
      "Input \u001b[0;32mIn [117]\u001b[0m, in \u001b[0;36m<cell line: 6>\u001b[0;34m()\u001b[0m\n\u001b[1;32m      4\u001b[0m out \u001b[38;5;241m=\u001b[39m \u001b[38;5;124m'\u001b[39m\u001b[38;5;124m/media/chang/HDD-4/mgkeefe/230317_local_STICR/barcodes/bc_outs_PFC_2S/\u001b[39m\u001b[38;5;124m'\u001b[39m\u001b[38;5;241m+\u001b[39mfile_idx\u001b[38;5;241m+\u001b[39m\u001b[38;5;124m'\u001b[39m\u001b[38;5;124m_scAR_bcs.csv\u001b[39m\u001b[38;5;124m'\u001b[39m\n\u001b[1;32m      5\u001b[0m data_rna \u001b[38;5;241m=\u001b[39m sc\u001b[38;5;241m.\u001b[39mread_10x_h5(filename\u001b[38;5;241m=\u001b[39mrna, gex_only\u001b[38;5;241m=\u001b[39m\u001b[38;5;28;01mTrue\u001b[39;00m) \u001b[38;5;66;03m# Change this if ur using a different scRNA-seq format\u001b[39;00m\n\u001b[0;32m----> 6\u001b[0m data_sticr \u001b[38;5;241m=\u001b[39m \u001b[43msc\u001b[49m\u001b[38;5;241;43m.\u001b[39;49m\u001b[43mread_h5ad\u001b[49m\u001b[43m(\u001b[49m\u001b[43msticr\u001b[49m\u001b[43m)\u001b[49m\n\u001b[1;32m      7\u001b[0m data_sticr_raw \u001b[38;5;241m=\u001b[39m data_sticr\u001b[38;5;241m.\u001b[39mto_df()\n\u001b[1;32m      8\u001b[0m data_sticr\u001b[38;5;241m.\u001b[39mvar_names_make_unique()\n",
      "File \u001b[0;32m~/miniconda3/envs/scAR_env/lib/python3.8/site-packages/anndata/_io/h5ad.py:224\u001b[0m, in \u001b[0;36mread_h5ad\u001b[0;34m(filename, backed, as_sparse, as_sparse_fmt, chunk_size)\u001b[0m\n\u001b[1;32m    216\u001b[0m         \u001b[38;5;28;01mraise\u001b[39;00m \u001b[38;5;167;01mNotImplementedError\u001b[39;00m(\n\u001b[1;32m    217\u001b[0m             \u001b[38;5;124m\"\u001b[39m\u001b[38;5;124mCurrently only `X` and `raw/X` can be read as sparse.\u001b[39m\u001b[38;5;124m\"\u001b[39m\n\u001b[1;32m    218\u001b[0m         )\n\u001b[1;32m    220\u001b[0m rdasp \u001b[38;5;241m=\u001b[39m partial(\n\u001b[1;32m    221\u001b[0m     read_dense_as_sparse, sparse_format\u001b[38;5;241m=\u001b[39mas_sparse_fmt, axis_chunk\u001b[38;5;241m=\u001b[39mchunk_size\n\u001b[1;32m    222\u001b[0m )\n\u001b[0;32m--> 224\u001b[0m \u001b[38;5;28;01mwith\u001b[39;00m \u001b[43mh5py\u001b[49m\u001b[38;5;241;43m.\u001b[39;49m\u001b[43mFile\u001b[49m\u001b[43m(\u001b[49m\u001b[43mfilename\u001b[49m\u001b[43m,\u001b[49m\u001b[43m \u001b[49m\u001b[38;5;124;43m\"\u001b[39;49m\u001b[38;5;124;43mr\u001b[39;49m\u001b[38;5;124;43m\"\u001b[39;49m\u001b[43m)\u001b[49m \u001b[38;5;28;01mas\u001b[39;00m f:\n\u001b[1;32m    225\u001b[0m     d \u001b[38;5;241m=\u001b[39m {}\n\u001b[1;32m    226\u001b[0m     \u001b[38;5;28;01mfor\u001b[39;00m k \u001b[38;5;129;01min\u001b[39;00m f\u001b[38;5;241m.\u001b[39mkeys():\n\u001b[1;32m    227\u001b[0m         \u001b[38;5;66;03m# Backwards compat for old raw\u001b[39;00m\n",
      "File \u001b[0;32m~/miniconda3/envs/scAR_env/lib/python3.8/site-packages/h5py/_hl/files.py:507\u001b[0m, in \u001b[0;36mFile.__init__\u001b[0;34m(self, name, mode, driver, libver, userblock_size, swmr, rdcc_nslots, rdcc_nbytes, rdcc_w0, track_order, fs_strategy, fs_persist, fs_threshold, fs_page_size, page_buf_size, min_meta_keep, min_raw_keep, locking, **kwds)\u001b[0m\n\u001b[1;32m    502\u001b[0m     fapl \u001b[38;5;241m=\u001b[39m make_fapl(driver, libver, rdcc_nslots, rdcc_nbytes, rdcc_w0,\n\u001b[1;32m    503\u001b[0m                      locking, page_buf_size, min_meta_keep, min_raw_keep, \u001b[38;5;241m*\u001b[39m\u001b[38;5;241m*\u001b[39mkwds)\n\u001b[1;32m    504\u001b[0m     fcpl \u001b[38;5;241m=\u001b[39m make_fcpl(track_order\u001b[38;5;241m=\u001b[39mtrack_order, fs_strategy\u001b[38;5;241m=\u001b[39mfs_strategy,\n\u001b[1;32m    505\u001b[0m                      fs_persist\u001b[38;5;241m=\u001b[39mfs_persist, fs_threshold\u001b[38;5;241m=\u001b[39mfs_threshold,\n\u001b[1;32m    506\u001b[0m                      fs_page_size\u001b[38;5;241m=\u001b[39mfs_page_size)\n\u001b[0;32m--> 507\u001b[0m     fid \u001b[38;5;241m=\u001b[39m \u001b[43mmake_fid\u001b[49m\u001b[43m(\u001b[49m\u001b[43mname\u001b[49m\u001b[43m,\u001b[49m\u001b[43m \u001b[49m\u001b[43mmode\u001b[49m\u001b[43m,\u001b[49m\u001b[43m \u001b[49m\u001b[43muserblock_size\u001b[49m\u001b[43m,\u001b[49m\u001b[43m \u001b[49m\u001b[43mfapl\u001b[49m\u001b[43m,\u001b[49m\u001b[43m \u001b[49m\u001b[43mfcpl\u001b[49m\u001b[43m,\u001b[49m\u001b[43m \u001b[49m\u001b[43mswmr\u001b[49m\u001b[38;5;241;43m=\u001b[39;49m\u001b[43mswmr\u001b[49m\u001b[43m)\u001b[49m\n\u001b[1;32m    509\u001b[0m \u001b[38;5;28;01mif\u001b[39;00m \u001b[38;5;28misinstance\u001b[39m(libver, \u001b[38;5;28mtuple\u001b[39m):\n\u001b[1;32m    510\u001b[0m     \u001b[38;5;28mself\u001b[39m\u001b[38;5;241m.\u001b[39m_libver \u001b[38;5;241m=\u001b[39m libver\n",
      "File \u001b[0;32m~/miniconda3/envs/scAR_env/lib/python3.8/site-packages/h5py/_hl/files.py:220\u001b[0m, in \u001b[0;36mmake_fid\u001b[0;34m(name, mode, userblock_size, fapl, fcpl, swmr)\u001b[0m\n\u001b[1;32m    218\u001b[0m     \u001b[38;5;28;01mif\u001b[39;00m swmr \u001b[38;5;129;01mand\u001b[39;00m swmr_support:\n\u001b[1;32m    219\u001b[0m         flags \u001b[38;5;241m|\u001b[39m\u001b[38;5;241m=\u001b[39m h5f\u001b[38;5;241m.\u001b[39mACC_SWMR_READ\n\u001b[0;32m--> 220\u001b[0m     fid \u001b[38;5;241m=\u001b[39m \u001b[43mh5f\u001b[49m\u001b[38;5;241;43m.\u001b[39;49m\u001b[43mopen\u001b[49m\u001b[43m(\u001b[49m\u001b[43mname\u001b[49m\u001b[43m,\u001b[49m\u001b[43m \u001b[49m\u001b[43mflags\u001b[49m\u001b[43m,\u001b[49m\u001b[43m \u001b[49m\u001b[43mfapl\u001b[49m\u001b[38;5;241;43m=\u001b[39;49m\u001b[43mfapl\u001b[49m\u001b[43m)\u001b[49m\n\u001b[1;32m    221\u001b[0m \u001b[38;5;28;01melif\u001b[39;00m mode \u001b[38;5;241m==\u001b[39m \u001b[38;5;124m'\u001b[39m\u001b[38;5;124mr+\u001b[39m\u001b[38;5;124m'\u001b[39m:\n\u001b[1;32m    222\u001b[0m     fid \u001b[38;5;241m=\u001b[39m h5f\u001b[38;5;241m.\u001b[39mopen(name, h5f\u001b[38;5;241m.\u001b[39mACC_RDWR, fapl\u001b[38;5;241m=\u001b[39mfapl)\n",
      "File \u001b[0;32mh5py/_objects.pyx:54\u001b[0m, in \u001b[0;36mh5py._objects.with_phil.wrapper\u001b[0;34m()\u001b[0m\n",
      "File \u001b[0;32mh5py/_objects.pyx:55\u001b[0m, in \u001b[0;36mh5py._objects.with_phil.wrapper\u001b[0;34m()\u001b[0m\n",
      "File \u001b[0;32mh5py/h5f.pyx:106\u001b[0m, in \u001b[0;36mh5py.h5f.open\u001b[0;34m()\u001b[0m\n",
      "\u001b[0;31mFileNotFoundError\u001b[0m: [Errno 2] Unable to open file (unable to open file: name = '/media/chang/HDD-4/mgkeefe/230317_local_STICR/barcodes/bc_outs_PFC_2S/GW20_0308_V1_S1_bc_matrix_sparse.h5ad', errno = 2, error message = 'No such file or directory', flags = 0, o_flags = 0)"
     ]
    }
   ],
   "source": [
    "## load in the cellranger output and barcode matrix\n",
    "rna = '/media/chang/HDD-4/mgkeefe/230317_local_STICR/transcriptome/cellranger_outs/GW20_230308_sub_FBS_PFC_2S_cellranger/raw_feature_bc_matrix.h5'\n",
    "sticr = '/media/chang/HDD-4/mgkeefe/230317_local_STICR/barcodes/bc_outs_PFC_2S/'+file_idx+'_bc_matrix_sparse.h5ad'\n",
    "out = '/media/chang/HDD-4/mgkeefe/230317_local_STICR/barcodes/bc_outs_PFC_2S/'+file_idx+'_scAR_bcs.csv'\n",
    "data_rna = sc.read_10x_h5(filename=rna, gex_only=True) # Change this if ur using a different scRNA-seq format\n",
    "data_sticr = sc.read_h5ad(sticr)\n",
    "data_sticr_raw = data_sticr.to_df()\n",
    "data_sticr.var_names_make_unique()"
   ]
  },
  {
   "cell_type": "code",
   "execution_count": 71,
   "id": "77455ce5-4400-4136-80bf-e4a1f9e6ce08",
   "metadata": {},
   "outputs": [
    {
     "name": "stdout",
     "output_type": "stream",
     "text": [
      "old names:\n",
      "['AAACCCAAGAAACCCA-1', 'AAACCCAAGAAACCCG-1', 'AAACCCAAGAAACTAC-1', 'AAACCCAAGAAAGAAC-1', 'AAACCCAAGAAAGACA-1', 'AAACCCAAGAAATTCG-1', 'AAACCCAAGAAATTGC-1', 'AAACCCAAGAACAGGA-1', 'AAACCCAAGAACCGCA-1', 'AAACCCAAGAACTGAT-1']\n",
      "fixed names:\n",
      "['AAACCCAAGAAACCCA', 'AAACCCAAGAAACCCG', 'AAACCCAAGAAACTAC', 'AAACCCAAGAAAGAAC', 'AAACCCAAGAAAGACA', 'AAACCCAAGAAATTCG', 'AAACCCAAGAAATTGC', 'AAACCCAAGAACAGGA', 'AAACCCAAGAACCGCA', 'AAACCCAAGAACTGAT']\n",
      "cell names from cellranger:\n",
      "['AAACCCAAGAAACCCA', 'AAACCCAAGAAACCCG', 'AAACCCAAGAAACTAC', 'AAACCCAAGAAAGAAC', 'AAACCCAAGAAAGACA', 'AAACCCAAGAAATTCG', 'AAACCCAAGAAATTGC', 'AAACCCAAGAACAGGA', 'AAACCCAAGAACCGCA', 'AAACCCAAGAACTGAT']\n",
      "cell names from STICR processing:\n",
      "['AAACCCAAGACAAGCC', 'AAACCCAAGACCATAA', 'AAACCCAAGACCTCCG', 'AAACCCAAGACTAAGT', 'AAACCCAAGAGCATCG', 'AAACCCAAGAGGACTC', 'AAACCCAAGATACAGT', 'AAACCCAAGATGACCG', 'AAACCCAAGATTAGTG', 'AAACCCAAGATTCACT']\n"
     ]
    }
   ],
   "source": [
    "## fix the names in the RNA file to remove the -1 from the CBC\n",
    "fixed_rna_names = data_rna.obs_names.tolist()\n",
    "for c in range(0, len(fixed_rna_names)):\n",
    "    fixed_rna_names[c] = fixed_rna_names[c][0:-2]\n",
    "print('old names:')\n",
    "print(data_rna.obs_names[0:10].tolist())\n",
    "print('fixed names:')\n",
    "print(fixed_rna_names[0:10])\n",
    "data_rna.obs_names = fixed_rna_names\n",
    "print('cell names from cellranger:')\n",
    "print(data_rna.obs_names[:10].tolist())\n",
    "print('cell names from STICR processing:')\n",
    "print(data_sticr.obs_names[:10].tolist())"
   ]
  },
  {
   "cell_type": "code",
   "execution_count": 72,
   "id": "9ff6e130-b9b1-4c1d-a7e0-9a5819450cbf",
   "metadata": {},
   "outputs": [
    {
     "data": {
      "image/png": "[encoded data removed]",
      "text/plain": [
       "<Figure size 600x450 with 1 Axes>"
      ]
     },
     "metadata": {},
     "output_type": "display_data"
    }
   ],
   "source": [
    "## run scAR (stole this code from Chang)\n",
    "rank_UMIs = pd.DataFrame(data_rna[:,data_rna.var['feature_types']=='Gene Expression'].X.sum(axis=1), index = data_rna.obs_names, columns=['total_counts'])\n",
    "rank_UMIs['droplets'] = 'cell-free droplets'\n",
    "rank_UMIs['droplets'] = rank_UMIs['droplets'].mask(rank_UMIs['total_counts']>50, 'droplet II')\n",
    "rank_UMIs['droplets'] = rank_UMIs['droplets'].mask(rank_UMIs['total_counts']>100, 'droplet I')\n",
    "rank_UMIs['droplets'] = rank_UMIs['droplets'].mask(rank_UMIs['total_counts']>500, 'cells')\n",
    "rank_UMIs = rank_UMIs.sort_values(by='total_counts', ascending=False).reset_index().rename_axis(\"rank\").reset_index()\n",
    "rank_UMIs = rank_UMIs.loc[rank_UMIs['total_counts']>0]\n",
    "rank_UMIs = rank_UMIs.set_index('index').rename_axis('cells')\n",
    "\n",
    "\n",
    "plt.figure(figsize=(4, 3), dpi=150)\n",
    "\n",
    "ax = sns.lineplot(data = rank_UMIs,\n",
    "                  x='rank',\n",
    "                  y='total_counts',\n",
    "                  hue='droplets',\n",
    "                  hue_order=['cells', 'droplet I', 'droplet II', 'cell-free droplets'],\n",
    "                  palette=sns.color_palette()[-4:],\n",
    "                  markers=False,\n",
    "                  lw=2)\n",
    "\n",
    "ax.set_xscale('log')\n",
    "ax.set_yscale('log')\n",
    "ax.set_xlabel('sorted droplets');\n",
    "ax.legend(loc='lower left', ncol=1, title=None, frameon=False)\n",
    "ax.set_title(f'kneeplot: '+file_idx);\n",
    "\n",
    "sns.set_palette(\"muted\")\n",
    "sns.set_style(\"ticks\")\n",
    "sns.despine(offset=10, trim=False);"
   ]
  },
  {
   "cell_type": "code",
   "execution_count": 73,
   "id": "09e69946-dfca-468a-8dd7-b4ef40d9194f",
   "metadata": {},
   "outputs": [
    {
     "name": "stdout",
     "output_type": "stream",
     "text": [
      "..Running VAE using the following param set:\n",
      "......scAR mode:  CROPseq\n",
      "......count model:  binomial\n",
      "......num_input_feature:  22067\n",
      "......NN_layer1:  150\n",
      "......NN_layer2:  100\n",
      "......latent_space:  15\n",
      "......dropout_prob:  0\n",
      "......kld_weight:  1e-05\n",
      "......lr:  0.001\n",
      "......lr_step_size:  5\n",
      "......lr_gamma:  0.97\n",
      "===========================================\n",
      "  Training.....\n",
      "100%|██████████| 400/400 [1:21:54<00:00, 12.29s/it] \n",
      "===========================================\n",
      "  Inferring .....\n"
     ]
    }
   ],
   "source": [
    "## run scAR (stole this code from Chang)\n",
    "####################\n",
    "data_rna_filtered = data_rna[data_rna.obs_names.isin(rank_UMIs[rank_UMIs['droplets']=='cells'].index)] # equal to filtered population as cellranger output\n",
    "data_sticr_filtered = data_sticr[data_sticr.obs_names.isin(data_rna_filtered.obs_names)].to_df() # pandas.DataFrame\n",
    "data_sticr_filtered_empty_droplets = data_sticr_raw.loc[data_sticr_raw.index.difference(data_sticr_filtered.index)]\n",
    "data_sticr_filtered_empty_profile = data_sticr_filtered_empty_droplets.sum()/data_sticr_filtered_empty_droplets.sum().sum()    # pandas.Series\n",
    "scarObj = scAR.model(raw_count=data_sticr_filtered,\n",
    "                     empty_profile=data_sticr_filtered_empty_profile.values, # In the case of default None, the empty_profile will be calculated by averaging pooled cells\n",
    "                     scRNAseq_tech='CROPseq')\n",
    "scarObj.train(epochs=400)\n",
    "scarObj.inference(feature_type='sgRNAs', cutoff=3)\n",
    "scarObj.feature_assignment.to_csv(out)\n",
    "####################"
   ]
  },
  {
   "cell_type": "code",
   "execution_count": 118,
   "id": "c86e08d0-edca-4fef-b8f7-a453527c7546",
   "metadata": {},
   "outputs": [],
   "source": [
    "## write the final scAR output to a csv\n",
    "scarObj.feature_assignment.to_csv(out)"
   ]
  },
  {
   "cell_type": "code",
   "execution_count": 119,
   "id": "9b3b7cb2-848c-4e16-8efa-c7b0f3c265ba",
   "metadata": {},
   "outputs": [
    {
     "data": {
      "text/html": [
       "<div>\n",
       "<style scoped>\n",
       "    .dataframe tbody tr th:only-of-type {\n",
       "        vertical-align: middle;\n",
       "    }\n",
       "\n",
       "    .dataframe tbody tr th {\n",
       "        vertical-align: top;\n",
       "    }\n",
       "\n",
       "    .dataframe thead th {\n",
       "        text-align: right;\n",
       "    }\n",
       "</style>\n",
       "<table border=\"1\" class=\"dataframe\">\n",
       "  <thead>\n",
       "    <tr style=\"text-align: right;\">\n",
       "      <th></th>\n",
       "      <th>Unnamed: 0</th>\n",
       "      <th>sgRNAs</th>\n",
       "      <th>n_sgRNAs</th>\n",
       "    </tr>\n",
       "  </thead>\n",
       "  <tbody>\n",
       "    <tr>\n",
       "      <th>0</th>\n",
       "      <td>AAACCCAAGACGGAAA</td>\n",
       "      <td>IndexE_Bit1_F_328-Bit2_F_373-Bit3_F_089t</td>\n",
       "      <td>1</td>\n",
       "    </tr>\n",
       "    <tr>\n",
       "      <th>1</th>\n",
       "      <td>AAACCCAAGATAGTGT</td>\n",
       "      <td>Index3_Bit1_F_288-Bit2_F_331-Bit3_F_148t</td>\n",
       "      <td>1</td>\n",
       "    </tr>\n",
       "    <tr>\n",
       "      <th>2</th>\n",
       "      <td>AAACCCAAGCTCGACC</td>\n",
       "      <td>IndexE_Bit1_F_301-Bit2_F_109-Bit3_F_170t</td>\n",
       "      <td>1</td>\n",
       "    </tr>\n",
       "    <tr>\n",
       "      <th>3</th>\n",
       "      <td>AAACCCAAGCTGGTGA</td>\n",
       "      <td>IndexE_Bit1_F_013-Bit2_F_346-Bit3_F_183t</td>\n",
       "      <td>1</td>\n",
       "    </tr>\n",
       "    <tr>\n",
       "      <th>4</th>\n",
       "      <td>AAACCCAAGGAAACGA</td>\n",
       "      <td>IndexE_Bit1_F_107-Bit2_F_441-Bit3_F_437t</td>\n",
       "      <td>1</td>\n",
       "    </tr>\n",
       "    <tr>\n",
       "      <th>...</th>\n",
       "      <td>...</td>\n",
       "      <td>...</td>\n",
       "      <td>...</td>\n",
       "    </tr>\n",
       "    <tr>\n",
       "      <th>14620</th>\n",
       "      <td>TTTGTTGTCCGCTTAC</td>\n",
       "      <td>Index3_Bit1_F_022-Bit2_F_159-Bit3_F_304t</td>\n",
       "      <td>1</td>\n",
       "    </tr>\n",
       "    <tr>\n",
       "      <th>14621</th>\n",
       "      <td>TTTGTTGTCGCACGAC</td>\n",
       "      <td>IndexE_Bit1_F_120-Bit2_F_040-Bit3_F_448t</td>\n",
       "      <td>1</td>\n",
       "    </tr>\n",
       "    <tr>\n",
       "      <th>14622</th>\n",
       "      <td>TTTGTTGTCTCATGCC</td>\n",
       "      <td>IndexE_Bit1_F_468-Bit2_F_393-Bit3_F_071t</td>\n",
       "      <td>1</td>\n",
       "    </tr>\n",
       "    <tr>\n",
       "      <th>14623</th>\n",
       "      <td>TTTGTTGTCTGTTCAT</td>\n",
       "      <td>IndexE_Bit1_F_254-Bit2_F_056-Bit3_F_397t</td>\n",
       "      <td>1</td>\n",
       "    </tr>\n",
       "    <tr>\n",
       "      <th>14624</th>\n",
       "      <td>TTTGTTGTCTTGGGCG</td>\n",
       "      <td>IndexE_Bit1_F_329-Bit2_F_420-Bit3_F_365t</td>\n",
       "      <td>1</td>\n",
       "    </tr>\n",
       "  </tbody>\n",
       "</table>\n",
       "<p>14625 rows × 3 columns</p>\n",
       "</div>"
      ],
      "text/plain": [
       "             Unnamed: 0                                    sgRNAs  n_sgRNAs\n",
       "0      AAACCCAAGACGGAAA  IndexE_Bit1_F_328-Bit2_F_373-Bit3_F_089t         1\n",
       "1      AAACCCAAGATAGTGT  Index3_Bit1_F_288-Bit2_F_331-Bit3_F_148t         1\n",
       "2      AAACCCAAGCTCGACC  IndexE_Bit1_F_301-Bit2_F_109-Bit3_F_170t         1\n",
       "3      AAACCCAAGCTGGTGA  IndexE_Bit1_F_013-Bit2_F_346-Bit3_F_183t         1\n",
       "4      AAACCCAAGGAAACGA  IndexE_Bit1_F_107-Bit2_F_441-Bit3_F_437t         1\n",
       "...                 ...                                       ...       ...\n",
       "14620  TTTGTTGTCCGCTTAC  Index3_Bit1_F_022-Bit2_F_159-Bit3_F_304t         1\n",
       "14621  TTTGTTGTCGCACGAC  IndexE_Bit1_F_120-Bit2_F_040-Bit3_F_448t         1\n",
       "14622  TTTGTTGTCTCATGCC  IndexE_Bit1_F_468-Bit2_F_393-Bit3_F_071t         1\n",
       "14623  TTTGTTGTCTGTTCAT  IndexE_Bit1_F_254-Bit2_F_056-Bit3_F_397t         1\n",
       "14624  TTTGTTGTCTTGGGCG  IndexE_Bit1_F_329-Bit2_F_420-Bit3_F_365t         1\n",
       "\n",
       "[14625 rows x 3 columns]"
      ]
     },
     "execution_count": 119,
     "metadata": {},
     "output_type": "execute_result"
    }
   ],
   "source": [
    "## read the final scAR output back in for further validations/manipulations\n",
    "bc_csv = pd.read_csv(out)\n",
    "bc_csv"
   ]
  },
  {
   "cell_type": "code",
   "execution_count": 120,
   "id": "bb133746-8abb-4542-a659-ce968b6dd86c",
   "metadata": {},
   "outputs": [
    {
     "name": "stdout",
     "output_type": "stream",
     "text": [
      "n STICR BCs:\n",
      "10523\n"
     ]
    }
   ],
   "source": [
    "print('n STICR BCs:')\n",
    "print(len(np.unique(bc_csv['sgRNAs'])))"
   ]
  },
  {
   "cell_type": "code",
   "execution_count": 77,
   "id": "f1a959fc-a7b3-4e46-87f9-156046663383",
   "metadata": {},
   "outputs": [
    {
     "data": {
      "text/plain": [
       "1    11508\n",
       "2      176\n",
       "3        7\n",
       "4        4\n",
       "5        1\n",
       "Name: n_sgRNAs, dtype: int64"
      ]
     },
     "execution_count": 77,
     "metadata": {},
     "output_type": "execute_result"
    }
   ],
   "source": [
    "bc_csv['n_sgRNAs'].value_counts()"
   ]
  },
  {
   "cell_type": "code",
   "execution_count": 78,
   "id": "56c420a0-7a8b-4690-8096-2a4874fe7e2c",
   "metadata": {},
   "outputs": [
    {
     "data": {
      "text/plain": [
       "1      174133\n",
       "2        9389\n",
       "3        2767\n",
       "4        1558\n",
       "5        1166\n",
       "        ...  \n",
       "111         1\n",
       "149         1\n",
       "103         1\n",
       "109         1\n",
       "128         1\n",
       "Name: UMI_Count, Length: 122, dtype: int64"
      ]
     },
     "execution_count": 78,
     "metadata": {},
     "output_type": "execute_result"
    }
   ],
   "source": [
    "sticr_tsv['UMI_Count'].value_counts()"
   ]
  },
  {
   "cell_type": "code",
   "execution_count": 79,
   "id": "3b1dbcf5-85cf-4d35-b6d7-1cc1e172afca",
   "metadata": {},
   "outputs": [
    {
     "name": "stdout",
     "output_type": "stream",
     "text": [
      "Number of barcodes in clone:  1\n",
      "Total number of cells with given barcodes:\n",
      "11508\n",
      "Unique number of barcodes:\n",
      "8204\n",
      "\n",
      "Number of barcodes in clone:  2\n",
      "Total number of cells with given barcodes:\n",
      "176\n",
      "Unique number of barcodes:\n",
      "176\n",
      "\n",
      "Number of barcodes in clone:  3\n",
      "Total number of cells with given barcodes:\n",
      "7\n",
      "Unique number of barcodes:\n",
      "7\n",
      "\n",
      "Number of barcodes in clone:  4\n",
      "Total number of cells with given barcodes:\n",
      "4\n",
      "Unique number of barcodes:\n",
      "4\n",
      "\n",
      "Number of barcodes in clone:  5\n",
      "Total number of cells with given barcodes:\n",
      "1\n",
      "Unique number of barcodes:\n",
      "1\n",
      "\n"
     ]
    }
   ],
   "source": [
    "for n in np.unique(bc_csv.n_sgRNAs):\n",
    "    print('Number of barcodes in clone: ',str(n))\n",
    "    print('Total number of cells with given barcodes:')\n",
    "    print(sum(bc_csv.n_sgRNAs==n))\n",
    "    print('Unique number of barcodes:')\n",
    "    print(len(np.unique(bc_csv.loc[bc_csv.n_sgRNAs==n,:].sgRNAs)))\n",
    "    print('')"
   ]
  },
  {
   "cell_type": "code",
   "execution_count": 80,
   "id": "f87c157f-793a-4bbf-8a5a-db778af27d1f",
   "metadata": {},
   "outputs": [],
   "source": [
    "bc_csv.columns=['CBC','Clone_barcodes','n_barcodes']\n",
    "clone_data_df = pd.DataFrame(bc_csv.Clone_barcodes.value_counts())"
   ]
  },
  {
   "cell_type": "code",
   "execution_count": 81,
   "id": "897c9524-fe8b-4803-9d7e-c2dcbfd4afee",
   "metadata": {},
   "outputs": [],
   "source": [
    "clone_ids = []\n",
    "exp_prefix='LS33'\n",
    "for i in range(0,len(clone_data_df)):\n",
    "    clone_ids.append(exp_prefix+'_Clone_'+str(i))"
   ]
  },
  {
   "cell_type": "code",
   "execution_count": 82,
   "id": "7cf3f5b8-e680-437c-abed-01ddae8b7c80",
   "metadata": {},
   "outputs": [],
   "source": [
    "clone_data_df['Clone_IDs']=clone_ids"
   ]
  },
  {
   "cell_type": "code",
   "execution_count": 83,
   "id": "b19c801f-f7a7-45f9-beae-465715d78c39",
   "metadata": {},
   "outputs": [],
   "source": [
    "clone_data_df.columns=['Clone_size','Clone_IDs']"
   ]
  },
  {
   "cell_type": "code",
   "execution_count": 84,
   "id": "71067c27-153f-4d00-a39d-9feee0d012c9",
   "metadata": {},
   "outputs": [],
   "source": [
    "clone_index = []\n",
    "for i in range(0,len(clone_data_df)):\n",
    "    clone_index.append(clone_data_df.index[i][0:6])"
   ]
  },
  {
   "cell_type": "code",
   "execution_count": 85,
   "id": "d603248e-e187-4b42-877d-f458b66fde64",
   "metadata": {},
   "outputs": [],
   "source": [
    "clone_data_df['Clone_Index']=clone_index"
   ]
  },
  {
   "cell_type": "code",
   "execution_count": 86,
   "id": "7df1bcfd-1df9-4804-a133-d3d9044dd052",
   "metadata": {},
   "outputs": [
    {
     "data": {
      "text/html": [
       "<div>\n",
       "<style scoped>\n",
       "    .dataframe tbody tr th:only-of-type {\n",
       "        vertical-align: middle;\n",
       "    }\n",
       "\n",
       "    .dataframe tbody tr th {\n",
       "        vertical-align: top;\n",
       "    }\n",
       "\n",
       "    .dataframe thead th {\n",
       "        text-align: right;\n",
       "    }\n",
       "</style>\n",
       "<table border=\"1\" class=\"dataframe\">\n",
       "  <thead>\n",
       "    <tr style=\"text-align: right;\">\n",
       "      <th></th>\n",
       "      <th>Clone_size</th>\n",
       "      <th>Clone_IDs</th>\n",
       "      <th>Clone_Index</th>\n",
       "    </tr>\n",
       "  </thead>\n",
       "  <tbody>\n",
       "    <tr>\n",
       "      <th>Index3_Bit1_F_461-Bit2_F_026-Bit3_F_004t</th>\n",
       "      <td>24</td>\n",
       "      <td>LS33_Clone_0</td>\n",
       "      <td>Index3</td>\n",
       "    </tr>\n",
       "    <tr>\n",
       "      <th>Index3_Bit1_F_060-Bit2_F_292-Bit3_F_197t</th>\n",
       "      <td>15</td>\n",
       "      <td>LS33_Clone_1</td>\n",
       "      <td>Index3</td>\n",
       "    </tr>\n",
       "    <tr>\n",
       "      <th>IndexE_Bit1_F_073-Bit2_F_346-Bit3_F_249t</th>\n",
       "      <td>14</td>\n",
       "      <td>LS33_Clone_2</td>\n",
       "      <td>IndexE</td>\n",
       "    </tr>\n",
       "    <tr>\n",
       "      <th>Index3_Bit1_F_325-Bit2_F_328-Bit3_F_219t</th>\n",
       "      <td>14</td>\n",
       "      <td>LS33_Clone_3</td>\n",
       "      <td>Index3</td>\n",
       "    </tr>\n",
       "    <tr>\n",
       "      <th>IndexE_Bit1_F_029-Bit2_F_198-Bit3_F_201t</th>\n",
       "      <td>13</td>\n",
       "      <td>LS33_Clone_4</td>\n",
       "      <td>IndexE</td>\n",
       "    </tr>\n",
       "    <tr>\n",
       "      <th>...</th>\n",
       "      <td>...</td>\n",
       "      <td>...</td>\n",
       "      <td>...</td>\n",
       "    </tr>\n",
       "    <tr>\n",
       "      <th>IndexE_Bit1_F_198-Bit2_F_474-Bit3_F_104t</th>\n",
       "      <td>1</td>\n",
       "      <td>LS33_Clone_8387</td>\n",
       "      <td>IndexE</td>\n",
       "    </tr>\n",
       "    <tr>\n",
       "      <th>Index3_Bit1_F_252-Bit2_F_390-Bit3_F_023t</th>\n",
       "      <td>1</td>\n",
       "      <td>LS33_Clone_8388</td>\n",
       "      <td>Index3</td>\n",
       "    </tr>\n",
       "    <tr>\n",
       "      <th>IndexE_Bit1_F_003-Bit2_F_448-Bit3_F_366t</th>\n",
       "      <td>1</td>\n",
       "      <td>LS33_Clone_8389</td>\n",
       "      <td>IndexE</td>\n",
       "    </tr>\n",
       "    <tr>\n",
       "      <th>Index3_Bit1_F_192-Bit2_F_216-Bit3_F_095t</th>\n",
       "      <td>1</td>\n",
       "      <td>LS33_Clone_8390</td>\n",
       "      <td>Index3</td>\n",
       "    </tr>\n",
       "    <tr>\n",
       "      <th>Index3_Bit1_F_192-Bit2_F_133-Bit3_F_378t</th>\n",
       "      <td>1</td>\n",
       "      <td>LS33_Clone_8391</td>\n",
       "      <td>Index3</td>\n",
       "    </tr>\n",
       "  </tbody>\n",
       "</table>\n",
       "<p>8392 rows × 3 columns</p>\n",
       "</div>"
      ],
      "text/plain": [
       "                                          Clone_size        Clone_IDs  \\\n",
       "Index3_Bit1_F_461-Bit2_F_026-Bit3_F_004t          24     LS33_Clone_0   \n",
       "Index3_Bit1_F_060-Bit2_F_292-Bit3_F_197t          15     LS33_Clone_1   \n",
       "IndexE_Bit1_F_073-Bit2_F_346-Bit3_F_249t          14     LS33_Clone_2   \n",
       "Index3_Bit1_F_325-Bit2_F_328-Bit3_F_219t          14     LS33_Clone_3   \n",
       "IndexE_Bit1_F_029-Bit2_F_198-Bit3_F_201t          13     LS33_Clone_4   \n",
       "...                                              ...              ...   \n",
       "IndexE_Bit1_F_198-Bit2_F_474-Bit3_F_104t           1  LS33_Clone_8387   \n",
       "Index3_Bit1_F_252-Bit2_F_390-Bit3_F_023t           1  LS33_Clone_8388   \n",
       "IndexE_Bit1_F_003-Bit2_F_448-Bit3_F_366t           1  LS33_Clone_8389   \n",
       "Index3_Bit1_F_192-Bit2_F_216-Bit3_F_095t           1  LS33_Clone_8390   \n",
       "Index3_Bit1_F_192-Bit2_F_133-Bit3_F_378t           1  LS33_Clone_8391   \n",
       "\n",
       "                                         Clone_Index  \n",
       "Index3_Bit1_F_461-Bit2_F_026-Bit3_F_004t      Index3  \n",
       "Index3_Bit1_F_060-Bit2_F_292-Bit3_F_197t      Index3  \n",
       "IndexE_Bit1_F_073-Bit2_F_346-Bit3_F_249t      IndexE  \n",
       "Index3_Bit1_F_325-Bit2_F_328-Bit3_F_219t      Index3  \n",
       "IndexE_Bit1_F_029-Bit2_F_198-Bit3_F_201t      IndexE  \n",
       "...                                              ...  \n",
       "IndexE_Bit1_F_198-Bit2_F_474-Bit3_F_104t      IndexE  \n",
       "Index3_Bit1_F_252-Bit2_F_390-Bit3_F_023t      Index3  \n",
       "IndexE_Bit1_F_003-Bit2_F_448-Bit3_F_366t      IndexE  \n",
       "Index3_Bit1_F_192-Bit2_F_216-Bit3_F_095t      Index3  \n",
       "Index3_Bit1_F_192-Bit2_F_133-Bit3_F_378t      Index3  \n",
       "\n",
       "[8392 rows x 3 columns]"
      ]
     },
     "execution_count": 86,
     "metadata": {},
     "output_type": "execute_result"
    }
   ],
   "source": [
    "clone_data_df"
   ]
  },
  {
   "cell_type": "code",
   "execution_count": 87,
   "id": "c06f3073-f93e-4ef6-b017-d5708a7131f4",
   "metadata": {},
   "outputs": [
    {
     "data": {
      "text/plain": [
       "1     6537\n",
       "2     1252\n",
       "3      295\n",
       "4      131\n",
       "5       65\n",
       "6       36\n",
       "7       22\n",
       "8       19\n",
       "10       9\n",
       "9        8\n",
       "12       6\n",
       "13       5\n",
       "11       3\n",
       "14       2\n",
       "24       1\n",
       "15       1\n",
       "Name: Clone_size, dtype: int64"
      ]
     },
     "execution_count": 87,
     "metadata": {},
     "output_type": "execute_result"
    }
   ],
   "source": [
    "clone_data_df['Clone_size'].value_counts()"
   ]
  },
  {
   "cell_type": "code",
   "execution_count": 88,
   "id": "a55c1b1b-a023-4e84-94f8-280fbdcb7c7b",
   "metadata": {},
   "outputs": [],
   "source": [
    "bc_csv = bc_csv.merge(clone_data_df, left_on='Clone_barcodes', right_index=True)"
   ]
  },
  {
   "cell_type": "code",
   "execution_count": 89,
   "id": "041f680f-8101-409d-ae10-c386face12fe",
   "metadata": {},
   "outputs": [],
   "source": [
    "bc_csv.to_csv('/media/chang/HDD-4/mgkeefe/230317_local_STICR/barcodes/bc_outs_PFC_2S/'+file_idx+'_bcs_final_metadata.csv')"
   ]
  },
  {
   "cell_type": "code",
   "execution_count": 147,
   "id": "e8280e2a-a68c-4762-9a61-ee32b4fcad02",
   "metadata": {},
   "outputs": [],
   "source": [
    "##fix the index names:"
   ]
  },
  {
   "cell_type": "code",
   "execution_count": 172,
   "id": "42b262ad-9dee-46cf-a603-4cd7eaf9a44e",
   "metadata": {},
   "outputs": [],
   "source": [
    "file_idx = 'GW20_0308_PFC_2S'"
   ]
  },
  {
   "cell_type": "code",
   "execution_count": 154,
   "id": "5c3c6c0d-e074-471c-862e-70b68ec12708",
   "metadata": {},
   "outputs": [],
   "source": [
    "bc_csv = pd.read_csv('/media/chang/HDD-4/mgkeefe/230317_local_STICR/barcodes/bc_outs_PFC_2S/'+file_idx+'_bcs_final_metadata.csv')"
   ]
  },
  {
   "cell_type": "code",
   "execution_count": 155,
   "id": "dd94011e-4dac-4b98-82b2-b5ad43689fee",
   "metadata": {},
   "outputs": [
    {
     "data": {
      "text/html": [
       "<div>\n",
       "<style scoped>\n",
       "    .dataframe tbody tr th:only-of-type {\n",
       "        vertical-align: middle;\n",
       "    }\n",
       "\n",
       "    .dataframe tbody tr th {\n",
       "        vertical-align: top;\n",
       "    }\n",
       "\n",
       "    .dataframe thead th {\n",
       "        text-align: right;\n",
       "    }\n",
       "</style>\n",
       "<table border=\"1\" class=\"dataframe\">\n",
       "  <thead>\n",
       "    <tr style=\"text-align: right;\">\n",
       "      <th></th>\n",
       "      <th>Unnamed: 0</th>\n",
       "      <th>CBC</th>\n",
       "      <th>Clone_barcodes</th>\n",
       "      <th>n_barcodes</th>\n",
       "      <th>Clone_size</th>\n",
       "      <th>Clone_IDs</th>\n",
       "      <th>Clone_Index</th>\n",
       "    </tr>\n",
       "  </thead>\n",
       "  <tbody>\n",
       "    <tr>\n",
       "      <th>0</th>\n",
       "      <td>0</td>\n",
       "      <td>AAACCCAAGATGACCG</td>\n",
       "      <td>IndexE_Bit1_F_019-Bit2_F_125-Bit3_F_414t</td>\n",
       "      <td>1</td>\n",
       "      <td>3</td>\n",
       "      <td>LS33_Clone_504</td>\n",
       "      <td>IndexE</td>\n",
       "    </tr>\n",
       "    <tr>\n",
       "      <th>1</th>\n",
       "      <td>1222</td>\n",
       "      <td>ACTTTCACACACAGAG</td>\n",
       "      <td>IndexE_Bit1_F_019-Bit2_F_125-Bit3_F_414t</td>\n",
       "      <td>1</td>\n",
       "      <td>3</td>\n",
       "      <td>LS33_Clone_504</td>\n",
       "      <td>IndexE</td>\n",
       "    </tr>\n",
       "    <tr>\n",
       "      <th>2</th>\n",
       "      <td>5724</td>\n",
       "      <td>GAAGCGACAAGCACCC</td>\n",
       "      <td>IndexE_Bit1_F_019-Bit2_F_125-Bit3_F_414t</td>\n",
       "      <td>1</td>\n",
       "      <td>3</td>\n",
       "      <td>LS33_Clone_504</td>\n",
       "      <td>IndexE</td>\n",
       "    </tr>\n",
       "    <tr>\n",
       "      <th>3</th>\n",
       "      <td>1</td>\n",
       "      <td>AAACCCAAGATTGAGT</td>\n",
       "      <td>IndexE_Bit1_F_489-Bit2_F_009-Bit3_F_067t</td>\n",
       "      <td>1</td>\n",
       "      <td>2</td>\n",
       "      <td>LS33_Clone_1004</td>\n",
       "      <td>IndexE</td>\n",
       "    </tr>\n",
       "    <tr>\n",
       "      <th>4</th>\n",
       "      <td>7330</td>\n",
       "      <td>GGGTTTACACTGTCCT</td>\n",
       "      <td>IndexE_Bit1_F_489-Bit2_F_009-Bit3_F_067t</td>\n",
       "      <td>1</td>\n",
       "      <td>2</td>\n",
       "      <td>LS33_Clone_1004</td>\n",
       "      <td>IndexE</td>\n",
       "    </tr>\n",
       "    <tr>\n",
       "      <th>...</th>\n",
       "      <td>...</td>\n",
       "      <td>...</td>\n",
       "      <td>...</td>\n",
       "      <td>...</td>\n",
       "      <td>...</td>\n",
       "      <td>...</td>\n",
       "      <td>...</td>\n",
       "    </tr>\n",
       "    <tr>\n",
       "      <th>11691</th>\n",
       "      <td>11680</td>\n",
       "      <td>TTTGGTTCATAGAATG</td>\n",
       "      <td>Index3_Bit1_F_019-Bit2_F_239-Bit3_F_063t</td>\n",
       "      <td>1</td>\n",
       "      <td>1</td>\n",
       "      <td>LS33_Clone_2792</td>\n",
       "      <td>Index3</td>\n",
       "    </tr>\n",
       "    <tr>\n",
       "      <th>11692</th>\n",
       "      <td>11682</td>\n",
       "      <td>TTTGGTTGTCACTACA</td>\n",
       "      <td>Index3_Bit1_F_157-Bit2_F_131-Bit3_F_151t</td>\n",
       "      <td>1</td>\n",
       "      <td>1</td>\n",
       "      <td>LS33_Clone_2799</td>\n",
       "      <td>Index3</td>\n",
       "    </tr>\n",
       "    <tr>\n",
       "      <th>11693</th>\n",
       "      <td>11684</td>\n",
       "      <td>TTTGGTTTCCAACTGA</td>\n",
       "      <td>Index3_Bit1_F_442-Bit2_F_054-Bit3_F_455t</td>\n",
       "      <td>1</td>\n",
       "      <td>1</td>\n",
       "      <td>LS33_Clone_2800</td>\n",
       "      <td>Index3</td>\n",
       "    </tr>\n",
       "    <tr>\n",
       "      <th>11694</th>\n",
       "      <td>11691</td>\n",
       "      <td>TTTGTTGGTCCAATCA</td>\n",
       "      <td>IndexE_Bit1_F_028-Bit2_F_152-Bit3_F_203t</td>\n",
       "      <td>1</td>\n",
       "      <td>1</td>\n",
       "      <td>LS33_Clone_2801</td>\n",
       "      <td>IndexE</td>\n",
       "    </tr>\n",
       "    <tr>\n",
       "      <th>11695</th>\n",
       "      <td>11694</td>\n",
       "      <td>TTTGTTGTCGGTCTGG</td>\n",
       "      <td>Index3_Bit1_F_192-Bit2_F_133-Bit3_F_378t</td>\n",
       "      <td>1</td>\n",
       "      <td>1</td>\n",
       "      <td>LS33_Clone_8391</td>\n",
       "      <td>Index3</td>\n",
       "    </tr>\n",
       "  </tbody>\n",
       "</table>\n",
       "<p>11696 rows × 7 columns</p>\n",
       "</div>"
      ],
      "text/plain": [
       "       Unnamed: 0               CBC                            Clone_barcodes  \\\n",
       "0               0  AAACCCAAGATGACCG  IndexE_Bit1_F_019-Bit2_F_125-Bit3_F_414t   \n",
       "1            1222  ACTTTCACACACAGAG  IndexE_Bit1_F_019-Bit2_F_125-Bit3_F_414t   \n",
       "2            5724  GAAGCGACAAGCACCC  IndexE_Bit1_F_019-Bit2_F_125-Bit3_F_414t   \n",
       "3               1  AAACCCAAGATTGAGT  IndexE_Bit1_F_489-Bit2_F_009-Bit3_F_067t   \n",
       "4            7330  GGGTTTACACTGTCCT  IndexE_Bit1_F_489-Bit2_F_009-Bit3_F_067t   \n",
       "...           ...               ...                                       ...   \n",
       "11691       11680  TTTGGTTCATAGAATG  Index3_Bit1_F_019-Bit2_F_239-Bit3_F_063t   \n",
       "11692       11682  TTTGGTTGTCACTACA  Index3_Bit1_F_157-Bit2_F_131-Bit3_F_151t   \n",
       "11693       11684  TTTGGTTTCCAACTGA  Index3_Bit1_F_442-Bit2_F_054-Bit3_F_455t   \n",
       "11694       11691  TTTGTTGGTCCAATCA  IndexE_Bit1_F_028-Bit2_F_152-Bit3_F_203t   \n",
       "11695       11694  TTTGTTGTCGGTCTGG  Index3_Bit1_F_192-Bit2_F_133-Bit3_F_378t   \n",
       "\n",
       "       n_barcodes  Clone_size        Clone_IDs Clone_Index  \n",
       "0               1           3   LS33_Clone_504      IndexE  \n",
       "1               1           3   LS33_Clone_504      IndexE  \n",
       "2               1           3   LS33_Clone_504      IndexE  \n",
       "3               1           2  LS33_Clone_1004      IndexE  \n",
       "4               1           2  LS33_Clone_1004      IndexE  \n",
       "...           ...         ...              ...         ...  \n",
       "11691           1           1  LS33_Clone_2792      Index3  \n",
       "11692           1           1  LS33_Clone_2799      Index3  \n",
       "11693           1           1  LS33_Clone_2800      Index3  \n",
       "11694           1           1  LS33_Clone_2801      IndexE  \n",
       "11695           1           1  LS33_Clone_8391      Index3  \n",
       "\n",
       "[11696 rows x 7 columns]"
      ]
     },
     "execution_count": 155,
     "metadata": {},
     "output_type": "execute_result"
    }
   ],
   "source": [
    "bc_csv"
   ]
  },
  {
   "cell_type": "code",
   "execution_count": 173,
   "id": "9bc844fb-c805-4ec2-b46e-0d249952c24c",
   "metadata": {},
   "outputs": [
    {
     "data": {
      "text/html": [
       "<div>\n",
       "<style scoped>\n",
       "    .dataframe tbody tr th:only-of-type {\n",
       "        vertical-align: middle;\n",
       "    }\n",
       "\n",
       "    .dataframe tbody tr th {\n",
       "        vertical-align: top;\n",
       "    }\n",
       "\n",
       "    .dataframe thead th {\n",
       "        text-align: right;\n",
       "    }\n",
       "</style>\n",
       "<table border=\"1\" class=\"dataframe\">\n",
       "  <thead>\n",
       "    <tr style=\"text-align: right;\">\n",
       "      <th></th>\n",
       "      <th>Unnamed: 0</th>\n",
       "      <th>sgRNAs</th>\n",
       "      <th>n_sgRNAs</th>\n",
       "    </tr>\n",
       "  </thead>\n",
       "  <tbody>\n",
       "    <tr>\n",
       "      <th>0</th>\n",
       "      <td>AAACCCAAGATGACCG</td>\n",
       "      <td>IndexE_Bit1_F_019-Bit2_F_125-Bit3_F_414t</td>\n",
       "      <td>1</td>\n",
       "    </tr>\n",
       "    <tr>\n",
       "      <th>1</th>\n",
       "      <td>AAACCCAAGATTGAGT</td>\n",
       "      <td>IndexE_Bit1_F_489-Bit2_F_009-Bit3_F_067t</td>\n",
       "      <td>1</td>\n",
       "    </tr>\n",
       "    <tr>\n",
       "      <th>2</th>\n",
       "      <td>AAACCCAAGCACTCAT</td>\n",
       "      <td>IndexE_Bit1_F_067-Bit2_F_444-Bit3_F_284t</td>\n",
       "      <td>1</td>\n",
       "    </tr>\n",
       "    <tr>\n",
       "      <th>3</th>\n",
       "      <td>AAACCCAAGTATGTAG</td>\n",
       "      <td>Index3_Bit1_F_117-Bit2_F_272-Bit3_F_031t</td>\n",
       "      <td>1</td>\n",
       "    </tr>\n",
       "    <tr>\n",
       "      <th>4</th>\n",
       "      <td>AAACCCAAGTCAGAGC</td>\n",
       "      <td>Index3_Bit1_F_134-Bit2_F_105-Bit3_F_351t</td>\n",
       "      <td>1</td>\n",
       "    </tr>\n",
       "    <tr>\n",
       "      <th>...</th>\n",
       "      <td>...</td>\n",
       "      <td>...</td>\n",
       "      <td>...</td>\n",
       "    </tr>\n",
       "    <tr>\n",
       "      <th>11691</th>\n",
       "      <td>TTTGTTGGTCCAATCA</td>\n",
       "      <td>IndexE_Bit1_F_028-Bit2_F_152-Bit3_F_203t</td>\n",
       "      <td>1</td>\n",
       "    </tr>\n",
       "    <tr>\n",
       "      <th>11692</th>\n",
       "      <td>TTTGTTGGTTAGTCGT</td>\n",
       "      <td>Index3_Bit1_F_412-Bit2_F_390-Bit3_F_385t</td>\n",
       "      <td>1</td>\n",
       "    </tr>\n",
       "    <tr>\n",
       "      <th>11693</th>\n",
       "      <td>TTTGTTGTCCGCAACG</td>\n",
       "      <td>Index3_Bit1_F_210-Bit2_F_424-Bit3_F_370t</td>\n",
       "      <td>1</td>\n",
       "    </tr>\n",
       "    <tr>\n",
       "      <th>11694</th>\n",
       "      <td>TTTGTTGTCGGTCTGG</td>\n",
       "      <td>Index3_Bit1_F_192-Bit2_F_133-Bit3_F_378t</td>\n",
       "      <td>1</td>\n",
       "    </tr>\n",
       "    <tr>\n",
       "      <th>11695</th>\n",
       "      <td>TTTGTTGTCTTACCAT</td>\n",
       "      <td>IndexE_Bit1_F_313-Bit2_F_339-Bit3_F_365t</td>\n",
       "      <td>1</td>\n",
       "    </tr>\n",
       "  </tbody>\n",
       "</table>\n",
       "<p>11696 rows × 3 columns</p>\n",
       "</div>"
      ],
      "text/plain": [
       "             Unnamed: 0                                    sgRNAs  n_sgRNAs\n",
       "0      AAACCCAAGATGACCG  IndexE_Bit1_F_019-Bit2_F_125-Bit3_F_414t         1\n",
       "1      AAACCCAAGATTGAGT  IndexE_Bit1_F_489-Bit2_F_009-Bit3_F_067t         1\n",
       "2      AAACCCAAGCACTCAT  IndexE_Bit1_F_067-Bit2_F_444-Bit3_F_284t         1\n",
       "3      AAACCCAAGTATGTAG  Index3_Bit1_F_117-Bit2_F_272-Bit3_F_031t         1\n",
       "4      AAACCCAAGTCAGAGC  Index3_Bit1_F_134-Bit2_F_105-Bit3_F_351t         1\n",
       "...                 ...                                       ...       ...\n",
       "11691  TTTGTTGGTCCAATCA  IndexE_Bit1_F_028-Bit2_F_152-Bit3_F_203t         1\n",
       "11692  TTTGTTGGTTAGTCGT  Index3_Bit1_F_412-Bit2_F_390-Bit3_F_385t         1\n",
       "11693  TTTGTTGTCCGCAACG  Index3_Bit1_F_210-Bit2_F_424-Bit3_F_370t         1\n",
       "11694  TTTGTTGTCGGTCTGG  Index3_Bit1_F_192-Bit2_F_133-Bit3_F_378t         1\n",
       "11695  TTTGTTGTCTTACCAT  IndexE_Bit1_F_313-Bit2_F_339-Bit3_F_365t         1\n",
       "\n",
       "[11696 rows x 3 columns]"
      ]
     },
     "execution_count": 173,
     "metadata": {},
     "output_type": "execute_result"
    }
   ],
   "source": [
    "## read the final scAR output back in for further validations/manipulations\n",
    "bc_csv = pd.read_csv('/media/chang/HDD-4/mgkeefe/230317_local_STICR/barcodes/bc_outs_PFC_2S/GW20_0308_PFC_2S_scAR_bcs.csv')\n",
    "bc_csv"
   ]
  },
  {
   "cell_type": "code",
   "execution_count": 174,
   "id": "6eb4373d-34d7-4fd3-8c09-0a43160ca9a0",
   "metadata": {},
   "outputs": [],
   "source": [
    "bc_csv.columns=['CBC','Clone_barcodes','n_barcodes']\n",
    "clone_data_df = pd.DataFrame(bc_csv.Clone_barcodes.value_counts())"
   ]
  },
  {
   "cell_type": "code",
   "execution_count": 175,
   "id": "9b1a6e15-94ab-49bb-a680-58ff91827bd9",
   "metadata": {},
   "outputs": [
    {
     "data": {
      "text/html": [
       "<div>\n",
       "<style scoped>\n",
       "    .dataframe tbody tr th:only-of-type {\n",
       "        vertical-align: middle;\n",
       "    }\n",
       "\n",
       "    .dataframe tbody tr th {\n",
       "        vertical-align: top;\n",
       "    }\n",
       "\n",
       "    .dataframe thead th {\n",
       "        text-align: right;\n",
       "    }\n",
       "</style>\n",
       "<table border=\"1\" class=\"dataframe\">\n",
       "  <thead>\n",
       "    <tr style=\"text-align: right;\">\n",
       "      <th></th>\n",
       "      <th>Clone_barcodes</th>\n",
       "    </tr>\n",
       "  </thead>\n",
       "  <tbody>\n",
       "    <tr>\n",
       "      <th>Index3_Bit1_F_461-Bit2_F_026-Bit3_F_004t</th>\n",
       "      <td>24</td>\n",
       "    </tr>\n",
       "    <tr>\n",
       "      <th>Index3_Bit1_F_060-Bit2_F_292-Bit3_F_197t</th>\n",
       "      <td>15</td>\n",
       "    </tr>\n",
       "    <tr>\n",
       "      <th>IndexE_Bit1_F_073-Bit2_F_346-Bit3_F_249t</th>\n",
       "      <td>14</td>\n",
       "    </tr>\n",
       "    <tr>\n",
       "      <th>Index3_Bit1_F_325-Bit2_F_328-Bit3_F_219t</th>\n",
       "      <td>14</td>\n",
       "    </tr>\n",
       "    <tr>\n",
       "      <th>IndexE_Bit1_F_029-Bit2_F_198-Bit3_F_201t</th>\n",
       "      <td>13</td>\n",
       "    </tr>\n",
       "    <tr>\n",
       "      <th>...</th>\n",
       "      <td>...</td>\n",
       "    </tr>\n",
       "    <tr>\n",
       "      <th>IndexE_Bit1_F_198-Bit2_F_474-Bit3_F_104t</th>\n",
       "      <td>1</td>\n",
       "    </tr>\n",
       "    <tr>\n",
       "      <th>Index3_Bit1_F_252-Bit2_F_390-Bit3_F_023t</th>\n",
       "      <td>1</td>\n",
       "    </tr>\n",
       "    <tr>\n",
       "      <th>IndexE_Bit1_F_003-Bit2_F_448-Bit3_F_366t</th>\n",
       "      <td>1</td>\n",
       "    </tr>\n",
       "    <tr>\n",
       "      <th>Index3_Bit1_F_192-Bit2_F_216-Bit3_F_095t</th>\n",
       "      <td>1</td>\n",
       "    </tr>\n",
       "    <tr>\n",
       "      <th>Index3_Bit1_F_192-Bit2_F_133-Bit3_F_378t</th>\n",
       "      <td>1</td>\n",
       "    </tr>\n",
       "  </tbody>\n",
       "</table>\n",
       "<p>8392 rows × 1 columns</p>\n",
       "</div>"
      ],
      "text/plain": [
       "                                          Clone_barcodes\n",
       "Index3_Bit1_F_461-Bit2_F_026-Bit3_F_004t              24\n",
       "Index3_Bit1_F_060-Bit2_F_292-Bit3_F_197t              15\n",
       "IndexE_Bit1_F_073-Bit2_F_346-Bit3_F_249t              14\n",
       "Index3_Bit1_F_325-Bit2_F_328-Bit3_F_219t              14\n",
       "IndexE_Bit1_F_029-Bit2_F_198-Bit3_F_201t              13\n",
       "...                                                  ...\n",
       "IndexE_Bit1_F_198-Bit2_F_474-Bit3_F_104t               1\n",
       "Index3_Bit1_F_252-Bit2_F_390-Bit3_F_023t               1\n",
       "IndexE_Bit1_F_003-Bit2_F_448-Bit3_F_366t               1\n",
       "Index3_Bit1_F_192-Bit2_F_216-Bit3_F_095t               1\n",
       "Index3_Bit1_F_192-Bit2_F_133-Bit3_F_378t               1\n",
       "\n",
       "[8392 rows x 1 columns]"
      ]
     },
     "execution_count": 175,
     "metadata": {},
     "output_type": "execute_result"
    }
   ],
   "source": [
    "clone_data_df"
   ]
  },
  {
   "cell_type": "code",
   "execution_count": 176,
   "id": "e0ead5f3-081d-4bc0-96f0-ad131c3027f6",
   "metadata": {},
   "outputs": [],
   "source": [
    "clone_ids = []\n",
    "exp_prefix='LS36'\n",
    "for i in range(0,len(clone_data_df)):\n",
    "    clone_ids.append(exp_prefix+'_Clone_'+str(i))"
   ]
  },
  {
   "cell_type": "code",
   "execution_count": 177,
   "id": "bbcc2504-2dff-4e75-b4f0-7019f5f81b57",
   "metadata": {},
   "outputs": [],
   "source": [
    "clone_data_df['Clone_IDs']=clone_ids"
   ]
  },
  {
   "cell_type": "code",
   "execution_count": 178,
   "id": "0bf41e2d-0450-479e-9c63-345d4505d702",
   "metadata": {},
   "outputs": [],
   "source": [
    "clone_data_df.columns=['Clone_size','Clone_IDs']"
   ]
  },
  {
   "cell_type": "code",
   "execution_count": 179,
   "id": "e16e467c-64f1-4825-8790-174e767834b4",
   "metadata": {},
   "outputs": [],
   "source": [
    "clone_index = []\n",
    "for i in range(0,len(clone_data_df)):\n",
    "    clone_index.append(clone_data_df.index[i][0:6])"
   ]
  },
  {
   "cell_type": "code",
   "execution_count": 180,
   "id": "67560820-211b-4533-9951-e16e4f617ebf",
   "metadata": {},
   "outputs": [],
   "source": [
    "clone_data_df['Clone_Index']=clone_index"
   ]
  },
  {
   "cell_type": "code",
   "execution_count": 181,
   "id": "3a51c1ce-ca1b-45b7-9410-be8f24f8c40a",
   "metadata": {},
   "outputs": [
    {
     "data": {
      "text/html": [
       "<div>\n",
       "<style scoped>\n",
       "    .dataframe tbody tr th:only-of-type {\n",
       "        vertical-align: middle;\n",
       "    }\n",
       "\n",
       "    .dataframe tbody tr th {\n",
       "        vertical-align: top;\n",
       "    }\n",
       "\n",
       "    .dataframe thead th {\n",
       "        text-align: right;\n",
       "    }\n",
       "</style>\n",
       "<table border=\"1\" class=\"dataframe\">\n",
       "  <thead>\n",
       "    <tr style=\"text-align: right;\">\n",
       "      <th></th>\n",
       "      <th>Clone_size</th>\n",
       "      <th>Clone_IDs</th>\n",
       "      <th>Clone_Index</th>\n",
       "    </tr>\n",
       "  </thead>\n",
       "  <tbody>\n",
       "    <tr>\n",
       "      <th>Index3_Bit1_F_461-Bit2_F_026-Bit3_F_004t</th>\n",
       "      <td>24</td>\n",
       "      <td>LS36_Clone_0</td>\n",
       "      <td>Index3</td>\n",
       "    </tr>\n",
       "    <tr>\n",
       "      <th>Index3_Bit1_F_060-Bit2_F_292-Bit3_F_197t</th>\n",
       "      <td>15</td>\n",
       "      <td>LS36_Clone_1</td>\n",
       "      <td>Index3</td>\n",
       "    </tr>\n",
       "    <tr>\n",
       "      <th>IndexE_Bit1_F_073-Bit2_F_346-Bit3_F_249t</th>\n",
       "      <td>14</td>\n",
       "      <td>LS36_Clone_2</td>\n",
       "      <td>IndexE</td>\n",
       "    </tr>\n",
       "    <tr>\n",
       "      <th>Index3_Bit1_F_325-Bit2_F_328-Bit3_F_219t</th>\n",
       "      <td>14</td>\n",
       "      <td>LS36_Clone_3</td>\n",
       "      <td>Index3</td>\n",
       "    </tr>\n",
       "    <tr>\n",
       "      <th>IndexE_Bit1_F_029-Bit2_F_198-Bit3_F_201t</th>\n",
       "      <td>13</td>\n",
       "      <td>LS36_Clone_4</td>\n",
       "      <td>IndexE</td>\n",
       "    </tr>\n",
       "    <tr>\n",
       "      <th>...</th>\n",
       "      <td>...</td>\n",
       "      <td>...</td>\n",
       "      <td>...</td>\n",
       "    </tr>\n",
       "    <tr>\n",
       "      <th>IndexE_Bit1_F_198-Bit2_F_474-Bit3_F_104t</th>\n",
       "      <td>1</td>\n",
       "      <td>LS36_Clone_8387</td>\n",
       "      <td>IndexE</td>\n",
       "    </tr>\n",
       "    <tr>\n",
       "      <th>Index3_Bit1_F_252-Bit2_F_390-Bit3_F_023t</th>\n",
       "      <td>1</td>\n",
       "      <td>LS36_Clone_8388</td>\n",
       "      <td>Index3</td>\n",
       "    </tr>\n",
       "    <tr>\n",
       "      <th>IndexE_Bit1_F_003-Bit2_F_448-Bit3_F_366t</th>\n",
       "      <td>1</td>\n",
       "      <td>LS36_Clone_8389</td>\n",
       "      <td>IndexE</td>\n",
       "    </tr>\n",
       "    <tr>\n",
       "      <th>Index3_Bit1_F_192-Bit2_F_216-Bit3_F_095t</th>\n",
       "      <td>1</td>\n",
       "      <td>LS36_Clone_8390</td>\n",
       "      <td>Index3</td>\n",
       "    </tr>\n",
       "    <tr>\n",
       "      <th>Index3_Bit1_F_192-Bit2_F_133-Bit3_F_378t</th>\n",
       "      <td>1</td>\n",
       "      <td>LS36_Clone_8391</td>\n",
       "      <td>Index3</td>\n",
       "    </tr>\n",
       "  </tbody>\n",
       "</table>\n",
       "<p>8392 rows × 3 columns</p>\n",
       "</div>"
      ],
      "text/plain": [
       "                                          Clone_size        Clone_IDs  \\\n",
       "Index3_Bit1_F_461-Bit2_F_026-Bit3_F_004t          24     LS36_Clone_0   \n",
       "Index3_Bit1_F_060-Bit2_F_292-Bit3_F_197t          15     LS36_Clone_1   \n",
       "IndexE_Bit1_F_073-Bit2_F_346-Bit3_F_249t          14     LS36_Clone_2   \n",
       "Index3_Bit1_F_325-Bit2_F_328-Bit3_F_219t          14     LS36_Clone_3   \n",
       "IndexE_Bit1_F_029-Bit2_F_198-Bit3_F_201t          13     LS36_Clone_4   \n",
       "...                                              ...              ...   \n",
       "IndexE_Bit1_F_198-Bit2_F_474-Bit3_F_104t           1  LS36_Clone_8387   \n",
       "Index3_Bit1_F_252-Bit2_F_390-Bit3_F_023t           1  LS36_Clone_8388   \n",
       "IndexE_Bit1_F_003-Bit2_F_448-Bit3_F_366t           1  LS36_Clone_8389   \n",
       "Index3_Bit1_F_192-Bit2_F_216-Bit3_F_095t           1  LS36_Clone_8390   \n",
       "Index3_Bit1_F_192-Bit2_F_133-Bit3_F_378t           1  LS36_Clone_8391   \n",
       "\n",
       "                                         Clone_Index  \n",
       "Index3_Bit1_F_461-Bit2_F_026-Bit3_F_004t      Index3  \n",
       "Index3_Bit1_F_060-Bit2_F_292-Bit3_F_197t      Index3  \n",
       "IndexE_Bit1_F_073-Bit2_F_346-Bit3_F_249t      IndexE  \n",
       "Index3_Bit1_F_325-Bit2_F_328-Bit3_F_219t      Index3  \n",
       "IndexE_Bit1_F_029-Bit2_F_198-Bit3_F_201t      IndexE  \n",
       "...                                              ...  \n",
       "IndexE_Bit1_F_198-Bit2_F_474-Bit3_F_104t      IndexE  \n",
       "Index3_Bit1_F_252-Bit2_F_390-Bit3_F_023t      Index3  \n",
       "IndexE_Bit1_F_003-Bit2_F_448-Bit3_F_366t      IndexE  \n",
       "Index3_Bit1_F_192-Bit2_F_216-Bit3_F_095t      Index3  \n",
       "Index3_Bit1_F_192-Bit2_F_133-Bit3_F_378t      Index3  \n",
       "\n",
       "[8392 rows x 3 columns]"
      ]
     },
     "execution_count": 181,
     "metadata": {},
     "output_type": "execute_result"
    }
   ],
   "source": [
    "clone_data_df"
   ]
  },
  {
   "cell_type": "code",
   "execution_count": 182,
   "id": "d753527e-6a27-4d39-8bb4-1aee8d9811e7",
   "metadata": {},
   "outputs": [
    {
     "data": {
      "text/plain": [
       "1     6537\n",
       "2     1252\n",
       "3      295\n",
       "4      131\n",
       "5       65\n",
       "6       36\n",
       "7       22\n",
       "8       19\n",
       "10       9\n",
       "9        8\n",
       "12       6\n",
       "13       5\n",
       "11       3\n",
       "14       2\n",
       "24       1\n",
       "15       1\n",
       "Name: Clone_size, dtype: int64"
      ]
     },
     "execution_count": 182,
     "metadata": {},
     "output_type": "execute_result"
    }
   ],
   "source": [
    "clone_data_df['Clone_size'].value_counts()"
   ]
  },
  {
   "cell_type": "code",
   "execution_count": 183,
   "id": "b2f622c8-d5b1-4691-b395-7da40026ff17",
   "metadata": {},
   "outputs": [],
   "source": [
    "bc_csv = bc_csv.merge(clone_data_df, left_on='Clone_barcodes', right_index=True)"
   ]
  },
  {
   "cell_type": "code",
   "execution_count": 184,
   "id": "585481df-ae99-401d-95d7-5028341b48c5",
   "metadata": {},
   "outputs": [],
   "source": [
    "bc_csv.to_csv('/media/chang/HDD-4/mgkeefe/230317_local_STICR/barcodes/bc_outs_PFC_2S/'+file_idx+'_bcs_final_metadata_fixed.csv')"
   ]
  },
  {
   "cell_type": "code",
   "execution_count": 185,
   "id": "047a89f2-0d5f-4f90-b7d9-f47393da64e4",
   "metadata": {},
   "outputs": [
    {
     "data": {
      "text/html": [
       "<div>\n",
       "<style scoped>\n",
       "    .dataframe tbody tr th:only-of-type {\n",
       "        vertical-align: middle;\n",
       "    }\n",
       "\n",
       "    .dataframe tbody tr th {\n",
       "        vertical-align: top;\n",
       "    }\n",
       "\n",
       "    .dataframe thead th {\n",
       "        text-align: right;\n",
       "    }\n",
       "</style>\n",
       "<table border=\"1\" class=\"dataframe\">\n",
       "  <thead>\n",
       "    <tr style=\"text-align: right;\">\n",
       "      <th></th>\n",
       "      <th>CBC</th>\n",
       "      <th>Clone_barcodes</th>\n",
       "      <th>n_barcodes</th>\n",
       "      <th>Clone_size</th>\n",
       "      <th>Clone_IDs</th>\n",
       "      <th>Clone_Index</th>\n",
       "    </tr>\n",
       "  </thead>\n",
       "  <tbody>\n",
       "    <tr>\n",
       "      <th>0</th>\n",
       "      <td>AAACCCAAGATGACCG</td>\n",
       "      <td>IndexE_Bit1_F_019-Bit2_F_125-Bit3_F_414t</td>\n",
       "      <td>1</td>\n",
       "      <td>3</td>\n",
       "      <td>LS36_Clone_504</td>\n",
       "      <td>IndexE</td>\n",
       "    </tr>\n",
       "    <tr>\n",
       "      <th>1222</th>\n",
       "      <td>ACTTTCACACACAGAG</td>\n",
       "      <td>IndexE_Bit1_F_019-Bit2_F_125-Bit3_F_414t</td>\n",
       "      <td>1</td>\n",
       "      <td>3</td>\n",
       "      <td>LS36_Clone_504</td>\n",
       "      <td>IndexE</td>\n",
       "    </tr>\n",
       "    <tr>\n",
       "      <th>5724</th>\n",
       "      <td>GAAGCGACAAGCACCC</td>\n",
       "      <td>IndexE_Bit1_F_019-Bit2_F_125-Bit3_F_414t</td>\n",
       "      <td>1</td>\n",
       "      <td>3</td>\n",
       "      <td>LS36_Clone_504</td>\n",
       "      <td>IndexE</td>\n",
       "    </tr>\n",
       "    <tr>\n",
       "      <th>1</th>\n",
       "      <td>AAACCCAAGATTGAGT</td>\n",
       "      <td>IndexE_Bit1_F_489-Bit2_F_009-Bit3_F_067t</td>\n",
       "      <td>1</td>\n",
       "      <td>2</td>\n",
       "      <td>LS36_Clone_1004</td>\n",
       "      <td>IndexE</td>\n",
       "    </tr>\n",
       "    <tr>\n",
       "      <th>7330</th>\n",
       "      <td>GGGTTTACACTGTCCT</td>\n",
       "      <td>IndexE_Bit1_F_489-Bit2_F_009-Bit3_F_067t</td>\n",
       "      <td>1</td>\n",
       "      <td>2</td>\n",
       "      <td>LS36_Clone_1004</td>\n",
       "      <td>IndexE</td>\n",
       "    </tr>\n",
       "    <tr>\n",
       "      <th>...</th>\n",
       "      <td>...</td>\n",
       "      <td>...</td>\n",
       "      <td>...</td>\n",
       "      <td>...</td>\n",
       "      <td>...</td>\n",
       "      <td>...</td>\n",
       "    </tr>\n",
       "    <tr>\n",
       "      <th>11680</th>\n",
       "      <td>TTTGGTTCATAGAATG</td>\n",
       "      <td>Index3_Bit1_F_019-Bit2_F_239-Bit3_F_063t</td>\n",
       "      <td>1</td>\n",
       "      <td>1</td>\n",
       "      <td>LS36_Clone_2792</td>\n",
       "      <td>Index3</td>\n",
       "    </tr>\n",
       "    <tr>\n",
       "      <th>11682</th>\n",
       "      <td>TTTGGTTGTCACTACA</td>\n",
       "      <td>Index3_Bit1_F_157-Bit2_F_131-Bit3_F_151t</td>\n",
       "      <td>1</td>\n",
       "      <td>1</td>\n",
       "      <td>LS36_Clone_2799</td>\n",
       "      <td>Index3</td>\n",
       "    </tr>\n",
       "    <tr>\n",
       "      <th>11684</th>\n",
       "      <td>TTTGGTTTCCAACTGA</td>\n",
       "      <td>Index3_Bit1_F_442-Bit2_F_054-Bit3_F_455t</td>\n",
       "      <td>1</td>\n",
       "      <td>1</td>\n",
       "      <td>LS36_Clone_2800</td>\n",
       "      <td>Index3</td>\n",
       "    </tr>\n",
       "    <tr>\n",
       "      <th>11691</th>\n",
       "      <td>TTTGTTGGTCCAATCA</td>\n",
       "      <td>IndexE_Bit1_F_028-Bit2_F_152-Bit3_F_203t</td>\n",
       "      <td>1</td>\n",
       "      <td>1</td>\n",
       "      <td>LS36_Clone_2801</td>\n",
       "      <td>IndexE</td>\n",
       "    </tr>\n",
       "    <tr>\n",
       "      <th>11694</th>\n",
       "      <td>TTTGTTGTCGGTCTGG</td>\n",
       "      <td>Index3_Bit1_F_192-Bit2_F_133-Bit3_F_378t</td>\n",
       "      <td>1</td>\n",
       "      <td>1</td>\n",
       "      <td>LS36_Clone_8391</td>\n",
       "      <td>Index3</td>\n",
       "    </tr>\n",
       "  </tbody>\n",
       "</table>\n",
       "<p>11696 rows × 6 columns</p>\n",
       "</div>"
      ],
      "text/plain": [
       "                    CBC                            Clone_barcodes  n_barcodes  \\\n",
       "0      AAACCCAAGATGACCG  IndexE_Bit1_F_019-Bit2_F_125-Bit3_F_414t           1   \n",
       "1222   ACTTTCACACACAGAG  IndexE_Bit1_F_019-Bit2_F_125-Bit3_F_414t           1   \n",
       "5724   GAAGCGACAAGCACCC  IndexE_Bit1_F_019-Bit2_F_125-Bit3_F_414t           1   \n",
       "1      AAACCCAAGATTGAGT  IndexE_Bit1_F_489-Bit2_F_009-Bit3_F_067t           1   \n",
       "7330   GGGTTTACACTGTCCT  IndexE_Bit1_F_489-Bit2_F_009-Bit3_F_067t           1   \n",
       "...                 ...                                       ...         ...   \n",
       "11680  TTTGGTTCATAGAATG  Index3_Bit1_F_019-Bit2_F_239-Bit3_F_063t           1   \n",
       "11682  TTTGGTTGTCACTACA  Index3_Bit1_F_157-Bit2_F_131-Bit3_F_151t           1   \n",
       "11684  TTTGGTTTCCAACTGA  Index3_Bit1_F_442-Bit2_F_054-Bit3_F_455t           1   \n",
       "11691  TTTGTTGGTCCAATCA  IndexE_Bit1_F_028-Bit2_F_152-Bit3_F_203t           1   \n",
       "11694  TTTGTTGTCGGTCTGG  Index3_Bit1_F_192-Bit2_F_133-Bit3_F_378t           1   \n",
       "\n",
       "       Clone_size        Clone_IDs Clone_Index  \n",
       "0               3   LS36_Clone_504      IndexE  \n",
       "1222            3   LS36_Clone_504      IndexE  \n",
       "5724            3   LS36_Clone_504      IndexE  \n",
       "1               2  LS36_Clone_1004      IndexE  \n",
       "7330            2  LS36_Clone_1004      IndexE  \n",
       "...           ...              ...         ...  \n",
       "11680           1  LS36_Clone_2792      Index3  \n",
       "11682           1  LS36_Clone_2799      Index3  \n",
       "11684           1  LS36_Clone_2800      Index3  \n",
       "11691           1  LS36_Clone_2801      IndexE  \n",
       "11694           1  LS36_Clone_8391      Index3  \n",
       "\n",
       "[11696 rows x 6 columns]"
      ]
     },
     "execution_count": 185,
     "metadata": {},
     "output_type": "execute_result"
    }
   ],
   "source": [
    "bc_csv"
   ]
  },
  {
   "cell_type": "code",
   "execution_count": 187,
   "id": "7c185e7a-1d35-4c87-8bd3-070a0604f9ae",
   "metadata": {},
   "outputs": [
    {
     "data": {
      "text/html": [
       "<div>\n",
       "<style scoped>\n",
       "    .dataframe tbody tr th:only-of-type {\n",
       "        vertical-align: middle;\n",
       "    }\n",
       "\n",
       "    .dataframe tbody tr th {\n",
       "        vertical-align: top;\n",
       "    }\n",
       "\n",
       "    .dataframe thead th {\n",
       "        text-align: right;\n",
       "    }\n",
       "</style>\n",
       "<table border=\"1\" class=\"dataframe\">\n",
       "  <thead>\n",
       "    <tr style=\"text-align: right;\">\n",
       "      <th></th>\n",
       "      <th>CBC</th>\n",
       "      <th>Clone_barcodes</th>\n",
       "      <th>n_barcodes</th>\n",
       "      <th>Clone_size</th>\n",
       "      <th>Clone_IDs</th>\n",
       "      <th>Clone_Index</th>\n",
       "    </tr>\n",
       "  </thead>\n",
       "  <tbody>\n",
       "    <tr>\n",
       "      <th>2436</th>\n",
       "      <td>ATGCCTCTCAACACGT</td>\n",
       "      <td>Index3_Bit1_F_461-Bit2_F_026-Bit3_F_004t</td>\n",
       "      <td>1</td>\n",
       "      <td>24</td>\n",
       "      <td>LS36_Clone_0</td>\n",
       "      <td>Index3</td>\n",
       "    </tr>\n",
       "    <tr>\n",
       "      <th>4868</th>\n",
       "      <td>CTACCCATCGCTCTAC</td>\n",
       "      <td>Index3_Bit1_F_461-Bit2_F_026-Bit3_F_004t</td>\n",
       "      <td>1</td>\n",
       "      <td>24</td>\n",
       "      <td>LS36_Clone_0</td>\n",
       "      <td>Index3</td>\n",
       "    </tr>\n",
       "    <tr>\n",
       "      <th>1277</th>\n",
       "      <td>AGAACCTGTCCATCTC</td>\n",
       "      <td>Index3_Bit1_F_461-Bit2_F_026-Bit3_F_004t</td>\n",
       "      <td>1</td>\n",
       "      <td>24</td>\n",
       "      <td>LS36_Clone_0</td>\n",
       "      <td>Index3</td>\n",
       "    </tr>\n",
       "    <tr>\n",
       "      <th>1600</th>\n",
       "      <td>AGCTCAAGTACGGATG</td>\n",
       "      <td>Index3_Bit1_F_461-Bit2_F_026-Bit3_F_004t</td>\n",
       "      <td>1</td>\n",
       "      <td>24</td>\n",
       "      <td>LS36_Clone_0</td>\n",
       "      <td>Index3</td>\n",
       "    </tr>\n",
       "    <tr>\n",
       "      <th>1957</th>\n",
       "      <td>AGTCATGGTGCGTCGT</td>\n",
       "      <td>Index3_Bit1_F_461-Bit2_F_026-Bit3_F_004t</td>\n",
       "      <td>1</td>\n",
       "      <td>24</td>\n",
       "      <td>LS36_Clone_0</td>\n",
       "      <td>Index3</td>\n",
       "    </tr>\n",
       "    <tr>\n",
       "      <th>...</th>\n",
       "      <td>...</td>\n",
       "      <td>...</td>\n",
       "      <td>...</td>\n",
       "      <td>...</td>\n",
       "      <td>...</td>\n",
       "      <td>...</td>\n",
       "    </tr>\n",
       "    <tr>\n",
       "      <th>11046</th>\n",
       "      <td>TTCACCGAGTCTTGGT</td>\n",
       "      <td>Index3_Bit1_F_230-Bit2_F_233-Bit3_F_160t</td>\n",
       "      <td>1</td>\n",
       "      <td>2</td>\n",
       "      <td>LS36_Clone_997</td>\n",
       "      <td>Index3</td>\n",
       "    </tr>\n",
       "    <tr>\n",
       "      <th>7602</th>\n",
       "      <td>GTAGAGGTCACGAACT</td>\n",
       "      <td>IndexE_Bit1_F_047-Bit2_F_021-Bit3_F_280t</td>\n",
       "      <td>1</td>\n",
       "      <td>2</td>\n",
       "      <td>LS36_Clone_998</td>\n",
       "      <td>IndexE</td>\n",
       "    </tr>\n",
       "    <tr>\n",
       "      <th>6900</th>\n",
       "      <td>GGAACCCTCGCGCTGA</td>\n",
       "      <td>IndexE_Bit1_F_047-Bit2_F_021-Bit3_F_280t</td>\n",
       "      <td>1</td>\n",
       "      <td>2</td>\n",
       "      <td>LS36_Clone_998</td>\n",
       "      <td>IndexE</td>\n",
       "    </tr>\n",
       "    <tr>\n",
       "      <th>9677</th>\n",
       "      <td>TCGCAGGTCGTGGCTG</td>\n",
       "      <td>IndexE_Bit1_F_025-Bit2_F_065-Bit3_F_014t</td>\n",
       "      <td>1</td>\n",
       "      <td>2</td>\n",
       "      <td>LS36_Clone_999</td>\n",
       "      <td>IndexE</td>\n",
       "    </tr>\n",
       "    <tr>\n",
       "      <th>5278</th>\n",
       "      <td>CTGAGGCCAATAGTGA</td>\n",
       "      <td>IndexE_Bit1_F_025-Bit2_F_065-Bit3_F_014t</td>\n",
       "      <td>1</td>\n",
       "      <td>2</td>\n",
       "      <td>LS36_Clone_999</td>\n",
       "      <td>IndexE</td>\n",
       "    </tr>\n",
       "  </tbody>\n",
       "</table>\n",
       "<p>11696 rows × 6 columns</p>\n",
       "</div>"
      ],
      "text/plain": [
       "                    CBC                            Clone_barcodes  n_barcodes  \\\n",
       "2436   ATGCCTCTCAACACGT  Index3_Bit1_F_461-Bit2_F_026-Bit3_F_004t           1   \n",
       "4868   CTACCCATCGCTCTAC  Index3_Bit1_F_461-Bit2_F_026-Bit3_F_004t           1   \n",
       "1277   AGAACCTGTCCATCTC  Index3_Bit1_F_461-Bit2_F_026-Bit3_F_004t           1   \n",
       "1600   AGCTCAAGTACGGATG  Index3_Bit1_F_461-Bit2_F_026-Bit3_F_004t           1   \n",
       "1957   AGTCATGGTGCGTCGT  Index3_Bit1_F_461-Bit2_F_026-Bit3_F_004t           1   \n",
       "...                 ...                                       ...         ...   \n",
       "11046  TTCACCGAGTCTTGGT  Index3_Bit1_F_230-Bit2_F_233-Bit3_F_160t           1   \n",
       "7602   GTAGAGGTCACGAACT  IndexE_Bit1_F_047-Bit2_F_021-Bit3_F_280t           1   \n",
       "6900   GGAACCCTCGCGCTGA  IndexE_Bit1_F_047-Bit2_F_021-Bit3_F_280t           1   \n",
       "9677   TCGCAGGTCGTGGCTG  IndexE_Bit1_F_025-Bit2_F_065-Bit3_F_014t           1   \n",
       "5278   CTGAGGCCAATAGTGA  IndexE_Bit1_F_025-Bit2_F_065-Bit3_F_014t           1   \n",
       "\n",
       "       Clone_size       Clone_IDs Clone_Index  \n",
       "2436           24    LS36_Clone_0      Index3  \n",
       "4868           24    LS36_Clone_0      Index3  \n",
       "1277           24    LS36_Clone_0      Index3  \n",
       "1600           24    LS36_Clone_0      Index3  \n",
       "1957           24    LS36_Clone_0      Index3  \n",
       "...           ...             ...         ...  \n",
       "11046           2  LS36_Clone_997      Index3  \n",
       "7602            2  LS36_Clone_998      IndexE  \n",
       "6900            2  LS36_Clone_998      IndexE  \n",
       "9677            2  LS36_Clone_999      IndexE  \n",
       "5278            2  LS36_Clone_999      IndexE  \n",
       "\n",
       "[11696 rows x 6 columns]"
      ]
     },
     "execution_count": 187,
     "metadata": {},
     "output_type": "execute_result"
    }
   ],
   "source": [
    "bc_csv.sort_values(by=[\"Clone_IDs\"])"
   ]
  },
  {
   "cell_type": "markdown",
   "id": "68a951ff-7720-41ad-8380-3f1f4518fcf7",
   "metadata": {
    "tags": []
   },
   "source": [
    "## new processing for 230308 V1 S1:"
   ]
  },
  {
   "cell_type": "code",
   "execution_count": 90,
   "id": "d7e2096b-c1df-437d-89bc-8ef3462a8e7d",
   "metadata": {},
   "outputs": [],
   "source": [
    "## load in the Final_Barcodes.tsv output from the STICR pipeline\n",
    "sticr_tsv = pd.read_csv('/media/chang/HDD-4/mgkeefe/230317_local_STICR/barcodes/bc_outs_V1_S1/Final_Barcodes.tsv',\n",
    "                           sep='\\t')\n",
    "sticr_tsv.index = list(sticr_tsv['CBC'])"
   ]
  },
  {
   "cell_type": "code",
   "execution_count": 91,
   "id": "9c08e75b-3340-4ad9-8b66-eb91f87d93be",
   "metadata": {},
   "outputs": [],
   "source": [
    "## generate a matrix of zeroes with dimensions CBCs (rows) by STICR BCs (columns)\n",
    "cbc_names = np.unique(sticr_tsv['CBC'])\n",
    "bc_names = np.unique(sticr_tsv['barcode'])\n",
    "bc_matrix = np.zeros((len(np.unique(cbc_names)), len(np.unique(bc_names))))\n",
    "bc_df = pd.DataFrame(bc_matrix, index=list(cbc_names), columns=list(bc_names))"
   ]
  },
  {
   "cell_type": "code",
   "execution_count": 92,
   "id": "45e118c6-1a74-4172-84b7-1088b4f2e952",
   "metadata": {},
   "outputs": [
    {
     "name": "stderr",
     "output_type": "stream",
     "text": [
      "100%|██████████| 25761/25761 [12:16<00:00, 34.98it/s]\n"
     ]
    }
   ],
   "source": [
    "## iterate through every STICR BC and pull the UMI values for a given CBC and map them into the matrix of cells by barcodes\n",
    "from tqdm import tqdm\n",
    "\n",
    "for sbc in tqdm(bc_names):\n",
    "    bc_df.loc[bc_df.index.isin(sticr_tsv['CBC'][sticr_tsv['barcode']==sbc]), bc_df.columns==sbc] = sticr_tsv.loc[sticr_tsv['barcode']==sbc,'UMI_Count']"
   ]
  },
  {
   "cell_type": "code",
   "execution_count": 93,
   "id": "ccbfbac6-593a-4c94-9962-a0ec8e580d40",
   "metadata": {},
   "outputs": [],
   "source": [
    "## compress the dataframe by turning it into a sparse matrix, which is the input for scanpy\n",
    "## note: this used to be done in R with DropletUtils, but that stopped working for some reason so doing it this way instead\n",
    "from scipy.sparse import csr_matrix\n",
    "import h5sparse\n",
    "import h5py\n",
    "import anndata\n",
    "bc_df_sparse = csr_matrix(bc_df)"
   ]
  },
  {
   "cell_type": "code",
   "execution_count": 94,
   "id": "3b37b6e7-c592-43ea-ae00-24950a822523",
   "metadata": {},
   "outputs": [],
   "source": [
    "file_idx = 'GW20_0308_V1_S1'"
   ]
  },
  {
   "cell_type": "code",
   "execution_count": 95,
   "id": "c456416a-b6f1-48d2-a6ce-34ce08748165",
   "metadata": {},
   "outputs": [],
   "source": [
    "## convert the sparse matrix back into a dataframe, then parse it with AnnData for scanpy input\n",
    "## save the scanpy input in h5 format so that the slow matrix generation doesn't have to be done again\n",
    "bc_df_reformat = pd.DataFrame.sparse.from_spmatrix(bc_df_sparse, index=bc_df.index, columns=bc_df.columns)\n",
    "bc_df_sc_input = anndata.AnnData(bc_df_reformat)\n",
    "bc_df_sc_input.write_h5ad('/media/chang/HDD-4/mgkeefe/230317_local_STICR/barcodes/bc_outs_V1_S1/'+file_idx+'_bc_matrix_sparse.h5ad')"
   ]
  },
  {
   "cell_type": "code",
   "execution_count": 96,
   "id": "b2625163-e22c-434e-9d2b-408e33a4efff",
   "metadata": {},
   "outputs": [],
   "source": [
    "## load in the cellranger output and barcode matrix\n",
    "rna = '/media/chang/HDD-4/mgkeefe/230317_local_STICR/transcriptome/cellranger_outs/GW20_230308_sub_FBS_V1_S1_cellranger/raw_feature_bc_matrix.h5'\n",
    "sticr = '/media/chang/HDD-4/mgkeefe/230317_local_STICR/barcodes/bc_outs_V1_S1/'+file_idx+'_bc_matrix_sparse.h5ad'\n",
    "out = '/media/chang/HDD-4/mgkeefe/230317_local_STICR/barcodes/bc_outs_V1_S1/'+file_idx+'_scAR_bcs.csv'\n",
    "data_rna = sc.read_10x_h5(filename=rna, gex_only=True) # Change this if ur using a different scRNA-seq format\n",
    "data_sticr = sc.read_h5ad(sticr)\n",
    "data_sticr_raw = data_sticr.to_df()\n",
    "data_sticr.var_names_make_unique()"
   ]
  },
  {
   "cell_type": "code",
   "execution_count": 97,
   "id": "4bb90544-149c-4e66-b10b-ee7aac0b445d",
   "metadata": {},
   "outputs": [
    {
     "name": "stdout",
     "output_type": "stream",
     "text": [
      "old names:\n",
      "['AAACCCAAGAAACCAT-1', 'AAACCCAAGAAACCCA-1', 'AAACCCAAGAAACCCG-1', 'AAACCCAAGAAACTAC-1', 'AAACCCAAGAAACTGT-1', 'AAACCCAAGAAATCCA-1', 'AAACCCAAGAAATTCG-1', 'AAACCCAAGAACCCGA-1', 'AAACCCAAGAACCGCA-1', 'AAACCCAAGAACGCGT-1']\n",
      "fixed names:\n",
      "['AAACCCAAGAAACCAT', 'AAACCCAAGAAACCCA', 'AAACCCAAGAAACCCG', 'AAACCCAAGAAACTAC', 'AAACCCAAGAAACTGT', 'AAACCCAAGAAATCCA', 'AAACCCAAGAAATTCG', 'AAACCCAAGAACCCGA', 'AAACCCAAGAACCGCA', 'AAACCCAAGAACGCGT']\n",
      "cell names from cellranger:\n",
      "['AAACCCAAGAAACCAT', 'AAACCCAAGAAACCCA', 'AAACCCAAGAAACCCG', 'AAACCCAAGAAACTAC', 'AAACCCAAGAAACTGT', 'AAACCCAAGAAATCCA', 'AAACCCAAGAAATTCG', 'AAACCCAAGAACCCGA', 'AAACCCAAGAACCGCA', 'AAACCCAAGAACGCGT']\n",
      "cell names from STICR processing:\n",
      "['AAACCCAAGAAATGGG', 'AAACCCAAGACCATAA', 'AAACCCAAGACGGAAA', 'AAACCCAAGATAGTGT', 'AAACCCAAGATTAGCA', 'AAACCCAAGCAGTACG', 'AAACCCAAGCCAAGGT', 'AAACCCAAGCCATGCC', 'AAACCCAAGCCTCAGC', 'AAACCCAAGCCTTTCC']\n"
     ]
    }
   ],
   "source": [
    "## fix the names in the RNA file to remove the -1 from the CBC\n",
    "fixed_rna_names = data_rna.obs_names.tolist()\n",
    "for c in range(0, len(fixed_rna_names)):\n",
    "    fixed_rna_names[c] = fixed_rna_names[c][0:-2]\n",
    "print('old names:')\n",
    "print(data_rna.obs_names[0:10].tolist())\n",
    "print('fixed names:')\n",
    "print(fixed_rna_names[0:10])\n",
    "data_rna.obs_names = fixed_rna_names\n",
    "print('cell names from cellranger:')\n",
    "print(data_rna.obs_names[:10].tolist())\n",
    "print('cell names from STICR processing:')\n",
    "print(data_sticr.obs_names[:10].tolist())"
   ]
  },
  {
   "cell_type": "code",
   "execution_count": 98,
   "id": "108e5b22-1788-4776-8d46-092c207ee598",
   "metadata": {},
   "outputs": [
    {
     "data": {
      "image/png": "[encoded data removed]",
      "text/plain": [
       "<Figure size 600x450 with 1 Axes>"
      ]
     },
     "metadata": {},
     "output_type": "display_data"
    }
   ],
   "source": [
    "## run scAR (stole this code from Chang)\n",
    "rank_UMIs = pd.DataFrame(data_rna[:,data_rna.var['feature_types']=='Gene Expression'].X.sum(axis=1), index = data_rna.obs_names, columns=['total_counts'])\n",
    "rank_UMIs['droplets'] = 'cell-free droplets'\n",
    "rank_UMIs['droplets'] = rank_UMIs['droplets'].mask(rank_UMIs['total_counts']>50, 'droplet II')\n",
    "rank_UMIs['droplets'] = rank_UMIs['droplets'].mask(rank_UMIs['total_counts']>100, 'droplet I')\n",
    "rank_UMIs['droplets'] = rank_UMIs['droplets'].mask(rank_UMIs['total_counts']>500, 'cells')\n",
    "rank_UMIs = rank_UMIs.sort_values(by='total_counts', ascending=False).reset_index().rename_axis(\"rank\").reset_index()\n",
    "rank_UMIs = rank_UMIs.loc[rank_UMIs['total_counts']>0]\n",
    "rank_UMIs = rank_UMIs.set_index('index').rename_axis('cells')\n",
    "\n",
    "\n",
    "plt.figure(figsize=(4, 3), dpi=150)\n",
    "\n",
    "ax = sns.lineplot(data = rank_UMIs,\n",
    "                  x='rank',\n",
    "                  y='total_counts',\n",
    "                  hue='droplets',\n",
    "                  hue_order=['cells', 'droplet I', 'droplet II', 'cell-free droplets'],\n",
    "                  palette=sns.color_palette()[-4:],\n",
    "                  markers=False,\n",
    "                  lw=2)\n",
    "\n",
    "ax.set_xscale('log')\n",
    "ax.set_yscale('log')\n",
    "ax.set_xlabel('sorted droplets');\n",
    "ax.legend(loc='lower left', ncol=1, title=None, frameon=False)\n",
    "ax.set_title(f'kneeplot: '+file_idx);\n",
    "\n",
    "sns.set_palette(\"muted\")\n",
    "sns.set_style(\"ticks\")\n",
    "sns.despine(offset=10, trim=False);"
   ]
  },
  {
   "cell_type": "code",
   "execution_count": 99,
   "id": "b1d4ae36-38fb-4337-a547-e956e3e37d05",
   "metadata": {},
   "outputs": [
    {
     "name": "stdout",
     "output_type": "stream",
     "text": [
      "..Running VAE using the following param set:\n",
      "......scAR mode:  CROPseq\n",
      "......count model:  binomial\n",
      "......num_input_feature:  25761\n",
      "......NN_layer1:  150\n",
      "......NN_layer2:  100\n",
      "......latent_space:  15\n",
      "......dropout_prob:  0\n",
      "......kld_weight:  1e-05\n",
      "......lr:  0.001\n",
      "......lr_step_size:  5\n",
      "......lr_gamma:  0.97\n",
      "===========================================\n",
      "  Training.....\n",
      "100%|██████████| 400/400 [1:47:11<00:00, 16.08s/it]\n",
      "===========================================\n",
      "  Inferring .....\n"
     ]
    }
   ],
   "source": [
    "## run scAR (stole this code from Chang)\n",
    "####################\n",
    "data_rna_filtered = data_rna[data_rna.obs_names.isin(rank_UMIs[rank_UMIs['droplets']=='cells'].index)] # equal to filtered population as cellranger output\n",
    "data_sticr_filtered = data_sticr[data_sticr.obs_names.isin(data_rna_filtered.obs_names)].to_df() # pandas.DataFrame\n",
    "data_sticr_filtered_empty_droplets = data_sticr_raw.loc[data_sticr_raw.index.difference(data_sticr_filtered.index)]\n",
    "data_sticr_filtered_empty_profile = data_sticr_filtered_empty_droplets.sum()/data_sticr_filtered_empty_droplets.sum().sum()    # pandas.Series\n",
    "scarObj = scAR.model(raw_count=data_sticr_filtered,\n",
    "                     empty_profile=data_sticr_filtered_empty_profile.values, # In the case of default None, the empty_profile will be calculated by averaging pooled cells\n",
    "                     scRNAseq_tech='CROPseq')\n",
    "scarObj.train(epochs=400)\n",
    "scarObj.inference(feature_type='sgRNAs', cutoff=3)\n",
    "scarObj.feature_assignment.to_csv(out)\n",
    "####################"
   ]
  },
  {
   "cell_type": "code",
   "execution_count": 100,
   "id": "24c243a0-4ac6-42db-8e1b-e65e3f589608",
   "metadata": {},
   "outputs": [],
   "source": [
    "## write the final scAR output to a csv\n",
    "scarObj.feature_assignment.to_csv(out)"
   ]
  },
  {
   "cell_type": "code",
   "execution_count": 101,
   "id": "3b8b0f7a-dc19-45cc-ab0f-38adca5f4153",
   "metadata": {},
   "outputs": [
    {
     "data": {
      "text/html": [
       "<div>\n",
       "<style scoped>\n",
       "    .dataframe tbody tr th:only-of-type {\n",
       "        vertical-align: middle;\n",
       "    }\n",
       "\n",
       "    .dataframe tbody tr th {\n",
       "        vertical-align: top;\n",
       "    }\n",
       "\n",
       "    .dataframe thead th {\n",
       "        text-align: right;\n",
       "    }\n",
       "</style>\n",
       "<table border=\"1\" class=\"dataframe\">\n",
       "  <thead>\n",
       "    <tr style=\"text-align: right;\">\n",
       "      <th></th>\n",
       "      <th>Unnamed: 0</th>\n",
       "      <th>sgRNAs</th>\n",
       "      <th>n_sgRNAs</th>\n",
       "    </tr>\n",
       "  </thead>\n",
       "  <tbody>\n",
       "    <tr>\n",
       "      <th>0</th>\n",
       "      <td>AAACCCAAGACGGAAA</td>\n",
       "      <td>IndexE_Bit1_F_328-Bit2_F_373-Bit3_F_089t</td>\n",
       "      <td>1</td>\n",
       "    </tr>\n",
       "    <tr>\n",
       "      <th>1</th>\n",
       "      <td>AAACCCAAGATAGTGT</td>\n",
       "      <td>Index3_Bit1_F_288-Bit2_F_331-Bit3_F_148t</td>\n",
       "      <td>1</td>\n",
       "    </tr>\n",
       "    <tr>\n",
       "      <th>2</th>\n",
       "      <td>AAACCCAAGCTCGACC</td>\n",
       "      <td>IndexE_Bit1_F_301-Bit2_F_109-Bit3_F_170t</td>\n",
       "      <td>1</td>\n",
       "    </tr>\n",
       "    <tr>\n",
       "      <th>3</th>\n",
       "      <td>AAACCCAAGCTGGTGA</td>\n",
       "      <td>IndexE_Bit1_F_013-Bit2_F_346-Bit3_F_183t</td>\n",
       "      <td>1</td>\n",
       "    </tr>\n",
       "    <tr>\n",
       "      <th>4</th>\n",
       "      <td>AAACCCAAGGAAACGA</td>\n",
       "      <td>IndexE_Bit1_F_107-Bit2_F_441-Bit3_F_437t</td>\n",
       "      <td>1</td>\n",
       "    </tr>\n",
       "    <tr>\n",
       "      <th>...</th>\n",
       "      <td>...</td>\n",
       "      <td>...</td>\n",
       "      <td>...</td>\n",
       "    </tr>\n",
       "    <tr>\n",
       "      <th>14620</th>\n",
       "      <td>TTTGTTGTCCGCTTAC</td>\n",
       "      <td>Index3_Bit1_F_022-Bit2_F_159-Bit3_F_304t</td>\n",
       "      <td>1</td>\n",
       "    </tr>\n",
       "    <tr>\n",
       "      <th>14621</th>\n",
       "      <td>TTTGTTGTCGCACGAC</td>\n",
       "      <td>IndexE_Bit1_F_120-Bit2_F_040-Bit3_F_448t</td>\n",
       "      <td>1</td>\n",
       "    </tr>\n",
       "    <tr>\n",
       "      <th>14622</th>\n",
       "      <td>TTTGTTGTCTCATGCC</td>\n",
       "      <td>IndexE_Bit1_F_468-Bit2_F_393-Bit3_F_071t</td>\n",
       "      <td>1</td>\n",
       "    </tr>\n",
       "    <tr>\n",
       "      <th>14623</th>\n",
       "      <td>TTTGTTGTCTGTTCAT</td>\n",
       "      <td>IndexE_Bit1_F_254-Bit2_F_056-Bit3_F_397t</td>\n",
       "      <td>1</td>\n",
       "    </tr>\n",
       "    <tr>\n",
       "      <th>14624</th>\n",
       "      <td>TTTGTTGTCTTGGGCG</td>\n",
       "      <td>IndexE_Bit1_F_329-Bit2_F_420-Bit3_F_365t</td>\n",
       "      <td>1</td>\n",
       "    </tr>\n",
       "  </tbody>\n",
       "</table>\n",
       "<p>14625 rows × 3 columns</p>\n",
       "</div>"
      ],
      "text/plain": [
       "             Unnamed: 0                                    sgRNAs  n_sgRNAs\n",
       "0      AAACCCAAGACGGAAA  IndexE_Bit1_F_328-Bit2_F_373-Bit3_F_089t         1\n",
       "1      AAACCCAAGATAGTGT  Index3_Bit1_F_288-Bit2_F_331-Bit3_F_148t         1\n",
       "2      AAACCCAAGCTCGACC  IndexE_Bit1_F_301-Bit2_F_109-Bit3_F_170t         1\n",
       "3      AAACCCAAGCTGGTGA  IndexE_Bit1_F_013-Bit2_F_346-Bit3_F_183t         1\n",
       "4      AAACCCAAGGAAACGA  IndexE_Bit1_F_107-Bit2_F_441-Bit3_F_437t         1\n",
       "...                 ...                                       ...       ...\n",
       "14620  TTTGTTGTCCGCTTAC  Index3_Bit1_F_022-Bit2_F_159-Bit3_F_304t         1\n",
       "14621  TTTGTTGTCGCACGAC  IndexE_Bit1_F_120-Bit2_F_040-Bit3_F_448t         1\n",
       "14622  TTTGTTGTCTCATGCC  IndexE_Bit1_F_468-Bit2_F_393-Bit3_F_071t         1\n",
       "14623  TTTGTTGTCTGTTCAT  IndexE_Bit1_F_254-Bit2_F_056-Bit3_F_397t         1\n",
       "14624  TTTGTTGTCTTGGGCG  IndexE_Bit1_F_329-Bit2_F_420-Bit3_F_365t         1\n",
       "\n",
       "[14625 rows x 3 columns]"
      ]
     },
     "execution_count": 101,
     "metadata": {},
     "output_type": "execute_result"
    }
   ],
   "source": [
    "## read the final scAR output back in for further validations/manipulations\n",
    "bc_csv = pd.read_csv(out)\n",
    "bc_csv"
   ]
  },
  {
   "cell_type": "code",
   "execution_count": 102,
   "id": "2696e907-5d0e-4e2b-af09-1bd47831448a",
   "metadata": {},
   "outputs": [
    {
     "name": "stdout",
     "output_type": "stream",
     "text": [
      "n STICR BCs:\n",
      "10523\n"
     ]
    }
   ],
   "source": [
    "print('n STICR BCs:')\n",
    "print(len(np.unique(bc_csv['sgRNAs'])))"
   ]
  },
  {
   "cell_type": "code",
   "execution_count": 103,
   "id": "336913c9-cdaa-46a6-937f-e401728ec75f",
   "metadata": {},
   "outputs": [
    {
     "data": {
      "text/plain": [
       "1    14487\n",
       "2      132\n",
       "3        5\n",
       "4        1\n",
       "Name: n_sgRNAs, dtype: int64"
      ]
     },
     "execution_count": 103,
     "metadata": {},
     "output_type": "execute_result"
    }
   ],
   "source": [
    "bc_csv['n_sgRNAs'].value_counts()"
   ]
  },
  {
   "cell_type": "code",
   "execution_count": 104,
   "id": "c9db649e-448a-4858-b0ff-0cc93be6cec6",
   "metadata": {},
   "outputs": [
    {
     "data": {
      "text/plain": [
       "1      168736\n",
       "2        8643\n",
       "3        3049\n",
       "4        2176\n",
       "5        1799\n",
       "        ...  \n",
       "92          1\n",
       "184         1\n",
       "90          1\n",
       "76          1\n",
       "188         1\n",
       "Name: UMI_Count, Length: 142, dtype: int64"
      ]
     },
     "execution_count": 104,
     "metadata": {},
     "output_type": "execute_result"
    }
   ],
   "source": [
    "sticr_tsv['UMI_Count'].value_counts()"
   ]
  },
  {
   "cell_type": "code",
   "execution_count": 105,
   "id": "e7693e63-e195-4ab5-9c75-4660f62c8b51",
   "metadata": {},
   "outputs": [
    {
     "name": "stdout",
     "output_type": "stream",
     "text": [
      "Number of barcodes in clone:  1\n",
      "Total number of cells with given barcodes:\n",
      "14487\n",
      "Unique number of barcodes:\n",
      "10385\n",
      "\n",
      "Number of barcodes in clone:  2\n",
      "Total number of cells with given barcodes:\n",
      "132\n",
      "Unique number of barcodes:\n",
      "132\n",
      "\n",
      "Number of barcodes in clone:  3\n",
      "Total number of cells with given barcodes:\n",
      "5\n",
      "Unique number of barcodes:\n",
      "5\n",
      "\n",
      "Number of barcodes in clone:  4\n",
      "Total number of cells with given barcodes:\n",
      "1\n",
      "Unique number of barcodes:\n",
      "1\n",
      "\n"
     ]
    }
   ],
   "source": [
    "for n in np.unique(bc_csv.n_sgRNAs):\n",
    "    print('Number of barcodes in clone: ',str(n))\n",
    "    print('Total number of cells with given barcodes:')\n",
    "    print(sum(bc_csv.n_sgRNAs==n))\n",
    "    print('Unique number of barcodes:')\n",
    "    print(len(np.unique(bc_csv.loc[bc_csv.n_sgRNAs==n,:].sgRNAs)))\n",
    "    print('')"
   ]
  },
  {
   "cell_type": "code",
   "execution_count": 106,
   "id": "0a63ed16-2358-49cd-95bd-b352d73fe022",
   "metadata": {},
   "outputs": [],
   "source": [
    "bc_csv.columns=['CBC','Clone_barcodes','n_barcodes']\n",
    "clone_data_df = pd.DataFrame(bc_csv.Clone_barcodes.value_counts())"
   ]
  },
  {
   "cell_type": "code",
   "execution_count": 108,
   "id": "fb89c33d-8bd4-430e-b87b-b59d1f8e9282",
   "metadata": {},
   "outputs": [],
   "source": [
    "clone_ids = []\n",
    "exp_prefix='LS34'\n",
    "for i in range(0,len(clone_data_df)):\n",
    "    clone_ids.append(exp_prefix+'_Clone_'+str(i))"
   ]
  },
  {
   "cell_type": "code",
   "execution_count": 109,
   "id": "bdedc625-0a25-4457-8f8a-8d8271241eef",
   "metadata": {},
   "outputs": [],
   "source": [
    "clone_data_df['Clone_IDs']=clone_ids"
   ]
  },
  {
   "cell_type": "code",
   "execution_count": 110,
   "id": "e8c264e9-f431-4a53-ac43-f3c5ed38bf9b",
   "metadata": {},
   "outputs": [],
   "source": [
    "clone_data_df.columns=['Clone_size','Clone_IDs']"
   ]
  },
  {
   "cell_type": "code",
   "execution_count": 111,
   "id": "4d741366-20f7-41c5-a11f-c232f86c7f55",
   "metadata": {},
   "outputs": [],
   "source": [
    "clone_index = []\n",
    "for i in range(0,len(clone_data_df)):\n",
    "    clone_index.append(clone_data_df.index[i][0:6])"
   ]
  },
  {
   "cell_type": "code",
   "execution_count": 112,
   "id": "157287e6-db1e-4e22-9884-a9f86c7b780b",
   "metadata": {},
   "outputs": [],
   "source": [
    "clone_data_df['Clone_Index']=clone_index"
   ]
  },
  {
   "cell_type": "code",
   "execution_count": 113,
   "id": "f84c94cb-f842-447d-98e2-3999dcd5a83a",
   "metadata": {},
   "outputs": [
    {
     "data": {
      "text/html": [
       "<div>\n",
       "<style scoped>\n",
       "    .dataframe tbody tr th:only-of-type {\n",
       "        vertical-align: middle;\n",
       "    }\n",
       "\n",
       "    .dataframe tbody tr th {\n",
       "        vertical-align: top;\n",
       "    }\n",
       "\n",
       "    .dataframe thead th {\n",
       "        text-align: right;\n",
       "    }\n",
       "</style>\n",
       "<table border=\"1\" class=\"dataframe\">\n",
       "  <thead>\n",
       "    <tr style=\"text-align: right;\">\n",
       "      <th></th>\n",
       "      <th>Clone_size</th>\n",
       "      <th>Clone_IDs</th>\n",
       "      <th>Clone_Index</th>\n",
       "    </tr>\n",
       "  </thead>\n",
       "  <tbody>\n",
       "    <tr>\n",
       "      <th>IndexE_Bit1_F_061-Bit2_F_468-Bit3_F_179t</th>\n",
       "      <td>24</td>\n",
       "      <td>LS34_Clone_0</td>\n",
       "      <td>IndexE</td>\n",
       "    </tr>\n",
       "    <tr>\n",
       "      <th>IndexE_Bit1_F_045-Bit2_F_200-Bit3_F_085t</th>\n",
       "      <td>22</td>\n",
       "      <td>LS34_Clone_1</td>\n",
       "      <td>IndexE</td>\n",
       "    </tr>\n",
       "    <tr>\n",
       "      <th>IndexE_Bit1_F_500-Bit2_F_343-Bit3_F_267t</th>\n",
       "      <td>21</td>\n",
       "      <td>LS34_Clone_2</td>\n",
       "      <td>IndexE</td>\n",
       "    </tr>\n",
       "    <tr>\n",
       "      <th>IndexE_Bit1_F_156-Bit2_F_167-Bit3_F_423t</th>\n",
       "      <td>20</td>\n",
       "      <td>LS34_Clone_3</td>\n",
       "      <td>IndexE</td>\n",
       "    </tr>\n",
       "    <tr>\n",
       "      <th>IndexE_Bit1_F_494-Bit2_F_482-Bit3_F_307t</th>\n",
       "      <td>17</td>\n",
       "      <td>LS34_Clone_4</td>\n",
       "      <td>IndexE</td>\n",
       "    </tr>\n",
       "    <tr>\n",
       "      <th>...</th>\n",
       "      <td>...</td>\n",
       "      <td>...</td>\n",
       "      <td>...</td>\n",
       "    </tr>\n",
       "    <tr>\n",
       "      <th>Index3_Bit1_F_052-Bit2_F_407-Bit3_F_366t</th>\n",
       "      <td>1</td>\n",
       "      <td>LS34_Clone_10518</td>\n",
       "      <td>Index3</td>\n",
       "    </tr>\n",
       "    <tr>\n",
       "      <th>IndexE_Bit1_F_327-Bit2_F_312-Bit3_F_098t</th>\n",
       "      <td>1</td>\n",
       "      <td>LS34_Clone_10519</td>\n",
       "      <td>IndexE</td>\n",
       "    </tr>\n",
       "    <tr>\n",
       "      <th>IndexE_Bit1_F_094-Bit2_F_291-Bit3_F_439t</th>\n",
       "      <td>1</td>\n",
       "      <td>LS34_Clone_10520</td>\n",
       "      <td>IndexE</td>\n",
       "    </tr>\n",
       "    <tr>\n",
       "      <th>IndexE_Bit1_F_118-Bit2_F_442-Bit3_F_419t</th>\n",
       "      <td>1</td>\n",
       "      <td>LS34_Clone_10521</td>\n",
       "      <td>IndexE</td>\n",
       "    </tr>\n",
       "    <tr>\n",
       "      <th>IndexE_Bit1_F_468-Bit2_F_393-Bit3_F_071t</th>\n",
       "      <td>1</td>\n",
       "      <td>LS34_Clone_10522</td>\n",
       "      <td>IndexE</td>\n",
       "    </tr>\n",
       "  </tbody>\n",
       "</table>\n",
       "<p>10523 rows × 3 columns</p>\n",
       "</div>"
      ],
      "text/plain": [
       "                                          Clone_size         Clone_IDs  \\\n",
       "IndexE_Bit1_F_061-Bit2_F_468-Bit3_F_179t          24      LS34_Clone_0   \n",
       "IndexE_Bit1_F_045-Bit2_F_200-Bit3_F_085t          22      LS34_Clone_1   \n",
       "IndexE_Bit1_F_500-Bit2_F_343-Bit3_F_267t          21      LS34_Clone_2   \n",
       "IndexE_Bit1_F_156-Bit2_F_167-Bit3_F_423t          20      LS34_Clone_3   \n",
       "IndexE_Bit1_F_494-Bit2_F_482-Bit3_F_307t          17      LS34_Clone_4   \n",
       "...                                              ...               ...   \n",
       "Index3_Bit1_F_052-Bit2_F_407-Bit3_F_366t           1  LS34_Clone_10518   \n",
       "IndexE_Bit1_F_327-Bit2_F_312-Bit3_F_098t           1  LS34_Clone_10519   \n",
       "IndexE_Bit1_F_094-Bit2_F_291-Bit3_F_439t           1  LS34_Clone_10520   \n",
       "IndexE_Bit1_F_118-Bit2_F_442-Bit3_F_419t           1  LS34_Clone_10521   \n",
       "IndexE_Bit1_F_468-Bit2_F_393-Bit3_F_071t           1  LS34_Clone_10522   \n",
       "\n",
       "                                         Clone_Index  \n",
       "IndexE_Bit1_F_061-Bit2_F_468-Bit3_F_179t      IndexE  \n",
       "IndexE_Bit1_F_045-Bit2_F_200-Bit3_F_085t      IndexE  \n",
       "IndexE_Bit1_F_500-Bit2_F_343-Bit3_F_267t      IndexE  \n",
       "IndexE_Bit1_F_156-Bit2_F_167-Bit3_F_423t      IndexE  \n",
       "IndexE_Bit1_F_494-Bit2_F_482-Bit3_F_307t      IndexE  \n",
       "...                                              ...  \n",
       "Index3_Bit1_F_052-Bit2_F_407-Bit3_F_366t      Index3  \n",
       "IndexE_Bit1_F_327-Bit2_F_312-Bit3_F_098t      IndexE  \n",
       "IndexE_Bit1_F_094-Bit2_F_291-Bit3_F_439t      IndexE  \n",
       "IndexE_Bit1_F_118-Bit2_F_442-Bit3_F_419t      IndexE  \n",
       "IndexE_Bit1_F_468-Bit2_F_393-Bit3_F_071t      IndexE  \n",
       "\n",
       "[10523 rows x 3 columns]"
      ]
     },
     "execution_count": 113,
     "metadata": {},
     "output_type": "execute_result"
    }
   ],
   "source": [
    "clone_data_df"
   ]
  },
  {
   "cell_type": "code",
   "execution_count": 114,
   "id": "2a097222-f003-4801-8382-7dd9ac4cc767",
   "metadata": {},
   "outputs": [
    {
     "data": {
      "text/plain": [
       "1     8346\n",
       "2     1375\n",
       "3      417\n",
       "4      166\n",
       "5       90\n",
       "6       39\n",
       "7       22\n",
       "8       17\n",
       "9       14\n",
       "10       9\n",
       "14       7\n",
       "12       6\n",
       "17       4\n",
       "15       3\n",
       "11       2\n",
       "16       2\n",
       "22       1\n",
       "20       1\n",
       "21       1\n",
       "24       1\n",
       "Name: Clone_size, dtype: int64"
      ]
     },
     "execution_count": 114,
     "metadata": {},
     "output_type": "execute_result"
    }
   ],
   "source": [
    "clone_data_df['Clone_size'].value_counts()"
   ]
  },
  {
   "cell_type": "code",
   "execution_count": 115,
   "id": "b74b0b02-f7af-4b49-9a78-aa56d2c8c6af",
   "metadata": {},
   "outputs": [],
   "source": [
    "bc_csv = bc_csv.merge(clone_data_df, left_on='Clone_barcodes', right_index=True)"
   ]
  },
  {
   "cell_type": "code",
   "execution_count": 116,
   "id": "dde26ef7-8716-4710-9e2a-97c5b4745b67",
   "metadata": {},
   "outputs": [],
   "source": [
    "bc_csv.to_csv('/media/chang/HDD-4/mgkeefe/230317_local_STICR/barcodes/bc_outs_V1_S1/'+file_idx+'_bcs_final_metadata.csv')"
   ]
  },
  {
   "cell_type": "code",
   "execution_count": null,
   "id": "bdfed58e-c6cb-4c82-a9c6-58af92805aa7",
   "metadata": {},
   "outputs": [],
   "source": []
  },
  {
   "cell_type": "markdown",
   "id": "74078585-904b-4ee2-bbcd-b4bec73f3726",
   "metadata": {
    "jp-MarkdownHeadingCollapsed": true,
    "tags": []
   },
   "source": [
    "## new processing for 230308 V1 S2:"
   ]
  },
  {
   "cell_type": "code",
   "execution_count": 121,
   "id": "e20b6442-f8c3-4c68-ae6e-160d602b782e",
   "metadata": {},
   "outputs": [],
   "source": [
    "## load in the Final_Barcodes.tsv output from the STICR pipeline\n",
    "sticr_tsv = pd.read_csv('/media/chang/HDD-4/mgkeefe/230317_local_STICR/barcodes/bc_outs_V1_S2/Final_Barcodes.tsv',\n",
    "                           sep='\\t')\n",
    "sticr_tsv.index = list(sticr_tsv['CBC'])"
   ]
  },
  {
   "cell_type": "code",
   "execution_count": 122,
   "id": "829ebbac-aa56-4085-abad-707042870509",
   "metadata": {},
   "outputs": [],
   "source": [
    "## generate a matrix of zeroes with dimensions CBCs (rows) by STICR BCs (columns)\n",
    "cbc_names = np.unique(sticr_tsv['CBC'])\n",
    "bc_names = np.unique(sticr_tsv['barcode'])\n",
    "bc_matrix = np.zeros((len(np.unique(cbc_names)), len(np.unique(bc_names))))\n",
    "bc_df = pd.DataFrame(bc_matrix, index=list(cbc_names), columns=list(bc_names))"
   ]
  },
  {
   "cell_type": "code",
   "execution_count": 123,
   "id": "bcfd962d-5393-4f50-8e2f-b01c3e199534",
   "metadata": {},
   "outputs": [
    {
     "name": "stderr",
     "output_type": "stream",
     "text": [
      "100%|██████████| 31845/31845 [22:34<00:00, 23.51it/s]\n"
     ]
    }
   ],
   "source": [
    "## iterate through every STICR BC and pull the UMI values for a given CBC and map them into the matrix of cells by barcodes\n",
    "from tqdm import tqdm\n",
    "\n",
    "for sbc in tqdm(bc_names):\n",
    "    bc_df.loc[bc_df.index.isin(sticr_tsv['CBC'][sticr_tsv['barcode']==sbc]), bc_df.columns==sbc] = sticr_tsv.loc[sticr_tsv['barcode']==sbc,'UMI_Count']"
   ]
  },
  {
   "cell_type": "code",
   "execution_count": 124,
   "id": "6676ce37-f6c9-4482-b61d-2f31d761da06",
   "metadata": {},
   "outputs": [],
   "source": [
    "## compress the dataframe by turning it into a sparse matrix, which is the input for scanpy\n",
    "## note: this used to be done in R with DropletUtils, but that stopped working for some reason so doing it this way instead\n",
    "from scipy.sparse import csr_matrix\n",
    "import h5sparse\n",
    "import h5py\n",
    "import anndata\n",
    "bc_df_sparse = csr_matrix(bc_df)"
   ]
  },
  {
   "cell_type": "code",
   "execution_count": 125,
   "id": "ff8128e8-3726-4ec9-9727-1556116b160d",
   "metadata": {},
   "outputs": [],
   "source": [
    "file_idx = 'GW20_0308_V1_S2'"
   ]
  },
  {
   "cell_type": "code",
   "execution_count": 126,
   "id": "1211a723-e264-4ce7-9597-39c678107974",
   "metadata": {},
   "outputs": [],
   "source": [
    "## convert the sparse matrix back into a dataframe, then parse it with AnnData for scanpy input\n",
    "## save the scanpy input in h5 format so that the slow matrix generation doesn't have to be done again\n",
    "bc_df_reformat = pd.DataFrame.sparse.from_spmatrix(bc_df_sparse, index=bc_df.index, columns=bc_df.columns)\n",
    "bc_df_sc_input = anndata.AnnData(bc_df_reformat)\n",
    "bc_df_sc_input.write_h5ad('/media/chang/HDD-4/mgkeefe/230317_local_STICR/barcodes/bc_outs_V1_S2/'+file_idx+'_bc_matrix_sparse.h5ad')"
   ]
  },
  {
   "cell_type": "code",
   "execution_count": 127,
   "id": "6cf8a15f-c14a-4229-8e4e-6ebfb4afaedb",
   "metadata": {},
   "outputs": [],
   "source": [
    "## load in the cellranger output and barcode matrix\n",
    "rna = '/media/chang/HDD-4/mgkeefe/230317_local_STICR/transcriptome/cellranger_outs/GW20_230308_sub_FBS_V1_S2_cellranger/raw_feature_bc_matrix.h5'\n",
    "sticr = '/media/chang/HDD-4/mgkeefe/230317_local_STICR/barcodes/bc_outs_V1_S2/'+file_idx+'_bc_matrix_sparse.h5ad'\n",
    "out = '/media/chang/HDD-4/mgkeefe/230317_local_STICR/barcodes/bc_outs_V1_S2/'+file_idx+'_scAR_bcs.csv'\n",
    "data_rna = sc.read_10x_h5(filename=rna, gex_only=True) # Change this if ur using a different scRNA-seq format\n",
    "data_sticr = sc.read_h5ad(sticr)\n",
    "data_sticr_raw = data_sticr.to_df()\n",
    "data_sticr.var_names_make_unique()"
   ]
  },
  {
   "cell_type": "code",
   "execution_count": 128,
   "id": "becacbb4-fa25-455b-8562-7e300304ba0f",
   "metadata": {},
   "outputs": [
    {
     "name": "stdout",
     "output_type": "stream",
     "text": [
      "old names:\n",
      "['AAACCCAAGAAACACT-1', 'AAACCCAAGAAACCAT-1', 'AAACCCAAGAAACCCA-1', 'AAACCCAAGAAACTAC-1', 'AAACCCAAGAAACTCA-1', 'AAACCCAAGAAATCCA-1', 'AAACCCAAGAAATTGC-1', 'AAACCCAAGAACAAGG-1', 'AAACCCAAGAACAGGA-1', 'AAACCCAAGAACCCGA-1']\n",
      "fixed names:\n",
      "['AAACCCAAGAAACACT', 'AAACCCAAGAAACCAT', 'AAACCCAAGAAACCCA', 'AAACCCAAGAAACTAC', 'AAACCCAAGAAACTCA', 'AAACCCAAGAAATCCA', 'AAACCCAAGAAATTGC', 'AAACCCAAGAACAAGG', 'AAACCCAAGAACAGGA', 'AAACCCAAGAACCCGA']\n",
      "cell names from cellranger:\n",
      "['AAACCCAAGAAACACT', 'AAACCCAAGAAACCAT', 'AAACCCAAGAAACCCA', 'AAACCCAAGAAACTAC', 'AAACCCAAGAAACTCA', 'AAACCCAAGAAATCCA', 'AAACCCAAGAAATTGC', 'AAACCCAAGAACAAGG', 'AAACCCAAGAACAGGA', 'AAACCCAAGAACCCGA']\n",
      "cell names from STICR processing:\n",
      "['AAACCCAAGAAGATCT', 'AAACCCAAGACAACAT', 'AAACCCAAGACAACTA', 'AAACCCAAGACACACG', 'AAACCCAAGACTTGTC', 'AAACCCAAGAGAGTTT', 'AAACCCAAGATCCCAT', 'AAACCCAAGATGACAC', 'AAACCCAAGCAGCAGT', 'AAACCCAAGCAGGCTA']\n"
     ]
    }
   ],
   "source": [
    "## fix the names in the RNA file to remove the -1 from the CBC\n",
    "fixed_rna_names = data_rna.obs_names.tolist()\n",
    "for c in range(0, len(fixed_rna_names)):\n",
    "    fixed_rna_names[c] = fixed_rna_names[c][0:-2]\n",
    "print('old names:')\n",
    "print(data_rna.obs_names[0:10].tolist())\n",
    "print('fixed names:')\n",
    "print(fixed_rna_names[0:10])\n",
    "data_rna.obs_names = fixed_rna_names\n",
    "print('cell names from cellranger:')\n",
    "print(data_rna.obs_names[:10].tolist())\n",
    "print('cell names from STICR processing:')\n",
    "print(data_sticr.obs_names[:10].tolist())"
   ]
  },
  {
   "cell_type": "code",
   "execution_count": 129,
   "id": "6216b7b3-c7f8-4139-99cc-29016ef2baab",
   "metadata": {},
   "outputs": [
    {
     "data": {
      "image/png": "[encoded data removed]",
      "text/plain": [
       "<Figure size 600x450 with 1 Axes>"
      ]
     },
     "metadata": {},
     "output_type": "display_data"
    }
   ],
   "source": [
    "## run scAR (stole this code from Chang)\n",
    "rank_UMIs = pd.DataFrame(data_rna[:,data_rna.var['feature_types']=='Gene Expression'].X.sum(axis=1), index = data_rna.obs_names, columns=['total_counts'])\n",
    "rank_UMIs['droplets'] = 'cell-free droplets'\n",
    "rank_UMIs['droplets'] = rank_UMIs['droplets'].mask(rank_UMIs['total_counts']>50, 'droplet II')\n",
    "rank_UMIs['droplets'] = rank_UMIs['droplets'].mask(rank_UMIs['total_counts']>100, 'droplet I')\n",
    "rank_UMIs['droplets'] = rank_UMIs['droplets'].mask(rank_UMIs['total_counts']>500, 'cells')\n",
    "rank_UMIs = rank_UMIs.sort_values(by='total_counts', ascending=False).reset_index().rename_axis(\"rank\").reset_index()\n",
    "rank_UMIs = rank_UMIs.loc[rank_UMIs['total_counts']>0]\n",
    "rank_UMIs = rank_UMIs.set_index('index').rename_axis('cells')\n",
    "\n",
    "\n",
    "plt.figure(figsize=(4, 3), dpi=150)\n",
    "\n",
    "ax = sns.lineplot(data = rank_UMIs,\n",
    "                  x='rank',\n",
    "                  y='total_counts',\n",
    "                  hue='droplets',\n",
    "                  hue_order=['cells', 'droplet I', 'droplet II', 'cell-free droplets'],\n",
    "                  palette=sns.color_palette()[-4:],\n",
    "                  markers=False,\n",
    "                  lw=2)\n",
    "\n",
    "ax.set_xscale('log')\n",
    "ax.set_yscale('log')\n",
    "ax.set_xlabel('sorted droplets');\n",
    "ax.legend(loc='lower left', ncol=1, title=None, frameon=False)\n",
    "ax.set_title(f'kneeplot: '+file_idx);\n",
    "\n",
    "sns.set_palette(\"muted\")\n",
    "sns.set_style(\"ticks\")\n",
    "sns.despine(offset=10, trim=False);"
   ]
  },
  {
   "cell_type": "code",
   "execution_count": 130,
   "id": "a8c83f06-00c3-4c9e-af87-b6fb5d87bc41",
   "metadata": {},
   "outputs": [
    {
     "name": "stdout",
     "output_type": "stream",
     "text": [
      "..Running VAE using the following param set:\n",
      "......scAR mode:  CROPseq\n",
      "......count model:  binomial\n",
      "......num_input_feature:  31845\n",
      "......NN_layer1:  150\n",
      "......NN_layer2:  100\n",
      "......latent_space:  15\n",
      "......dropout_prob:  0\n",
      "......kld_weight:  1e-05\n",
      "......lr:  0.001\n",
      "......lr_step_size:  5\n",
      "......lr_gamma:  0.97\n",
      "===========================================\n",
      "  Training.....\n",
      "100%|██████████| 400/400 [2:49:50<00:00, 25.48s/it]  \n",
      "===========================================\n",
      "  Inferring .....\n"
     ]
    }
   ],
   "source": [
    "## run scAR (stole this code from Chang)\n",
    "####################\n",
    "data_rna_filtered = data_rna[data_rna.obs_names.isin(rank_UMIs[rank_UMIs['droplets']=='cells'].index)] # equal to filtered population as cellranger output\n",
    "data_sticr_filtered = data_sticr[data_sticr.obs_names.isin(data_rna_filtered.obs_names)].to_df() # pandas.DataFrame\n",
    "data_sticr_filtered_empty_droplets = data_sticr_raw.loc[data_sticr_raw.index.difference(data_sticr_filtered.index)]\n",
    "data_sticr_filtered_empty_profile = data_sticr_filtered_empty_droplets.sum()/data_sticr_filtered_empty_droplets.sum().sum()    # pandas.Series\n",
    "scarObj = scAR.model(raw_count=data_sticr_filtered,\n",
    "                     empty_profile=data_sticr_filtered_empty_profile.values, # In the case of default None, the empty_profile will be calculated by averaging pooled cells\n",
    "                     scRNAseq_tech='CROPseq')\n",
    "scarObj.train(epochs=400)\n",
    "scarObj.inference(feature_type='sgRNAs', cutoff=3)\n",
    "scarObj.feature_assignment.to_csv(out)\n",
    "####################"
   ]
  },
  {
   "cell_type": "code",
   "execution_count": 131,
   "id": "091baa2d-7bdb-4b16-9afc-4726eed86067",
   "metadata": {},
   "outputs": [],
   "source": [
    "## write the final scAR output to a csv\n",
    "scarObj.feature_assignment.to_csv(out)"
   ]
  },
  {
   "cell_type": "code",
   "execution_count": 132,
   "id": "936f17d2-95f4-4107-8887-459f17c6d239",
   "metadata": {},
   "outputs": [
    {
     "data": {
      "text/html": [
       "<div>\n",
       "<style scoped>\n",
       "    .dataframe tbody tr th:only-of-type {\n",
       "        vertical-align: middle;\n",
       "    }\n",
       "\n",
       "    .dataframe tbody tr th {\n",
       "        vertical-align: top;\n",
       "    }\n",
       "\n",
       "    .dataframe thead th {\n",
       "        text-align: right;\n",
       "    }\n",
       "</style>\n",
       "<table border=\"1\" class=\"dataframe\">\n",
       "  <thead>\n",
       "    <tr style=\"text-align: right;\">\n",
       "      <th></th>\n",
       "      <th>Unnamed: 0</th>\n",
       "      <th>sgRNAs</th>\n",
       "      <th>n_sgRNAs</th>\n",
       "    </tr>\n",
       "  </thead>\n",
       "  <tbody>\n",
       "    <tr>\n",
       "      <th>0</th>\n",
       "      <td>AAACCCAAGCATCAGG</td>\n",
       "      <td>IndexE_Bit1_F_064-Bit2_F_156-Bit3_F_286t</td>\n",
       "      <td>1</td>\n",
       "    </tr>\n",
       "    <tr>\n",
       "      <th>1</th>\n",
       "      <td>AAACCCAAGCATCCTA</td>\n",
       "      <td>IndexE_Bit1_F_162-Bit2_F_284-Bit3_F_500t</td>\n",
       "      <td>1</td>\n",
       "    </tr>\n",
       "    <tr>\n",
       "      <th>2</th>\n",
       "      <td>AAACCCAAGGATCACG</td>\n",
       "      <td>IndexE_Bit1_F_122-Bit2_F_356-Bit3_F_456t</td>\n",
       "      <td>1</td>\n",
       "    </tr>\n",
       "    <tr>\n",
       "      <th>3</th>\n",
       "      <td>AAACCCAAGGTAGATT</td>\n",
       "      <td>IndexE_Bit1_F_035-Bit2_F_160-Bit3_F_326t</td>\n",
       "      <td>1</td>\n",
       "    </tr>\n",
       "    <tr>\n",
       "      <th>4</th>\n",
       "      <td>AAACCCACAATAACGA</td>\n",
       "      <td>IndexE_Bit1_F_198-Bit2_F_147-Bit3_F_290t</td>\n",
       "      <td>1</td>\n",
       "    </tr>\n",
       "    <tr>\n",
       "      <th>...</th>\n",
       "      <td>...</td>\n",
       "      <td>...</td>\n",
       "      <td>...</td>\n",
       "    </tr>\n",
       "    <tr>\n",
       "      <th>18203</th>\n",
       "      <td>TTTGTTGGTTTAGAGA</td>\n",
       "      <td>IndexE_Bit1_F_327-Bit2_F_291-Bit3_F_335t</td>\n",
       "      <td>1</td>\n",
       "    </tr>\n",
       "    <tr>\n",
       "      <th>18204</th>\n",
       "      <td>TTTGTTGTCCATCAGA</td>\n",
       "      <td>IndexE_Bit1_F_200-Bit2_F_002-Bit3_F_070t</td>\n",
       "      <td>1</td>\n",
       "    </tr>\n",
       "    <tr>\n",
       "      <th>18205</th>\n",
       "      <td>TTTGTTGTCCTCAGGG</td>\n",
       "      <td>IndexE_Bit1_F_180-Bit2_F_435-Bit3_F_004t</td>\n",
       "      <td>1</td>\n",
       "    </tr>\n",
       "    <tr>\n",
       "      <th>18206</th>\n",
       "      <td>TTTGTTGTCGTGGGAA</td>\n",
       "      <td>IndexE_Bit1_F_273-Bit2_F_375-Bit3_F_477t</td>\n",
       "      <td>1</td>\n",
       "    </tr>\n",
       "    <tr>\n",
       "      <th>18207</th>\n",
       "      <td>TTTGTTGTCGTTGCCT</td>\n",
       "      <td>Index3_Bit1_F_100-Bit2_F_192-Bit3_F_350t</td>\n",
       "      <td>1</td>\n",
       "    </tr>\n",
       "  </tbody>\n",
       "</table>\n",
       "<p>18208 rows × 3 columns</p>\n",
       "</div>"
      ],
      "text/plain": [
       "             Unnamed: 0                                    sgRNAs  n_sgRNAs\n",
       "0      AAACCCAAGCATCAGG  IndexE_Bit1_F_064-Bit2_F_156-Bit3_F_286t         1\n",
       "1      AAACCCAAGCATCCTA  IndexE_Bit1_F_162-Bit2_F_284-Bit3_F_500t         1\n",
       "2      AAACCCAAGGATCACG  IndexE_Bit1_F_122-Bit2_F_356-Bit3_F_456t         1\n",
       "3      AAACCCAAGGTAGATT  IndexE_Bit1_F_035-Bit2_F_160-Bit3_F_326t         1\n",
       "4      AAACCCACAATAACGA  IndexE_Bit1_F_198-Bit2_F_147-Bit3_F_290t         1\n",
       "...                 ...                                       ...       ...\n",
       "18203  TTTGTTGGTTTAGAGA  IndexE_Bit1_F_327-Bit2_F_291-Bit3_F_335t         1\n",
       "18204  TTTGTTGTCCATCAGA  IndexE_Bit1_F_200-Bit2_F_002-Bit3_F_070t         1\n",
       "18205  TTTGTTGTCCTCAGGG  IndexE_Bit1_F_180-Bit2_F_435-Bit3_F_004t         1\n",
       "18206  TTTGTTGTCGTGGGAA  IndexE_Bit1_F_273-Bit2_F_375-Bit3_F_477t         1\n",
       "18207  TTTGTTGTCGTTGCCT  Index3_Bit1_F_100-Bit2_F_192-Bit3_F_350t         1\n",
       "\n",
       "[18208 rows x 3 columns]"
      ]
     },
     "execution_count": 132,
     "metadata": {},
     "output_type": "execute_result"
    }
   ],
   "source": [
    "## read the final scAR output back in for further validations/manipulations\n",
    "bc_csv = pd.read_csv(out)\n",
    "bc_csv"
   ]
  },
  {
   "cell_type": "code",
   "execution_count": 133,
   "id": "9b7f4eef-fe86-4f01-a36b-e4d3fe092ddb",
   "metadata": {},
   "outputs": [
    {
     "name": "stdout",
     "output_type": "stream",
     "text": [
      "n STICR BCs:\n",
      "12254\n"
     ]
    }
   ],
   "source": [
    "print('n STICR BCs:')\n",
    "print(len(np.unique(bc_csv['sgRNAs'])))"
   ]
  },
  {
   "cell_type": "code",
   "execution_count": 134,
   "id": "ff8cf641-002b-4627-bd50-383f3774c7be",
   "metadata": {},
   "outputs": [
    {
     "data": {
      "text/plain": [
       "1    17845\n",
       "2      344\n",
       "3       15\n",
       "4        2\n",
       "6        1\n",
       "5        1\n",
       "Name: n_sgRNAs, dtype: int64"
      ]
     },
     "execution_count": 134,
     "metadata": {},
     "output_type": "execute_result"
    }
   ],
   "source": [
    "bc_csv['n_sgRNAs'].value_counts()"
   ]
  },
  {
   "cell_type": "code",
   "execution_count": 135,
   "id": "d78b678b-5fa3-461d-b512-8ea25a920a61",
   "metadata": {},
   "outputs": [
    {
     "data": {
      "text/plain": [
       "1      284036\n",
       "2       11093\n",
       "3        2999\n",
       "4        1906\n",
       "5        1587\n",
       "        ...  \n",
       "171         1\n",
       "129         1\n",
       "132         1\n",
       "159         1\n",
       "108         1\n",
       "Name: UMI_Count, Length: 155, dtype: int64"
      ]
     },
     "execution_count": 135,
     "metadata": {},
     "output_type": "execute_result"
    }
   ],
   "source": [
    "sticr_tsv['UMI_Count'].value_counts()"
   ]
  },
  {
   "cell_type": "code",
   "execution_count": 136,
   "id": "4f24cf7c-cb8d-49b5-a106-b6a716e3ee28",
   "metadata": {},
   "outputs": [
    {
     "name": "stdout",
     "output_type": "stream",
     "text": [
      "Number of barcodes in clone:  1\n",
      "Total number of cells with given barcodes:\n",
      "17845\n",
      "Unique number of barcodes:\n",
      "11893\n",
      "\n",
      "Number of barcodes in clone:  2\n",
      "Total number of cells with given barcodes:\n",
      "344\n",
      "Unique number of barcodes:\n",
      "342\n",
      "\n",
      "Number of barcodes in clone:  3\n",
      "Total number of cells with given barcodes:\n",
      "15\n",
      "Unique number of barcodes:\n",
      "15\n",
      "\n",
      "Number of barcodes in clone:  4\n",
      "Total number of cells with given barcodes:\n",
      "2\n",
      "Unique number of barcodes:\n",
      "2\n",
      "\n",
      "Number of barcodes in clone:  5\n",
      "Total number of cells with given barcodes:\n",
      "1\n",
      "Unique number of barcodes:\n",
      "1\n",
      "\n",
      "Number of barcodes in clone:  6\n",
      "Total number of cells with given barcodes:\n",
      "1\n",
      "Unique number of barcodes:\n",
      "1\n",
      "\n"
     ]
    }
   ],
   "source": [
    "for n in np.unique(bc_csv.n_sgRNAs):\n",
    "    print('Number of barcodes in clone: ',str(n))\n",
    "    print('Total number of cells with given barcodes:')\n",
    "    print(sum(bc_csv.n_sgRNAs==n))\n",
    "    print('Unique number of barcodes:')\n",
    "    print(len(np.unique(bc_csv.loc[bc_csv.n_sgRNAs==n,:].sgRNAs)))\n",
    "    print('')"
   ]
  },
  {
   "cell_type": "code",
   "execution_count": 137,
   "id": "9f2f9b10-dfba-4072-ac72-a4bd200abb50",
   "metadata": {},
   "outputs": [],
   "source": [
    "bc_csv.columns=['CBC','Clone_barcodes','n_barcodes']\n",
    "clone_data_df = pd.DataFrame(bc_csv.Clone_barcodes.value_counts())"
   ]
  },
  {
   "cell_type": "code",
   "execution_count": 138,
   "id": "c7eae41a-d2dc-4fd9-ae25-b9d1b12db79d",
   "metadata": {},
   "outputs": [],
   "source": [
    "clone_ids = []\n",
    "exp_prefix='LS35'\n",
    "for i in range(0,len(clone_data_df)):\n",
    "    clone_ids.append(exp_prefix+'_Clone_'+str(i))"
   ]
  },
  {
   "cell_type": "code",
   "execution_count": 139,
   "id": "8a4874f1-e899-42f1-b651-0cb6ef09a40b",
   "metadata": {},
   "outputs": [],
   "source": [
    "clone_data_df['Clone_IDs']=clone_ids"
   ]
  },
  {
   "cell_type": "code",
   "execution_count": 140,
   "id": "d88b5500-4b7a-4f03-b41b-c0f86efbcb78",
   "metadata": {},
   "outputs": [],
   "source": [
    "clone_data_df.columns=['Clone_size','Clone_IDs']"
   ]
  },
  {
   "cell_type": "code",
   "execution_count": 141,
   "id": "d52af293-a34b-40b1-b19f-c1824ffcf709",
   "metadata": {},
   "outputs": [],
   "source": [
    "clone_index = []\n",
    "for i in range(0,len(clone_data_df)):\n",
    "    clone_index.append(clone_data_df.index[i][0:6])"
   ]
  },
  {
   "cell_type": "code",
   "execution_count": 142,
   "id": "4ab746f9-7a2a-45d4-b0b0-d9d8cee214eb",
   "metadata": {},
   "outputs": [],
   "source": [
    "clone_data_df['Clone_Index']=clone_index"
   ]
  },
  {
   "cell_type": "code",
   "execution_count": 143,
   "id": "b7cdee47-d02f-4381-95f0-37fc3db91151",
   "metadata": {},
   "outputs": [
    {
     "data": {
      "text/html": [
       "<div>\n",
       "<style scoped>\n",
       "    .dataframe tbody tr th:only-of-type {\n",
       "        vertical-align: middle;\n",
       "    }\n",
       "\n",
       "    .dataframe tbody tr th {\n",
       "        vertical-align: top;\n",
       "    }\n",
       "\n",
       "    .dataframe thead th {\n",
       "        text-align: right;\n",
       "    }\n",
       "</style>\n",
       "<table border=\"1\" class=\"dataframe\">\n",
       "  <thead>\n",
       "    <tr style=\"text-align: right;\">\n",
       "      <th></th>\n",
       "      <th>Clone_size</th>\n",
       "      <th>Clone_IDs</th>\n",
       "      <th>Clone_Index</th>\n",
       "    </tr>\n",
       "  </thead>\n",
       "  <tbody>\n",
       "    <tr>\n",
       "      <th>IndexE_Bit1_F_005-Bit2_F_272-Bit3_F_269t</th>\n",
       "      <td>29</td>\n",
       "      <td>LS35_Clone_0</td>\n",
       "      <td>IndexE</td>\n",
       "    </tr>\n",
       "    <tr>\n",
       "      <th>IndexE_Bit1_F_043-Bit2_F_108-Bit3_F_445t</th>\n",
       "      <td>22</td>\n",
       "      <td>LS35_Clone_1</td>\n",
       "      <td>IndexE</td>\n",
       "    </tr>\n",
       "    <tr>\n",
       "      <th>IndexE_Bit1_F_193-Bit2_F_016-Bit3_F_349t</th>\n",
       "      <td>22</td>\n",
       "      <td>LS35_Clone_2</td>\n",
       "      <td>IndexE</td>\n",
       "    </tr>\n",
       "    <tr>\n",
       "      <th>IndexE_Bit1_F_140-Bit2_F_271-Bit3_F_333t</th>\n",
       "      <td>19</td>\n",
       "      <td>LS35_Clone_3</td>\n",
       "      <td>IndexE</td>\n",
       "    </tr>\n",
       "    <tr>\n",
       "      <th>IndexE_Bit1_F_167-Bit2_F_138-Bit3_F_078t</th>\n",
       "      <td>19</td>\n",
       "      <td>LS35_Clone_4</td>\n",
       "      <td>IndexE</td>\n",
       "    </tr>\n",
       "    <tr>\n",
       "      <th>...</th>\n",
       "      <td>...</td>\n",
       "      <td>...</td>\n",
       "      <td>...</td>\n",
       "    </tr>\n",
       "    <tr>\n",
       "      <th>IndexE_Bit1_F_021-Bit2_F_263-Bit3_F_361t</th>\n",
       "      <td>1</td>\n",
       "      <td>LS35_Clone_12249</td>\n",
       "      <td>IndexE</td>\n",
       "    </tr>\n",
       "    <tr>\n",
       "      <th>Index3_Bit1_F_259-Bit2_F_168-Bit3_F_439t</th>\n",
       "      <td>1</td>\n",
       "      <td>LS35_Clone_12250</td>\n",
       "      <td>Index3</td>\n",
       "    </tr>\n",
       "    <tr>\n",
       "      <th>Index3_Bit1_F_018-Bit2_F_284-Bit3_F_499t</th>\n",
       "      <td>1</td>\n",
       "      <td>LS35_Clone_12251</td>\n",
       "      <td>Index3</td>\n",
       "    </tr>\n",
       "    <tr>\n",
       "      <th>IndexE_Bit1_F_266-Bit2_F_307-Bit3_F_095t</th>\n",
       "      <td>1</td>\n",
       "      <td>LS35_Clone_12252</td>\n",
       "      <td>IndexE</td>\n",
       "    </tr>\n",
       "    <tr>\n",
       "      <th>IndexE_Bit1_F_327-Bit2_F_291-Bit3_F_335t</th>\n",
       "      <td>1</td>\n",
       "      <td>LS35_Clone_12253</td>\n",
       "      <td>IndexE</td>\n",
       "    </tr>\n",
       "  </tbody>\n",
       "</table>\n",
       "<p>12254 rows × 3 columns</p>\n",
       "</div>"
      ],
      "text/plain": [
       "                                          Clone_size         Clone_IDs  \\\n",
       "IndexE_Bit1_F_005-Bit2_F_272-Bit3_F_269t          29      LS35_Clone_0   \n",
       "IndexE_Bit1_F_043-Bit2_F_108-Bit3_F_445t          22      LS35_Clone_1   \n",
       "IndexE_Bit1_F_193-Bit2_F_016-Bit3_F_349t          22      LS35_Clone_2   \n",
       "IndexE_Bit1_F_140-Bit2_F_271-Bit3_F_333t          19      LS35_Clone_3   \n",
       "IndexE_Bit1_F_167-Bit2_F_138-Bit3_F_078t          19      LS35_Clone_4   \n",
       "...                                              ...               ...   \n",
       "IndexE_Bit1_F_021-Bit2_F_263-Bit3_F_361t           1  LS35_Clone_12249   \n",
       "Index3_Bit1_F_259-Bit2_F_168-Bit3_F_439t           1  LS35_Clone_12250   \n",
       "Index3_Bit1_F_018-Bit2_F_284-Bit3_F_499t           1  LS35_Clone_12251   \n",
       "IndexE_Bit1_F_266-Bit2_F_307-Bit3_F_095t           1  LS35_Clone_12252   \n",
       "IndexE_Bit1_F_327-Bit2_F_291-Bit3_F_335t           1  LS35_Clone_12253   \n",
       "\n",
       "                                         Clone_Index  \n",
       "IndexE_Bit1_F_005-Bit2_F_272-Bit3_F_269t      IndexE  \n",
       "IndexE_Bit1_F_043-Bit2_F_108-Bit3_F_445t      IndexE  \n",
       "IndexE_Bit1_F_193-Bit2_F_016-Bit3_F_349t      IndexE  \n",
       "IndexE_Bit1_F_140-Bit2_F_271-Bit3_F_333t      IndexE  \n",
       "IndexE_Bit1_F_167-Bit2_F_138-Bit3_F_078t      IndexE  \n",
       "...                                              ...  \n",
       "IndexE_Bit1_F_021-Bit2_F_263-Bit3_F_361t      IndexE  \n",
       "Index3_Bit1_F_259-Bit2_F_168-Bit3_F_439t      Index3  \n",
       "Index3_Bit1_F_018-Bit2_F_284-Bit3_F_499t      Index3  \n",
       "IndexE_Bit1_F_266-Bit2_F_307-Bit3_F_095t      IndexE  \n",
       "IndexE_Bit1_F_327-Bit2_F_291-Bit3_F_335t      IndexE  \n",
       "\n",
       "[12254 rows x 3 columns]"
      ]
     },
     "execution_count": 143,
     "metadata": {},
     "output_type": "execute_result"
    }
   ],
   "source": [
    "clone_data_df"
   ]
  },
  {
   "cell_type": "code",
   "execution_count": 144,
   "id": "af84db5e-9dc2-4b42-bbda-3560a1826f67",
   "metadata": {},
   "outputs": [
    {
     "data": {
      "text/plain": [
       "1     9123\n",
       "2     2034\n",
       "3      566\n",
       "4      205\n",
       "5      103\n",
       "6       57\n",
       "7       41\n",
       "8       39\n",
       "9       25\n",
       "12      14\n",
       "10      11\n",
       "11       9\n",
       "13       7\n",
       "14       4\n",
       "16       4\n",
       "17       4\n",
       "22       2\n",
       "18       2\n",
       "19       2\n",
       "15       1\n",
       "29       1\n",
       "Name: Clone_size, dtype: int64"
      ]
     },
     "execution_count": 144,
     "metadata": {},
     "output_type": "execute_result"
    }
   ],
   "source": [
    "clone_data_df['Clone_size'].value_counts()"
   ]
  },
  {
   "cell_type": "code",
   "execution_count": 145,
   "id": "d8d2a521-b1bc-425c-9b80-858596cb7676",
   "metadata": {},
   "outputs": [],
   "source": [
    "bc_csv = bc_csv.merge(clone_data_df, left_on='Clone_barcodes', right_index=True)"
   ]
  },
  {
   "cell_type": "code",
   "execution_count": 146,
   "id": "0a37de95-e6f0-485f-8fb6-b5af9a4eb6c9",
   "metadata": {},
   "outputs": [],
   "source": [
    "bc_csv.to_csv('/media/chang/HDD-4/mgkeefe/230317_local_STICR/barcodes/bc_outs_V1_S2/'+file_idx+'_bcs_final_metadata.csv')"
   ]
  },
  {
   "cell_type": "code",
   "execution_count": null,
   "id": "a73b400f-da0b-40a7-b8dc-6aab79c9bbbc",
   "metadata": {},
   "outputs": [],
   "source": []
  }
 ],
 "metadata": {
  "kernelspec": {
   "display_name": "scAR_env",
   "language": "python",
   "name": "scar_env"
  },
  "language_info": {
   "codemirror_mode": {
    "name": "ipython",
    "version": 3
   },
   "file_extension": ".py",
   "mimetype": "text/x-python",
   "name": "python",
   "nbconvert_exporter": "python",
   "pygments_lexer": "ipython3",
   "version": "3.8.13"
  }
 },
 "nbformat": 4,
 "nbformat_minor": 5
}
